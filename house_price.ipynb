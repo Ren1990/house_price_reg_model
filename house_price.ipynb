{
 "cells": [
  {
   "cell_type": "code",
   "execution_count": 1,
   "metadata": {},
   "outputs": [],
   "source": [
    "hp1={'alpha': 0.28815202419377745,\n",
    " 'ccp_alpha': 5.934643617038572,\n",
    " 'criterion': 0,\n",
    " 'learning_rate': 0.18713205647733647,\n",
    " 'loss': 0,\n",
    " 'max_depth': 6.0,\n",
    " 'min_impurity_decrease': 12.184228522266157,\n",
    " 'min_samples_split': 0.2792395135807041,\n",
    " 'min_weight_fraction_leaf': 0.030673769520341967,\n",
    " 'n_estimators': 6618.0,\n",
    " 'subsample': 0.4245813194818062}"
   ]
  },
  {
   "cell_type": "code",
   "execution_count": 387,
   "metadata": {},
   "outputs": [],
   "source": [
    "hp2={'alpha': 0.16234148344961263,\n",
    " 'ccp_alpha': 8.419901955112628,\n",
    " 'criterion': 1,\n",
    " 'learning_rate': 0.0941839372553873,\n",
    " 'loss': 0,\n",
    " 'max_depth': 6.0,\n",
    " 'min_impurity_decrease': 12.150004214829083,\n",
    " 'min_samples_split': 0.18518840581261817,\n",
    " 'min_weight_fraction_leaf': 0.022548950312775547,\n",
    " 'n_estimators': 4403.0,\n",
    " 'subsample': 0.4208126529136677}\n",
    "\n",
    "feat2=['MSSubClass' 'OverallQual' 'OverallCond' 'YearBuilt' 'YearRemodAdd'\n",
    " 'MoSold' 'LotFrontage' 'LotArea' 'MasVnrArea' 'BsmtFinSF1' 'BsmtUnfSF'\n",
    " 'TotalBsmtSF' '1stFlrSF' '2ndFlrSF' 'GrLivArea' 'BsmtFullBath' 'FullBath'\n",
    " 'HalfBath' 'BedroomAbvGr' 'KitchenAbvGr' 'TotRmsAbvGrd' 'Fireplaces'\n",
    " 'GarageYrBlt' 'GarageCars' 'GarageArea' 'WoodDeckSF' 'OpenPorchSF'\n",
    " 'ScreenPorch' 'MSZoning' 'LandContour' 'LotConfig' 'Neighborhood'\n",
    " 'Condition1' 'BldgType' 'HouseStyle' 'Exterior1st' 'Exterior2nd'\n",
    " 'ExterQual' 'BsmtQual' 'BsmtCond' 'BsmtExposure' 'BsmtFinType1'\n",
    " 'HeatingQC' 'CentralAir' 'KitchenQual' 'Functional' 'GarageType'\n",
    " 'GarageFinish' 'SaleCondition']"
   ]
  },
  {
   "cell_type": "markdown",
   "metadata": {},
   "source": [
    "# **House Prices Regression Predicction Model**\n",
    "## **Introduction**\n",
    "### Dataset Overview\n",
    "The data model study below is based on Kaggle open dataset: https://www.kaggle.com/competitions/house-prices-advanced-regression-techniques/overview\n",
    "\n",
    "This is US Housing dataset in Ames, Lowa. It cotains 79 features related to house information such as SalePrice, LotArea, YearBuilt and quality Condition.\n",
    "\n",
    "### Objective\n",
    "The goal is to predict the housing price using historical data and explain what are the key factors afffecting the house price.\n",
    "\n",
    "### Model Training Flow\n",
    "1. Data Cleaning & Exploration\n",
    "2. Data Transformation\n",
    "3. Model Selection\n",
    "4. Base Model Training\n",
    "5. Feature Engineering and Model Finetune\n",
    "6. Conclusion"
   ]
  },
  {
   "cell_type": "markdown",
   "metadata": {},
   "source": [
    "## **Import Libaries**\n",
    "Common libraries for data plotting and model training.\n",
    "Optuna library is used for model hyperparameter optimization."
   ]
  },
  {
   "cell_type": "code",
   "execution_count": 1,
   "metadata": {},
   "outputs": [
    {
     "name": "stderr",
     "output_type": "stream",
     "text": [
      "c:\\Users\\kongr\\Documents\\GitHub\\env1\\Lib\\site-packages\\tqdm\\auto.py:21: TqdmWarning: IProgress not found. Please update jupyter and ipywidgets. See https://ipywidgets.readthedocs.io/en/stable/user_install.html\n",
      "  from .autonotebook import tqdm as notebook_tqdm\n"
     ]
    }
   ],
   "source": [
    "import pandas as pd\n",
    "import numpy as np\n",
    "import matplotlib.pyplot as plt\n",
    "import seaborn as sns\n",
    "import plotly.express as px\n",
    "import plotly.graph_objects as go\n",
    "from plotly.subplots import make_subplots\n",
    "\n",
    "from scipy import stats\n",
    "\n",
    "from sklearn.model_selection import train_test_split\n",
    "from sklearn.preprocessing import RobustScaler\n",
    "rs= RobustScaler()\n",
    "from sklearn.preprocessing import OrdinalEncoder\n",
    "oe=OrdinalEncoder()\n",
    "from sklearn.preprocessing import LabelEncoder\n",
    "le=LabelEncoder()\n",
    "from sklearn.preprocessing import OneHotEncoder\n",
    "ohe=OneHotEncoder()\n",
    "\n",
    "from sklearn.linear_model import LinearRegression as LR\n",
    "from sklearn.linear_model import Ridge as RG\n",
    "from sklearn import linear_model\n",
    "Lasso = linear_model.Lasso(alpha=0.1)\n",
    "Lars = linear_model.Lars(n_nonzero_coefs=1)\n",
    "import xgboost as XGB\n",
    "from sklearn.tree import DecisionTreeRegressor as DTR\n",
    "from sklearn.svm import SVR\n",
    "from sklearn.ensemble import RandomForestRegressor as RR\n",
    "\n",
    "import optuna\n",
    "\n",
    "#from sklearn.model_selection import cross_val_score\n",
    "#from sklearn.model_selection import cross_validate\n",
    "#from sklearn import metrics\n",
    "#from sklearn.model_selection import ShuffleSplit\n",
    "#from sklearn.metrics import classification_report\n",
    "#from sklearn.metrics import accuracy_score\n",
    "#from sklearn.metrics import f1_score\n",
    "from sklearn.metrics import precision_score\n",
    "#from RegscorePy import *\n",
    "from sklearn.metrics import root_mean_squared_error\n",
    "from sklearn.metrics import r2_score\n",
    "\n",
    "\n",
    "\n",
    "\n",
    "import shap\n",
    "\n",
    "#from sklearn.metrics import confusion_matrix\n",
    "\n",
    "import warnings\n",
    "warnings.filterwarnings(\"ignore\")\n"
   ]
  },
  {
   "cell_type": "code",
   "execution_count": null,
   "metadata": {},
   "outputs": [],
   "source": [
    "#import previous project funtions from kit.py\n",
    "from kit import *"
   ]
  },
  {
   "cell_type": "markdown",
   "metadata": {},
   "source": [
    "## **1. Data Cleaning & Exploration**\n",
    "### **Section Summary:**\n",
    "\n",
    "### **Section Highlights:**\n"
   ]
  },
  {
   "cell_type": "code",
   "execution_count": 2,
   "metadata": {},
   "outputs": [],
   "source": [
    "df_tr=pd.read_csv(\"train.csv\")"
   ]
  },
  {
   "cell_type": "markdown",
   "metadata": {},
   "source": [
    "Quick check has found 'NaN' in train data"
   ]
  },
  {
   "cell_type": "code",
   "execution_count": 3,
   "metadata": {},
   "outputs": [
    {
     "data": {
      "text/html": [
       "<div>\n",
       "<style scoped>\n",
       "    .dataframe tbody tr th:only-of-type {\n",
       "        vertical-align: middle;\n",
       "    }\n",
       "\n",
       "    .dataframe tbody tr th {\n",
       "        vertical-align: top;\n",
       "    }\n",
       "\n",
       "    .dataframe thead th {\n",
       "        text-align: right;\n",
       "    }\n",
       "</style>\n",
       "<table border=\"1\" class=\"dataframe\">\n",
       "  <thead>\n",
       "    <tr style=\"text-align: right;\">\n",
       "      <th></th>\n",
       "      <th>Id</th>\n",
       "      <th>MSSubClass</th>\n",
       "      <th>MSZoning</th>\n",
       "      <th>LotFrontage</th>\n",
       "      <th>LotArea</th>\n",
       "      <th>Street</th>\n",
       "      <th>Alley</th>\n",
       "      <th>LotShape</th>\n",
       "      <th>LandContour</th>\n",
       "      <th>Utilities</th>\n",
       "      <th>...</th>\n",
       "      <th>PoolArea</th>\n",
       "      <th>PoolQC</th>\n",
       "      <th>Fence</th>\n",
       "      <th>MiscFeature</th>\n",
       "      <th>MiscVal</th>\n",
       "      <th>MoSold</th>\n",
       "      <th>YrSold</th>\n",
       "      <th>SaleType</th>\n",
       "      <th>SaleCondition</th>\n",
       "      <th>SalePrice</th>\n",
       "    </tr>\n",
       "  </thead>\n",
       "  <tbody>\n",
       "    <tr>\n",
       "      <th>0</th>\n",
       "      <td>1</td>\n",
       "      <td>60</td>\n",
       "      <td>RL</td>\n",
       "      <td>65.0</td>\n",
       "      <td>8450</td>\n",
       "      <td>Pave</td>\n",
       "      <td>NaN</td>\n",
       "      <td>Reg</td>\n",
       "      <td>Lvl</td>\n",
       "      <td>AllPub</td>\n",
       "      <td>...</td>\n",
       "      <td>0</td>\n",
       "      <td>NaN</td>\n",
       "      <td>NaN</td>\n",
       "      <td>NaN</td>\n",
       "      <td>0</td>\n",
       "      <td>2</td>\n",
       "      <td>2008</td>\n",
       "      <td>WD</td>\n",
       "      <td>Normal</td>\n",
       "      <td>208500</td>\n",
       "    </tr>\n",
       "    <tr>\n",
       "      <th>1</th>\n",
       "      <td>2</td>\n",
       "      <td>20</td>\n",
       "      <td>RL</td>\n",
       "      <td>80.0</td>\n",
       "      <td>9600</td>\n",
       "      <td>Pave</td>\n",
       "      <td>NaN</td>\n",
       "      <td>Reg</td>\n",
       "      <td>Lvl</td>\n",
       "      <td>AllPub</td>\n",
       "      <td>...</td>\n",
       "      <td>0</td>\n",
       "      <td>NaN</td>\n",
       "      <td>NaN</td>\n",
       "      <td>NaN</td>\n",
       "      <td>0</td>\n",
       "      <td>5</td>\n",
       "      <td>2007</td>\n",
       "      <td>WD</td>\n",
       "      <td>Normal</td>\n",
       "      <td>181500</td>\n",
       "    </tr>\n",
       "    <tr>\n",
       "      <th>2</th>\n",
       "      <td>3</td>\n",
       "      <td>60</td>\n",
       "      <td>RL</td>\n",
       "      <td>68.0</td>\n",
       "      <td>11250</td>\n",
       "      <td>Pave</td>\n",
       "      <td>NaN</td>\n",
       "      <td>IR1</td>\n",
       "      <td>Lvl</td>\n",
       "      <td>AllPub</td>\n",
       "      <td>...</td>\n",
       "      <td>0</td>\n",
       "      <td>NaN</td>\n",
       "      <td>NaN</td>\n",
       "      <td>NaN</td>\n",
       "      <td>0</td>\n",
       "      <td>9</td>\n",
       "      <td>2008</td>\n",
       "      <td>WD</td>\n",
       "      <td>Normal</td>\n",
       "      <td>223500</td>\n",
       "    </tr>\n",
       "    <tr>\n",
       "      <th>3</th>\n",
       "      <td>4</td>\n",
       "      <td>70</td>\n",
       "      <td>RL</td>\n",
       "      <td>60.0</td>\n",
       "      <td>9550</td>\n",
       "      <td>Pave</td>\n",
       "      <td>NaN</td>\n",
       "      <td>IR1</td>\n",
       "      <td>Lvl</td>\n",
       "      <td>AllPub</td>\n",
       "      <td>...</td>\n",
       "      <td>0</td>\n",
       "      <td>NaN</td>\n",
       "      <td>NaN</td>\n",
       "      <td>NaN</td>\n",
       "      <td>0</td>\n",
       "      <td>2</td>\n",
       "      <td>2006</td>\n",
       "      <td>WD</td>\n",
       "      <td>Abnorml</td>\n",
       "      <td>140000</td>\n",
       "    </tr>\n",
       "    <tr>\n",
       "      <th>4</th>\n",
       "      <td>5</td>\n",
       "      <td>60</td>\n",
       "      <td>RL</td>\n",
       "      <td>84.0</td>\n",
       "      <td>14260</td>\n",
       "      <td>Pave</td>\n",
       "      <td>NaN</td>\n",
       "      <td>IR1</td>\n",
       "      <td>Lvl</td>\n",
       "      <td>AllPub</td>\n",
       "      <td>...</td>\n",
       "      <td>0</td>\n",
       "      <td>NaN</td>\n",
       "      <td>NaN</td>\n",
       "      <td>NaN</td>\n",
       "      <td>0</td>\n",
       "      <td>12</td>\n",
       "      <td>2008</td>\n",
       "      <td>WD</td>\n",
       "      <td>Normal</td>\n",
       "      <td>250000</td>\n",
       "    </tr>\n",
       "    <tr>\n",
       "      <th>...</th>\n",
       "      <td>...</td>\n",
       "      <td>...</td>\n",
       "      <td>...</td>\n",
       "      <td>...</td>\n",
       "      <td>...</td>\n",
       "      <td>...</td>\n",
       "      <td>...</td>\n",
       "      <td>...</td>\n",
       "      <td>...</td>\n",
       "      <td>...</td>\n",
       "      <td>...</td>\n",
       "      <td>...</td>\n",
       "      <td>...</td>\n",
       "      <td>...</td>\n",
       "      <td>...</td>\n",
       "      <td>...</td>\n",
       "      <td>...</td>\n",
       "      <td>...</td>\n",
       "      <td>...</td>\n",
       "      <td>...</td>\n",
       "      <td>...</td>\n",
       "    </tr>\n",
       "    <tr>\n",
       "      <th>1455</th>\n",
       "      <td>1456</td>\n",
       "      <td>60</td>\n",
       "      <td>RL</td>\n",
       "      <td>62.0</td>\n",
       "      <td>7917</td>\n",
       "      <td>Pave</td>\n",
       "      <td>NaN</td>\n",
       "      <td>Reg</td>\n",
       "      <td>Lvl</td>\n",
       "      <td>AllPub</td>\n",
       "      <td>...</td>\n",
       "      <td>0</td>\n",
       "      <td>NaN</td>\n",
       "      <td>NaN</td>\n",
       "      <td>NaN</td>\n",
       "      <td>0</td>\n",
       "      <td>8</td>\n",
       "      <td>2007</td>\n",
       "      <td>WD</td>\n",
       "      <td>Normal</td>\n",
       "      <td>175000</td>\n",
       "    </tr>\n",
       "    <tr>\n",
       "      <th>1456</th>\n",
       "      <td>1457</td>\n",
       "      <td>20</td>\n",
       "      <td>RL</td>\n",
       "      <td>85.0</td>\n",
       "      <td>13175</td>\n",
       "      <td>Pave</td>\n",
       "      <td>NaN</td>\n",
       "      <td>Reg</td>\n",
       "      <td>Lvl</td>\n",
       "      <td>AllPub</td>\n",
       "      <td>...</td>\n",
       "      <td>0</td>\n",
       "      <td>NaN</td>\n",
       "      <td>MnPrv</td>\n",
       "      <td>NaN</td>\n",
       "      <td>0</td>\n",
       "      <td>2</td>\n",
       "      <td>2010</td>\n",
       "      <td>WD</td>\n",
       "      <td>Normal</td>\n",
       "      <td>210000</td>\n",
       "    </tr>\n",
       "    <tr>\n",
       "      <th>1457</th>\n",
       "      <td>1458</td>\n",
       "      <td>70</td>\n",
       "      <td>RL</td>\n",
       "      <td>66.0</td>\n",
       "      <td>9042</td>\n",
       "      <td>Pave</td>\n",
       "      <td>NaN</td>\n",
       "      <td>Reg</td>\n",
       "      <td>Lvl</td>\n",
       "      <td>AllPub</td>\n",
       "      <td>...</td>\n",
       "      <td>0</td>\n",
       "      <td>NaN</td>\n",
       "      <td>GdPrv</td>\n",
       "      <td>Shed</td>\n",
       "      <td>2500</td>\n",
       "      <td>5</td>\n",
       "      <td>2010</td>\n",
       "      <td>WD</td>\n",
       "      <td>Normal</td>\n",
       "      <td>266500</td>\n",
       "    </tr>\n",
       "    <tr>\n",
       "      <th>1458</th>\n",
       "      <td>1459</td>\n",
       "      <td>20</td>\n",
       "      <td>RL</td>\n",
       "      <td>68.0</td>\n",
       "      <td>9717</td>\n",
       "      <td>Pave</td>\n",
       "      <td>NaN</td>\n",
       "      <td>Reg</td>\n",
       "      <td>Lvl</td>\n",
       "      <td>AllPub</td>\n",
       "      <td>...</td>\n",
       "      <td>0</td>\n",
       "      <td>NaN</td>\n",
       "      <td>NaN</td>\n",
       "      <td>NaN</td>\n",
       "      <td>0</td>\n",
       "      <td>4</td>\n",
       "      <td>2010</td>\n",
       "      <td>WD</td>\n",
       "      <td>Normal</td>\n",
       "      <td>142125</td>\n",
       "    </tr>\n",
       "    <tr>\n",
       "      <th>1459</th>\n",
       "      <td>1460</td>\n",
       "      <td>20</td>\n",
       "      <td>RL</td>\n",
       "      <td>75.0</td>\n",
       "      <td>9937</td>\n",
       "      <td>Pave</td>\n",
       "      <td>NaN</td>\n",
       "      <td>Reg</td>\n",
       "      <td>Lvl</td>\n",
       "      <td>AllPub</td>\n",
       "      <td>...</td>\n",
       "      <td>0</td>\n",
       "      <td>NaN</td>\n",
       "      <td>NaN</td>\n",
       "      <td>NaN</td>\n",
       "      <td>0</td>\n",
       "      <td>6</td>\n",
       "      <td>2008</td>\n",
       "      <td>WD</td>\n",
       "      <td>Normal</td>\n",
       "      <td>147500</td>\n",
       "    </tr>\n",
       "  </tbody>\n",
       "</table>\n",
       "<p>1460 rows × 81 columns</p>\n",
       "</div>"
      ],
      "text/plain": [
       "        Id  MSSubClass MSZoning  LotFrontage  LotArea Street Alley LotShape  \\\n",
       "0        1          60       RL         65.0     8450   Pave   NaN      Reg   \n",
       "1        2          20       RL         80.0     9600   Pave   NaN      Reg   \n",
       "2        3          60       RL         68.0    11250   Pave   NaN      IR1   \n",
       "3        4          70       RL         60.0     9550   Pave   NaN      IR1   \n",
       "4        5          60       RL         84.0    14260   Pave   NaN      IR1   \n",
       "...    ...         ...      ...          ...      ...    ...   ...      ...   \n",
       "1455  1456          60       RL         62.0     7917   Pave   NaN      Reg   \n",
       "1456  1457          20       RL         85.0    13175   Pave   NaN      Reg   \n",
       "1457  1458          70       RL         66.0     9042   Pave   NaN      Reg   \n",
       "1458  1459          20       RL         68.0     9717   Pave   NaN      Reg   \n",
       "1459  1460          20       RL         75.0     9937   Pave   NaN      Reg   \n",
       "\n",
       "     LandContour Utilities  ... PoolArea PoolQC  Fence MiscFeature MiscVal  \\\n",
       "0            Lvl    AllPub  ...        0    NaN    NaN         NaN       0   \n",
       "1            Lvl    AllPub  ...        0    NaN    NaN         NaN       0   \n",
       "2            Lvl    AllPub  ...        0    NaN    NaN         NaN       0   \n",
       "3            Lvl    AllPub  ...        0    NaN    NaN         NaN       0   \n",
       "4            Lvl    AllPub  ...        0    NaN    NaN         NaN       0   \n",
       "...          ...       ...  ...      ...    ...    ...         ...     ...   \n",
       "1455         Lvl    AllPub  ...        0    NaN    NaN         NaN       0   \n",
       "1456         Lvl    AllPub  ...        0    NaN  MnPrv         NaN       0   \n",
       "1457         Lvl    AllPub  ...        0    NaN  GdPrv        Shed    2500   \n",
       "1458         Lvl    AllPub  ...        0    NaN    NaN         NaN       0   \n",
       "1459         Lvl    AllPub  ...        0    NaN    NaN         NaN       0   \n",
       "\n",
       "     MoSold YrSold  SaleType  SaleCondition  SalePrice  \n",
       "0         2   2008        WD         Normal     208500  \n",
       "1         5   2007        WD         Normal     181500  \n",
       "2         9   2008        WD         Normal     223500  \n",
       "3         2   2006        WD        Abnorml     140000  \n",
       "4        12   2008        WD         Normal     250000  \n",
       "...     ...    ...       ...            ...        ...  \n",
       "1455      8   2007        WD         Normal     175000  \n",
       "1456      2   2010        WD         Normal     210000  \n",
       "1457      5   2010        WD         Normal     266500  \n",
       "1458      4   2010        WD         Normal     142125  \n",
       "1459      6   2008        WD         Normal     147500  \n",
       "\n",
       "[1460 rows x 81 columns]"
      ]
     },
     "execution_count": 3,
     "metadata": {},
     "output_type": "execute_result"
    }
   ],
   "source": [
    "df_tr"
   ]
  },
  {
   "cell_type": "markdown",
   "metadata": {},
   "source": [
    "High level understanding on data. The target response is 'SalePrice'. It has positive skew and high outlier price."
   ]
  },
  {
   "cell_type": "code",
   "execution_count": 4,
   "metadata": {},
   "outputs": [
    {
     "data": {
      "image/png": "[encoded data removed]",
      "text/plain": [
       "<Figure size 640x480 with 1 Axes>"
      ]
     },
     "metadata": {},
     "output_type": "display_data"
    }
   ],
   "source": [
    "fig, ax = plt.subplots()\n",
    "n, bins, patches = ax.hist(df_tr['SalePrice'], 30, density=True)\n",
    "ax.set_xlabel('Value')\n",
    "ax.set_ylabel('Probability density')\n",
    "ax.set_title('Target Response SalePrice Distribution')\n",
    "fig.tight_layout()\n",
    "plt.show()"
   ]
  },
  {
   "cell_type": "markdown",
   "metadata": {},
   "source": [
    "No duplication."
   ]
  },
  {
   "cell_type": "code",
   "execution_count": 5,
   "metadata": {},
   "outputs": [
    {
     "data": {
      "text/plain": [
       "np.int64(0)"
      ]
     },
     "execution_count": 5,
     "metadata": {},
     "output_type": "execute_result"
    }
   ],
   "source": [
    "df_tr.duplicated().sum()"
   ]
  },
  {
   "cell_type": "markdown",
   "metadata": {},
   "source": [
    "At least has two unique values."
   ]
  },
  {
   "cell_type": "code",
   "execution_count": 6,
   "metadata": {},
   "outputs": [
    {
     "data": {
      "text/plain": [
       "Alley            2\n",
       "Street           2\n",
       "Utilities        2\n",
       "CentralAir       2\n",
       "MasVnrType       3\n",
       "              ... \n",
       "1stFlrSF       753\n",
       "BsmtUnfSF      780\n",
       "GrLivArea      861\n",
       "LotArea       1073\n",
       "Id            1460\n",
       "Length: 81, dtype: int64"
      ]
     },
     "execution_count": 6,
     "metadata": {},
     "output_type": "execute_result"
    }
   ],
   "source": [
    "df_tr.nunique().sort_values()"
   ]
  },
  {
   "cell_type": "markdown",
   "metadata": {},
   "source": [
    "There are many features having high missing values."
   ]
  },
  {
   "cell_type": "code",
   "execution_count": 7,
   "metadata": {},
   "outputs": [
    {
     "data": {
      "text/plain": [
       "PoolQC           1453\n",
       "MiscFeature      1406\n",
       "Alley            1369\n",
       "Fence            1179\n",
       "MasVnrType        872\n",
       "                 ... \n",
       "MoSold              0\n",
       "YrSold              0\n",
       "SaleType            0\n",
       "SaleCondition       0\n",
       "SalePrice           0\n",
       "Length: 81, dtype: int64"
      ]
     },
     "execution_count": 7,
     "metadata": {},
     "output_type": "execute_result"
    }
   ],
   "source": [
    "df_tr.isnull().sum().sort_values(ascending=False)"
   ]
  },
  {
   "cell_type": "markdown",
   "metadata": {},
   "source": [
    "Create function to investigate the missing values."
   ]
  },
  {
   "cell_type": "code",
   "execution_count": 8,
   "metadata": {},
   "outputs": [],
   "source": [
    "def missing_feat(df_tr):\n",
    "    null_col=pd.DataFrame(columns=['Feature','Total Transaction','Transaction with Missing Value','Missing %'])\n",
    "    null_col_index=0\n",
    "    for i in df_tr.isnull().sum().sort_values(ascending=False).index:\n",
    "        null_col.loc[null_col_index]=[i,\n",
    "                                    len(df_tr),\n",
    "                                    df_tr[i].isnull().sum(),\n",
    "                                    float(df_tr[i].isnull().sum()/len(df_tr))*100,\n",
    "                                    ]\n",
    "        null_col_index=null_col_index+1\n",
    "\n",
    "    print('Top 10 features with highest missing value')\n",
    "    display(null_col.head(10))\n",
    "\n",
    "    fig = px.ecdf(null_col, x=\"Missing %\",marginal=\"histogram\",title=\"Cumulative Distribution of Feature(column) Missing Percentage\")\n",
    "\n",
    "    fig.update_layout(xaxis_title='Missing %',\n",
    "                        yaxis_title='Accumulated Feature Density',\n",
    "                        )  \n",
    "\n",
    "    fig.show()\n",
    "\n",
    "    return null_col"
   ]
  },
  {
   "cell_type": "markdown",
   "metadata": {},
   "source": [
    "About 25% features contain missing feature, from ~5% to ~95% missing."
   ]
  },
  {
   "cell_type": "code",
   "execution_count": 9,
   "metadata": {},
   "outputs": [
    {
     "name": "stdout",
     "output_type": "stream",
     "text": [
      "Top 10 features with highest missing value\n"
     ]
    },
    {
     "data": {
      "text/html": [
       "<div>\n",
       "<style scoped>\n",
       "    .dataframe tbody tr th:only-of-type {\n",
       "        vertical-align: middle;\n",
       "    }\n",
       "\n",
       "    .dataframe tbody tr th {\n",
       "        vertical-align: top;\n",
       "    }\n",
       "\n",
       "    .dataframe thead th {\n",
       "        text-align: right;\n",
       "    }\n",
       "</style>\n",
       "<table border=\"1\" class=\"dataframe\">\n",
       "  <thead>\n",
       "    <tr style=\"text-align: right;\">\n",
       "      <th></th>\n",
       "      <th>Feature</th>\n",
       "      <th>Total Transaction</th>\n",
       "      <th>Transaction with Missing Value</th>\n",
       "      <th>Missing %</th>\n",
       "    </tr>\n",
       "  </thead>\n",
       "  <tbody>\n",
       "    <tr>\n",
       "      <th>0</th>\n",
       "      <td>PoolQC</td>\n",
       "      <td>1460</td>\n",
       "      <td>1453</td>\n",
       "      <td>99.520548</td>\n",
       "    </tr>\n",
       "    <tr>\n",
       "      <th>1</th>\n",
       "      <td>MiscFeature</td>\n",
       "      <td>1460</td>\n",
       "      <td>1406</td>\n",
       "      <td>96.301370</td>\n",
       "    </tr>\n",
       "    <tr>\n",
       "      <th>2</th>\n",
       "      <td>Alley</td>\n",
       "      <td>1460</td>\n",
       "      <td>1369</td>\n",
       "      <td>93.767123</td>\n",
       "    </tr>\n",
       "    <tr>\n",
       "      <th>3</th>\n",
       "      <td>Fence</td>\n",
       "      <td>1460</td>\n",
       "      <td>1179</td>\n",
       "      <td>80.753425</td>\n",
       "    </tr>\n",
       "    <tr>\n",
       "      <th>4</th>\n",
       "      <td>MasVnrType</td>\n",
       "      <td>1460</td>\n",
       "      <td>872</td>\n",
       "      <td>59.726027</td>\n",
       "    </tr>\n",
       "    <tr>\n",
       "      <th>5</th>\n",
       "      <td>FireplaceQu</td>\n",
       "      <td>1460</td>\n",
       "      <td>690</td>\n",
       "      <td>47.260274</td>\n",
       "    </tr>\n",
       "    <tr>\n",
       "      <th>6</th>\n",
       "      <td>LotFrontage</td>\n",
       "      <td>1460</td>\n",
       "      <td>259</td>\n",
       "      <td>17.739726</td>\n",
       "    </tr>\n",
       "    <tr>\n",
       "      <th>7</th>\n",
       "      <td>GarageQual</td>\n",
       "      <td>1460</td>\n",
       "      <td>81</td>\n",
       "      <td>5.547945</td>\n",
       "    </tr>\n",
       "    <tr>\n",
       "      <th>8</th>\n",
       "      <td>GarageFinish</td>\n",
       "      <td>1460</td>\n",
       "      <td>81</td>\n",
       "      <td>5.547945</td>\n",
       "    </tr>\n",
       "    <tr>\n",
       "      <th>9</th>\n",
       "      <td>GarageType</td>\n",
       "      <td>1460</td>\n",
       "      <td>81</td>\n",
       "      <td>5.547945</td>\n",
       "    </tr>\n",
       "  </tbody>\n",
       "</table>\n",
       "</div>"
      ],
      "text/plain": [
       "        Feature  Total Transaction  Transaction with Missing Value  Missing %\n",
       "0        PoolQC               1460                            1453  99.520548\n",
       "1   MiscFeature               1460                            1406  96.301370\n",
       "2         Alley               1460                            1369  93.767123\n",
       "3         Fence               1460                            1179  80.753425\n",
       "4    MasVnrType               1460                             872  59.726027\n",
       "5   FireplaceQu               1460                             690  47.260274\n",
       "6   LotFrontage               1460                             259  17.739726\n",
       "7    GarageQual               1460                              81   5.547945\n",
       "8  GarageFinish               1460                              81   5.547945\n",
       "9    GarageType               1460                              81   5.547945"
      ]
     },
     "metadata": {},
     "output_type": "display_data"
    },
    {
     "data": {
      "application/vnd.plotly.v1+json": {
       "config": {
        "plotlyServerURL": "https://plot.ly"
       },
       "data": [
        {
         "hovertemplate": "Missing %=%{x}<br>probability=%{y}<extra></extra>",
         "legendgroup": "",
         "line": {
          "dash": "solid",
          "shape": "hv"
         },
         "marker": {
          "color": "#636efa",
          "symbol": "circle"
         },
         "mode": "lines",
         "name": "",
         "orientation": "v",
         "showlegend": false,
         "type": "scatter",
         "x": [
          0,
          0,
          0,
          0,
          0,
          0,
          0,
          0,
          0,
          0,
          0,
          0,
          0,
          0,
          0,
          0,
          0,
          0,
          0,
          0,
          0,
          0,
          0,
          0,
          0,
          0,
          0,
          0,
          0,
          0,
          0,
          0,
          0,
          0,
          0,
          0,
          0,
          0,
          0,
          0,
          0,
          0,
          0,
          0,
          0,
          0,
          0,
          0,
          0,
          0,
          0,
          0,
          0,
          0,
          0,
          0,
          0,
          0,
          0,
          0,
          0,
          0,
          0.0684931506849315,
          0.547945205479452,
          2.5342465753424657,
          2.5342465753424657,
          2.5342465753424657,
          2.6027397260273974,
          2.6027397260273974,
          5.5479452054794525,
          5.5479452054794525,
          5.5479452054794525,
          5.5479452054794525,
          5.5479452054794525,
          17.73972602739726,
          47.26027397260274,
          59.726027397260275,
          80.75342465753424,
          93.76712328767123,
          96.30136986301369,
          99.52054794520548
         ],
         "xaxis": "x",
         "y": [
          0.012345679012345678,
          0.024691358024691357,
          0.037037037037037035,
          0.04938271604938271,
          0.06172839506172839,
          0.07407407407407407,
          0.08641975308641975,
          0.09876543209876543,
          0.1111111111111111,
          0.12345679012345678,
          0.13580246913580246,
          0.14814814814814814,
          0.16049382716049382,
          0.1728395061728395,
          0.18518518518518517,
          0.19753086419753085,
          0.20987654320987653,
          0.2222222222222222,
          0.2345679012345679,
          0.24691358024691357,
          0.25925925925925924,
          0.2716049382716049,
          0.2839506172839506,
          0.2962962962962963,
          0.30864197530864196,
          0.32098765432098764,
          0.3333333333333333,
          0.345679012345679,
          0.35802469135802467,
          0.37037037037037035,
          0.38271604938271603,
          0.3950617283950617,
          0.4074074074074074,
          0.41975308641975306,
          0.43209876543209874,
          0.4444444444444444,
          0.4567901234567901,
          0.4691358024691358,
          0.48148148148148145,
          0.49382716049382713,
          0.5061728395061729,
          0.5185185185185185,
          0.5308641975308642,
          0.5432098765432098,
          0.5555555555555556,
          0.5679012345679012,
          0.5802469135802469,
          0.5925925925925926,
          0.6049382716049383,
          0.6172839506172839,
          0.6296296296296297,
          0.6419753086419753,
          0.654320987654321,
          0.6666666666666666,
          0.6790123456790124,
          0.691358024691358,
          0.7037037037037037,
          0.7160493827160493,
          0.7283950617283951,
          0.7407407407407407,
          0.7530864197530864,
          0.7654320987654321,
          0.7777777777777778,
          0.7901234567901234,
          0.8024691358024691,
          0.8148148148148148,
          0.8271604938271605,
          0.8395061728395061,
          0.8518518518518519,
          0.8641975308641975,
          0.8765432098765432,
          0.8888888888888888,
          0.9012345679012346,
          0.9135802469135802,
          0.9259259259259259,
          0.9382716049382716,
          0.9506172839506173,
          0.9629629629629629,
          0.9753086419753086,
          0.9876543209876543,
          1
         ],
         "yaxis": "y"
        },
        {
         "alignmentgroup": "True",
         "bingroup": "x",
         "hovertemplate": "Missing %=%{x}<br>count=%{y}<extra></extra>",
         "legendgroup": "",
         "marker": {
          "color": "#636efa"
         },
         "name": "",
         "offsetgroup": "",
         "opacity": 0.5,
         "showlegend": false,
         "type": "histogram",
         "x": [
          0,
          0,
          0,
          0,
          0,
          0,
          0,
          0,
          0,
          0,
          0,
          0,
          0,
          0,
          0,
          0,
          0,
          0,
          0,
          0,
          0,
          0,
          0,
          0,
          0,
          0,
          0,
          0,
          0,
          0,
          0,
          0,
          0,
          0,
          0,
          0,
          0,
          0,
          0,
          0,
          0,
          0,
          0,
          0,
          0,
          0,
          0,
          0,
          0,
          0,
          0,
          0,
          0,
          0,
          0,
          0,
          0,
          0,
          0,
          0,
          0,
          0,
          0.0684931506849315,
          0.547945205479452,
          2.5342465753424657,
          2.5342465753424657,
          2.5342465753424657,
          2.6027397260273974,
          2.6027397260273974,
          5.5479452054794525,
          5.5479452054794525,
          5.5479452054794525,
          5.5479452054794525,
          5.5479452054794525,
          17.73972602739726,
          47.26027397260274,
          59.726027397260275,
          80.75342465753424,
          93.76712328767123,
          96.30136986301369,
          99.52054794520548
         ],
         "xaxis": "x2",
         "yaxis": "y2"
        }
       ],
       "layout": {
        "barmode": "overlay",
        "legend": {
         "tracegroupgap": 0
        },
        "template": {
         "data": {
          "bar": [
           {
            "error_x": {
             "color": "#2a3f5f"
            },
            "error_y": {
             "color": "#2a3f5f"
            },
            "marker": {
             "line": {
              "color": "#E5ECF6",
              "width": 0.5
             },
             "pattern": {
              "fillmode": "overlay",
              "size": 10,
              "solidity": 0.2
             }
            },
            "type": "bar"
           }
          ],
          "barpolar": [
           {
            "marker": {
             "line": {
              "color": "#E5ECF6",
              "width": 0.5
             },
             "pattern": {
              "fillmode": "overlay",
              "size": 10,
              "solidity": 0.2
             }
            },
            "type": "barpolar"
           }
          ],
          "carpet": [
           {
            "aaxis": {
             "endlinecolor": "#2a3f5f",
             "gridcolor": "white",
             "linecolor": "white",
             "minorgridcolor": "white",
             "startlinecolor": "#2a3f5f"
            },
            "baxis": {
             "endlinecolor": "#2a3f5f",
             "gridcolor": "white",
             "linecolor": "white",
             "minorgridcolor": "white",
             "startlinecolor": "#2a3f5f"
            },
            "type": "carpet"
           }
          ],
          "choropleth": [
           {
            "colorbar": {
             "outlinewidth": 0,
             "ticks": ""
            },
            "type": "choropleth"
           }
          ],
          "contour": [
           {
            "colorbar": {
             "outlinewidth": 0,
             "ticks": ""
            },
            "colorscale": [
             [
              0,
              "#0d0887"
             ],
             [
              0.1111111111111111,
              "#46039f"
             ],
             [
              0.2222222222222222,
              "#7201a8"
             ],
             [
              0.3333333333333333,
              "#9c179e"
             ],
             [
              0.4444444444444444,
              "#bd3786"
             ],
             [
              0.5555555555555556,
              "#d8576b"
             ],
             [
              0.6666666666666666,
              "#ed7953"
             ],
             [
              0.7777777777777778,
              "#fb9f3a"
             ],
             [
              0.8888888888888888,
              "#fdca26"
             ],
             [
              1,
              "#f0f921"
             ]
            ],
            "type": "contour"
           }
          ],
          "contourcarpet": [
           {
            "colorbar": {
             "outlinewidth": 0,
             "ticks": ""
            },
            "type": "contourcarpet"
           }
          ],
          "heatmap": [
           {
            "colorbar": {
             "outlinewidth": 0,
             "ticks": ""
            },
            "colorscale": [
             [
              0,
              "#0d0887"
             ],
             [
              0.1111111111111111,
              "#46039f"
             ],
             [
              0.2222222222222222,
              "#7201a8"
             ],
             [
              0.3333333333333333,
              "#9c179e"
             ],
             [
              0.4444444444444444,
              "#bd3786"
             ],
             [
              0.5555555555555556,
              "#d8576b"
             ],
             [
              0.6666666666666666,
              "#ed7953"
             ],
             [
              0.7777777777777778,
              "#fb9f3a"
             ],
             [
              0.8888888888888888,
              "#fdca26"
             ],
             [
              1,
              "#f0f921"
             ]
            ],
            "type": "heatmap"
           }
          ],
          "heatmapgl": [
           {
            "colorbar": {
             "outlinewidth": 0,
             "ticks": ""
            },
            "colorscale": [
             [
              0,
              "#0d0887"
             ],
             [
              0.1111111111111111,
              "#46039f"
             ],
             [
              0.2222222222222222,
              "#7201a8"
             ],
             [
              0.3333333333333333,
              "#9c179e"
             ],
             [
              0.4444444444444444,
              "#bd3786"
             ],
             [
              0.5555555555555556,
              "#d8576b"
             ],
             [
              0.6666666666666666,
              "#ed7953"
             ],
             [
              0.7777777777777778,
              "#fb9f3a"
             ],
             [
              0.8888888888888888,
              "#fdca26"
             ],
             [
              1,
              "#f0f921"
             ]
            ],
            "type": "heatmapgl"
           }
          ],
          "histogram": [
           {
            "marker": {
             "pattern": {
              "fillmode": "overlay",
              "size": 10,
              "solidity": 0.2
             }
            },
            "type": "histogram"
           }
          ],
          "histogram2d": [
           {
            "colorbar": {
             "outlinewidth": 0,
             "ticks": ""
            },
            "colorscale": [
             [
              0,
              "#0d0887"
             ],
             [
              0.1111111111111111,
              "#46039f"
             ],
             [
              0.2222222222222222,
              "#7201a8"
             ],
             [
              0.3333333333333333,
              "#9c179e"
             ],
             [
              0.4444444444444444,
              "#bd3786"
             ],
             [
              0.5555555555555556,
              "#d8576b"
             ],
             [
              0.6666666666666666,
              "#ed7953"
             ],
             [
              0.7777777777777778,
              "#fb9f3a"
             ],
             [
              0.8888888888888888,
              "#fdca26"
             ],
             [
              1,
              "#f0f921"
             ]
            ],
            "type": "histogram2d"
           }
          ],
          "histogram2dcontour": [
           {
            "colorbar": {
             "outlinewidth": 0,
             "ticks": ""
            },
            "colorscale": [
             [
              0,
              "#0d0887"
             ],
             [
              0.1111111111111111,
              "#46039f"
             ],
             [
              0.2222222222222222,
              "#7201a8"
             ],
             [
              0.3333333333333333,
              "#9c179e"
             ],
             [
              0.4444444444444444,
              "#bd3786"
             ],
             [
              0.5555555555555556,
              "#d8576b"
             ],
             [
              0.6666666666666666,
              "#ed7953"
             ],
             [
              0.7777777777777778,
              "#fb9f3a"
             ],
             [
              0.8888888888888888,
              "#fdca26"
             ],
             [
              1,
              "#f0f921"
             ]
            ],
            "type": "histogram2dcontour"
           }
          ],
          "mesh3d": [
           {
            "colorbar": {
             "outlinewidth": 0,
             "ticks": ""
            },
            "type": "mesh3d"
           }
          ],
          "parcoords": [
           {
            "line": {
             "colorbar": {
              "outlinewidth": 0,
              "ticks": ""
             }
            },
            "type": "parcoords"
           }
          ],
          "pie": [
           {
            "automargin": true,
            "type": "pie"
           }
          ],
          "scatter": [
           {
            "fillpattern": {
             "fillmode": "overlay",
             "size": 10,
             "solidity": 0.2
            },
            "type": "scatter"
           }
          ],
          "scatter3d": [
           {
            "line": {
             "colorbar": {
              "outlinewidth": 0,
              "ticks": ""
             }
            },
            "marker": {
             "colorbar": {
              "outlinewidth": 0,
              "ticks": ""
             }
            },
            "type": "scatter3d"
           }
          ],
          "scattercarpet": [
           {
            "marker": {
             "colorbar": {
              "outlinewidth": 0,
              "ticks": ""
             }
            },
            "type": "scattercarpet"
           }
          ],
          "scattergeo": [
           {
            "marker": {
             "colorbar": {
              "outlinewidth": 0,
              "ticks": ""
             }
            },
            "type": "scattergeo"
           }
          ],
          "scattergl": [
           {
            "marker": {
             "colorbar": {
              "outlinewidth": 0,
              "ticks": ""
             }
            },
            "type": "scattergl"
           }
          ],
          "scattermapbox": [
           {
            "marker": {
             "colorbar": {
              "outlinewidth": 0,
              "ticks": ""
             }
            },
            "type": "scattermapbox"
           }
          ],
          "scatterpolar": [
           {
            "marker": {
             "colorbar": {
              "outlinewidth": 0,
              "ticks": ""
             }
            },
            "type": "scatterpolar"
           }
          ],
          "scatterpolargl": [
           {
            "marker": {
             "colorbar": {
              "outlinewidth": 0,
              "ticks": ""
             }
            },
            "type": "scatterpolargl"
           }
          ],
          "scatterternary": [
           {
            "marker": {
             "colorbar": {
              "outlinewidth": 0,
              "ticks": ""
             }
            },
            "type": "scatterternary"
           }
          ],
          "surface": [
           {
            "colorbar": {
             "outlinewidth": 0,
             "ticks": ""
            },
            "colorscale": [
             [
              0,
              "#0d0887"
             ],
             [
              0.1111111111111111,
              "#46039f"
             ],
             [
              0.2222222222222222,
              "#7201a8"
             ],
             [
              0.3333333333333333,
              "#9c179e"
             ],
             [
              0.4444444444444444,
              "#bd3786"
             ],
             [
              0.5555555555555556,
              "#d8576b"
             ],
             [
              0.6666666666666666,
              "#ed7953"
             ],
             [
              0.7777777777777778,
              "#fb9f3a"
             ],
             [
              0.8888888888888888,
              "#fdca26"
             ],
             [
              1,
              "#f0f921"
             ]
            ],
            "type": "surface"
           }
          ],
          "table": [
           {
            "cells": {
             "fill": {
              "color": "#EBF0F8"
             },
             "line": {
              "color": "white"
             }
            },
            "header": {
             "fill": {
              "color": "#C8D4E3"
             },
             "line": {
              "color": "white"
             }
            },
            "type": "table"
           }
          ]
         },
         "layout": {
          "annotationdefaults": {
           "arrowcolor": "#2a3f5f",
           "arrowhead": 0,
           "arrowwidth": 1
          },
          "autotypenumbers": "strict",
          "coloraxis": {
           "colorbar": {
            "outlinewidth": 0,
            "ticks": ""
           }
          },
          "colorscale": {
           "diverging": [
            [
             0,
             "#8e0152"
            ],
            [
             0.1,
             "#c51b7d"
            ],
            [
             0.2,
             "#de77ae"
            ],
            [
             0.3,
             "#f1b6da"
            ],
            [
             0.4,
             "#fde0ef"
            ],
            [
             0.5,
             "#f7f7f7"
            ],
            [
             0.6,
             "#e6f5d0"
            ],
            [
             0.7,
             "#b8e186"
            ],
            [
             0.8,
             "#7fbc41"
            ],
            [
             0.9,
             "#4d9221"
            ],
            [
             1,
             "#276419"
            ]
           ],
           "sequential": [
            [
             0,
             "#0d0887"
            ],
            [
             0.1111111111111111,
             "#46039f"
            ],
            [
             0.2222222222222222,
             "#7201a8"
            ],
            [
             0.3333333333333333,
             "#9c179e"
            ],
            [
             0.4444444444444444,
             "#bd3786"
            ],
            [
             0.5555555555555556,
             "#d8576b"
            ],
            [
             0.6666666666666666,
             "#ed7953"
            ],
            [
             0.7777777777777778,
             "#fb9f3a"
            ],
            [
             0.8888888888888888,
             "#fdca26"
            ],
            [
             1,
             "#f0f921"
            ]
           ],
           "sequentialminus": [
            [
             0,
             "#0d0887"
            ],
            [
             0.1111111111111111,
             "#46039f"
            ],
            [
             0.2222222222222222,
             "#7201a8"
            ],
            [
             0.3333333333333333,
             "#9c179e"
            ],
            [
             0.4444444444444444,
             "#bd3786"
            ],
            [
             0.5555555555555556,
             "#d8576b"
            ],
            [
             0.6666666666666666,
             "#ed7953"
            ],
            [
             0.7777777777777778,
             "#fb9f3a"
            ],
            [
             0.8888888888888888,
             "#fdca26"
            ],
            [
             1,
             "#f0f921"
            ]
           ]
          },
          "colorway": [
           "#636efa",
           "#EF553B",
           "#00cc96",
           "#ab63fa",
           "#FFA15A",
           "#19d3f3",
           "#FF6692",
           "#B6E880",
           "#FF97FF",
           "#FECB52"
          ],
          "font": {
           "color": "#2a3f5f"
          },
          "geo": {
           "bgcolor": "white",
           "lakecolor": "white",
           "landcolor": "#E5ECF6",
           "showlakes": true,
           "showland": true,
           "subunitcolor": "white"
          },
          "hoverlabel": {
           "align": "left"
          },
          "hovermode": "closest",
          "mapbox": {
           "style": "light"
          },
          "paper_bgcolor": "white",
          "plot_bgcolor": "#E5ECF6",
          "polar": {
           "angularaxis": {
            "gridcolor": "white",
            "linecolor": "white",
            "ticks": ""
           },
           "bgcolor": "#E5ECF6",
           "radialaxis": {
            "gridcolor": "white",
            "linecolor": "white",
            "ticks": ""
           }
          },
          "scene": {
           "xaxis": {
            "backgroundcolor": "#E5ECF6",
            "gridcolor": "white",
            "gridwidth": 2,
            "linecolor": "white",
            "showbackground": true,
            "ticks": "",
            "zerolinecolor": "white"
           },
           "yaxis": {
            "backgroundcolor": "#E5ECF6",
            "gridcolor": "white",
            "gridwidth": 2,
            "linecolor": "white",
            "showbackground": true,
            "ticks": "",
            "zerolinecolor": "white"
           },
           "zaxis": {
            "backgroundcolor": "#E5ECF6",
            "gridcolor": "white",
            "gridwidth": 2,
            "linecolor": "white",
            "showbackground": true,
            "ticks": "",
            "zerolinecolor": "white"
           }
          },
          "shapedefaults": {
           "line": {
            "color": "#2a3f5f"
           }
          },
          "ternary": {
           "aaxis": {
            "gridcolor": "white",
            "linecolor": "white",
            "ticks": ""
           },
           "baxis": {
            "gridcolor": "white",
            "linecolor": "white",
            "ticks": ""
           },
           "bgcolor": "#E5ECF6",
           "caxis": {
            "gridcolor": "white",
            "linecolor": "white",
            "ticks": ""
           }
          },
          "title": {
           "x": 0.05
          },
          "xaxis": {
           "automargin": true,
           "gridcolor": "white",
           "linecolor": "white",
           "ticks": "",
           "title": {
            "standoff": 15
           },
           "zerolinecolor": "white",
           "zerolinewidth": 2
          },
          "yaxis": {
           "automargin": true,
           "gridcolor": "white",
           "linecolor": "white",
           "ticks": "",
           "title": {
            "standoff": 15
           },
           "zerolinecolor": "white",
           "zerolinewidth": 2
          }
         }
        },
        "title": {
         "text": "Cumulative Distribution of Feature(column) Missing Percentage"
        },
        "xaxis": {
         "anchor": "y",
         "domain": [
          0,
          1
         ],
         "title": {
          "text": "Missing %"
         }
        },
        "xaxis2": {
         "anchor": "y2",
         "domain": [
          0,
          1
         ],
         "matches": "x",
         "showgrid": true,
         "showticklabels": false
        },
        "yaxis": {
         "anchor": "x",
         "domain": [
          0,
          0.7326
         ],
         "title": {
          "text": "Accumulated Feature Density"
         }
        },
        "yaxis2": {
         "anchor": "x2",
         "domain": [
          0.7426,
          1
         ],
         "matches": "y2",
         "showgrid": true,
         "showline": false,
         "showticklabels": false,
         "ticks": ""
        }
       }
      }
     },
     "metadata": {},
     "output_type": "display_data"
    }
   ],
   "source": [
    "feat_missing_df=missing_feat(df_tr)"
   ]
  },
  {
   "cell_type": "markdown",
   "metadata": {},
   "source": [
    "There are features with almost 90% missing values! However the data description file provided by dataset explain certain housing feature are not available, hence it is NaN in the dataset. For example, 'PoolQC' is the quality assessment for the pool:"
   ]
  },
  {
   "cell_type": "code",
   "execution_count": 10,
   "metadata": {},
   "outputs": [
    {
     "data": {
      "text/plain": [
       "array([nan, 'Ex', 'Fa', 'Gd'], dtype=object)"
      ]
     },
     "execution_count": 10,
     "metadata": {},
     "output_type": "execute_result"
    }
   ],
   "source": [
    "df_tr['PoolQC'].unique()"
   ]
  },
  {
   "cell_type": "markdown",
   "metadata": {},
   "source": [
    "There is also feature related to pool area 'PoolArea'. For 'PoolArea' more than 0 (i.e. the house has pool), there are no missing 'PoolQC', in another words, the 'PoolQC' is available only for house with pool. 'Ex' is Excellent, 'Fa' is Fair, etc..."
   ]
  },
  {
   "cell_type": "code",
   "execution_count": 11,
   "metadata": {},
   "outputs": [
    {
     "data": {
      "text/html": [
       "<div>\n",
       "<style scoped>\n",
       "    .dataframe tbody tr th:only-of-type {\n",
       "        vertical-align: middle;\n",
       "    }\n",
       "\n",
       "    .dataframe tbody tr th {\n",
       "        vertical-align: top;\n",
       "    }\n",
       "\n",
       "    .dataframe thead th {\n",
       "        text-align: right;\n",
       "    }\n",
       "</style>\n",
       "<table border=\"1\" class=\"dataframe\">\n",
       "  <thead>\n",
       "    <tr style=\"text-align: right;\">\n",
       "      <th></th>\n",
       "      <th>PoolArea</th>\n",
       "      <th>PoolQC</th>\n",
       "    </tr>\n",
       "  </thead>\n",
       "  <tbody>\n",
       "    <tr>\n",
       "      <th>197</th>\n",
       "      <td>512</td>\n",
       "      <td>Ex</td>\n",
       "    </tr>\n",
       "    <tr>\n",
       "      <th>810</th>\n",
       "      <td>648</td>\n",
       "      <td>Fa</td>\n",
       "    </tr>\n",
       "    <tr>\n",
       "      <th>1170</th>\n",
       "      <td>576</td>\n",
       "      <td>Gd</td>\n",
       "    </tr>\n",
       "    <tr>\n",
       "      <th>1182</th>\n",
       "      <td>555</td>\n",
       "      <td>Ex</td>\n",
       "    </tr>\n",
       "    <tr>\n",
       "      <th>1298</th>\n",
       "      <td>480</td>\n",
       "      <td>Gd</td>\n",
       "    </tr>\n",
       "    <tr>\n",
       "      <th>1386</th>\n",
       "      <td>519</td>\n",
       "      <td>Fa</td>\n",
       "    </tr>\n",
       "    <tr>\n",
       "      <th>1423</th>\n",
       "      <td>738</td>\n",
       "      <td>Gd</td>\n",
       "    </tr>\n",
       "  </tbody>\n",
       "</table>\n",
       "</div>"
      ],
      "text/plain": [
       "      PoolArea PoolQC\n",
       "197        512     Ex\n",
       "810        648     Fa\n",
       "1170       576     Gd\n",
       "1182       555     Ex\n",
       "1298       480     Gd\n",
       "1386       519     Fa\n",
       "1423       738     Gd"
      ]
     },
     "execution_count": 11,
     "metadata": {},
     "output_type": "execute_result"
    }
   ],
   "source": [
    "df_tr[['PoolArea','PoolQC']][df_tr['PoolArea']>0]"
   ]
  },
  {
   "cell_type": "markdown",
   "metadata": {},
   "source": [
    "Similarly for 'MiscFeature', it is miscellaneous feature which is not covered in other categories. It should be kept as well. 'MiscVa' is the value of the 'MiscFeature'."
   ]
  },
  {
   "cell_type": "code",
   "execution_count": 12,
   "metadata": {},
   "outputs": [
    {
     "data": {
      "text/plain": [
       "array([nan, 'Shed', 'Gar2', 'Othr', 'TenC'], dtype=object)"
      ]
     },
     "execution_count": 12,
     "metadata": {},
     "output_type": "execute_result"
    }
   ],
   "source": [
    "df_tr['MiscFeature'].unique()"
   ]
  },
  {
   "cell_type": "code",
   "execution_count": 13,
   "metadata": {},
   "outputs": [
    {
     "data": {
      "text/html": [
       "<div>\n",
       "<style scoped>\n",
       "    .dataframe tbody tr th:only-of-type {\n",
       "        vertical-align: middle;\n",
       "    }\n",
       "\n",
       "    .dataframe tbody tr th {\n",
       "        vertical-align: top;\n",
       "    }\n",
       "\n",
       "    .dataframe thead th {\n",
       "        text-align: right;\n",
       "    }\n",
       "</style>\n",
       "<table border=\"1\" class=\"dataframe\">\n",
       "  <thead>\n",
       "    <tr style=\"text-align: right;\">\n",
       "      <th></th>\n",
       "      <th>MiscVal</th>\n",
       "      <th>MiscFeature</th>\n",
       "    </tr>\n",
       "  </thead>\n",
       "  <tbody>\n",
       "    <tr>\n",
       "      <th>5</th>\n",
       "      <td>700</td>\n",
       "      <td>Shed</td>\n",
       "    </tr>\n",
       "    <tr>\n",
       "      <th>7</th>\n",
       "      <td>350</td>\n",
       "      <td>Shed</td>\n",
       "    </tr>\n",
       "    <tr>\n",
       "      <th>16</th>\n",
       "      <td>700</td>\n",
       "      <td>Shed</td>\n",
       "    </tr>\n",
       "    <tr>\n",
       "      <th>17</th>\n",
       "      <td>500</td>\n",
       "      <td>Shed</td>\n",
       "    </tr>\n",
       "    <tr>\n",
       "      <th>51</th>\n",
       "      <td>400</td>\n",
       "      <td>Shed</td>\n",
       "    </tr>\n",
       "    <tr>\n",
       "      <th>84</th>\n",
       "      <td>700</td>\n",
       "      <td>Shed</td>\n",
       "    </tr>\n",
       "    <tr>\n",
       "      <th>95</th>\n",
       "      <td>480</td>\n",
       "      <td>Shed</td>\n",
       "    </tr>\n",
       "    <tr>\n",
       "      <th>98</th>\n",
       "      <td>400</td>\n",
       "      <td>Shed</td>\n",
       "    </tr>\n",
       "    <tr>\n",
       "      <th>99</th>\n",
       "      <td>400</td>\n",
       "      <td>Shed</td>\n",
       "    </tr>\n",
       "    <tr>\n",
       "      <th>106</th>\n",
       "      <td>450</td>\n",
       "      <td>Shed</td>\n",
       "    </tr>\n",
       "    <tr>\n",
       "      <th>214</th>\n",
       "      <td>450</td>\n",
       "      <td>Shed</td>\n",
       "    </tr>\n",
       "    <tr>\n",
       "      <th>249</th>\n",
       "      <td>500</td>\n",
       "      <td>Shed</td>\n",
       "    </tr>\n",
       "    <tr>\n",
       "      <th>250</th>\n",
       "      <td>450</td>\n",
       "      <td>Shed</td>\n",
       "    </tr>\n",
       "    <tr>\n",
       "      <th>335</th>\n",
       "      <td>700</td>\n",
       "      <td>Shed</td>\n",
       "    </tr>\n",
       "    <tr>\n",
       "      <th>338</th>\n",
       "      <td>400</td>\n",
       "      <td>Shed</td>\n",
       "    </tr>\n",
       "    <tr>\n",
       "      <th>346</th>\n",
       "      <td>15500</td>\n",
       "      <td>Gar2</td>\n",
       "    </tr>\n",
       "    <tr>\n",
       "      <th>392</th>\n",
       "      <td>1200</td>\n",
       "      <td>Shed</td>\n",
       "    </tr>\n",
       "    <tr>\n",
       "      <th>439</th>\n",
       "      <td>800</td>\n",
       "      <td>Shed</td>\n",
       "    </tr>\n",
       "    <tr>\n",
       "      <th>499</th>\n",
       "      <td>480</td>\n",
       "      <td>Shed</td>\n",
       "    </tr>\n",
       "    <tr>\n",
       "      <th>502</th>\n",
       "      <td>400</td>\n",
       "      <td>Shed</td>\n",
       "    </tr>\n",
       "    <tr>\n",
       "      <th>510</th>\n",
       "      <td>2000</td>\n",
       "      <td>Shed</td>\n",
       "    </tr>\n",
       "    <tr>\n",
       "      <th>539</th>\n",
       "      <td>2000</td>\n",
       "      <td>Shed</td>\n",
       "    </tr>\n",
       "    <tr>\n",
       "      <th>589</th>\n",
       "      <td>600</td>\n",
       "      <td>Shed</td>\n",
       "    </tr>\n",
       "    <tr>\n",
       "      <th>611</th>\n",
       "      <td>500</td>\n",
       "      <td>Shed</td>\n",
       "    </tr>\n",
       "    <tr>\n",
       "      <th>626</th>\n",
       "      <td>600</td>\n",
       "      <td>Shed</td>\n",
       "    </tr>\n",
       "    <tr>\n",
       "      <th>634</th>\n",
       "      <td>600</td>\n",
       "      <td>Shed</td>\n",
       "    </tr>\n",
       "    <tr>\n",
       "      <th>705</th>\n",
       "      <td>3500</td>\n",
       "      <td>Othr</td>\n",
       "    </tr>\n",
       "    <tr>\n",
       "      <th>725</th>\n",
       "      <td>500</td>\n",
       "      <td>Shed</td>\n",
       "    </tr>\n",
       "    <tr>\n",
       "      <th>733</th>\n",
       "      <td>400</td>\n",
       "      <td>Shed</td>\n",
       "    </tr>\n",
       "    <tr>\n",
       "      <th>760</th>\n",
       "      <td>450</td>\n",
       "      <td>Shed</td>\n",
       "    </tr>\n",
       "    <tr>\n",
       "      <th>766</th>\n",
       "      <td>500</td>\n",
       "      <td>Shed</td>\n",
       "    </tr>\n",
       "    <tr>\n",
       "      <th>767</th>\n",
       "      <td>1300</td>\n",
       "      <td>Shed</td>\n",
       "    </tr>\n",
       "    <tr>\n",
       "      <th>786</th>\n",
       "      <td>1200</td>\n",
       "      <td>Shed</td>\n",
       "    </tr>\n",
       "    <tr>\n",
       "      <th>794</th>\n",
       "      <td>500</td>\n",
       "      <td>Shed</td>\n",
       "    </tr>\n",
       "    <tr>\n",
       "      <th>800</th>\n",
       "      <td>400</td>\n",
       "      <td>Shed</td>\n",
       "    </tr>\n",
       "    <tr>\n",
       "      <th>812</th>\n",
       "      <td>54</td>\n",
       "      <td>Shed</td>\n",
       "    </tr>\n",
       "    <tr>\n",
       "      <th>813</th>\n",
       "      <td>500</td>\n",
       "      <td>Shed</td>\n",
       "    </tr>\n",
       "    <tr>\n",
       "      <th>867</th>\n",
       "      <td>400</td>\n",
       "      <td>Shed</td>\n",
       "    </tr>\n",
       "    <tr>\n",
       "      <th>878</th>\n",
       "      <td>400</td>\n",
       "      <td>Shed</td>\n",
       "    </tr>\n",
       "    <tr>\n",
       "      <th>890</th>\n",
       "      <td>2000</td>\n",
       "      <td>Shed</td>\n",
       "    </tr>\n",
       "    <tr>\n",
       "      <th>912</th>\n",
       "      <td>620</td>\n",
       "      <td>Shed</td>\n",
       "    </tr>\n",
       "    <tr>\n",
       "      <th>953</th>\n",
       "      <td>400</td>\n",
       "      <td>Shed</td>\n",
       "    </tr>\n",
       "    <tr>\n",
       "      <th>1061</th>\n",
       "      <td>560</td>\n",
       "      <td>Shed</td>\n",
       "    </tr>\n",
       "    <tr>\n",
       "      <th>1076</th>\n",
       "      <td>500</td>\n",
       "      <td>Shed</td>\n",
       "    </tr>\n",
       "    <tr>\n",
       "      <th>1083</th>\n",
       "      <td>700</td>\n",
       "      <td>Shed</td>\n",
       "    </tr>\n",
       "    <tr>\n",
       "      <th>1171</th>\n",
       "      <td>1400</td>\n",
       "      <td>Shed</td>\n",
       "    </tr>\n",
       "    <tr>\n",
       "      <th>1210</th>\n",
       "      <td>400</td>\n",
       "      <td>Shed</td>\n",
       "    </tr>\n",
       "    <tr>\n",
       "      <th>1230</th>\n",
       "      <td>8300</td>\n",
       "      <td>Gar2</td>\n",
       "    </tr>\n",
       "    <tr>\n",
       "      <th>1252</th>\n",
       "      <td>600</td>\n",
       "      <td>Shed</td>\n",
       "    </tr>\n",
       "    <tr>\n",
       "      <th>1328</th>\n",
       "      <td>1150</td>\n",
       "      <td>Shed</td>\n",
       "    </tr>\n",
       "    <tr>\n",
       "      <th>1386</th>\n",
       "      <td>2000</td>\n",
       "      <td>TenC</td>\n",
       "    </tr>\n",
       "    <tr>\n",
       "      <th>1457</th>\n",
       "      <td>2500</td>\n",
       "      <td>Shed</td>\n",
       "    </tr>\n",
       "  </tbody>\n",
       "</table>\n",
       "</div>"
      ],
      "text/plain": [
       "      MiscVal MiscFeature\n",
       "5         700        Shed\n",
       "7         350        Shed\n",
       "16        700        Shed\n",
       "17        500        Shed\n",
       "51        400        Shed\n",
       "84        700        Shed\n",
       "95        480        Shed\n",
       "98        400        Shed\n",
       "99        400        Shed\n",
       "106       450        Shed\n",
       "214       450        Shed\n",
       "249       500        Shed\n",
       "250       450        Shed\n",
       "335       700        Shed\n",
       "338       400        Shed\n",
       "346     15500        Gar2\n",
       "392      1200        Shed\n",
       "439       800        Shed\n",
       "499       480        Shed\n",
       "502       400        Shed\n",
       "510      2000        Shed\n",
       "539      2000        Shed\n",
       "589       600        Shed\n",
       "611       500        Shed\n",
       "626       600        Shed\n",
       "634       600        Shed\n",
       "705      3500        Othr\n",
       "725       500        Shed\n",
       "733       400        Shed\n",
       "760       450        Shed\n",
       "766       500        Shed\n",
       "767      1300        Shed\n",
       "786      1200        Shed\n",
       "794       500        Shed\n",
       "800       400        Shed\n",
       "812        54        Shed\n",
       "813       500        Shed\n",
       "867       400        Shed\n",
       "878       400        Shed\n",
       "890      2000        Shed\n",
       "912       620        Shed\n",
       "953       400        Shed\n",
       "1061      560        Shed\n",
       "1076      500        Shed\n",
       "1083      700        Shed\n",
       "1171     1400        Shed\n",
       "1210      400        Shed\n",
       "1230     8300        Gar2\n",
       "1252      600        Shed\n",
       "1328     1150        Shed\n",
       "1386     2000        TenC\n",
       "1457     2500        Shed"
      ]
     },
     "execution_count": 13,
     "metadata": {},
     "output_type": "execute_result"
    }
   ],
   "source": [
    "df_tr[['MiscVal','MiscFeature']][df_tr['MiscVal']>0]"
   ]
  },
  {
   "cell_type": "markdown",
   "metadata": {},
   "source": [
    "Similarly,\n",
    "1. 'Alley': Type of alley access\n",
    "2. 'Fence': Fence quality\n",
    "3. 'MasVnrType': Masonry veneer type; 'MasVnrArea': Masonry veneer area in square feet\n",
    "4. 'FireplaceQu': Fireplace quality; 'Fireplaces': Number of fireplaces\n",
    "5. 'LotFrontage': Linear feet of street connected to property\n",
    "6. 'GarageYrBlt': Year garage was built; 'GarageType': Garage location; 'GarageCond': Garage condition\n",
    "\n",
    "In conclusion, these are valid data and do not have to remove them. Data transformation will be applied on the NaN values before model training."
   ]
  },
  {
   "cell_type": "code",
   "execution_count": 14,
   "metadata": {},
   "outputs": [],
   "source": [
    "#Not used\n",
    "def missing_row(df_tr):\n",
    "    null_row=pd.DataFrame(columns=['Row ID','Total Feature','Feature With Missing Value','Missing %'])\n",
    "    null_row_index=0\n",
    "    for i in range(len(df_tr)):\n",
    "        if df_tr.iloc[i].isnull().sum()>0:\n",
    "            null_row.loc[null_row_index]=[df_tr['Id'][i],\n",
    "                                        len(df_tr.columns),\n",
    "                                        df_tr.iloc[i].isnull().sum(),\n",
    "                                        float(df_tr.iloc[i].isnull().sum()/len(df_tr.columns))*100,\n",
    "            ]\n",
    "            null_row_index=null_row_index+1\n",
    "\n",
    "    print('Transaction with missing feature value')\n",
    "    display(null_row.sort_values(ascending=False,by='Missing %'))\n",
    "\n",
    "    fig = px.ecdf(null_row, x=\"Missing %\",marginal=\"histogram\",title=\"Cumulative Distribution of Transaction (row ID) Missing Percentage\")\n",
    "\n",
    "    fig.update_layout(xaxis_title='Missing %',\n",
    "                        yaxis_title='Accumulated Row Density',\n",
    "                        )\n",
    "            \n",
    "    fig.show()\n",
    "\n",
    "    return null_row"
   ]
  },
  {
   "cell_type": "markdown",
   "metadata": {},
   "source": [
    "Moving to data exploration. First thing to find which are numeric and categorical features:"
   ]
  },
  {
   "cell_type": "markdown",
   "metadata": {},
   "source": [
    "Drop 'Id' and 'SalePrice' befire feature transformation"
   ]
  },
  {
   "cell_type": "code",
   "execution_count": 97,
   "metadata": {},
   "outputs": [],
   "source": [
    "feat_df=df_tr.drop(['Id','SalePrice'],axis=1)"
   ]
  },
  {
   "cell_type": "code",
   "execution_count": 98,
   "metadata": {},
   "outputs": [
    {
     "data": {
      "text/plain": [
       "Index(['Alley', 'BldgType', 'BsmtCond', 'BsmtExposure', 'BsmtFinType1',\n",
       "       'BsmtFinType2', 'BsmtQual', 'CentralAir', 'Condition1', 'Condition2',\n",
       "       'Electrical', 'ExterCond', 'ExterQual', 'Exterior1st', 'Exterior2nd',\n",
       "       'Fence', 'FireplaceQu', 'Foundation', 'Functional', 'GarageCond',\n",
       "       'GarageFinish', 'GarageQual', 'GarageType', 'Heating', 'HeatingQC',\n",
       "       'HouseStyle', 'KitchenQual', 'LandContour', 'LandSlope', 'LotConfig',\n",
       "       'LotShape', 'MSZoning', 'MasVnrType', 'MiscFeature', 'Neighborhood',\n",
       "       'PavedDrive', 'PoolQC', 'RoofMatl', 'RoofStyle', 'SaleCondition',\n",
       "       'SaleType', 'Street', 'Utilities'],\n",
       "      dtype='object')"
      ]
     },
     "execution_count": 98,
     "metadata": {},
     "output_type": "execute_result"
    }
   ],
   "source": [
    "cat_feat = feat_df.select_dtypes(include=['object', 'bool']).columns\n",
    "cat_feat.sort_values()"
   ]
  },
  {
   "cell_type": "code",
   "execution_count": 99,
   "metadata": {},
   "outputs": [
    {
     "data": {
      "text/plain": [
       "Index(['1stFlrSF', '2ndFlrSF', '3SsnPorch', 'BedroomAbvGr', 'BsmtFinSF1',\n",
       "       'BsmtFinSF2', 'BsmtFullBath', 'BsmtHalfBath', 'BsmtUnfSF',\n",
       "       'EnclosedPorch', 'Fireplaces', 'FullBath', 'GarageArea', 'GarageCars',\n",
       "       'GarageYrBlt', 'GrLivArea', 'HalfBath', 'KitchenAbvGr', 'LotArea',\n",
       "       'LotFrontage', 'LowQualFinSF', 'MSSubClass', 'MasVnrArea', 'MiscVal',\n",
       "       'MoSold', 'OpenPorchSF', 'OverallCond', 'OverallQual', 'PoolArea',\n",
       "       'ScreenPorch', 'TotRmsAbvGrd', 'TotalBsmtSF', 'WoodDeckSF', 'YearBuilt',\n",
       "       'YearRemodAdd', 'YrSold'],\n",
       "      dtype='object')"
      ]
     },
     "execution_count": 99,
     "metadata": {},
     "output_type": "execute_result"
    }
   ],
   "source": [
    "num_feat = feat_df.select_dtypes(include=['int64', 'float64']).columns\n",
    "num_feat.sort_values()"
   ]
  },
  {
   "cell_type": "markdown",
   "metadata": {},
   "source": [
    "'MSSubClass' is int type but it is supposed to be categorical, hence it is grouped under cat_feat\n",
    "MSSubClass: Identifies the type of dwelling involved in the sale.\t\n",
    "\n",
    "        20\t1-STORY 1946 & NEWER ALL STYLES\n",
    "        30\t1-STORY 1945 & OLDER\n",
    "        40\t1-STORY W/FINISHED ATTIC ALL AGES\n",
    "        45\t1-1/2 STORY - UNFINISHED ALL AGES\n",
    "        50\t1-1/2 STORY FINISHED ALL AGES\n",
    "        60\t2-STORY 1946 & NEWER\n",
    "        70\t2-STORY 1945 & OLDER\n",
    "        75\t2-1/2 STORY ALL AGES\n",
    "        80\tSPLIT OR MULTI-LEVEL\n",
    "        85\tSPLIT FOYER\n",
    "        90\tDUPLEX - ALL STYLES AND AGES\n",
    "       120\t1-STORY PUD (Planned Unit Development) - 1946 & NEWER\n",
    "       150\t1-1/2 STORY PUD - ALL AGES\n",
    "       160\t2-STORY PUD - 1946 & NEWER\n",
    "       180\tPUD - MULTILEVEL - INCL SPLIT LEV/FOYER\n",
    "       190\t2 FAMILY CONVERSION - ALL STYLES AND AGES"
   ]
  },
  {
   "cell_type": "code",
   "execution_count": 95,
   "metadata": {},
   "outputs": [
    {
     "data": {
      "text/plain": [
       "Index(['Id', 'LotFrontage', 'LotArea', 'OverallQual', 'OverallCond',\n",
       "       'YearBuilt', 'YearRemodAdd', 'MasVnrArea', 'BsmtFinSF1', 'BsmtFinSF2',\n",
       "       'BsmtUnfSF', 'TotalBsmtSF', '1stFlrSF', '2ndFlrSF', 'LowQualFinSF',\n",
       "       'GrLivArea', 'BsmtFullBath', 'BsmtHalfBath', 'FullBath', 'HalfBath',\n",
       "       'BedroomAbvGr', 'KitchenAbvGr', 'TotRmsAbvGrd', 'Fireplaces',\n",
       "       'GarageYrBlt', 'GarageCars', 'GarageArea', 'WoodDeckSF', 'OpenPorchSF',\n",
       "       'EnclosedPorch', '3SsnPorch', 'ScreenPorch', 'PoolArea', 'MiscVal',\n",
       "       'MoSold', 'YrSold', 'SalePrice'],\n",
       "      dtype='object')"
      ]
     },
     "execution_count": 95,
     "metadata": {},
     "output_type": "execute_result"
    }
   ],
   "source": [
    "num_feat=num_feat.drop('MSSubClass')\n",
    "num_feat"
   ]
  },
  {
   "cell_type": "code",
   "execution_count": 96,
   "metadata": {},
   "outputs": [
    {
     "data": {
      "text/plain": [
       "Index(['MSZoning', 'Street', 'Alley', 'LotShape', 'LandContour', 'Utilities',\n",
       "       'LotConfig', 'LandSlope', 'Neighborhood', 'Condition1', 'Condition2',\n",
       "       'BldgType', 'HouseStyle', 'RoofStyle', 'RoofMatl', 'Exterior1st',\n",
       "       'Exterior2nd', 'MasVnrType', 'ExterQual', 'ExterCond', 'Foundation',\n",
       "       'BsmtQual', 'BsmtCond', 'BsmtExposure', 'BsmtFinType1', 'BsmtFinType2',\n",
       "       'Heating', 'HeatingQC', 'CentralAir', 'Electrical', 'KitchenQual',\n",
       "       'Functional', 'FireplaceQu', 'GarageType', 'GarageFinish', 'GarageQual',\n",
       "       'GarageCond', 'PavedDrive', 'PoolQC', 'Fence', 'MiscFeature',\n",
       "       'SaleType', 'SaleCondition', 'MSSubClass'],\n",
       "      dtype='object')"
      ]
     },
     "execution_count": 96,
     "metadata": {},
     "output_type": "execute_result"
    }
   ],
   "source": [
    "cat_feat=cat_feat.insert(len(cat_feat),'MSSubClass')\n",
    "cat_feat"
   ]
  },
  {
   "cell_type": "markdown",
   "metadata": {},
   "source": [
    "Create conversion function to convert the quality with ordinary label.\n",
    "1. Ex\tExcellent     ->5\n",
    "2. Gd\tGood   ->4\n",
    "3.TA\tTypical - slight dampness allowed  ->3\n",
    "4. Fa\tFair - dampness or some cracking or settling     ->2\n",
    "5. Po\tPoor - Severe cracking, settling, or wetness     ->1\n",
    "6. NA\tNo Basement   ->0"
   ]
  },
  {
   "cell_type": "markdown",
   "metadata": {},
   "source": [
    "For numerical feature, quick check on the correlation with the target response 'SalePrice':"
   ]
  },
  {
   "cell_type": "code",
   "execution_count": 21,
   "metadata": {},
   "outputs": [],
   "source": [
    "#interactive corrrelation heatmap for numberic feat.Roughly check the correlation with target SalePrice, and their intercorrelation\n",
    "def corr_map(df,included_col,target_response):\n",
    "    corr_df=df\n",
    "    for i in corr_df.columns:\n",
    "        if i not in included_col:\n",
    "            corr_df=corr_df.drop([i],axis=1)\n",
    "    \n",
    "    corr_df=pd.concat([corr_df,df[target_response]],axis=1)\n",
    "\n",
    "    print('Correlation score with SalePrice:')\n",
    "    display(corr_df.corr()['SalePrice'].sort_values(ascending=False))\n",
    "    fig = px.imshow(corr_df.corr(),\n",
    "                    width=1200,\n",
    "                    height=800,\n",
    "                    #text_auto=True,\n",
    "                    title='Correlation Map'\n",
    "                    )\n",
    "    fig.show()\n",
    "    return corr_df.corr()"
   ]
  },
  {
   "cell_type": "markdown",
   "metadata": {},
   "source": [
    "'OverallQual', 'GrLivingArea' are the top 2 numerical features with more than +0.7 corretion score"
   ]
  },
  {
   "cell_type": "code",
   "execution_count": 22,
   "metadata": {},
   "outputs": [
    {
     "name": "stdout",
     "output_type": "stream",
     "text": [
      "Correlation score with SalePrice:\n"
     ]
    },
    {
     "data": {
      "text/plain": [
       "SalePrice        1.000000\n",
       "OverallQual      0.790982\n",
       "GrLivArea        0.708624\n",
       "GarageCars       0.640409\n",
       "GarageArea       0.623431\n",
       "TotalBsmtSF      0.613581\n",
       "1stFlrSF         0.605852\n",
       "FullBath         0.560664\n",
       "TotRmsAbvGrd     0.533723\n",
       "YearBuilt        0.522897\n",
       "YearRemodAdd     0.507101\n",
       "GarageYrBlt      0.486362\n",
       "MasVnrArea       0.477493\n",
       "Fireplaces       0.466929\n",
       "BsmtFinSF1       0.386420\n",
       "LotFrontage      0.351799\n",
       "WoodDeckSF       0.324413\n",
       "2ndFlrSF         0.319334\n",
       "OpenPorchSF      0.315856\n",
       "HalfBath         0.284108\n",
       "LotArea          0.263843\n",
       "BsmtFullBath     0.227122\n",
       "BsmtUnfSF        0.214479\n",
       "BedroomAbvGr     0.168213\n",
       "ScreenPorch      0.111447\n",
       "PoolArea         0.092404\n",
       "MoSold           0.046432\n",
       "3SsnPorch        0.044584\n",
       "BsmtFinSF2      -0.011378\n",
       "BsmtHalfBath    -0.016844\n",
       "MiscVal         -0.021190\n",
       "LowQualFinSF    -0.025606\n",
       "YrSold          -0.028923\n",
       "OverallCond     -0.077856\n",
       "MSSubClass      -0.084284\n",
       "EnclosedPorch   -0.128578\n",
       "KitchenAbvGr    -0.135907\n",
       "Name: SalePrice, dtype: float64"
      ]
     },
     "metadata": {},
     "output_type": "display_data"
    },
    {
     "data": {
      "application/vnd.plotly.v1+json": {
       "config": {
        "plotlyServerURL": "https://plot.ly"
       },
       "data": [
        {
         "coloraxis": "coloraxis",
         "hovertemplate": "x: %{x}<br>y: %{y}<br>color: %{z}<extra></extra>",
         "name": "0",
         "type": "heatmap",
         "x": [
          "MSSubClass",
          "LotFrontage",
          "LotArea",
          "OverallQual",
          "OverallCond",
          "YearBuilt",
          "YearRemodAdd",
          "MasVnrArea",
          "BsmtFinSF1",
          "BsmtFinSF2",
          "BsmtUnfSF",
          "TotalBsmtSF",
          "1stFlrSF",
          "2ndFlrSF",
          "LowQualFinSF",
          "GrLivArea",
          "BsmtFullBath",
          "BsmtHalfBath",
          "FullBath",
          "HalfBath",
          "BedroomAbvGr",
          "KitchenAbvGr",
          "TotRmsAbvGrd",
          "Fireplaces",
          "GarageYrBlt",
          "GarageCars",
          "GarageArea",
          "WoodDeckSF",
          "OpenPorchSF",
          "EnclosedPorch",
          "3SsnPorch",
          "ScreenPorch",
          "PoolArea",
          "MiscVal",
          "MoSold",
          "YrSold",
          "SalePrice"
         ],
         "xaxis": "x",
         "y": [
          "MSSubClass",
          "LotFrontage",
          "LotArea",
          "OverallQual",
          "OverallCond",
          "YearBuilt",
          "YearRemodAdd",
          "MasVnrArea",
          "BsmtFinSF1",
          "BsmtFinSF2",
          "BsmtUnfSF",
          "TotalBsmtSF",
          "1stFlrSF",
          "2ndFlrSF",
          "LowQualFinSF",
          "GrLivArea",
          "BsmtFullBath",
          "BsmtHalfBath",
          "FullBath",
          "HalfBath",
          "BedroomAbvGr",
          "KitchenAbvGr",
          "TotRmsAbvGrd",
          "Fireplaces",
          "GarageYrBlt",
          "GarageCars",
          "GarageArea",
          "WoodDeckSF",
          "OpenPorchSF",
          "EnclosedPorch",
          "3SsnPorch",
          "ScreenPorch",
          "PoolArea",
          "MiscVal",
          "MoSold",
          "YrSold",
          "SalePrice"
         ],
         "yaxis": "y",
         "z": [
          [
           1,
           -0.3863468853449291,
           -0.13978108172014597,
           0.032627707521842034,
           -0.059315817084104695,
           0.027850136946705798,
           0.04058104478406425,
           0.022936285894197328,
           -0.06983574916710049,
           -0.06564857918852389,
           -0.14075948083501172,
           -0.23851840931511895,
           -0.25175835187837925,
           0.30788572075985926,
           0.046473755899517154,
           0.0748531796577994,
           0.003491025779044692,
           -0.0023325345518022773,
           0.13160822241028108,
           0.17735438864391687,
           -0.02343802846062706,
           0.2817210402648814,
           0.04038006478367613,
           -0.04556934027456939,
           0.08507186950664718,
           -0.040109793135783604,
           -0.09867154319256435,
           -0.012579358249219592,
           -0.006100121231942238,
           -0.012036621902094771,
           -0.04382454917560846,
           -0.026030176699806666,
           0.008282707579624416,
           -0.007683291329865976,
           -0.013584643238322348,
           -0.02140703785109821,
           -0.08428413512659509
          ],
          [
           -0.3863468853449291,
           1,
           0.4260950187718081,
           0.2516457754806124,
           -0.059213450005246894,
           0.12334946703331619,
           0.08886557249206646,
           0.19345806055826867,
           0.233633167019755,
           0.0498996766909894,
           0.13264374162493364,
           0.3920745763791721,
           0.45718100199465517,
           0.08017727062420475,
           0.038468534328959476,
           0.40279741408531955,
           0.10094856694926875,
           -0.007234304524918128,
           0.19876867789737823,
           0.05353185497960593,
           0.263169915881059,
           -0.0060688301613090875,
           0.3520959476602243,
           0.26663948256030306,
           0.0702497819166165,
           0.2856909246851005,
           0.3449967241064819,
           0.0885209332894081,
           0.15197222768060642,
           0.01070033663888244,
           0.07002922773085365,
           0.04138279067500582,
           0.2061667752760768,
           0.003367556596191435,
           0.011199954759134238,
           0.007449589209750463,
           0.35179909657067737
          ],
          [
           -0.13978108172014597,
           0.4260950187718081,
           1,
           0.10580574175496422,
           -0.005636270274099278,
           0.014227651757025093,
           0.013788427078155424,
           0.10415982154021264,
           0.21410313070557713,
           0.11116974549624871,
           -0.00261835995009543,
           0.2608331345451572,
           0.29947457850776266,
           0.05098594829349377,
           0.004778969866349555,
           0.26311616716714803,
           0.15815453106001476,
           0.04804557088829686,
           0.1260306265196436,
           0.014259468566431947,
           0.11968990815131542,
           -0.017783870504841995,
           0.190014777625409,
           0.2713640096245418,
           -0.02494741866564254,
           0.15487073975354076,
           0.1804027551511169,
           0.17169768725711246,
           0.08477380884021642,
           -0.018339733672212328,
           0.020422829586133416,
           0.04316037769525204,
           0.07767239188017444,
           0.03806769201918336,
           0.0012049882225877268,
           -0.01426140729855021,
           0.2638433538714051
          ],
          [
           0.032627707521842034,
           0.2516457754806124,
           0.10580574175496422,
           1,
           -0.09193234263907182,
           0.5723227689623621,
           0.5506839241941717,
           0.4118756672776833,
           0.23966596617889105,
           -0.05911869267068986,
           0.30815892690564284,
           0.5378084986123907,
           0.4762238290781779,
           0.29549287919970985,
           -0.030429283979605037,
           0.5930074300286512,
           0.11109778614230235,
           -0.04015015766998829,
           0.5505997093682543,
           0.2734580986427702,
           0.1016763562417855,
           -0.18388223454922156,
           0.42745234327798975,
           0.39676503795208906,
           0.5477658448351629,
           0.6006707165907149,
           0.5620217566126083,
           0.23892339224918593,
           0.3088188233594523,
           -0.11393685859568162,
           0.03037056713526452,
           0.06488636049351544,
           0.06516584360589199,
           -0.031406210500746504,
           0.07081517178517327,
           -0.027346708327825386,
           0.7909816005838053
          ],
          [
           -0.059315817084104695,
           -0.059213450005246894,
           -0.005636270274099278,
           -0.09193234263907182,
           1,
           -0.37598319560698945,
           0.07374149814528905,
           -0.1281011991656896,
           -0.04623085591822496,
           0.040229169899767575,
           -0.13684056989352233,
           -0.1710975146249218,
           -0.1442027840490591,
           0.028942115965816882,
           0.025494319914213383,
           -0.07968586538833815,
           -0.05494151543295185,
           0.11782091508139253,
           -0.1941494887493024,
           -0.06076932676159483,
           0.012980060094550628,
           -0.08700085543638039,
           -0.057583166112865375,
           -0.02381997776166212,
           -0.32429673252939795,
           -0.18575751057836357,
           -0.15152137057022985,
           -0.0033336992893856225,
           -0.03258881352158505,
           0.07035618448230374,
           0.025503660024132138,
           0.05481052878611526,
           -0.0019849422681841354,
           0.0687768060572499,
           -0.003510838599939743,
           0.043949745692488544,
           -0.07785589404867797
          ],
          [
           0.027850136946705798,
           0.12334946703331619,
           0.014227651757025093,
           0.5723227689623621,
           -0.37598319560698945,
           1,
           0.5928549763436519,
           0.3157070624361963,
           0.24950319668479728,
           -0.049106831196239174,
           0.14904039195440058,
           0.3914520020660952,
           0.2819858586998021,
           0.010307659584364078,
           -0.18378434437372046,
           0.19900971367645826,
           0.1875985499971434,
           -0.03816180567123349,
           0.4682707871726737,
           0.2426559102410641,
           -0.07065121690473103,
           -0.17480024561497706,
           0.09558912829795185,
           0.14771639941245646,
           0.8256674841743408,
           0.5378500917111052,
           0.4789538198934904,
           0.22488014230399744,
           0.188685840001731,
           -0.3872677829280785,
           0.03135451306436603,
           -0.05036443453861205,
           0.004949727615942999,
           -0.03438313873672287,
           0.012398470595440986,
           -0.01361768000183213,
           0.5228973328794967
          ],
          [
           0.04058104478406425,
           0.08886557249206646,
           0.013788427078155424,
           0.5506839241941717,
           0.07374149814528905,
           0.5928549763436519,
           1,
           0.17961837073552223,
           0.12845054712828866,
           -0.06775851356598699,
           0.18113308705016903,
           0.2910655826041661,
           0.24037926760355463,
           0.14002377880486447,
           -0.06241910007833181,
           0.2873885196503327,
           0.11946987911123993,
           -0.012337032127797673,
           0.4390464838723479,
           0.1833306117185349,
           -0.040580928067749454,
           -0.14959752104274646,
           0.1917398162928069,
           0.11258131843947561,
           0.6422767797035356,
           0.42062215494321714,
           0.3715998094973092,
           0.20572592049010355,
           0.22629763268298944,
           -0.1939191470992078,
           0.045285809814976964,
           -0.038740010742610125,
           0.005829372037106204,
           -0.010286248783081431,
           0.02149000222687611,
           0.03574324712127364,
           0.5071009671113866
          ],
          [
           0.022936285894197328,
           0.19345806055826867,
           0.10415982154021264,
           0.4118756672776833,
           -0.1281011991656896,
           0.3157070624361963,
           0.17961837073552223,
           1,
           0.2647362647138685,
           -0.0723188482033582,
           0.11444206231380821,
           0.3639362217744723,
           0.3445007468899248,
           0.1745614734574279,
           -0.06907085606589286,
           0.39085663973843854,
           0.08530982868972814,
           0.026672828155103145,
           0.27683284723698837,
           0.20144394692967832,
           0.10282115127801787,
           -0.03761025181986861,
           0.2806816946085068,
           0.24906961283714313,
           0.2526907749903342,
           0.3642036400698656,
           0.37306648160023664,
           0.15971813436595433,
           0.1257027966825031,
           -0.11020383387243517,
           0.018795515294914033,
           0.06146554318732188,
           0.01172306121326672,
           -0.02981539358527878,
           -0.005964715509114298,
           -0.008201030967080006,
           0.47749304709571444
          ],
          [
           -0.06983574916710049,
           0.233633167019755,
           0.21410313070557713,
           0.23966596617889105,
           -0.04623085591822496,
           0.24950319668479728,
           0.12845054712828866,
           0.2647362647138685,
           1,
           -0.0501174000471511,
           -0.49525146925701125,
           0.5223960519923867,
           0.4458626560920054,
           -0.13707898608005356,
           -0.06450259692146844,
           0.20817113014532704,
           0.6492117535742649,
           0.06741847791011696,
           0.058543136861595194,
           0.004262424384486936,
           -0.10735467682307034,
           -0.08100685077857439,
           0.044315623912920654,
           0.2600109202350403,
           0.1534840980267781,
           0.22405352239399068,
           0.2969703853445138,
           0.20430614523740265,
           0.11176061335675101,
           -0.10230330550073197,
           0.026450506189898953,
           0.06202062266534991,
           0.1404912862549568,
           0.003571473474954695,
           -0.015726948262154667,
           0.014358922393909302,
           0.3864198062421535
          ],
          [
           -0.06564857918852389,
           0.0498996766909894,
           0.11116974549624871,
           -0.05911869267068986,
           0.040229169899767575,
           -0.049106831196239174,
           -0.06775851356598699,
           -0.0723188482033582,
           -0.0501174000471511,
           1,
           -0.20929449241994497,
           0.10480953760636813,
           0.0971174484566702,
           -0.09926031602264425,
           0.01480699794683367,
           -0.009639891551805443,
           0.15867806078170135,
           0.07094813365590413,
           -0.07644386196518269,
           -0.032147837468965886,
           -0.015728113626581035,
           -0.04075123644840764,
           -0.03522654794752336,
           0.04692070882601213,
           -0.08801081541220088,
           -0.038263512869251545,
           -0.018226591907316552,
           0.06789832641361218,
           0.003092562209894399,
           0.036543339448210164,
           -0.029993397993921023,
           0.08887125137339073,
           0.041709054681333575,
           0.004939781228437705,
           -0.015210737972006668,
           0.03170563698487945,
           -0.011378121450215146
          ],
          [
           -0.14075948083501172,
           0.13264374162493364,
           -0.00261835995009543,
           0.30815892690564284,
           -0.13684056989352233,
           0.14904039195440058,
           0.18113308705016903,
           0.11444206231380821,
           -0.49525146925701125,
           -0.20929449241994497,
           1,
           0.4153596051815893,
           0.3179874383527259,
           0.004469092144542392,
           0.028166688132741206,
           0.240257268349935,
           -0.42290047738321335,
           -0.09580428815248283,
           0.2888860554869108,
           -0.04111753014455172,
           0.16664331698696289,
           0.030085868314000126,
           0.25064706137624926,
           0.0515748822895418,
           0.19070827345893257,
           0.2141751897502169,
           0.18330269774258412,
           -0.005316424333062066,
           0.12900541461542128,
           -0.002537854589751547,
           0.02076400569654798,
           -0.012579273444256824,
           -0.035092240793657914,
           -0.023836645134507763,
           0.03488844300908206,
           -0.04125819493876721,
           0.21447910554696928
          ],
          [
           -0.23851840931511895,
           0.3920745763791721,
           0.2608331345451572,
           0.5378084986123907,
           -0.1710975146249218,
           0.3914520020660952,
           0.2910655826041661,
           0.3639362217744723,
           0.5223960519923867,
           0.10480953760636813,
           0.4153596051815893,
           1,
           0.8195299750050339,
           -0.17451195013496046,
           -0.0332453873474563,
           0.45486820254790317,
           0.30735055373550346,
           -0.00031458181983374725,
           0.3237224136066502,
           -0.04880373863521248,
           0.05044995551267818,
           -0.06890064264201659,
           0.28557256372579454,
           0.33951932389865597,
           0.3224451736794739,
           0.43458483429168865,
           0.4866654637737961,
           0.23201860912901803,
           0.2472637462881078,
           -0.09547773670640776,
           0.03738372726300508,
           0.08448898591431157,
           0.12605313210083768,
           -0.018478922431472124,
           0.013196178616778433,
           -0.014968648018762356,
           0.6135805515591943
          ],
          [
           -0.25175835187837925,
           0.45718100199465517,
           0.29947457850776266,
           0.4762238290781779,
           -0.1442027840490591,
           0.2819858586998021,
           0.24037926760355463,
           0.3445007468899248,
           0.4458626560920054,
           0.0971174484566702,
           0.3179874383527259,
           0.8195299750050339,
           1,
           -0.20264618100232087,
           -0.014240672666431285,
           0.5660239689357486,
           0.24467110424771052,
           0.001955653582048656,
           0.3806374949735071,
           -0.11991590879396136,
           0.12740074939236454,
           0.06810058817691335,
           0.40951597886683183,
           0.41053108465984556,
           0.23344909271486267,
           0.4393168079906709,
           0.4897816541041918,
           0.23545862278369778,
           0.2116712254979847,
           -0.0652917009103091,
           0.05610437448487508,
           0.08875807262015682,
           0.13152497564028254,
           -0.021095719463122223,
           0.03137156035207926,
           -0.01360377050464661,
           0.6058521846919153
          ],
          [
           0.30788572075985926,
           0.08017727062420475,
           0.05098594829349377,
           0.29549287919970985,
           0.028942115965816882,
           0.010307659584364078,
           0.14002377880486447,
           0.1745614734574279,
           -0.13707898608005356,
           -0.09926031602264425,
           0.004469092144542392,
           -0.17451195013496046,
           -0.20264618100232087,
           1,
           0.06335295010932271,
           0.6875010641666033,
           -0.16949395173099896,
           -0.023854783937045255,
           0.4213779828759713,
           0.6097073002717436,
           0.5029006133459056,
           0.05930575264821624,
           0.6164226354915431,
           0.19456089224132392,
           0.0708323397173792,
           0.18392558307638002,
           0.13834695857186657,
           0.09216541758603868,
           0.2080260631813579,
           0.06198869077325203,
           -0.02435764842204794,
           0.040606447641001006,
           0.08148687804909954,
           0.016196874604388505,
           0.035164427361791005,
           -0.02869991393529755,
           0.31933380283206736
          ],
          [
           0.046473755899517154,
           0.038468534328959476,
           0.004778969866349555,
           -0.030429283979605037,
           0.025494319914213383,
           -0.18378434437372046,
           -0.06241910007833181,
           -0.06907085606589286,
           -0.06450259692146844,
           0.01480699794683367,
           0.028166688132741206,
           -0.0332453873474563,
           -0.014240672666431285,
           0.06335295010932271,
           1,
           0.13468281300660076,
           -0.047143421898259166,
           -0.005841504819311643,
           -0.0007095096206731084,
           -0.02708004931716945,
           0.10560656854090526,
           0.007521744344233734,
           0.13118477598954745,
           -0.02127214341393874,
           -0.03636323404234127,
           -0.09447952015593257,
           -0.06760141323952208,
           -0.025443647988791077,
           0.018251039053999052,
           0.06108123777122687,
           -0.004295610410300094,
           0.02679941302177244,
           0.06215737226918922,
           -0.003792870779996453,
           -0.02217396057953783,
           -0.028920879782296086,
           -0.02560613000067955
          ],
          [
           0.0748531796577994,
           0.40279741408531955,
           0.26311616716714803,
           0.5930074300286512,
           -0.07968586538833815,
           0.19900971367645826,
           0.2873885196503327,
           0.39085663973843854,
           0.20817113014532704,
           -0.009639891551805443,
           0.240257268349935,
           0.45486820254790317,
           0.5660239689357486,
           0.6875010641666033,
           0.13468281300660076,
           1,
           0.03483604954490554,
           -0.0189184831706347,
           0.6300116462511148,
           0.4157716361052652,
           0.5212695109189948,
           0.10006316473775474,
           0.8254893743088425,
           0.46167913376144704,
           0.23119674063336224,
           0.4672474187951873,
           0.4689974773229655,
           0.24743282051884846,
           0.33022396171200064,
           0.009113210326003087,
           0.020643189710186576,
           0.10151039568208567,
           0.1702053360005616,
           -0.0024156395502935623,
           0.05023968081827284,
           -0.03652581962473121,
           0.7086244776126515
          ],
          [
           0.003491025779044692,
           0.10094856694926875,
           0.15815453106001476,
           0.11109778614230235,
           -0.05494151543295185,
           0.1875985499971434,
           0.11946987911123993,
           0.08530982868972814,
           0.6492117535742649,
           0.15867806078170135,
           -0.42290047738321335,
           0.30735055373550346,
           0.24467110424771052,
           -0.16949395173099896,
           -0.047143421898259166,
           0.03483604954490554,
           1,
           -0.14787096054760138,
           -0.06451204863131507,
           -0.030904959142533293,
           -0.15067280920795623,
           -0.041502546431482885,
           -0.0532752361233972,
           0.1379277084271981,
           0.12455252442364974,
           0.13188122440619438,
           0.179189480420231,
           0.17531519007972224,
           0.06734146137698176,
           -0.049910649083753186,
           -0.00010609153998400853,
           0.023147725763573802,
           0.06761555618047507,
           -0.02304702486861695,
           -0.025360894315259907,
           0.06704913767140361,
           0.22712223313149427
          ],
          [
           -0.0023325345518022773,
           -0.007234304524918128,
           0.04804557088829686,
           -0.04015015766998829,
           0.11782091508139253,
           -0.03816180567123349,
           -0.012337032127797673,
           0.026672828155103145,
           0.06741847791011696,
           0.07094813365590413,
           -0.09580428815248283,
           -0.00031458181983374725,
           0.001955653582048656,
           -0.023854783937045255,
           -0.005841504819311643,
           -0.0189184831706347,
           -0.14787096054760138,
           1,
           -0.054535811983635524,
           -0.012339900052275487,
           0.046518848389950684,
           -0.03794435022720086,
           -0.023836341262220544,
           0.028975586646259963,
           -0.07746361238070294,
           -0.02089105899687853,
           -0.02453557957887923,
           0.04016122325953452,
           -0.02532375788905772,
           -0.008555333868578032,
           0.035113630886772336,
           0.03212140720908338,
           0.02002462983851695,
           -0.007366524543625446,
           0.03287270523409066,
           -0.04652388177400862,
           -0.01684415429735895
          ],
          [
           0.13160822241028108,
           0.19876867789737823,
           0.1260306265196436,
           0.5505997093682543,
           -0.1941494887493024,
           0.4682707871726737,
           0.4390464838723479,
           0.27683284723698837,
           0.058543136861595194,
           -0.07644386196518269,
           0.2888860554869108,
           0.3237224136066502,
           0.3806374949735071,
           0.4213779828759713,
           -0.0007095096206731084,
           0.6300116462511148,
           -0.06451204863131507,
           -0.054535811983635524,
           1,
           0.13638058874914522,
           0.36325198302327694,
           0.1331152141960393,
           0.5547842535334836,
           0.2436705030799116,
           0.4845573867195222,
           0.469672043267628,
           0.4056562084540099,
           0.18770321383582822,
           0.25997742546824865,
           -0.11509296346134239,
           0.03535301658385297,
           -0.00810609332811188,
           0.04960382558403366,
           -0.014289844970848111,
           0.055872128991723384,
           -0.019668840691520386,
           0.5606637627484453
          ],
          [
           0.17735438864391687,
           0.05353185497960593,
           0.014259468566431947,
           0.2734580986427702,
           -0.06076932676159483,
           0.2426559102410641,
           0.1833306117185349,
           0.20144394692967832,
           0.004262424384486936,
           -0.032147837468965886,
           -0.04111753014455172,
           -0.04880373863521248,
           -0.11991590879396136,
           0.6097073002717436,
           -0.02708004931716945,
           0.4157716361052652,
           -0.030904959142533293,
           -0.012339900052275487,
           0.13638058874914522,
           1,
           0.22665148415094508,
           -0.06826254889694101,
           0.3434148575409178,
           0.20364850809521917,
           0.19678517580586272,
           0.21917815216716094,
           0.1635493640166073,
           0.10808030267536337,
           0.19974014751279254,
           -0.09531652573608992,
           -0.0049724884173161,
           0.0724258451703809,
           0.0223814980554099,
           0.0012901448492839542,
           -0.009049888212650292,
           -0.010268668868105917,
           0.28410767559478256
          ],
          [
           -0.02343802846062706,
           0.263169915881059,
           0.11968990815131542,
           0.1016763562417855,
           0.012980060094550628,
           -0.07065121690473103,
           -0.040580928067749454,
           0.10282115127801787,
           -0.10735467682307034,
           -0.015728113626581035,
           0.16664331698696289,
           0.05044995551267818,
           0.12740074939236454,
           0.5029006133459056,
           0.10560656854090526,
           0.5212695109189948,
           -0.15067280920795623,
           0.046518848389950684,
           0.36325198302327694,
           0.22665148415094508,
           1,
           0.1985967577071338,
           0.676619935742649,
           0.10756968099132388,
           -0.06451843698438452,
           0.08610643768835287,
           0.06525252989881626,
           0.04685377306989394,
           0.09380957160591452,
           0.04157043451959824,
           -0.02447779636611455,
           0.044299691127134826,
           0.07070258356547471,
           0.007766971998717607,
           0.04654385993628238,
           -0.03601389283370446,
           0.16821315430073963
          ],
          [
           0.2817210402648814,
           -0.0060688301613090875,
           -0.017783870504841995,
           -0.18388223454922156,
           -0.08700085543638039,
           -0.17480024561497706,
           -0.14959752104274646,
           -0.03761025181986861,
           -0.08100685077857439,
           -0.04075123644840764,
           0.030085868314000126,
           -0.06890064264201659,
           0.06810058817691335,
           0.05930575264821624,
           0.007521744344233734,
           0.10006316473775474,
           -0.041502546431482885,
           -0.03794435022720086,
           0.1331152141960393,
           -0.06826254889694101,
           0.1985967577071338,
           1,
           0.2560454085359489,
           -0.12393623529689729,
           -0.12441140157001684,
           -0.05063389240221729,
           -0.06443304718314395,
           -0.09013027267903444,
           -0.07009060989258609,
           0.03731238503296963,
           -0.024600358690531954,
           -0.05161336606147979,
           -0.014525116015980777,
           0.062340724004379115,
           0.026588907230915452,
           0.031687206500669154,
           -0.13590737084214105
          ],
          [
           0.04038006478367613,
           0.3520959476602243,
           0.190014777625409,
           0.42745234327798975,
           -0.057583166112865375,
           0.09558912829795185,
           0.1917398162928069,
           0.2806816946085068,
           0.044315623912920654,
           -0.03522654794752336,
           0.25064706137624926,
           0.28557256372579454,
           0.40951597886683183,
           0.6164226354915431,
           0.13118477598954745,
           0.8254893743088425,
           -0.0532752361233972,
           -0.023836341262220544,
           0.5547842535334836,
           0.3434148575409178,
           0.676619935742649,
           0.2560454085359489,
           1,
           0.3261144801772001,
           0.1481117155859651,
           0.3622885708147746,
           0.33782212063683786,
           0.16598388371493233,
           0.2341915878315988,
           0.004151299023856323,
           -0.006683241010939702,
           0.059382599559410935,
           0.0837573495149245,
           0.024762884163584138,
           0.036907077159844405,
           -0.03451635430218269,
           0.5337231555820284
          ],
          [
           -0.04556934027456939,
           0.26663948256030306,
           0.2713640096245418,
           0.39676503795208906,
           -0.02381997776166212,
           0.14771639941245646,
           0.11258131843947561,
           0.24906961283714313,
           0.2600109202350403,
           0.04692070882601213,
           0.0515748822895418,
           0.33951932389865597,
           0.41053108465984556,
           0.19456089224132392,
           -0.02127214341393874,
           0.46167913376144704,
           0.1379277084271981,
           0.028975586646259963,
           0.2436705030799116,
           0.20364850809521917,
           0.10756968099132388,
           -0.12393623529689729,
           0.3261144801772001,
           1,
           0.04682164840190421,
           0.3007887663013562,
           0.2691412380738719,
           0.20001879575902368,
           0.16940532713120185,
           -0.02482186853706847,
           0.011257238992774959,
           0.18453026951684842,
           0.09507352203619863,
           0.0014086054430451757,
           0.04635710249771968,
           -0.024095564980725313,
           0.46692883675152763
          ],
          [
           0.08507186950664718,
           0.0702497819166165,
           -0.02494741866564254,
           0.5477658448351629,
           -0.32429673252939795,
           0.8256674841743408,
           0.6422767797035356,
           0.2526907749903342,
           0.1534840980267781,
           -0.08801081541220088,
           0.19070827345893257,
           0.3224451736794739,
           0.23344909271486267,
           0.0708323397173792,
           -0.03636323404234127,
           0.23119674063336224,
           0.12455252442364974,
           -0.07746361238070294,
           0.4845573867195222,
           0.19678517580586272,
           -0.06451843698438452,
           -0.12441140157001684,
           0.1481117155859651,
           0.04682164840190421,
           1,
           0.5889200070047002,
           0.5645670607230577,
           0.22457699198793213,
           0.22842457877198022,
           -0.2970026030557314,
           0.023543689573665077,
           -0.07541751376190593,
           -0.01450067856370222,
           -0.032417457821261826,
           0.0053370257603695135,
           -0.0010142778712734348,
           0.4863616774878596
          ],
          [
           -0.040109793135783604,
           0.2856909246851005,
           0.15487073975354076,
           0.6006707165907149,
           -0.18575751057836357,
           0.5378500917111052,
           0.42062215494321714,
           0.3642036400698656,
           0.22405352239399068,
           -0.038263512869251545,
           0.2141751897502169,
           0.43458483429168865,
           0.4393168079906709,
           0.18392558307638002,
           -0.09447952015593257,
           0.4672474187951873,
           0.13188122440619438,
           -0.02089105899687853,
           0.469672043267628,
           0.21917815216716094,
           0.08610643768835287,
           -0.05063389240221729,
           0.3622885708147746,
           0.3007887663013562,
           0.5889200070047002,
           1,
           0.882475414281462,
           0.2263421384698597,
           0.21356944558969115,
           -0.15143416002683724,
           0.035765285146453774,
           0.05049379192719834,
           0.020933531041465454,
           -0.04308012810223063,
           0.040521730128251755,
           -0.039116904112831495,
           0.6404091972583519
          ],
          [
           -0.09867154319256435,
           0.3449967241064819,
           0.1804027551511169,
           0.5620217566126083,
           -0.15152137057022985,
           0.4789538198934904,
           0.3715998094973092,
           0.37306648160023664,
           0.2969703853445138,
           -0.018226591907316552,
           0.18330269774258412,
           0.4866654637737961,
           0.4897816541041918,
           0.13834695857186657,
           -0.06760141323952208,
           0.4689974773229655,
           0.179189480420231,
           -0.02453557957887923,
           0.4056562084540099,
           0.1635493640166073,
           0.06525252989881626,
           -0.06443304718314395,
           0.33782212063683786,
           0.2691412380738719,
           0.5645670607230577,
           0.882475414281462,
           1,
           0.2246663071787637,
           0.2414346721380881,
           -0.1217767195610043,
           0.03508670020815975,
           0.05141176244520852,
           0.061047271702060014,
           -0.02739991441262488,
           0.02797379982354057,
           -0.027377940418545084,
           0.6234314389183622
          ],
          [
           -0.012579358249219592,
           0.0885209332894081,
           0.17169768725711246,
           0.23892339224918593,
           -0.0033336992893856225,
           0.22488014230399744,
           0.20572592049010355,
           0.15971813436595433,
           0.20430614523740265,
           0.06789832641361218,
           -0.005316424333062066,
           0.23201860912901803,
           0.23545862278369778,
           0.09216541758603868,
           -0.025443647988791077,
           0.24743282051884846,
           0.17531519007972224,
           0.04016122325953452,
           0.18770321383582822,
           0.10808030267536337,
           0.04685377306989394,
           -0.09013027267903444,
           0.16598388371493233,
           0.20001879575902368,
           0.22457699198793213,
           0.2263421384698597,
           0.2246663071787637,
           1,
           0.058660608565887375,
           -0.1259888880376007,
           -0.03277063359357436,
           -0.07418135123983237,
           0.07337820695645396,
           -0.009551228238372468,
           0.021011044294297315,
           0.022270451009253036,
           0.32441344456812926
          ],
          [
           -0.006100121231942238,
           0.15197222768060642,
           0.08477380884021642,
           0.3088188233594523,
           -0.03258881352158505,
           0.188685840001731,
           0.22629763268298944,
           0.1257027966825031,
           0.11176061335675101,
           0.003092562209894399,
           0.12900541461542128,
           0.2472637462881078,
           0.2116712254979847,
           0.2080260631813579,
           0.018251039053999052,
           0.33022396171200064,
           0.06734146137698176,
           -0.02532375788905772,
           0.25997742546824865,
           0.19974014751279254,
           0.09380957160591452,
           -0.07009060989258609,
           0.2341915878315988,
           0.16940532713120185,
           0.22842457877198022,
           0.21356944558969115,
           0.2414346721380881,
           0.058660608565887375,
           1,
           -0.09307931750864903,
           -0.005842499340135753,
           0.07430394385024312,
           0.060762111489925795,
           -0.018583738987649336,
           0.07125488475868938,
           -0.057619360142091326,
           0.31585622711605504
          ],
          [
           -0.012036621902094771,
           0.01070033663888244,
           -0.018339733672212328,
           -0.11393685859568162,
           0.07035618448230374,
           -0.3872677829280785,
           -0.1939191470992078,
           -0.11020383387243517,
           -0.10230330550073197,
           0.036543339448210164,
           -0.002537854589751547,
           -0.09547773670640776,
           -0.0652917009103091,
           0.06198869077325203,
           0.06108123777122687,
           0.009113210326003087,
           -0.049910649083753186,
           -0.008555333868578032,
           -0.11509296346134239,
           -0.09531652573608992,
           0.04157043451959824,
           0.03731238503296963,
           0.004151299023856323,
           -0.02482186853706847,
           -0.2970026030557314,
           -0.15143416002683724,
           -0.1217767195610043,
           -0.1259888880376007,
           -0.09307931750864903,
           1,
           -0.03730528278804611,
           -0.08286424483260343,
           0.05420256229213969,
           0.018360600139447715,
           -0.028887265707142493,
           -0.009915936955524396,
           -0.1285779579259566
          ],
          [
           -0.04382454917560846,
           0.07002922773085365,
           0.020422829586133416,
           0.03037056713526452,
           0.025503660024132138,
           0.03135451306436603,
           0.045285809814976964,
           0.018795515294914033,
           0.026450506189898953,
           -0.029993397993921023,
           0.02076400569654798,
           0.03738372726300508,
           0.05610437448487508,
           -0.02435764842204794,
           -0.004295610410300094,
           0.020643189710186576,
           -0.00010609153998400853,
           0.035113630886772336,
           0.03535301658385297,
           -0.0049724884173161,
           -0.02447779636611455,
           -0.024600358690531954,
           -0.006683241010939702,
           0.011257238992774959,
           0.023543689573665077,
           0.035765285146453774,
           0.03508670020815975,
           -0.03277063359357436,
           -0.005842499340135753,
           -0.03730528278804611,
           1,
           -0.03143584703909575,
           -0.00799154887286895,
           0.00035396527793940183,
           0.02947379524994019,
           0.01864492540475066,
           0.04458366533574838
          ],
          [
           -0.026030176699806666,
           0.04138279067500582,
           0.04316037769525204,
           0.06488636049351544,
           0.05481052878611526,
           -0.05036443453861205,
           -0.038740010742610125,
           0.06146554318732188,
           0.06202062266534991,
           0.08887125137339073,
           -0.012579273444256824,
           0.08448898591431157,
           0.08875807262015682,
           0.040606447641001006,
           0.02679941302177244,
           0.10151039568208567,
           0.023147725763573802,
           0.03212140720908338,
           -0.00810609332811188,
           0.0724258451703809,
           0.044299691127134826,
           -0.05161336606147979,
           0.059382599559410935,
           0.18453026951684842,
           -0.07541751376190593,
           0.05049379192719834,
           0.05141176244520852,
           -0.07418135123983237,
           0.07430394385024312,
           -0.08286424483260343,
           -0.03143584703909575,
           1,
           0.05130739451790554,
           0.03194576077490817,
           0.023216991793307076,
           0.01069410600377114,
           0.11144657114291112
          ],
          [
           0.008282707579624416,
           0.2061667752760768,
           0.07767239188017444,
           0.06516584360589199,
           -0.0019849422681841354,
           0.004949727615942999,
           0.005829372037106204,
           0.01172306121326672,
           0.1404912862549568,
           0.041709054681333575,
           -0.035092240793657914,
           0.12605313210083768,
           0.13152497564028254,
           0.08148687804909954,
           0.06215737226918922,
           0.1702053360005616,
           0.06761555618047507,
           0.02002462983851695,
           0.04960382558403366,
           0.0223814980554099,
           0.07070258356547471,
           -0.014525116015980777,
           0.0837573495149245,
           0.09507352203619863,
           -0.01450067856370222,
           0.020933531041465454,
           0.061047271702060014,
           0.07337820695645396,
           0.060762111489925795,
           0.05420256229213969,
           -0.00799154887286895,
           0.05130739451790554,
           1,
           0.02966865085402175,
           -0.033736640262791315,
           -0.0596889316752469,
           0.09240354949187318
          ],
          [
           -0.007683291329865976,
           0.003367556596191435,
           0.03806769201918336,
           -0.031406210500746504,
           0.0687768060572499,
           -0.03438313873672287,
           -0.010286248783081431,
           -0.02981539358527878,
           0.003571473474954695,
           0.004939781228437705,
           -0.023836645134507763,
           -0.018478922431472124,
           -0.021095719463122223,
           0.016196874604388505,
           -0.003792870779996453,
           -0.0024156395502935623,
           -0.02304702486861695,
           -0.007366524543625446,
           -0.014289844970848111,
           0.0012901448492839542,
           0.007766971998717607,
           0.062340724004379115,
           0.024762884163584138,
           0.0014086054430451757,
           -0.032417457821261826,
           -0.04308012810223063,
           -0.02739991441262488,
           -0.009551228238372468,
           -0.018583738987649336,
           0.018360600139447715,
           0.00035396527793940183,
           0.03194576077490817,
           0.02966865085402175,
           1,
           -0.006494550221282175,
           0.004906262452651876,
           -0.021189579640303213
          ],
          [
           -0.013584643238322348,
           0.011199954759134238,
           0.0012049882225877268,
           0.07081517178517327,
           -0.003510838599939743,
           0.012398470595440986,
           0.02149000222687611,
           -0.005964715509114298,
           -0.015726948262154667,
           -0.015210737972006668,
           0.03488844300908206,
           0.013196178616778433,
           0.03137156035207926,
           0.035164427361791005,
           -0.02217396057953783,
           0.05023968081827284,
           -0.025360894315259907,
           0.03287270523409066,
           0.055872128991723384,
           -0.009049888212650292,
           0.04654385993628238,
           0.026588907230915452,
           0.036907077159844405,
           0.04635710249771968,
           0.0053370257603695135,
           0.040521730128251755,
           0.02797379982354057,
           0.021011044294297315,
           0.07125488475868938,
           -0.028887265707142493,
           0.02947379524994019,
           0.023216991793307076,
           -0.033736640262791315,
           -0.006494550221282175,
           1,
           -0.1457214126753949,
           0.046432245223819446
          ],
          [
           -0.02140703785109821,
           0.007449589209750463,
           -0.01426140729855021,
           -0.027346708327825386,
           0.043949745692488544,
           -0.01361768000183213,
           0.03574324712127364,
           -0.008201030967080006,
           0.014358922393909302,
           0.03170563698487945,
           -0.04125819493876721,
           -0.014968648018762356,
           -0.01360377050464661,
           -0.02869991393529755,
           -0.028920879782296086,
           -0.03652581962473121,
           0.06704913767140361,
           -0.04652388177400862,
           -0.019668840691520386,
           -0.010268668868105917,
           -0.03601389283370446,
           0.031687206500669154,
           -0.03451635430218269,
           -0.024095564980725313,
           -0.0010142778712734348,
           -0.039116904112831495,
           -0.027377940418545084,
           0.022270451009253036,
           -0.057619360142091326,
           -0.009915936955524396,
           0.01864492540475066,
           0.01069410600377114,
           -0.0596889316752469,
           0.004906262452651876,
           -0.1457214126753949,
           1,
           -0.028922585168736813
          ],
          [
           -0.08428413512659509,
           0.35179909657067737,
           0.2638433538714051,
           0.7909816005838053,
           -0.07785589404867797,
           0.5228973328794967,
           0.5071009671113866,
           0.47749304709571444,
           0.3864198062421535,
           -0.011378121450215146,
           0.21447910554696928,
           0.6135805515591943,
           0.6058521846919153,
           0.31933380283206736,
           -0.02560613000067955,
           0.7086244776126515,
           0.22712223313149427,
           -0.01684415429735895,
           0.5606637627484453,
           0.28410767559478256,
           0.16821315430073963,
           -0.13590737084214105,
           0.5337231555820284,
           0.46692883675152763,
           0.4863616774878596,
           0.6404091972583519,
           0.6234314389183622,
           0.32441344456812926,
           0.31585622711605504,
           -0.1285779579259566,
           0.04458366533574838,
           0.11144657114291112,
           0.09240354949187318,
           -0.021189579640303213,
           0.046432245223819446,
           -0.028922585168736813,
           1
          ]
         ]
        }
       ],
       "layout": {
        "coloraxis": {
         "colorscale": [
          [
           0,
           "#0d0887"
          ],
          [
           0.1111111111111111,
           "#46039f"
          ],
          [
           0.2222222222222222,
           "#7201a8"
          ],
          [
           0.3333333333333333,
           "#9c179e"
          ],
          [
           0.4444444444444444,
           "#bd3786"
          ],
          [
           0.5555555555555556,
           "#d8576b"
          ],
          [
           0.6666666666666666,
           "#ed7953"
          ],
          [
           0.7777777777777778,
           "#fb9f3a"
          ],
          [
           0.8888888888888888,
           "#fdca26"
          ],
          [
           1,
           "#f0f921"
          ]
         ]
        },
        "height": 800,
        "template": {
         "data": {
          "bar": [
           {
            "error_x": {
             "color": "#2a3f5f"
            },
            "error_y": {
             "color": "#2a3f5f"
            },
            "marker": {
             "line": {
              "color": "#E5ECF6",
              "width": 0.5
             },
             "pattern": {
              "fillmode": "overlay",
              "size": 10,
              "solidity": 0.2
             }
            },
            "type": "bar"
           }
          ],
          "barpolar": [
           {
            "marker": {
             "line": {
              "color": "#E5ECF6",
              "width": 0.5
             },
             "pattern": {
              "fillmode": "overlay",
              "size": 10,
              "solidity": 0.2
             }
            },
            "type": "barpolar"
           }
          ],
          "carpet": [
           {
            "aaxis": {
             "endlinecolor": "#2a3f5f",
             "gridcolor": "white",
             "linecolor": "white",
             "minorgridcolor": "white",
             "startlinecolor": "#2a3f5f"
            },
            "baxis": {
             "endlinecolor": "#2a3f5f",
             "gridcolor": "white",
             "linecolor": "white",
             "minorgridcolor": "white",
             "startlinecolor": "#2a3f5f"
            },
            "type": "carpet"
           }
          ],
          "choropleth": [
           {
            "colorbar": {
             "outlinewidth": 0,
             "ticks": ""
            },
            "type": "choropleth"
           }
          ],
          "contour": [
           {
            "colorbar": {
             "outlinewidth": 0,
             "ticks": ""
            },
            "colorscale": [
             [
              0,
              "#0d0887"
             ],
             [
              0.1111111111111111,
              "#46039f"
             ],
             [
              0.2222222222222222,
              "#7201a8"
             ],
             [
              0.3333333333333333,
              "#9c179e"
             ],
             [
              0.4444444444444444,
              "#bd3786"
             ],
             [
              0.5555555555555556,
              "#d8576b"
             ],
             [
              0.6666666666666666,
              "#ed7953"
             ],
             [
              0.7777777777777778,
              "#fb9f3a"
             ],
             [
              0.8888888888888888,
              "#fdca26"
             ],
             [
              1,
              "#f0f921"
             ]
            ],
            "type": "contour"
           }
          ],
          "contourcarpet": [
           {
            "colorbar": {
             "outlinewidth": 0,
             "ticks": ""
            },
            "type": "contourcarpet"
           }
          ],
          "heatmap": [
           {
            "colorbar": {
             "outlinewidth": 0,
             "ticks": ""
            },
            "colorscale": [
             [
              0,
              "#0d0887"
             ],
             [
              0.1111111111111111,
              "#46039f"
             ],
             [
              0.2222222222222222,
              "#7201a8"
             ],
             [
              0.3333333333333333,
              "#9c179e"
             ],
             [
              0.4444444444444444,
              "#bd3786"
             ],
             [
              0.5555555555555556,
              "#d8576b"
             ],
             [
              0.6666666666666666,
              "#ed7953"
             ],
             [
              0.7777777777777778,
              "#fb9f3a"
             ],
             [
              0.8888888888888888,
              "#fdca26"
             ],
             [
              1,
              "#f0f921"
             ]
            ],
            "type": "heatmap"
           }
          ],
          "heatmapgl": [
           {
            "colorbar": {
             "outlinewidth": 0,
             "ticks": ""
            },
            "colorscale": [
             [
              0,
              "#0d0887"
             ],
             [
              0.1111111111111111,
              "#46039f"
             ],
             [
              0.2222222222222222,
              "#7201a8"
             ],
             [
              0.3333333333333333,
              "#9c179e"
             ],
             [
              0.4444444444444444,
              "#bd3786"
             ],
             [
              0.5555555555555556,
              "#d8576b"
             ],
             [
              0.6666666666666666,
              "#ed7953"
             ],
             [
              0.7777777777777778,
              "#fb9f3a"
             ],
             [
              0.8888888888888888,
              "#fdca26"
             ],
             [
              1,
              "#f0f921"
             ]
            ],
            "type": "heatmapgl"
           }
          ],
          "histogram": [
           {
            "marker": {
             "pattern": {
              "fillmode": "overlay",
              "size": 10,
              "solidity": 0.2
             }
            },
            "type": "histogram"
           }
          ],
          "histogram2d": [
           {
            "colorbar": {
             "outlinewidth": 0,
             "ticks": ""
            },
            "colorscale": [
             [
              0,
              "#0d0887"
             ],
             [
              0.1111111111111111,
              "#46039f"
             ],
             [
              0.2222222222222222,
              "#7201a8"
             ],
             [
              0.3333333333333333,
              "#9c179e"
             ],
             [
              0.4444444444444444,
              "#bd3786"
             ],
             [
              0.5555555555555556,
              "#d8576b"
             ],
             [
              0.6666666666666666,
              "#ed7953"
             ],
             [
              0.7777777777777778,
              "#fb9f3a"
             ],
             [
              0.8888888888888888,
              "#fdca26"
             ],
             [
              1,
              "#f0f921"
             ]
            ],
            "type": "histogram2d"
           }
          ],
          "histogram2dcontour": [
           {
            "colorbar": {
             "outlinewidth": 0,
             "ticks": ""
            },
            "colorscale": [
             [
              0,
              "#0d0887"
             ],
             [
              0.1111111111111111,
              "#46039f"
             ],
             [
              0.2222222222222222,
              "#7201a8"
             ],
             [
              0.3333333333333333,
              "#9c179e"
             ],
             [
              0.4444444444444444,
              "#bd3786"
             ],
             [
              0.5555555555555556,
              "#d8576b"
             ],
             [
              0.6666666666666666,
              "#ed7953"
             ],
             [
              0.7777777777777778,
              "#fb9f3a"
             ],
             [
              0.8888888888888888,
              "#fdca26"
             ],
             [
              1,
              "#f0f921"
             ]
            ],
            "type": "histogram2dcontour"
           }
          ],
          "mesh3d": [
           {
            "colorbar": {
             "outlinewidth": 0,
             "ticks": ""
            },
            "type": "mesh3d"
           }
          ],
          "parcoords": [
           {
            "line": {
             "colorbar": {
              "outlinewidth": 0,
              "ticks": ""
             }
            },
            "type": "parcoords"
           }
          ],
          "pie": [
           {
            "automargin": true,
            "type": "pie"
           }
          ],
          "scatter": [
           {
            "fillpattern": {
             "fillmode": "overlay",
             "size": 10,
             "solidity": 0.2
            },
            "type": "scatter"
           }
          ],
          "scatter3d": [
           {
            "line": {
             "colorbar": {
              "outlinewidth": 0,
              "ticks": ""
             }
            },
            "marker": {
             "colorbar": {
              "outlinewidth": 0,
              "ticks": ""
             }
            },
            "type": "scatter3d"
           }
          ],
          "scattercarpet": [
           {
            "marker": {
             "colorbar": {
              "outlinewidth": 0,
              "ticks": ""
             }
            },
            "type": "scattercarpet"
           }
          ],
          "scattergeo": [
           {
            "marker": {
             "colorbar": {
              "outlinewidth": 0,
              "ticks": ""
             }
            },
            "type": "scattergeo"
           }
          ],
          "scattergl": [
           {
            "marker": {
             "colorbar": {
              "outlinewidth": 0,
              "ticks": ""
             }
            },
            "type": "scattergl"
           }
          ],
          "scattermapbox": [
           {
            "marker": {
             "colorbar": {
              "outlinewidth": 0,
              "ticks": ""
             }
            },
            "type": "scattermapbox"
           }
          ],
          "scatterpolar": [
           {
            "marker": {
             "colorbar": {
              "outlinewidth": 0,
              "ticks": ""
             }
            },
            "type": "scatterpolar"
           }
          ],
          "scatterpolargl": [
           {
            "marker": {
             "colorbar": {
              "outlinewidth": 0,
              "ticks": ""
             }
            },
            "type": "scatterpolargl"
           }
          ],
          "scatterternary": [
           {
            "marker": {
             "colorbar": {
              "outlinewidth": 0,
              "ticks": ""
             }
            },
            "type": "scatterternary"
           }
          ],
          "surface": [
           {
            "colorbar": {
             "outlinewidth": 0,
             "ticks": ""
            },
            "colorscale": [
             [
              0,
              "#0d0887"
             ],
             [
              0.1111111111111111,
              "#46039f"
             ],
             [
              0.2222222222222222,
              "#7201a8"
             ],
             [
              0.3333333333333333,
              "#9c179e"
             ],
             [
              0.4444444444444444,
              "#bd3786"
             ],
             [
              0.5555555555555556,
              "#d8576b"
             ],
             [
              0.6666666666666666,
              "#ed7953"
             ],
             [
              0.7777777777777778,
              "#fb9f3a"
             ],
             [
              0.8888888888888888,
              "#fdca26"
             ],
             [
              1,
              "#f0f921"
             ]
            ],
            "type": "surface"
           }
          ],
          "table": [
           {
            "cells": {
             "fill": {
              "color": "#EBF0F8"
             },
             "line": {
              "color": "white"
             }
            },
            "header": {
             "fill": {
              "color": "#C8D4E3"
             },
             "line": {
              "color": "white"
             }
            },
            "type": "table"
           }
          ]
         },
         "layout": {
          "annotationdefaults": {
           "arrowcolor": "#2a3f5f",
           "arrowhead": 0,
           "arrowwidth": 1
          },
          "autotypenumbers": "strict",
          "coloraxis": {
           "colorbar": {
            "outlinewidth": 0,
            "ticks": ""
           }
          },
          "colorscale": {
           "diverging": [
            [
             0,
             "#8e0152"
            ],
            [
             0.1,
             "#c51b7d"
            ],
            [
             0.2,
             "#de77ae"
            ],
            [
             0.3,
             "#f1b6da"
            ],
            [
             0.4,
             "#fde0ef"
            ],
            [
             0.5,
             "#f7f7f7"
            ],
            [
             0.6,
             "#e6f5d0"
            ],
            [
             0.7,
             "#b8e186"
            ],
            [
             0.8,
             "#7fbc41"
            ],
            [
             0.9,
             "#4d9221"
            ],
            [
             1,
             "#276419"
            ]
           ],
           "sequential": [
            [
             0,
             "#0d0887"
            ],
            [
             0.1111111111111111,
             "#46039f"
            ],
            [
             0.2222222222222222,
             "#7201a8"
            ],
            [
             0.3333333333333333,
             "#9c179e"
            ],
            [
             0.4444444444444444,
             "#bd3786"
            ],
            [
             0.5555555555555556,
             "#d8576b"
            ],
            [
             0.6666666666666666,
             "#ed7953"
            ],
            [
             0.7777777777777778,
             "#fb9f3a"
            ],
            [
             0.8888888888888888,
             "#fdca26"
            ],
            [
             1,
             "#f0f921"
            ]
           ],
           "sequentialminus": [
            [
             0,
             "#0d0887"
            ],
            [
             0.1111111111111111,
             "#46039f"
            ],
            [
             0.2222222222222222,
             "#7201a8"
            ],
            [
             0.3333333333333333,
             "#9c179e"
            ],
            [
             0.4444444444444444,
             "#bd3786"
            ],
            [
             0.5555555555555556,
             "#d8576b"
            ],
            [
             0.6666666666666666,
             "#ed7953"
            ],
            [
             0.7777777777777778,
             "#fb9f3a"
            ],
            [
             0.8888888888888888,
             "#fdca26"
            ],
            [
             1,
             "#f0f921"
            ]
           ]
          },
          "colorway": [
           "#636efa",
           "#EF553B",
           "#00cc96",
           "#ab63fa",
           "#FFA15A",
           "#19d3f3",
           "#FF6692",
           "#B6E880",
           "#FF97FF",
           "#FECB52"
          ],
          "font": {
           "color": "#2a3f5f"
          },
          "geo": {
           "bgcolor": "white",
           "lakecolor": "white",
           "landcolor": "#E5ECF6",
           "showlakes": true,
           "showland": true,
           "subunitcolor": "white"
          },
          "hoverlabel": {
           "align": "left"
          },
          "hovermode": "closest",
          "mapbox": {
           "style": "light"
          },
          "paper_bgcolor": "white",
          "plot_bgcolor": "#E5ECF6",
          "polar": {
           "angularaxis": {
            "gridcolor": "white",
            "linecolor": "white",
            "ticks": ""
           },
           "bgcolor": "#E5ECF6",
           "radialaxis": {
            "gridcolor": "white",
            "linecolor": "white",
            "ticks": ""
           }
          },
          "scene": {
           "xaxis": {
            "backgroundcolor": "#E5ECF6",
            "gridcolor": "white",
            "gridwidth": 2,
            "linecolor": "white",
            "showbackground": true,
            "ticks": "",
            "zerolinecolor": "white"
           },
           "yaxis": {
            "backgroundcolor": "#E5ECF6",
            "gridcolor": "white",
            "gridwidth": 2,
            "linecolor": "white",
            "showbackground": true,
            "ticks": "",
            "zerolinecolor": "white"
           },
           "zaxis": {
            "backgroundcolor": "#E5ECF6",
            "gridcolor": "white",
            "gridwidth": 2,
            "linecolor": "white",
            "showbackground": true,
            "ticks": "",
            "zerolinecolor": "white"
           }
          },
          "shapedefaults": {
           "line": {
            "color": "#2a3f5f"
           }
          },
          "ternary": {
           "aaxis": {
            "gridcolor": "white",
            "linecolor": "white",
            "ticks": ""
           },
           "baxis": {
            "gridcolor": "white",
            "linecolor": "white",
            "ticks": ""
           },
           "bgcolor": "#E5ECF6",
           "caxis": {
            "gridcolor": "white",
            "linecolor": "white",
            "ticks": ""
           }
          },
          "title": {
           "x": 0.05
          },
          "xaxis": {
           "automargin": true,
           "gridcolor": "white",
           "linecolor": "white",
           "ticks": "",
           "title": {
            "standoff": 15
           },
           "zerolinecolor": "white",
           "zerolinewidth": 2
          },
          "yaxis": {
           "automargin": true,
           "gridcolor": "white",
           "linecolor": "white",
           "ticks": "",
           "title": {
            "standoff": 15
           },
           "zerolinecolor": "white",
           "zerolinewidth": 2
          }
         }
        },
        "title": {
         "text": "Correlation Map"
        },
        "width": 1200,
        "xaxis": {
         "anchor": "y",
         "constrain": "domain",
         "domain": [
          0,
          1
         ],
         "scaleanchor": "y"
        },
        "yaxis": {
         "anchor": "x",
         "autorange": "reversed",
         "constrain": "domain",
         "domain": [
          0,
          1
         ]
        }
       }
      }
     },
     "metadata": {},
     "output_type": "display_data"
    }
   ],
   "source": [
    "num_feat_corr=corr_map(df_tr,num_feat,'SalePrice')"
   ]
  },
  {
   "cell_type": "markdown",
   "metadata": {},
   "source": [
    "'OverallCond' is rating of overall material and finishing condition (1 to 10), while 'GrLivArea' is 'above grade (ground) living area square feet'. In scatter plot below, Y axis is the 'SalePrice', X axis is the 'GrLivArea' and the color intensity follow the 'OverallCond'. It is clear that with larger above grade living area and better overall condition, the sale price is higher."
   ]
  },
  {
   "cell_type": "code",
   "execution_count": 23,
   "metadata": {},
   "outputs": [
    {
     "data": {
      "application/vnd.plotly.v1+json": {
       "config": {
        "plotlyServerURL": "https://plot.ly"
       },
       "data": [
        {
         "hovertemplate": "GrLivArea=%{x}<br>SalePrice=%{y}<br>OverallCond=%{marker.color}<extra></extra>",
         "legendgroup": "",
         "marker": {
          "color": [
           5,
           8,
           5,
           5,
           5,
           5,
           5,
           6,
           5,
           6,
           5,
           5,
           6,
           5,
           5,
           8,
           7,
           5,
           5,
           6,
           5,
           7,
           5,
           7,
           8,
           5,
           7,
           5,
           6,
           6,
           4,
           6,
           5,
           5,
           5,
           5,
           5,
           6,
           7,
           5,
           5,
           6,
           7,
           6,
           6,
           5,
           5,
           5,
           5,
           7,
           6,
           6,
           5,
           5,
           5,
           5,
           5,
           5,
           5,
           7,
           5,
           7,
           5,
           6,
           5,
           5,
           5,
           5,
           6,
           4,
           6,
           6,
           5,
           7,
           6,
           5,
           7,
           5,
           5,
           6,
           6,
           5,
           5,
           5,
           5,
           5,
           5,
           5,
           2,
           5,
           5,
           3,
           7,
           6,
           5,
           8,
           5,
           5,
           5,
           5,
           7,
           5,
           5,
           5,
           4,
           5,
           7,
           5,
           7,
           6,
           4,
           5,
           5,
           5,
           8,
           5,
           5,
           5,
           5,
           5,
           5,
           5,
           7,
           5,
           5,
           8,
           5,
           7,
           5,
           7,
           6,
           5,
           6,
           5,
           6,
           6,
           5,
           5,
           5,
           5,
           5,
           5,
           4,
           5,
           5,
           5,
           7,
           5,
           5,
           4,
           6,
           5,
           5,
           7,
           5,
           5,
           7,
           5,
           5,
           5,
           6,
           5,
           5,
           6,
           7,
           7,
           5,
           5,
           5,
           6,
           6,
           5,
           7,
           5,
           5,
           7,
           5,
           5,
           5,
           6,
           5,
           6,
           6,
           5,
           8,
           9,
           5,
           7,
           5,
           5,
           8,
           9,
           5,
           5,
           7,
           6,
           5,
           4,
           6,
           5,
           5,
           6,
           6,
           5,
           7,
           5,
           5,
           5,
           5,
           7,
           6,
           5,
           5,
           5,
           7,
           6,
           5,
           4,
           9,
           5,
           5,
           5,
           6,
           6,
           5,
           5,
           5,
           6,
           5,
           5,
           6,
           5,
           5,
           6,
           5,
           3,
           5,
           7,
           5,
           4,
           5,
           9,
           4,
           6,
           5,
           5,
           8,
           5,
           5,
           7,
           2,
           5,
           5,
           7,
           6,
           5,
           5,
           5,
           5,
           5,
           5,
           5,
           7,
           7,
           5,
           6,
           5,
           8,
           6,
           7,
           5,
           7,
           7,
           6,
           7,
           7,
           5,
           5,
           5,
           5,
           6,
           5,
           5,
           5,
           5,
           5,
           7,
           4,
           5,
           7,
           5,
           6,
           4,
           7,
           5,
           6,
           5,
           5,
           6,
           8,
           5,
           5,
           5,
           7,
           9,
           5,
           5,
           7,
           5,
           5,
           5,
           6,
           7,
           5,
           7,
           5,
           7,
           5,
           5,
           5,
           5,
           5,
           5,
           8,
           7,
           6,
           5,
           5,
           6,
           5,
           4,
           6,
           5,
           5,
           5,
           6,
           5,
           5,
           7,
           7,
           5,
           4,
           4,
           5,
           3,
           5,
           8,
           5,
           5,
           5,
           5,
           5,
           6,
           8,
           5,
           5,
           6,
           5,
           4,
           5,
           6,
           5,
           5,
           8,
           5,
           7,
           5,
           5,
           6,
           7,
           5,
           4,
           5,
           6,
           5,
           1,
           5,
           5,
           2,
           5,
           6,
           5,
           5,
           3,
           5,
           5,
           3,
           6,
           5,
           5,
           8,
           5,
           7,
           5,
           6,
           6,
           5,
           5,
           2,
           5,
           5,
           5,
           8,
           5,
           5,
           4,
           5,
           7,
           5,
           5,
           3,
           5,
           5,
           6,
           5,
           5,
           7,
           6,
           6,
           6,
           5,
           7,
           5,
           5,
           5,
           8,
           5,
           6,
           5,
           5,
           5,
           7,
           5,
           5,
           7,
           6,
           8,
           7,
           6,
           8,
           5,
           4,
           7,
           5,
           5,
           5,
           6,
           5,
           6,
           7,
           8,
           5,
           5,
           5,
           5,
           6,
           5,
           6,
           7,
           4,
           5,
           9,
           5,
           7,
           5,
           5,
           5,
           7,
           5,
           5,
           5,
           6,
           5,
           5,
           5,
           6,
           5,
           5,
           5,
           7,
           5,
           5,
           8,
           5,
           7,
           7,
           7,
           6,
           4,
           8,
           6,
           7,
           5,
           6,
           8,
           5,
           5,
           6,
           7,
           7,
           5,
           5,
           7,
           8,
           5,
           5,
           5,
           5,
           9,
           6,
           7,
           5,
           5,
           5,
           5,
           5,
           6,
           5,
           5,
           9,
           7,
           6,
           7,
           5,
           5,
           5,
           7,
           5,
           7,
           3,
           5,
           8,
           7,
           3,
           5,
           7,
           5,
           5,
           5,
           5,
           5,
           5,
           5,
           5,
           5,
           5,
           7,
           7,
           7,
           5,
           6,
           6,
           5,
           5,
           5,
           6,
           5,
           6,
           5,
           5,
           6,
           5,
           6,
           7,
           5,
           4,
           5,
           5,
           8,
           5,
           5,
           6,
           5,
           5,
           7,
           5,
           7,
           6,
           5,
           5,
           6,
           5,
           5,
           9,
           7,
           5,
           7,
           6,
           8,
           6,
           5,
           5,
           8,
           5,
           6,
           5,
           7,
           5,
           6,
           6,
           5,
           6,
           5,
           5,
           5,
           6,
           5,
           8,
           6,
           5,
           5,
           6,
           5,
           5,
           6,
           7,
           5,
           6,
           5,
           5,
           3,
           7,
           6,
           5,
           5,
           6,
           5,
           6,
           5,
           5,
           6,
           5,
           5,
           7,
           5,
           7,
           3,
           4,
           7,
           5,
           5,
           5,
           7,
           5,
           5,
           5,
           5,
           5,
           5,
           6,
           6,
           5,
           5,
           7,
           6,
           5,
           7,
           6,
           5,
           7,
           7,
           7,
           3,
           5,
           5,
           5,
           5,
           5,
           6,
           5,
           5,
           6,
           6,
           7,
           6,
           6,
           2,
           8,
           5,
           5,
           5,
           5,
           5,
           5,
           5,
           5,
           6,
           5,
           6,
           5,
           5,
           6,
           5,
           6,
           6,
           6,
           7,
           7,
           8,
           5,
           5,
           5,
           5,
           9,
           5,
           5,
           5,
           5,
           5,
           7,
           6,
           7,
           5,
           5,
           8,
           5,
           8,
           6,
           5,
           6,
           5,
           5,
           7,
           6,
           5,
           6,
           9,
           5,
           5,
           5,
           5,
           5,
           5,
           6,
           5,
           7,
           4,
           5,
           5,
           5,
           7,
           8,
           5,
           6,
           5,
           9,
           5,
           7,
           5,
           3,
           7,
           5,
           5,
           5,
           8,
           5,
           5,
           5,
           5,
           5,
           6,
           5,
           5,
           5,
           5,
           5,
           5,
           7,
           5,
           5,
           5,
           5,
           5,
           5,
           5,
           5,
           5,
           5,
           5,
           5,
           5,
           5,
           5,
           6,
           6,
           5,
           6,
           5,
           7,
           8,
           5,
           5,
           5,
           5,
           5,
           6,
           5,
           5,
           5,
           7,
           5,
           7,
           5,
           5,
           5,
           5,
           5,
           6,
           5,
           5,
           6,
           5,
           5,
           6,
           7,
           5,
           6,
           5,
           7,
           5,
           5,
           4,
           5,
           7,
           5,
           5,
           6,
           5,
           5,
           5,
           5,
           5,
           6,
           6,
           6,
           7,
           6,
           5,
           6,
           6,
           8,
           8,
           7,
           4,
           8,
           5,
           5,
           6,
           8,
           7,
           5,
           5,
           5,
           6,
           4,
           8,
           6,
           5,
           5,
           7,
           8,
           4,
           5,
           5,
           5,
           6,
           5,
           5,
           6,
           5,
           5,
           5,
           7,
           7,
           6,
           5,
           5,
           5,
           7,
           8,
           5,
           5,
           5,
           5,
           5,
           5,
           5,
           7,
           6,
           4,
           7,
           5,
           8,
           5,
           5,
           5,
           6,
           5,
           5,
           7,
           6,
           7,
           5,
           5,
           6,
           5,
           5,
           7,
           5,
           5,
           5,
           7,
           7,
           6,
           5,
           5,
           3,
           6,
           5,
           8,
           5,
           7,
           5,
           5,
           6,
           6,
           5,
           5,
           5,
           5,
           5,
           6,
           5,
           5,
           7,
           5,
           5,
           5,
           5,
           7,
           5,
           5,
           3,
           4,
           6,
           6,
           6,
           5,
           5,
           7,
           8,
           5,
           8,
           4,
           5,
           6,
           6,
           5,
           5,
           5,
           7,
           7,
           6,
           5,
           5,
           5,
           7,
           7,
           6,
           5,
           4,
           5,
           5,
           5,
           8,
           5,
           7,
           5,
           5,
           6,
           9,
           5,
           5,
           5,
           5,
           5,
           8,
           5,
           6,
           5,
           5,
           9,
           8,
           5,
           5,
           7,
           6,
           6,
           4,
           5,
           3,
           6,
           5,
           6,
           5,
           8,
           3,
           4,
           5,
           5,
           5,
           5,
           7,
           4,
           5,
           6,
           5,
           5,
           5,
           5,
           5,
           5,
           5,
           5,
           6,
           5,
           5,
           5,
           5,
           7,
           8,
           3,
           7,
           5,
           7,
           3,
           5,
           5,
           6,
           4,
           4,
           8,
           5,
           5,
           5,
           5,
           5,
           5,
           4,
           7,
           5,
           5,
           6,
           6,
           5,
           5,
           5,
           6,
           5,
           7,
           5,
           4,
           5,
           6,
           6,
           5,
           7,
           6,
           4,
           7,
           5,
           6,
           3,
           6,
           5,
           6,
           8,
           5,
           5,
           5,
           7,
           5,
           5,
           6,
           5,
           6,
           5,
           5,
           5,
           5,
           4,
           5,
           5,
           8,
           7,
           5,
           7,
           5,
           6,
           5,
           5,
           5,
           7,
           6,
           5,
           5,
           5,
           5,
           5,
           5,
           5,
           6,
           7,
           7,
           7,
           5,
           5,
           7,
           6,
           5,
           5,
           5,
           3,
           9,
           5,
           5,
           5,
           5,
           5,
           5,
           3,
           5,
           4,
           5,
           5,
           5,
           5,
           8,
           5,
           5,
           7,
           7,
           5,
           3,
           4,
           6,
           5,
           7,
           7,
           9,
           5,
           4,
           7,
           8,
           6,
           8,
           8,
           5,
           5,
           6,
           5,
           7,
           5,
           4,
           7,
           5,
           5,
           5,
           7,
           5,
           6,
           6,
           5,
           6,
           8,
           5,
           5,
           8,
           6,
           5,
           5,
           5,
           5,
           6,
           4,
           7,
           5,
           5,
           5,
           5,
           4,
           5,
           8,
           5,
           7,
           5,
           5,
           6,
           5,
           5,
           5,
           5,
           8,
           5,
           6,
           7,
           4,
           5,
           7,
           5,
           5,
           7,
           6,
           9,
           5,
           5,
           5,
           5,
           5,
           5,
           5,
           5,
           6,
           3,
           5,
           8,
           5,
           8,
           5,
           5,
           5,
           6,
           5,
           5,
           6,
           5,
           5,
           5,
           5,
           5,
           5,
           6,
           6,
           5,
           7,
           7,
           5,
           5,
           5,
           7,
           5,
           5,
           6,
           7,
           5,
           6,
           5,
           8,
           5,
           8,
           5,
           6,
           5,
           6,
           5,
           5,
           4,
           5,
           9,
           5,
           6,
           7,
           6,
           7,
           6,
           5,
           6,
           5,
           5,
           4,
           5,
           5,
           7,
           5,
           7,
           6,
           5,
           5,
           5,
           5,
           7,
           7,
           4,
           5,
           7,
           5,
           6,
           5,
           5,
           7,
           5,
           7,
           5,
           5,
           5,
           5,
           5,
           5,
           7,
           5,
           8,
           5,
           5,
           5,
           6,
           5,
           5,
           5,
           5,
           5,
           3,
           6,
           5,
           7,
           5,
           4,
           6,
           9,
           7,
           5,
           5,
           5,
           6,
           6,
           6,
           5,
           5,
           4,
           5,
           7,
           5,
           5,
           5,
           6,
           5,
           4,
           7,
           5,
           5,
           5,
           5,
           6,
           9,
           5,
           5,
           6,
           5,
           6,
           5,
           5,
           6,
           5,
           4,
           5,
           5,
           5,
           5,
           6,
           5,
           5,
           6,
           6,
           6,
           5,
           5,
           5,
           5,
           5,
           5,
           5,
           3,
           7,
           7,
           7,
           5,
           8,
           5,
           7,
           5,
           6,
           5,
           5,
           5,
           7,
           5,
           5,
           5,
           8,
           4,
           6,
           7,
           5,
           5,
           5,
           4,
           5,
           7,
           5,
           7,
           6,
           5,
           8,
           5,
           5,
           7,
           5,
           6,
           5,
           5,
           5,
           6,
           5,
           5,
           7,
           5,
           6,
           5,
           6,
           7,
           7,
           5,
           6,
           6,
           5,
           5,
           9,
           6,
           5,
           7,
           6,
           7,
           5,
           5,
           6,
           5,
           5,
           7,
           5,
           7,
           7,
           5,
           5,
           5,
           5,
           5,
           5,
           6,
           9,
           6,
           6
          ],
          "coloraxis": "coloraxis",
          "symbol": "circle"
         },
         "mode": "markers",
         "name": "",
         "showlegend": false,
         "type": "scattergl",
         "x": [
          1710,
          1262,
          1786,
          1717,
          2198,
          1362,
          1694,
          2090,
          1774,
          1077,
          1040,
          2324,
          912,
          1494,
          1253,
          854,
          1004,
          1296,
          1114,
          1339,
          2376,
          1108,
          1795,
          1060,
          1060,
          1600,
          900,
          1704,
          1600,
          520,
          1317,
          1228,
          1234,
          1700,
          1561,
          2452,
          1097,
          1297,
          1057,
          1152,
          1324,
          1328,
          884,
          938,
          1150,
          1752,
          2149,
          1656,
          1452,
          955,
          1470,
          1176,
          816,
          1842,
          1360,
          1425,
          1739,
          1720,
          2945,
          780,
          1158,
          1111,
          1370,
          1710,
          2034,
          2473,
          2207,
          1479,
          747,
          2287,
          2223,
          845,
          1718,
          1086,
          1605,
          988,
          952,
          1285,
          1768,
          1230,
          2142,
          1337,
          1563,
          1065,
          1474,
          2417,
          1560,
          1224,
          1526,
          990,
          1040,
          1235,
          964,
          2291,
          1786,
          1470,
          1588,
          960,
          835,
          1225,
          1610,
          1732,
          1535,
          1226,
          1818,
          1992,
          1047,
          789,
          1517,
          1844,
          1855,
          1430,
          2696,
          2259,
          2320,
          1458,
          1092,
          1125,
          3222,
          1456,
          988,
          1123,
          1080,
          1199,
          1586,
          754,
          958,
          840,
          1348,
          1053,
          2157,
          2054,
          1327,
          1296,
          1721,
          1682,
          1214,
          1959,
          1852,
          1764,
          864,
          1734,
          1385,
          1501,
          1728,
          1709,
          875,
          2035,
          1080,
          1344,
          969,
          1710,
          1993,
          1252,
          1200,
          1096,
          1040,
          1968,
          1947,
          2462,
          1232,
          2668,
          1541,
          882,
          1616,
          1355,
          1867,
          2161,
          1720,
          1707,
          1382,
          1656,
          1767,
          1362,
          1651,
          2158,
          2060,
          1920,
          2234,
          968,
          1525,
          1802,
          1340,
          2082,
          1252,
          3608,
          1217,
          1656,
          1224,
          1593,
          2727,
          1479,
          1431,
          1709,
          864,
          1456,
          1726,
          3112,
          2229,
          1713,
          1121,
          1279,
          1310,
          848,
          1284,
          1442,
          1696,
          1100,
          2062,
          1092,
          864,
          1212,
          1852,
          990,
          1392,
          1236,
          1436,
          1328,
          1954,
          1248,
          1498,
          2267,
          1552,
          864,
          2392,
          1302,
          2520,
          987,
          912,
          1555,
          1194,
          2794,
          987,
          894,
          1960,
          987,
          1414,
          1744,
          1694,
          1487,
          1566,
          866,
          1440,
          1217,
          2110,
          1872,
          1928,
          1375,
          1668,
          2144,
          1306,
          1625,
          1640,
          1302,
          1314,
          2291,
          1728,
          1604,
          1792,
          882,
          1382,
          2574,
          1212,
          1316,
          764,
          1422,
          1511,
          2192,
          778,
          1113,
          1939,
          1363,
          2270,
          1632,
          816,
          1548,
          1560,
          864,
          2121,
          2022,
          1982,
          1262,
          1314,
          1468,
          1575,
          1250,
          1734,
          858,
          900,
          1396,
          1919,
          1716,
          1716,
          2263,
          1644,
          1003,
          1558,
          1950,
          1743,
          1152,
          1336,
          2452,
          1541,
          894,
          3493,
          2000,
          2243,
          1406,
          861,
          1944,
          1501,
          972,
          1118,
          2036,
          1641,
          1432,
          2353,
          1959,
          2646,
          1472,
          2596,
          2468,
          2730,
          1163,
          2978,
          803,
          1719,
          1383,
          2134,
          1192,
          1728,
          1056,
          1629,
          1358,
          1638,
          1786,
          1922,
          1536,
          1621,
          1215,
          1908,
          841,
          1040,
          1684,
          1112,
          1577,
          958,
          1478,
          1626,
          2728,
          1869,
          1453,
          1111,
          720,
          1595,
          1200,
          1167,
          1142,
          1352,
          1924,
          912,
          1505,
          1922,
          987,
          1574,
          1344,
          1394,
          1431,
          1268,
          1287,
          1664,
          1588,
          752,
          1319,
          1928,
          904,
          914,
          2466,
          1856,
          1800,
          1691,
          1301,
          1797,
          784,
          1953,
          1269,
          1184,
          1125,
          1479,
          2332,
          1367,
          1961,
          882,
          788,
          1034,
          1144,
          894,
          1812,
          1077,
          1550,
          1288,
          1310,
          672,
          2263,
          1572,
          1620,
          1639,
          1680,
          2172,
          2078,
          1276,
          1056,
          1478,
          1028,
          2097,
          1340,
          1400,
          2624,
          1134,
          1056,
          1344,
          1602,
          988,
          2630,
          1196,
          1389,
          1644,
          907,
          1208,
          1412,
          987,
          1198,
          1365,
          1604,
          630,
          1661,
          1118,
          904,
          694,
          1196,
          2402,
          1440,
          1573,
          1258,
          1908,
          1689,
          1888,
          1886,
          1376,
          1183,
          813,
          1533,
          1756,
          1590,
          1728,
          1242,
          1344,
          1663,
          1666,
          1203,
          1935,
          1135,
          864,
          1660,
          1040,
          1414,
          1277,
          1644,
          1634,
          1710,
          1502,
          1969,
          1072,
          1976,
          1652,
          970,
          1493,
          2643,
          1718,
          1131,
          1850,
          1792,
          1826,
          1216,
          999,
          1113,
          1073,
          1484,
          2414,
          630,
          1304,
          1578,
          1456,
          1269,
          886,
          720,
          3228,
          1820,
          899,
          912,
          1218,
          1768,
          1214,
          1801,
          1322,
          1960,
          1911,
          1218,
          1378,
          1041,
          1363,
          1368,
          864,
          1080,
          789,
          2020,
          2119,
          2344,
          1796,
          2080,
          1294,
          1244,
          1664,
          4676,
          2398,
          1266,
          928,
          2713,
          605,
          2515,
          1509,
          1362,
          827,
          334,
          1414,
          1347,
          1724,
          864,
          1159,
          1601,
          1838,
          2285,
          1680,
          767,
          1496,
          2183,
          1635,
          768,
          825,
          2094,
          1069,
          928,
          1717,
          1126,
          2046,
          1048,
          1092,
          1336,
          1446,
          1557,
          1392,
          1389,
          996,
          1674,
          2295,
          1647,
          2504,
          1535,
          2132,
          943,
          1728,
          864,
          1692,
          1430,
          1109,
          1216,
          1477,
          1320,
          1392,
          1795,
          1429,
          2042,
          816,
          2775,
          1573,
          2028,
          838,
          860,
          1473,
          935,
          1582,
          2296,
          816,
          848,
          924,
          1826,
          1368,
          1402,
          1647,
          1556,
          1904,
          1375,
          1915,
          1200,
          1494,
          1986,
          1040,
          2008,
          3194,
          1029,
          2153,
          1032,
          1872,
          1120,
          630,
          1054,
          1509,
          832,
          1828,
          2262,
          864,
          2614,
          980,
          1512,
          1790,
          1116,
          1422,
          1520,
          2080,
          1350,
          1750,
          1554,
          1411,
          1056,
          1056,
          3395,
          800,
          1387,
          796,
          1567,
          1518,
          1929,
          2704,
          1620,
          1766,
          981,
          1048,
          1094,
          1839,
          630,
          1665,
          1510,
          1716,
          1469,
          2113,
          1092,
          1053,
          1502,
          1458,
          1486,
          1935,
          2448,
          1392,
          1181,
          2097,
          1936,
          2380,
          1679,
          1437,
          1180,
          1476,
          1369,
          1208,
          1839,
          1136,
          1441,
          1774,
          792,
          2046,
          988,
          923,
          1520,
          1291,
          1668,
          1839,
          2090,
          1761,
          1102,
          1419,
          1362,
          848,
          4316,
          2519,
          1073,
          1539,
          1137,
          616,
          1148,
          894,
          1391,
          1800,
          1164,
          2576,
          1812,
          1484,
          1092,
          1824,
          1324,
          1456,
          904,
          729,
          1178,
          1228,
          960,
          1479,
          1350,
          2554,
          1178,
          2418,
          971,
          1742,
          848,
          864,
          1470,
          1698,
          864,
          1680,
          1232,
          1776,
          1208,
          1616,
          1146,
          2031,
          1144,
          948,
          1768,
          1040,
          1801,
          1200,
          1728,
          1432,
          912,
          1349,
          1464,
          1337,
          2715,
          2256,
          2640,
          1720,
          1529,
          1140,
          1320,
          1494,
          2098,
          1026,
          1471,
          1768,
          1386,
          1501,
          2531,
          864,
          1301,
          1547,
          2365,
          1494,
          1506,
          1714,
          1750,
          1836,
          3279,
          858,
          1220,
          1117,
          912,
          1973,
          1204,
          1614,
          894,
          2020,
          1004,
          1253,
          1603,
          1430,
          1110,
          1484,
          1342,
          1652,
          2084,
          901,
          2087,
          1145,
          1062,
          2013,
          1496,
          1895,
          1564,
          1285,
          773,
          3140,
          1768,
          1688,
          1196,
          1456,
          2822,
          1128,
          1428,
          980,
          1576,
          1086,
          2138,
          1309,
          848,
          1044,
          1442,
          1250,
          1661,
          1008,
          1689,
          1052,
          1358,
          1640,
          936,
          1733,
          1489,
          1489,
          2084,
          784,
          1434,
          2126,
          1223,
          1392,
          1200,
          1829,
          1516,
          1144,
          1067,
          1559,
          987,
          1099,
          1200,
          1482,
          1539,
          1165,
          1800,
          1416,
          1701,
          1775,
          864,
          2358,
          1855,
          848,
          1456,
          1646,
          1445,
          1779,
          1040,
          1026,
          1481,
          1370,
          2654,
          1426,
          1039,
          1097,
          1148,
          1372,
          1002,
          1646,
          1120,
          2320,
          1949,
          894,
          1682,
          910,
          1268,
          1131,
          2610,
          1040,
          2224,
          1155,
          864,
          1090,
          1717,
          1593,
          2230,
          892,
          1709,
          1712,
          1393,
          2217,
          1505,
          924,
          1683,
          1068,
          1383,
          1535,
          1796,
          951,
          2240,
          2364,
          1236,
          858,
          1306,
          1509,
          1670,
          902,
          1063,
          1636,
          2057,
          902,
          1484,
          2274,
          1268,
          1015,
          2002,
          1224,
          1092,
          480,
          1229,
          2127,
          1414,
          1721,
          2200,
          1316,
          1617,
          1686,
          1126,
          2374,
          1978,
          1788,
          2236,
          1466,
          925,
          1905,
          1500,
          2069,
          747,
          1200,
          1971,
          1962,
          2403,
          1728,
          2060,
          1440,
          1632,
          1344,
          1869,
          1144,
          1629,
          1776,
          1381,
          864,
          965,
          768,
          1968,
          980,
          1958,
          1229,
          1057,
          1337,
          1416,
          858,
          2872,
          1548,
          1800,
          1894,
          1484,
          1308,
          1098,
          968,
          1095,
          1192,
          1626,
          918,
          1428,
          2019,
          1382,
          869,
          1241,
          894,
          1121,
          999,
          2612,
          1266,
          2290,
          1734,
          1164,
          1635,
          1940,
          2030,
          1576,
          2392,
          1742,
          1851,
          1500,
          1718,
          1230,
          1050,
          1442,
          1077,
          1208,
          944,
          691,
          1574,
          1680,
          1504,
          985,
          1657,
          1092,
          1710,
          1522,
          1271,
          1664,
          1502,
          1022,
          1082,
          1665,
          1504,
          1360,
          1472,
          1506,
          1132,
          1220,
          1248,
          1504,
          2898,
          882,
          1264,
          1646,
          1376,
          1218,
          1928,
          3082,
          2520,
          1654,
          954,
          845,
          1620,
          2263,
          1344,
          630,
          1803,
          1632,
          1306,
          2329,
          2524,
          1733,
          2868,
          990,
          1771,
          930,
          1302,
          1316,
          1977,
          1526,
          1989,
          1523,
          1364,
          1850,
          2184,
          1991,
          1338,
          894,
          2337,
          1103,
          1154,
          2260,
          1571,
          1611,
          2521,
          893,
          1048,
          1556,
          1456,
          1426,
          1240,
          1740,
          1466,
          1096,
          848,
          990,
          1258,
          1040,
          1459,
          1251,
          1498,
          996,
          1092,
          1953,
          1709,
          1247,
          1040,
          1252,
          1694,
          1200,
          936,
          1314,
          1355,
          1088,
          1324,
          1601,
          438,
          950,
          1134,
          1194,
          1302,
          2622,
          1442,
          2021,
          1690,
          1836,
          1658,
          1964,
          816,
          1008,
          833,
          1734,
          1419,
          894,
          1601,
          1040,
          1012,
          1552,
          960,
          698,
          1482,
          1005,
          1555,
          1530,
          1959,
          936,
          1981,
          974,
          2210,
          2020,
          1600,
          986,
          1252,
          1020,
          1567,
          1167,
          952,
          1868,
          2828,
          1006,
          924,
          1576,
          1298,
          1564,
          1111,
          1482,
          932,
          1466,
          1811,
          816,
          1820,
          1437,
          1265,
          1314,
          1580,
          1876,
          1456,
          1640,
          894,
          1258,
          1432,
          1502,
          1694,
          1671,
          2108,
          3627,
          1118,
          1261,
          1250,
          3086,
          2345,
          2872,
          923,
          1224,
          1343,
          1124,
          2514,
          1652,
          4476,
          1130,
          1572,
          1221,
          1699,
          1624,
          1660,
          1804,
          1622,
          1441,
          1472,
          1224,
          1352,
          1456,
          1863,
          1690,
          1212,
          1382,
          864,
          1779,
          1348,
          1630,
          1074,
          2196,
          1056,
          1700,
          1283,
          1660,
          1845,
          1752,
          672,
          960,
          999,
          894,
          1902,
          1314,
          912,
          1218,
          912,
          1211,
          1846,
          2136,
          1490,
          1138,
          1933,
          912,
          1702,
          1507,
          2620,
          1190,
          1224,
          1188,
          1964,
          1784,
          1626,
          1948,
          1141,
          1484,
          1768,
          1689,
          1173,
          2076,
          1517,
          1868,
          1553,
          1034,
          2058,
          988,
          2110,
          1405,
          874,
          2167,
          1656,
          1367,
          1987,
          864,
          1166,
          1054,
          1675,
          1050,
          1788,
          1824,
          1337,
          1452,
          1889,
          2018,
          3447,
          1524,
          1524,
          1489,
          935,
          1357,
          1250,
          1920,
          1395,
          1724,
          2031,
          1128,
          1573,
          1339,
          1040,
          1824,
          2447,
          1412,
          1328,
          1582,
          1659,
          1970,
          1152,
          1302,
          2372,
          1664,
          864,
          1052,
          1128,
          1072,
          5642,
          1246,
          1983,
          1494,
          2526,
          1616,
          1708,
          1652,
          1368,
          990,
          1122,
          1294,
          1902,
          1274,
          2810,
          2599,
          948,
          2112,
          1630,
          1352,
          1787,
          948,
          1478,
          720,
          1923,
          708,
          1795,
          796,
          774,
          816,
          2792,
          1632,
          1588,
          954,
          816,
          1360,
          1365,
          1334,
          1656,
          693,
          1861,
          864,
          872,
          1114,
          2169,
          1913,
          1456,
          960,
          2156,
          1776,
          1494,
          2358,
          2634,
          1716,
          1176,
          3238,
          1865,
          1920,
          892,
          1078,
          1573,
          1980,
          2601,
          1530,
          1738,
          1412,
          1200,
          1674,
          1790,
          1475,
          848,
          1668,
          1374,
          1661,
          2097,
          2633,
          1958,
          1571,
          790,
          1604,
          987,
          1394,
          864,
          2117,
          1762,
          1416,
          1258,
          1154,
          2784,
          2526,
          1746,
          1218,
          1525,
          1584,
          900,
          1912,
          1500,
          2482,
          1687,
          1513,
          1904,
          1608,
          1158,
          1593,
          1294,
          1464,
          1214,
          1646,
          768,
          833,
          1363,
          2093,
          1840,
          1668,
          1040,
          1844,
          1848,
          1569,
          2290,
          2450,
          1144,
          1844,
          1416,
          1069,
          848,
          2201,
          1344,
          1252,
          2127,
          1558,
          804,
          1440,
          1838,
          958,
          968,
          1792,
          1126,
          1537,
          864,
          1932,
          1236,
          1725,
          2555,
          848,
          2007,
          952,
          1422,
          913,
          1188,
          2090,
          1346,
          630,
          1792,
          1578,
          1072,
          1140,
          1221,
          1647,
          2073,
          2340,
          1078,
          1256
         ],
         "xaxis": "x",
         "y": [
          208500,
          181500,
          223500,
          140000,
          250000,
          143000,
          307000,
          200000,
          129900,
          118000,
          129500,
          345000,
          144000,
          279500,
          157000,
          132000,
          149000,
          90000,
          159000,
          139000,
          325300,
          139400,
          230000,
          129900,
          154000,
          256300,
          134800,
          306000,
          207500,
          68500,
          40000,
          149350,
          179900,
          165500,
          277500,
          309000,
          145000,
          153000,
          109000,
          82000,
          160000,
          170000,
          144000,
          130250,
          141000,
          319900,
          239686,
          249700,
          113000,
          127000,
          177000,
          114500,
          110000,
          385000,
          130000,
          180500,
          172500,
          196500,
          438780,
          124900,
          158000,
          101000,
          202500,
          140000,
          219500,
          317000,
          180000,
          226000,
          80000,
          225000,
          244000,
          129500,
          185000,
          144900,
          107400,
          91000,
          135750,
          127000,
          136500,
          110000,
          193500,
          153500,
          245000,
          126500,
          168500,
          260000,
          174000,
          164500,
          85000,
          123600,
          109900,
          98600,
          163500,
          133900,
          204750,
          185000,
          214000,
          94750,
          83000,
          128950,
          205000,
          178000,
          118964,
          198900,
          169500,
          250000,
          100000,
          115000,
          115000,
          190000,
          136900,
          180000,
          383970,
          217000,
          259500,
          176000,
          139000,
          155000,
          320000,
          163990,
          180000,
          100000,
          136000,
          153900,
          181000,
          84500,
          128000,
          87000,
          155000,
          150000,
          226000,
          244000,
          150750,
          220000,
          180000,
          174000,
          143000,
          171000,
          230000,
          231500,
          115000,
          260000,
          166000,
          204000,
          125000,
          130000,
          105000,
          222500,
          141000,
          115000,
          122000,
          372402,
          190000,
          235000,
          125000,
          79000,
          109500,
          269500,
          254900,
          320000,
          162500,
          412500,
          220000,
          103200,
          152000,
          127500,
          190000,
          325624,
          183500,
          228000,
          128500,
          215000,
          239000,
          163000,
          184000,
          243000,
          211000,
          172500,
          501837,
          100000,
          177000,
          200100,
          120000,
          200000,
          127000,
          475000,
          173000,
          135000,
          153337,
          286000,
          315000,
          184000,
          192000,
          130000,
          127000,
          148500,
          311872,
          235000,
          104000,
          274900,
          140000,
          171500,
          112000,
          149000,
          110000,
          180500,
          143900,
          141000,
          277000,
          145000,
          98000,
          186000,
          252678,
          156000,
          161750,
          134450,
          210000,
          107000,
          311500,
          167240,
          204900,
          200000,
          179900,
          97000,
          386250,
          112000,
          290000,
          106000,
          125000,
          192500,
          148000,
          403000,
          94500,
          128200,
          216500,
          89500,
          185500,
          194500,
          318000,
          113000,
          262500,
          110500,
          79000,
          120000,
          205000,
          241500,
          137000,
          140000,
          180000,
          277000,
          76500,
          235000,
          173000,
          158000,
          145000,
          230000,
          207500,
          220000,
          231500,
          97000,
          176000,
          276000,
          151000,
          130000,
          73000,
          175500,
          185000,
          179500,
          120500,
          148000,
          266000,
          241500,
          290000,
          139000,
          124500,
          205000,
          201000,
          141000,
          415298,
          192000,
          228500,
          185000,
          207500,
          244600,
          179200,
          164700,
          159000,
          88000,
          122000,
          153575,
          233230,
          135900,
          131000,
          235000,
          167000,
          142500,
          152000,
          239000,
          175000,
          158500,
          157000,
          267000,
          205000,
          149900,
          295000,
          305900,
          225000,
          89500,
          82500,
          360000,
          165600,
          132000,
          119900,
          375000,
          178000,
          188500,
          260000,
          270000,
          260000,
          187500,
          342643,
          354000,
          301000,
          126175,
          242000,
          87000,
          324000,
          145250,
          214500,
          78000,
          119000,
          139000,
          284000,
          207000,
          192000,
          228950,
          377426,
          214000,
          202500,
          155000,
          202900,
          82000,
          87500,
          266000,
          85000,
          140200,
          151500,
          157500,
          154000,
          437154,
          318061,
          190000,
          95000,
          105900,
          140000,
          177500,
          173000,
          134000,
          130000,
          280000,
          156000,
          145000,
          198500,
          118000,
          190000,
          147000,
          159000,
          165000,
          132000,
          162000,
          172400,
          134432,
          125000,
          123000,
          219500,
          61000,
          148000,
          340000,
          394432,
          179000,
          127000,
          187750,
          213500,
          76000,
          240000,
          192000,
          81000,
          125000,
          191000,
          426000,
          119000,
          215000,
          106500,
          100000,
          109000,
          129000,
          123000,
          169500,
          67000,
          241000,
          245500,
          164990,
          108000,
          258000,
          168000,
          150000,
          115000,
          177000,
          280000,
          339750,
          60000,
          145000,
          222000,
          115000,
          228000,
          181134,
          149500,
          239000,
          126000,
          142000,
          206300,
          215000,
          113000,
          315000,
          139000,
          135000,
          275000,
          109008,
          195400,
          175000,
          85400,
          79900,
          122500,
          181000,
          81000,
          212000,
          116000,
          119000,
          90350,
          110000,
          555000,
          118000,
          162900,
          172500,
          210000,
          127500,
          190000,
          199900,
          119500,
          120000,
          110000,
          280000,
          204000,
          210000,
          188000,
          175500,
          98000,
          256000,
          161000,
          110000,
          263435,
          155000,
          62383,
          188700,
          124000,
          178740,
          167000,
          146500,
          250000,
          187000,
          212000,
          190000,
          148000,
          440000,
          251000,
          132500,
          208900,
          380000,
          297000,
          89471,
          326000,
          374000,
          155000,
          164000,
          132500,
          147000,
          156000,
          175000,
          160000,
          86000,
          115000,
          133000,
          172785,
          155000,
          91300,
          34900,
          430000,
          184000,
          130000,
          120000,
          113000,
          226700,
          140000,
          289000,
          147000,
          124500,
          215000,
          208300,
          161000,
          124500,
          164900,
          202665,
          129900,
          134000,
          96500,
          402861,
          158000,
          265000,
          211000,
          234000,
          106250,
          150000,
          159000,
          184750,
          315750,
          176000,
          132000,
          446261,
          86000,
          200624,
          175000,
          128000,
          107500,
          39300,
          178000,
          107500,
          188000,
          111250,
          158000,
          272000,
          315000,
          248000,
          213250,
          133000,
          179665,
          229000,
          210000,
          129500,
          125000,
          263000,
          140000,
          112500,
          255500,
          108000,
          284000,
          113000,
          141000,
          108000,
          175000,
          234000,
          121500,
          170000,
          108000,
          185000,
          268000,
          128000,
          325000,
          214000,
          316600,
          135960,
          142600,
          120000,
          224500,
          170000,
          139000,
          118500,
          145000,
          164500,
          146000,
          131500,
          181900,
          253293,
          118500,
          325000,
          133000,
          369900,
          130000,
          137000,
          143000,
          79500,
          185900,
          451950,
          138000,
          140000,
          110000,
          319000,
          114504,
          194201,
          217500,
          151000,
          275000,
          141000,
          220000,
          151000,
          221000,
          205000,
          152000,
          225000,
          359100,
          118500,
          313000,
          148000,
          261500,
          147000,
          75500,
          137500,
          183200,
          105500,
          314813,
          305000,
          67000,
          240000,
          135000,
          168500,
          165150,
          160000,
          139900,
          153000,
          135000,
          168500,
          124000,
          209500,
          82500,
          139400,
          144000,
          200000,
          60000,
          93000,
          85000,
          264561,
          274000,
          226000,
          345000,
          152000,
          370878,
          143250,
          98300,
          155000,
          155000,
          84500,
          205950,
          108000,
          191000,
          135000,
          350000,
          88000,
          145500,
          149000,
          97500,
          167000,
          197900,
          402000,
          110000,
          137500,
          423000,
          230500,
          129000,
          193500,
          168000,
          137500,
          173500,
          103600,
          165000,
          257500,
          140000,
          148500,
          87000,
          109500,
          372500,
          128500,
          143000,
          159434,
          173000,
          285000,
          221000,
          207500,
          227875,
          148800,
          392000,
          194700,
          141000,
          755000,
          335000,
          108480,
          141500,
          176000,
          89000,
          123500,
          138500,
          196000,
          312500,
          140000,
          361919,
          140000,
          213000,
          55000,
          302000,
          254000,
          179540,
          109900,
          52000,
          102776,
          189000,
          129000,
          130500,
          165000,
          159500,
          157000,
          341000,
          128500,
          275000,
          143000,
          124500,
          135000,
          320000,
          120500,
          222000,
          194500,
          110000,
          103000,
          236500,
          187500,
          222500,
          131400,
          108000,
          163000,
          93500,
          239900,
          179000,
          190000,
          132000,
          142000,
          179000,
          175000,
          180000,
          299800,
          236000,
          265979,
          260400,
          98000,
          96500,
          162000,
          217000,
          275500,
          156000,
          172500,
          212000,
          158900,
          179400,
          290000,
          127500,
          100000,
          215200,
          337000,
          270000,
          264132,
          196500,
          160000,
          216837,
          538000,
          134900,
          102000,
          107000,
          114500,
          395000,
          162000,
          221500,
          142500,
          144000,
          135000,
          176000,
          175900,
          187100,
          165500,
          128000,
          161500,
          139000,
          233000,
          107900,
          187500,
          160200,
          146800,
          269790,
          225000,
          194500,
          171000,
          143500,
          110000,
          485000,
          175000,
          200000,
          109900,
          189000,
          582933,
          118000,
          227680,
          135500,
          223500,
          159950,
          106000,
          181000,
          144500,
          55993,
          157900,
          116000,
          224900,
          137000,
          271000,
          155000,
          224000,
          183000,
          93000,
          225000,
          139500,
          232600,
          385000,
          109500,
          189000,
          185000,
          147400,
          166000,
          151000,
          237000,
          167000,
          139950,
          128000,
          153500,
          100000,
          144000,
          130500,
          140000,
          157500,
          174900,
          141000,
          153900,
          171000,
          213000,
          133500,
          240000,
          187000,
          131500,
          215000,
          164000,
          158000,
          170000,
          127000,
          147000,
          174000,
          152000,
          250000,
          189950,
          131500,
          152000,
          132500,
          250580,
          148500,
          248900,
          129000,
          169000,
          236000,
          109500,
          200500,
          116000,
          133000,
          66500,
          303477,
          132250,
          350000,
          148000,
          136500,
          157000,
          187500,
          178000,
          118500,
          100000,
          328900,
          145000,
          135500,
          268000,
          149500,
          122900,
          172500,
          154500,
          165000,
          118858,
          140000,
          106500,
          142953,
          611657,
          135000,
          110000,
          153000,
          180000,
          240000,
          125500,
          128000,
          255000,
          250000,
          131000,
          174000,
          154300,
          143500,
          88000,
          145000,
          173733,
          75000,
          35311,
          135000,
          238000,
          176500,
          201000,
          145900,
          169990,
          193000,
          207500,
          175000,
          285000,
          176000,
          236500,
          222000,
          201000,
          117500,
          320000,
          190000,
          242000,
          79900,
          184900,
          253000,
          239799,
          244400,
          150900,
          214000,
          150000,
          143000,
          137500,
          124900,
          143000,
          270000,
          192500,
          197500,
          129000,
          119900,
          133900,
          172000,
          127500,
          145000,
          124000,
          132000,
          185000,
          155000,
          116500,
          272000,
          155000,
          239000,
          214900,
          178900,
          160000,
          135000,
          37900,
          140000,
          135000,
          173000,
          99500,
          182000,
          167500,
          165000,
          85500,
          199900,
          110000,
          139000,
          178400,
          336000,
          159895,
          255900,
          126000,
          125000,
          117000,
          395192,
          195000,
          197000,
          348000,
          168000,
          187000,
          173900,
          337500,
          121600,
          136500,
          185000,
          91000,
          206000,
          82000,
          86000,
          232000,
          136905,
          181000,
          149900,
          163500,
          88000,
          240000,
          102000,
          135000,
          100000,
          165000,
          85000,
          119200,
          227000,
          203000,
          187500,
          160000,
          213490,
          176000,
          194000,
          87000,
          191000,
          287000,
          112500,
          167500,
          293077,
          105000,
          118000,
          160000,
          197000,
          310000,
          230000,
          119750,
          84000,
          315500,
          287000,
          97000,
          80000,
          155000,
          173000,
          196000,
          262280,
          278000,
          139600,
          556581,
          145000,
          115000,
          84900,
          176485,
          200141,
          165000,
          144500,
          255000,
          180000,
          185850,
          248000,
          335000,
          220000,
          213500,
          81000,
          90000,
          110500,
          154000,
          328000,
          178000,
          167900,
          151400,
          135000,
          135000,
          154000,
          91500,
          159500,
          194000,
          219500,
          170000,
          138800,
          155900,
          126000,
          145000,
          133000,
          192000,
          160000,
          187500,
          147000,
          83500,
          252000,
          137500,
          197000,
          92900,
          160000,
          136500,
          146000,
          129000,
          176432,
          127000,
          170000,
          128000,
          157000,
          60000,
          119500,
          135000,
          159500,
          106000,
          325000,
          179900,
          274725,
          181000,
          280000,
          188000,
          205000,
          129900,
          134500,
          117000,
          318000,
          184100,
          130000,
          140000,
          133700,
          118400,
          212900,
          112000,
          118000,
          163900,
          115000,
          174000,
          259000,
          215000,
          140000,
          135000,
          93500,
          117500,
          239500,
          169000,
          102000,
          119000,
          94000,
          196000,
          144000,
          139000,
          197500,
          424870,
          80000,
          80000,
          149000,
          180000,
          174500,
          116900,
          143000,
          124000,
          149900,
          230000,
          120500,
          201800,
          218000,
          179900,
          230000,
          235128,
          185000,
          146000,
          224000,
          129000,
          108959,
          194000,
          233170,
          245350,
          173000,
          235000,
          625000,
          171000,
          163000,
          171900,
          200500,
          239000,
          285000,
          119500,
          115000,
          154900,
          93000,
          250000,
          392500,
          745000,
          120000,
          186700,
          104900,
          95000,
          262000,
          195000,
          189000,
          168000,
          174000,
          125000,
          165000,
          158000,
          176000,
          219210,
          144000,
          178000,
          148000,
          116050,
          197900,
          117000,
          213000,
          153500,
          271900,
          107000,
          200000,
          140000,
          290000,
          189000,
          164000,
          113000,
          145000,
          134500,
          125000,
          112000,
          229456,
          80500,
          91500,
          115000,
          134000,
          143000,
          137900,
          184000,
          145000,
          214000,
          147000,
          367294,
          127000,
          190000,
          132500,
          101800,
          142000,
          130000,
          138887,
          175500,
          195000,
          142500,
          265900,
          224900,
          248328,
          170000,
          465000,
          230000,
          178000,
          186500,
          169900,
          129500,
          119000,
          244000,
          171750,
          130000,
          294000,
          165400,
          127500,
          301500,
          99900,
          190000,
          151000,
          181000,
          128900,
          161500,
          180500,
          181000,
          183900,
          122000,
          378500,
          381000,
          144000,
          260000,
          185750,
          137000,
          177000,
          139000,
          137000,
          162000,
          197900,
          237000,
          68400,
          227000,
          180000,
          150500,
          139000,
          169000,
          132500,
          143000,
          190000,
          278000,
          281000,
          180500,
          119500,
          107500,
          162900,
          115000,
          138500,
          155000,
          140000,
          160000,
          154000,
          225000,
          177500,
          290000,
          232000,
          130000,
          325000,
          202500,
          138000,
          147000,
          179200,
          335000,
          203000,
          302000,
          333168,
          119000,
          206900,
          295493,
          208900,
          275000,
          111000,
          156500,
          72500,
          190000,
          82500,
          147000,
          55000,
          79000,
          130500,
          256000,
          176500,
          227000,
          132500,
          100000,
          125500,
          125000,
          167900,
          135000,
          52500,
          200000,
          128500,
          123000,
          155000,
          228500,
          177000,
          155835,
          108500,
          262500,
          283463,
          215000,
          122000,
          200000,
          171000,
          134900,
          410000,
          235000,
          170000,
          110000,
          149900,
          177500,
          315000,
          189000,
          260000,
          104900,
          156932,
          144152,
          216000,
          193000,
          127000,
          144000,
          232000,
          105000,
          165500,
          274300,
          466500,
          250000,
          239000,
          91000,
          117000,
          83000,
          167500,
          58500,
          237500,
          157000,
          112000,
          105000,
          125500,
          250000,
          136000,
          377500,
          131000,
          235000,
          124000,
          123000,
          163000,
          246578,
          281213,
          160000,
          137500,
          138000,
          137450,
          120000,
          193000,
          193879,
          282922,
          105000,
          275000,
          133000,
          112000,
          125500,
          215000,
          230000,
          140000,
          90000,
          257000,
          207000,
          175900,
          122500,
          340000,
          124000,
          223000,
          179900,
          127500,
          136500,
          274970,
          144000,
          142000,
          271000,
          140000,
          119000,
          182900,
          192140,
          143750,
          64500,
          186500,
          160000,
          174000,
          120500,
          394617,
          149700,
          197000,
          191000,
          149300,
          310000,
          121000,
          179600,
          129000,
          157900,
          240000,
          112000,
          92000,
          136000,
          287090,
          145000,
          84500,
          185000,
          175000,
          210000,
          266500,
          142125,
          147500
         ],
         "yaxis": "y"
        }
       ],
       "layout": {
        "coloraxis": {
         "colorbar": {
          "title": {
           "text": "OverallCond"
          }
         },
         "colorscale": [
          [
           0,
           "#0d0887"
          ],
          [
           0.1111111111111111,
           "#46039f"
          ],
          [
           0.2222222222222222,
           "#7201a8"
          ],
          [
           0.3333333333333333,
           "#9c179e"
          ],
          [
           0.4444444444444444,
           "#bd3786"
          ],
          [
           0.5555555555555556,
           "#d8576b"
          ],
          [
           0.6666666666666666,
           "#ed7953"
          ],
          [
           0.7777777777777778,
           "#fb9f3a"
          ],
          [
           0.8888888888888888,
           "#fdca26"
          ],
          [
           1,
           "#f0f921"
          ]
         ]
        },
        "legend": {
         "tracegroupgap": 0
        },
        "margin": {
         "t": 60
        },
        "template": {
         "data": {
          "bar": [
           {
            "error_x": {
             "color": "#2a3f5f"
            },
            "error_y": {
             "color": "#2a3f5f"
            },
            "marker": {
             "line": {
              "color": "#E5ECF6",
              "width": 0.5
             },
             "pattern": {
              "fillmode": "overlay",
              "size": 10,
              "solidity": 0.2
             }
            },
            "type": "bar"
           }
          ],
          "barpolar": [
           {
            "marker": {
             "line": {
              "color": "#E5ECF6",
              "width": 0.5
             },
             "pattern": {
              "fillmode": "overlay",
              "size": 10,
              "solidity": 0.2
             }
            },
            "type": "barpolar"
           }
          ],
          "carpet": [
           {
            "aaxis": {
             "endlinecolor": "#2a3f5f",
             "gridcolor": "white",
             "linecolor": "white",
             "minorgridcolor": "white",
             "startlinecolor": "#2a3f5f"
            },
            "baxis": {
             "endlinecolor": "#2a3f5f",
             "gridcolor": "white",
             "linecolor": "white",
             "minorgridcolor": "white",
             "startlinecolor": "#2a3f5f"
            },
            "type": "carpet"
           }
          ],
          "choropleth": [
           {
            "colorbar": {
             "outlinewidth": 0,
             "ticks": ""
            },
            "type": "choropleth"
           }
          ],
          "contour": [
           {
            "colorbar": {
             "outlinewidth": 0,
             "ticks": ""
            },
            "colorscale": [
             [
              0,
              "#0d0887"
             ],
             [
              0.1111111111111111,
              "#46039f"
             ],
             [
              0.2222222222222222,
              "#7201a8"
             ],
             [
              0.3333333333333333,
              "#9c179e"
             ],
             [
              0.4444444444444444,
              "#bd3786"
             ],
             [
              0.5555555555555556,
              "#d8576b"
             ],
             [
              0.6666666666666666,
              "#ed7953"
             ],
             [
              0.7777777777777778,
              "#fb9f3a"
             ],
             [
              0.8888888888888888,
              "#fdca26"
             ],
             [
              1,
              "#f0f921"
             ]
            ],
            "type": "contour"
           }
          ],
          "contourcarpet": [
           {
            "colorbar": {
             "outlinewidth": 0,
             "ticks": ""
            },
            "type": "contourcarpet"
           }
          ],
          "heatmap": [
           {
            "colorbar": {
             "outlinewidth": 0,
             "ticks": ""
            },
            "colorscale": [
             [
              0,
              "#0d0887"
             ],
             [
              0.1111111111111111,
              "#46039f"
             ],
             [
              0.2222222222222222,
              "#7201a8"
             ],
             [
              0.3333333333333333,
              "#9c179e"
             ],
             [
              0.4444444444444444,
              "#bd3786"
             ],
             [
              0.5555555555555556,
              "#d8576b"
             ],
             [
              0.6666666666666666,
              "#ed7953"
             ],
             [
              0.7777777777777778,
              "#fb9f3a"
             ],
             [
              0.8888888888888888,
              "#fdca26"
             ],
             [
              1,
              "#f0f921"
             ]
            ],
            "type": "heatmap"
           }
          ],
          "heatmapgl": [
           {
            "colorbar": {
             "outlinewidth": 0,
             "ticks": ""
            },
            "colorscale": [
             [
              0,
              "#0d0887"
             ],
             [
              0.1111111111111111,
              "#46039f"
             ],
             [
              0.2222222222222222,
              "#7201a8"
             ],
             [
              0.3333333333333333,
              "#9c179e"
             ],
             [
              0.4444444444444444,
              "#bd3786"
             ],
             [
              0.5555555555555556,
              "#d8576b"
             ],
             [
              0.6666666666666666,
              "#ed7953"
             ],
             [
              0.7777777777777778,
              "#fb9f3a"
             ],
             [
              0.8888888888888888,
              "#fdca26"
             ],
             [
              1,
              "#f0f921"
             ]
            ],
            "type": "heatmapgl"
           }
          ],
          "histogram": [
           {
            "marker": {
             "pattern": {
              "fillmode": "overlay",
              "size": 10,
              "solidity": 0.2
             }
            },
            "type": "histogram"
           }
          ],
          "histogram2d": [
           {
            "colorbar": {
             "outlinewidth": 0,
             "ticks": ""
            },
            "colorscale": [
             [
              0,
              "#0d0887"
             ],
             [
              0.1111111111111111,
              "#46039f"
             ],
             [
              0.2222222222222222,
              "#7201a8"
             ],
             [
              0.3333333333333333,
              "#9c179e"
             ],
             [
              0.4444444444444444,
              "#bd3786"
             ],
             [
              0.5555555555555556,
              "#d8576b"
             ],
             [
              0.6666666666666666,
              "#ed7953"
             ],
             [
              0.7777777777777778,
              "#fb9f3a"
             ],
             [
              0.8888888888888888,
              "#fdca26"
             ],
             [
              1,
              "#f0f921"
             ]
            ],
            "type": "histogram2d"
           }
          ],
          "histogram2dcontour": [
           {
            "colorbar": {
             "outlinewidth": 0,
             "ticks": ""
            },
            "colorscale": [
             [
              0,
              "#0d0887"
             ],
             [
              0.1111111111111111,
              "#46039f"
             ],
             [
              0.2222222222222222,
              "#7201a8"
             ],
             [
              0.3333333333333333,
              "#9c179e"
             ],
             [
              0.4444444444444444,
              "#bd3786"
             ],
             [
              0.5555555555555556,
              "#d8576b"
             ],
             [
              0.6666666666666666,
              "#ed7953"
             ],
             [
              0.7777777777777778,
              "#fb9f3a"
             ],
             [
              0.8888888888888888,
              "#fdca26"
             ],
             [
              1,
              "#f0f921"
             ]
            ],
            "type": "histogram2dcontour"
           }
          ],
          "mesh3d": [
           {
            "colorbar": {
             "outlinewidth": 0,
             "ticks": ""
            },
            "type": "mesh3d"
           }
          ],
          "parcoords": [
           {
            "line": {
             "colorbar": {
              "outlinewidth": 0,
              "ticks": ""
             }
            },
            "type": "parcoords"
           }
          ],
          "pie": [
           {
            "automargin": true,
            "type": "pie"
           }
          ],
          "scatter": [
           {
            "fillpattern": {
             "fillmode": "overlay",
             "size": 10,
             "solidity": 0.2
            },
            "type": "scatter"
           }
          ],
          "scatter3d": [
           {
            "line": {
             "colorbar": {
              "outlinewidth": 0,
              "ticks": ""
             }
            },
            "marker": {
             "colorbar": {
              "outlinewidth": 0,
              "ticks": ""
             }
            },
            "type": "scatter3d"
           }
          ],
          "scattercarpet": [
           {
            "marker": {
             "colorbar": {
              "outlinewidth": 0,
              "ticks": ""
             }
            },
            "type": "scattercarpet"
           }
          ],
          "scattergeo": [
           {
            "marker": {
             "colorbar": {
              "outlinewidth": 0,
              "ticks": ""
             }
            },
            "type": "scattergeo"
           }
          ],
          "scattergl": [
           {
            "marker": {
             "colorbar": {
              "outlinewidth": 0,
              "ticks": ""
             }
            },
            "type": "scattergl"
           }
          ],
          "scattermapbox": [
           {
            "marker": {
             "colorbar": {
              "outlinewidth": 0,
              "ticks": ""
             }
            },
            "type": "scattermapbox"
           }
          ],
          "scatterpolar": [
           {
            "marker": {
             "colorbar": {
              "outlinewidth": 0,
              "ticks": ""
             }
            },
            "type": "scatterpolar"
           }
          ],
          "scatterpolargl": [
           {
            "marker": {
             "colorbar": {
              "outlinewidth": 0,
              "ticks": ""
             }
            },
            "type": "scatterpolargl"
           }
          ],
          "scatterternary": [
           {
            "marker": {
             "colorbar": {
              "outlinewidth": 0,
              "ticks": ""
             }
            },
            "type": "scatterternary"
           }
          ],
          "surface": [
           {
            "colorbar": {
             "outlinewidth": 0,
             "ticks": ""
            },
            "colorscale": [
             [
              0,
              "#0d0887"
             ],
             [
              0.1111111111111111,
              "#46039f"
             ],
             [
              0.2222222222222222,
              "#7201a8"
             ],
             [
              0.3333333333333333,
              "#9c179e"
             ],
             [
              0.4444444444444444,
              "#bd3786"
             ],
             [
              0.5555555555555556,
              "#d8576b"
             ],
             [
              0.6666666666666666,
              "#ed7953"
             ],
             [
              0.7777777777777778,
              "#fb9f3a"
             ],
             [
              0.8888888888888888,
              "#fdca26"
             ],
             [
              1,
              "#f0f921"
             ]
            ],
            "type": "surface"
           }
          ],
          "table": [
           {
            "cells": {
             "fill": {
              "color": "#EBF0F8"
             },
             "line": {
              "color": "white"
             }
            },
            "header": {
             "fill": {
              "color": "#C8D4E3"
             },
             "line": {
              "color": "white"
             }
            },
            "type": "table"
           }
          ]
         },
         "layout": {
          "annotationdefaults": {
           "arrowcolor": "#2a3f5f",
           "arrowhead": 0,
           "arrowwidth": 1
          },
          "autotypenumbers": "strict",
          "coloraxis": {
           "colorbar": {
            "outlinewidth": 0,
            "ticks": ""
           }
          },
          "colorscale": {
           "diverging": [
            [
             0,
             "#8e0152"
            ],
            [
             0.1,
             "#c51b7d"
            ],
            [
             0.2,
             "#de77ae"
            ],
            [
             0.3,
             "#f1b6da"
            ],
            [
             0.4,
             "#fde0ef"
            ],
            [
             0.5,
             "#f7f7f7"
            ],
            [
             0.6,
             "#e6f5d0"
            ],
            [
             0.7,
             "#b8e186"
            ],
            [
             0.8,
             "#7fbc41"
            ],
            [
             0.9,
             "#4d9221"
            ],
            [
             1,
             "#276419"
            ]
           ],
           "sequential": [
            [
             0,
             "#0d0887"
            ],
            [
             0.1111111111111111,
             "#46039f"
            ],
            [
             0.2222222222222222,
             "#7201a8"
            ],
            [
             0.3333333333333333,
             "#9c179e"
            ],
            [
             0.4444444444444444,
             "#bd3786"
            ],
            [
             0.5555555555555556,
             "#d8576b"
            ],
            [
             0.6666666666666666,
             "#ed7953"
            ],
            [
             0.7777777777777778,
             "#fb9f3a"
            ],
            [
             0.8888888888888888,
             "#fdca26"
            ],
            [
             1,
             "#f0f921"
            ]
           ],
           "sequentialminus": [
            [
             0,
             "#0d0887"
            ],
            [
             0.1111111111111111,
             "#46039f"
            ],
            [
             0.2222222222222222,
             "#7201a8"
            ],
            [
             0.3333333333333333,
             "#9c179e"
            ],
            [
             0.4444444444444444,
             "#bd3786"
            ],
            [
             0.5555555555555556,
             "#d8576b"
            ],
            [
             0.6666666666666666,
             "#ed7953"
            ],
            [
             0.7777777777777778,
             "#fb9f3a"
            ],
            [
             0.8888888888888888,
             "#fdca26"
            ],
            [
             1,
             "#f0f921"
            ]
           ]
          },
          "colorway": [
           "#636efa",
           "#EF553B",
           "#00cc96",
           "#ab63fa",
           "#FFA15A",
           "#19d3f3",
           "#FF6692",
           "#B6E880",
           "#FF97FF",
           "#FECB52"
          ],
          "font": {
           "color": "#2a3f5f"
          },
          "geo": {
           "bgcolor": "white",
           "lakecolor": "white",
           "landcolor": "#E5ECF6",
           "showlakes": true,
           "showland": true,
           "subunitcolor": "white"
          },
          "hoverlabel": {
           "align": "left"
          },
          "hovermode": "closest",
          "mapbox": {
           "style": "light"
          },
          "paper_bgcolor": "white",
          "plot_bgcolor": "#E5ECF6",
          "polar": {
           "angularaxis": {
            "gridcolor": "white",
            "linecolor": "white",
            "ticks": ""
           },
           "bgcolor": "#E5ECF6",
           "radialaxis": {
            "gridcolor": "white",
            "linecolor": "white",
            "ticks": ""
           }
          },
          "scene": {
           "xaxis": {
            "backgroundcolor": "#E5ECF6",
            "gridcolor": "white",
            "gridwidth": 2,
            "linecolor": "white",
            "showbackground": true,
            "ticks": "",
            "zerolinecolor": "white"
           },
           "yaxis": {
            "backgroundcolor": "#E5ECF6",
            "gridcolor": "white",
            "gridwidth": 2,
            "linecolor": "white",
            "showbackground": true,
            "ticks": "",
            "zerolinecolor": "white"
           },
           "zaxis": {
            "backgroundcolor": "#E5ECF6",
            "gridcolor": "white",
            "gridwidth": 2,
            "linecolor": "white",
            "showbackground": true,
            "ticks": "",
            "zerolinecolor": "white"
           }
          },
          "shapedefaults": {
           "line": {
            "color": "#2a3f5f"
           }
          },
          "ternary": {
           "aaxis": {
            "gridcolor": "white",
            "linecolor": "white",
            "ticks": ""
           },
           "baxis": {
            "gridcolor": "white",
            "linecolor": "white",
            "ticks": ""
           },
           "bgcolor": "#E5ECF6",
           "caxis": {
            "gridcolor": "white",
            "linecolor": "white",
            "ticks": ""
           }
          },
          "title": {
           "x": 0.05
          },
          "xaxis": {
           "automargin": true,
           "gridcolor": "white",
           "linecolor": "white",
           "ticks": "",
           "title": {
            "standoff": 15
           },
           "zerolinecolor": "white",
           "zerolinewidth": 2
          },
          "yaxis": {
           "automargin": true,
           "gridcolor": "white",
           "linecolor": "white",
           "ticks": "",
           "title": {
            "standoff": 15
           },
           "zerolinecolor": "white",
           "zerolinewidth": 2
          }
         }
        },
        "xaxis": {
         "anchor": "y",
         "domain": [
          0,
          1
         ],
         "title": {
          "text": "GrLivArea"
         }
        },
        "yaxis": {
         "anchor": "x",
         "domain": [
          0,
          1
         ],
         "title": {
          "text": "SalePrice"
         }
        }
       }
      }
     },
     "metadata": {},
     "output_type": "display_data"
    }
   ],
   "source": [
    "fig = px.scatter(df_tr, x='GrLivArea',y='SalePrice',color='OverallCond')\n",
    "fig.show()"
   ]
  },
  {
   "cell_type": "markdown",
   "metadata": {},
   "source": [
    "For categorical features, t-test will be used to see if any abnormal distinction is found."
   ]
  },
  {
   "cell_type": "code",
   "execution_count": 28,
   "metadata": {},
   "outputs": [],
   "source": [
    "#t-test feature feat from dataframe\n",
    "def feat_ttest(df,feat,target_response):\n",
    "    sig_result=pd.DataFrame(columns=['feat','min one pair feat_val reject h0','feat_val1','feat_val2','p value','statistic','degree of fredom'])\n",
    "    sig_result_index=0\n",
    "    for i in feat:\n",
    "        df1=df[[i,target_response]]\n",
    "        a=series_dict(df1)\n",
    "        t_result=series_ttest2(a)\n",
    "        t_result_min_p_index=t_result.idxmin()[2]\n",
    "        #print(i,t_result.iloc[t_reult_min_p_index][2])\n",
    "        if t_result.iloc[t_result_min_p_index][2]<0.05:\n",
    "            h0_result=True\n",
    "        if t_result.iloc[t_result_min_p_index][2]>0.05:\n",
    "            h0_result=False\n",
    "        sig_result.loc[sig_result_index]=[i,\n",
    "                                          h0_result,\n",
    "                                          t_result.iloc[t_result_min_p_index][0],\n",
    "                                          t_result.iloc[t_result_min_p_index][1],\n",
    "                                          t_result.iloc[t_result_min_p_index][2],\n",
    "                                          t_result.iloc[t_result_min_p_index][3],\n",
    "                                          t_result.iloc[t_result_min_p_index][4],\n",
    "                                          ]\n",
    "        sig_result_index=sig_result_index+1\n",
    "        \n",
    "    return sig_result.sort_values(by=['p value'])"
   ]
  },
  {
   "cell_type": "markdown",
   "metadata": {},
   "source": [
    "The t-test function select a pair of subgroups from categorical feature to perform ANOVA test baseed on the target response 'SalePrice'.\n",
    "The top 5 features only have 2 degrees of fredom, the sample sizes are too small, should not be considered true distinction;\n",
    "\n",
    "'ExterQual','KitchenQual' and other quality related features have shown the there are distinction between 'TA' (typical or average) and 'Ex' (Excellent). Example is shown below, where 'Ex' has much higher SalePrice than 'TA':"
   ]
  },
  {
   "cell_type": "code",
   "execution_count": 29,
   "metadata": {},
   "outputs": [
    {
     "data": {
      "text/html": [
       "<style type=\"text/css\">\n",
       "</style>\n",
       "<table id=\"T_14094\">\n",
       "  <thead>\n",
       "    <tr>\n",
       "      <th class=\"blank level0\" >&nbsp;</th>\n",
       "      <th id=\"T_14094_level0_col0\" class=\"col_heading level0 col0\" >feat</th>\n",
       "      <th id=\"T_14094_level0_col1\" class=\"col_heading level0 col1\" >min one pair feat_val reject h0</th>\n",
       "      <th id=\"T_14094_level0_col2\" class=\"col_heading level0 col2\" >feat_val1</th>\n",
       "      <th id=\"T_14094_level0_col3\" class=\"col_heading level0 col3\" >feat_val2</th>\n",
       "      <th id=\"T_14094_level0_col4\" class=\"col_heading level0 col4\" >p value</th>\n",
       "      <th id=\"T_14094_level0_col5\" class=\"col_heading level0 col5\" >statistic</th>\n",
       "      <th id=\"T_14094_level0_col6\" class=\"col_heading level0 col6\" >degree of fredom</th>\n",
       "    </tr>\n",
       "  </thead>\n",
       "  <tbody>\n",
       "    <tr>\n",
       "      <th id=\"T_14094_level0_row0\" class=\"row_heading level0 row0\" >15</th>\n",
       "      <td id=\"T_14094_row0_col0\" class=\"data row0 col0\" >Exterior1st</td>\n",
       "      <td id=\"T_14094_row0_col1\" class=\"data row0 col1\" >True</td>\n",
       "      <td id=\"T_14094_row0_col2\" class=\"data row0 col2\" >AsphShn</td>\n",
       "      <td id=\"T_14094_row0_col3\" class=\"data row0 col3\" >ImStucc</td>\n",
       "      <td id=\"T_14094_row0_col4\" class=\"data row0 col4\" >0</td>\n",
       "      <td id=\"T_14094_row0_col5\" class=\"data row0 col5\" >-inf</td>\n",
       "      <td id=\"T_14094_row0_col6\" class=\"data row0 col6\" >2.000000</td>\n",
       "    </tr>\n",
       "    <tr>\n",
       "      <th id=\"T_14094_level0_row1\" class=\"row_heading level0 row1\" >14</th>\n",
       "      <td id=\"T_14094_row1_col0\" class=\"data row1 col0\" >RoofMatl</td>\n",
       "      <td id=\"T_14094_row1_col1\" class=\"data row1 col1\" >True</td>\n",
       "      <td id=\"T_14094_row1_col2\" class=\"data row1 col2\" >Metal</td>\n",
       "      <td id=\"T_14094_row1_col3\" class=\"data row1 col3\" >Membran</td>\n",
       "      <td id=\"T_14094_row1_col4\" class=\"data row1 col4\" >0</td>\n",
       "      <td id=\"T_14094_row1_col5\" class=\"data row1 col5\" >-inf</td>\n",
       "      <td id=\"T_14094_row1_col6\" class=\"data row1 col6\" >2.000000</td>\n",
       "    </tr>\n",
       "    <tr>\n",
       "      <th id=\"T_14094_level0_row2\" class=\"row_heading level0 row2\" >10</th>\n",
       "      <td id=\"T_14094_row2_col0\" class=\"data row2 col0\" >Condition2</td>\n",
       "      <td id=\"T_14094_row2_col1\" class=\"data row2 col1\" >True</td>\n",
       "      <td id=\"T_14094_row2_col2\" class=\"data row2 col2\" >PosA</td>\n",
       "      <td id=\"T_14094_row2_col3\" class=\"data row2 col3\" >RRAn</td>\n",
       "      <td id=\"T_14094_row2_col4\" class=\"data row2 col4\" >0</td>\n",
       "      <td id=\"T_14094_row2_col5\" class=\"data row2 col5\" >inf</td>\n",
       "      <td id=\"T_14094_row2_col6\" class=\"data row2 col6\" >2.000000</td>\n",
       "    </tr>\n",
       "    <tr>\n",
       "      <th id=\"T_14094_level0_row3\" class=\"row_heading level0 row3\" >16</th>\n",
       "      <td id=\"T_14094_row3_col0\" class=\"data row3 col0\" >Exterior2nd</td>\n",
       "      <td id=\"T_14094_row3_col1\" class=\"data row3 col1\" >True</td>\n",
       "      <td id=\"T_14094_row3_col2\" class=\"data row3 col2\" >Other</td>\n",
       "      <td id=\"T_14094_row3_col3\" class=\"data row3 col3\" >CBlock</td>\n",
       "      <td id=\"T_14094_row3_col4\" class=\"data row3 col4\" >0</td>\n",
       "      <td id=\"T_14094_row3_col5\" class=\"data row3 col5\" >inf</td>\n",
       "      <td id=\"T_14094_row3_col6\" class=\"data row3 col6\" >2.000000</td>\n",
       "    </tr>\n",
       "    <tr>\n",
       "      <th id=\"T_14094_level0_row4\" class=\"row_heading level0 row4\" >29</th>\n",
       "      <td id=\"T_14094_row4_col0\" class=\"data row4 col0\" >Electrical</td>\n",
       "      <td id=\"T_14094_row4_col1\" class=\"data row4 col1\" >True</td>\n",
       "      <td id=\"T_14094_row4_col2\" class=\"data row4 col2\" >Mix</td>\n",
       "      <td id=\"T_14094_row4_col3\" class=\"data row4 col3\" >nan</td>\n",
       "      <td id=\"T_14094_row4_col4\" class=\"data row4 col4\" >0</td>\n",
       "      <td id=\"T_14094_row4_col5\" class=\"data row4 col5\" >-inf</td>\n",
       "      <td id=\"T_14094_row4_col6\" class=\"data row4 col6\" >2.000000</td>\n",
       "    </tr>\n",
       "    <tr>\n",
       "      <th id=\"T_14094_level0_row5\" class=\"row_heading level0 row5\" >18</th>\n",
       "      <td id=\"T_14094_row5_col0\" class=\"data row5 col0\" >ExterQual</td>\n",
       "      <td id=\"T_14094_row5_col1\" class=\"data row5 col1\" >True</td>\n",
       "      <td id=\"T_14094_row5_col2\" class=\"data row5 col2\" >TA</td>\n",
       "      <td id=\"T_14094_row5_col3\" class=\"data row5 col3\" >Ex</td>\n",
       "      <td id=\"T_14094_row5_col4\" class=\"data row5 col4\" >3.5e-153</td>\n",
       "      <td id=\"T_14094_row5_col5\" class=\"data row5 col5\" >-31.97</td>\n",
       "      <td id=\"T_14094_row5_col6\" class=\"data row5 col6\" >958.000000</td>\n",
       "    </tr>\n",
       "    <tr>\n",
       "      <th id=\"T_14094_level0_row6\" class=\"row_heading level0 row6\" >30</th>\n",
       "      <td id=\"T_14094_row6_col0\" class=\"data row6 col0\" >KitchenQual</td>\n",
       "      <td id=\"T_14094_row6_col1\" class=\"data row6 col1\" >True</td>\n",
       "      <td id=\"T_14094_row6_col2\" class=\"data row6 col2\" >TA</td>\n",
       "      <td id=\"T_14094_row6_col3\" class=\"data row6 col3\" >Ex</td>\n",
       "      <td id=\"T_14094_row6_col4\" class=\"data row6 col4\" >4.7e-148</td>\n",
       "      <td id=\"T_14094_row6_col5\" class=\"data row6 col5\" >-32.12</td>\n",
       "      <td id=\"T_14094_row6_col6\" class=\"data row6 col6\" >835.000000</td>\n",
       "    </tr>\n",
       "    <tr>\n",
       "      <th id=\"T_14094_level0_row7\" class=\"row_heading level0 row7\" >21</th>\n",
       "      <td id=\"T_14094_row7_col0\" class=\"data row7 col0\" >BsmtQual</td>\n",
       "      <td id=\"T_14094_row7_col1\" class=\"data row7 col1\" >True</td>\n",
       "      <td id=\"T_14094_row7_col2\" class=\"data row7 col2\" >TA</td>\n",
       "      <td id=\"T_14094_row7_col3\" class=\"data row7 col3\" >Ex</td>\n",
       "      <td id=\"T_14094_row7_col4\" class=\"data row7 col4\" >3.6e-140</td>\n",
       "      <td id=\"T_14094_row7_col5\" class=\"data row7 col5\" >-31.43</td>\n",
       "      <td id=\"T_14094_row7_col6\" class=\"data row7 col6\" >770.000000</td>\n",
       "    </tr>\n",
       "    <tr>\n",
       "      <th id=\"T_14094_level0_row8\" class=\"row_heading level0 row8\" >34</th>\n",
       "      <td id=\"T_14094_row8_col0\" class=\"data row8 col0\" >GarageFinish</td>\n",
       "      <td id=\"T_14094_row8_col1\" class=\"data row8 col1\" >True</td>\n",
       "      <td id=\"T_14094_row8_col2\" class=\"data row8 col2\" >Unf</td>\n",
       "      <td id=\"T_14094_row8_col3\" class=\"data row8 col3\" >Fin</td>\n",
       "      <td id=\"T_14094_row8_col4\" class=\"data row8 col4\" >1.5e-81</td>\n",
       "      <td id=\"T_14094_row8_col5\" class=\"data row8 col5\" >-21.12</td>\n",
       "      <td id=\"T_14094_row8_col6\" class=\"data row8 col6\" >957.000000</td>\n",
       "    </tr>\n",
       "    <tr>\n",
       "      <th id=\"T_14094_level0_row9\" class=\"row_heading level0 row9\" >32</th>\n",
       "      <td id=\"T_14094_row9_col0\" class=\"data row9 col0\" >FireplaceQu</td>\n",
       "      <td id=\"T_14094_row9_col1\" class=\"data row9 col1\" >True</td>\n",
       "      <td id=\"T_14094_row9_col2\" class=\"data row9 col2\" >nan</td>\n",
       "      <td id=\"T_14094_row9_col3\" class=\"data row9 col3\" >Gd</td>\n",
       "      <td id=\"T_14094_row9_col4\" class=\"data row9 col4\" >1.4e-78</td>\n",
       "      <td id=\"T_14094_row9_col5\" class=\"data row9 col5\" >-20.43</td>\n",
       "      <td id=\"T_14094_row9_col6\" class=\"data row9 col6\" >1070.000000</td>\n",
       "    </tr>\n",
       "    <tr>\n",
       "      <th id=\"T_14094_level0_row10\" class=\"row_heading level0 row10\" >20</th>\n",
       "      <td id=\"T_14094_row10_col0\" class=\"data row10 col0\" >Foundation</td>\n",
       "      <td id=\"T_14094_row10_col1\" class=\"data row10 col1\" >True</td>\n",
       "      <td id=\"T_14094_row10_col2\" class=\"data row10 col2\" >PConc</td>\n",
       "      <td id=\"T_14094_row10_col3\" class=\"data row10 col3\" >CBlock</td>\n",
       "      <td id=\"T_14094_row10_col4\" class=\"data row10 col4\" >3.7e-72</td>\n",
       "      <td id=\"T_14094_row10_col5\" class=\"data row10 col5\" >19.16</td>\n",
       "      <td id=\"T_14094_row10_col6\" class=\"data row10 col6\" >1281.000000</td>\n",
       "    </tr>\n",
       "    <tr>\n",
       "      <th id=\"T_14094_level0_row11\" class=\"row_heading level0 row11\" >8</th>\n",
       "      <td id=\"T_14094_row11_col0\" class=\"data row11 col0\" >Neighborhood</td>\n",
       "      <td id=\"T_14094_row11_col1\" class=\"data row11 col1\" >True</td>\n",
       "      <td id=\"T_14094_row11_col2\" class=\"data row11 col2\" >NridgHt</td>\n",
       "      <td id=\"T_14094_row11_col3\" class=\"data row11 col3\" >NAmes</td>\n",
       "      <td id=\"T_14094_row11_col4\" class=\"data row11 col4\" >6.5e-69</td>\n",
       "      <td id=\"T_14094_row11_col5\" class=\"data row11 col5\" >23.16</td>\n",
       "      <td id=\"T_14094_row11_col6\" class=\"data row11 col6\" >302.000000</td>\n",
       "    </tr>\n",
       "    <tr>\n",
       "      <th id=\"T_14094_level0_row12\" class=\"row_heading level0 row12\" >17</th>\n",
       "      <td id=\"T_14094_row12_col0\" class=\"data row12 col0\" >MasVnrType</td>\n",
       "      <td id=\"T_14094_row12_col1\" class=\"data row12 col1\" >True</td>\n",
       "      <td id=\"T_14094_row12_col2\" class=\"data row12 col2\" >nan</td>\n",
       "      <td id=\"T_14094_row12_col3\" class=\"data row12 col3\" >Stone</td>\n",
       "      <td id=\"T_14094_row12_col4\" class=\"data row12 col4\" >1.2e-57</td>\n",
       "      <td id=\"T_14094_row12_col5\" class=\"data row12 col5\" >-17.09</td>\n",
       "      <td id=\"T_14094_row12_col6\" class=\"data row12 col6\" >1000.000000</td>\n",
       "    </tr>\n",
       "    <tr>\n",
       "      <th id=\"T_14094_level0_row13\" class=\"row_heading level0 row13\" >33</th>\n",
       "      <td id=\"T_14094_row13_col0\" class=\"data row13 col0\" >GarageType</td>\n",
       "      <td id=\"T_14094_row13_col1\" class=\"data row13 col1\" >True</td>\n",
       "      <td id=\"T_14094_row13_col2\" class=\"data row13 col2\" >Attchd</td>\n",
       "      <td id=\"T_14094_row13_col3\" class=\"data row13 col3\" >Detchd</td>\n",
       "      <td id=\"T_14094_row13_col4\" class=\"data row13 col4\" >8.9e-56</td>\n",
       "      <td id=\"T_14094_row13_col5\" class=\"data row13 col5\" >16.54</td>\n",
       "      <td id=\"T_14094_row13_col6\" class=\"data row13 col6\" >1257.000000</td>\n",
       "    </tr>\n",
       "    <tr>\n",
       "      <th id=\"T_14094_level0_row14\" class=\"row_heading level0 row14\" >27</th>\n",
       "      <td id=\"T_14094_row14_col0\" class=\"data row14 col0\" >HeatingQC</td>\n",
       "      <td id=\"T_14094_row14_col1\" class=\"data row14 col1\" >True</td>\n",
       "      <td id=\"T_14094_row14_col2\" class=\"data row14 col2\" >Ex</td>\n",
       "      <td id=\"T_14094_row14_col3\" class=\"data row14 col3\" >TA</td>\n",
       "      <td id=\"T_14094_row14_col4\" class=\"data row14 col4\" >1.1e-51</td>\n",
       "      <td id=\"T_14094_row14_col5\" class=\"data row14 col5\" >15.90</td>\n",
       "      <td id=\"T_14094_row14_col6\" class=\"data row14 col6\" >1169.000000</td>\n",
       "    </tr>\n",
       "    <tr>\n",
       "      <th id=\"T_14094_level0_row15\" class=\"row_heading level0 row15\" >41</th>\n",
       "      <td id=\"T_14094_row15_col0\" class=\"data row15 col0\" >SaleType</td>\n",
       "      <td id=\"T_14094_row15_col1\" class=\"data row15 col1\" >True</td>\n",
       "      <td id=\"T_14094_row15_col2\" class=\"data row15 col2\" >WD</td>\n",
       "      <td id=\"T_14094_row15_col3\" class=\"data row15 col3\" >New</td>\n",
       "      <td id=\"T_14094_row15_col4\" class=\"data row15 col4\" >1.4e-44</td>\n",
       "      <td id=\"T_14094_row15_col5\" class=\"data row15 col5\" >-14.52</td>\n",
       "      <td id=\"T_14094_row15_col6\" class=\"data row15 col6\" >1389.000000</td>\n",
       "    </tr>\n",
       "    <tr>\n",
       "      <th id=\"T_14094_level0_row16\" class=\"row_heading level0 row16\" >42</th>\n",
       "      <td id=\"T_14094_row16_col0\" class=\"data row16 col0\" >SaleCondition</td>\n",
       "      <td id=\"T_14094_row16_col1\" class=\"data row16 col1\" >True</td>\n",
       "      <td id=\"T_14094_row16_col2\" class=\"data row16 col2\" >Normal</td>\n",
       "      <td id=\"T_14094_row16_col3\" class=\"data row16 col3\" >Partial</td>\n",
       "      <td id=\"T_14094_row16_col4\" class=\"data row16 col4\" >1.4e-42</td>\n",
       "      <td id=\"T_14094_row16_col5\" class=\"data row16 col5\" >-14.17</td>\n",
       "      <td id=\"T_14094_row16_col6\" class=\"data row16 col6\" >1323.000000</td>\n",
       "    </tr>\n",
       "    <tr>\n",
       "      <th id=\"T_14094_level0_row17\" class=\"row_heading level0 row17\" >23</th>\n",
       "      <td id=\"T_14094_row17_col0\" class=\"data row17 col0\" >BsmtExposure</td>\n",
       "      <td id=\"T_14094_row17_col1\" class=\"data row17 col1\" >True</td>\n",
       "      <td id=\"T_14094_row17_col2\" class=\"data row17 col2\" >No</td>\n",
       "      <td id=\"T_14094_row17_col3\" class=\"data row17 col3\" >Gd</td>\n",
       "      <td id=\"T_14094_row17_col4\" class=\"data row17 col4\" >1.2e-41</td>\n",
       "      <td id=\"T_14094_row17_col5\" class=\"data row17 col5\" >-14.11</td>\n",
       "      <td id=\"T_14094_row17_col6\" class=\"data row17 col6\" >1087.000000</td>\n",
       "    </tr>\n",
       "    <tr>\n",
       "      <th id=\"T_14094_level0_row18\" class=\"row_heading level0 row18\" >0</th>\n",
       "      <td id=\"T_14094_row18_col0\" class=\"data row18 col0\" >MSZoning</td>\n",
       "      <td id=\"T_14094_row18_col1\" class=\"data row18 col1\" >True</td>\n",
       "      <td id=\"T_14094_row18_col2\" class=\"data row18 col2\" >RM</td>\n",
       "      <td id=\"T_14094_row18_col3\" class=\"data row18 col3\" >FV</td>\n",
       "      <td id=\"T_14094_row18_col4\" class=\"data row18 col4\" >1e-29</td>\n",
       "      <td id=\"T_14094_row18_col5\" class=\"data row18 col5\" >-12.75</td>\n",
       "      <td id=\"T_14094_row18_col6\" class=\"data row18 col6\" >283.000000</td>\n",
       "    </tr>\n",
       "    <tr>\n",
       "      <th id=\"T_14094_level0_row19\" class=\"row_heading level0 row19\" >24</th>\n",
       "      <td id=\"T_14094_row19_col0\" class=\"data row19 col0\" >BsmtFinType1</td>\n",
       "      <td id=\"T_14094_row19_col1\" class=\"data row19 col1\" >True</td>\n",
       "      <td id=\"T_14094_row19_col2\" class=\"data row19 col2\" >GLQ</td>\n",
       "      <td id=\"T_14094_row19_col3\" class=\"data row19 col3\" >Unf</td>\n",
       "      <td id=\"T_14094_row19_col4\" class=\"data row19 col4\" >8.1e-28</td>\n",
       "      <td id=\"T_14094_row19_col5\" class=\"data row19 col5\" >11.33</td>\n",
       "      <td id=\"T_14094_row19_col6\" class=\"data row19 col6\" >848.000000</td>\n",
       "    </tr>\n",
       "    <tr>\n",
       "      <th id=\"T_14094_level0_row20\" class=\"row_heading level0 row20\" >28</th>\n",
       "      <td id=\"T_14094_row20_col0\" class=\"data row20 col0\" >CentralAir</td>\n",
       "      <td id=\"T_14094_row20_col1\" class=\"data row20 col1\" >True</td>\n",
       "      <td id=\"T_14094_row20_col2\" class=\"data row20 col2\" >Y</td>\n",
       "      <td id=\"T_14094_row20_col3\" class=\"data row20 col3\" >N</td>\n",
       "      <td id=\"T_14094_row20_col4\" class=\"data row20 col4\" >6.8e-23</td>\n",
       "      <td id=\"T_14094_row20_col5\" class=\"data row20 col5\" >10.02</td>\n",
       "      <td id=\"T_14094_row20_col6\" class=\"data row20 col6\" >1460.000000</td>\n",
       "    </tr>\n",
       "    <tr>\n",
       "      <th id=\"T_14094_level0_row21\" class=\"row_heading level0 row21\" >3</th>\n",
       "      <td id=\"T_14094_row21_col0\" class=\"data row21 col0\" >LotShape</td>\n",
       "      <td id=\"T_14094_row21_col1\" class=\"data row21 col1\" >True</td>\n",
       "      <td id=\"T_14094_row21_col2\" class=\"data row21 col2\" >Reg</td>\n",
       "      <td id=\"T_14094_row21_col3\" class=\"data row21 col3\" >IR1</td>\n",
       "      <td id=\"T_14094_row21_col4\" class=\"data row21 col4\" >8.2e-22</td>\n",
       "      <td id=\"T_14094_row21_col5\" class=\"data row21 col5\" >-9.76</td>\n",
       "      <td id=\"T_14094_row21_col6\" class=\"data row21 col6\" >1409.000000</td>\n",
       "    </tr>\n",
       "    <tr>\n",
       "      <th id=\"T_14094_level0_row22\" class=\"row_heading level0 row22\" >36</th>\n",
       "      <td id=\"T_14094_row22_col0\" class=\"data row22 col0\" >GarageCond</td>\n",
       "      <td id=\"T_14094_row22_col1\" class=\"data row22 col1\" >True</td>\n",
       "      <td id=\"T_14094_row22_col2\" class=\"data row22 col2\" >TA</td>\n",
       "      <td id=\"T_14094_row22_col3\" class=\"data row22 col3\" >nan</td>\n",
       "      <td id=\"T_14094_row22_col4\" class=\"data row22 col4\" >2e-21</td>\n",
       "      <td id=\"T_14094_row22_col5\" class=\"data row22 col5\" >9.66</td>\n",
       "      <td id=\"T_14094_row22_col6\" class=\"data row22 col6\" >1407.000000</td>\n",
       "    </tr>\n",
       "    <tr>\n",
       "      <th id=\"T_14094_level0_row23\" class=\"row_heading level0 row23\" >35</th>\n",
       "      <td id=\"T_14094_row23_col0\" class=\"data row23 col0\" >GarageQual</td>\n",
       "      <td id=\"T_14094_row23_col1\" class=\"data row23 col1\" >True</td>\n",
       "      <td id=\"T_14094_row23_col2\" class=\"data row23 col2\" >TA</td>\n",
       "      <td id=\"T_14094_row23_col3\" class=\"data row23 col3\" >nan</td>\n",
       "      <td id=\"T_14094_row23_col4\" class=\"data row23 col4\" >2.1e-21</td>\n",
       "      <td id=\"T_14094_row23_col5\" class=\"data row23 col5\" >9.66</td>\n",
       "      <td id=\"T_14094_row23_col6\" class=\"data row23 col6\" >1392.000000</td>\n",
       "    </tr>\n",
       "    <tr>\n",
       "      <th id=\"T_14094_level0_row24\" class=\"row_heading level0 row24\" >13</th>\n",
       "      <td id=\"T_14094_row24_col0\" class=\"data row24 col0\" >RoofStyle</td>\n",
       "      <td id=\"T_14094_row24_col1\" class=\"data row24 col1\" >True</td>\n",
       "      <td id=\"T_14094_row24_col2\" class=\"data row24 col2\" >Gable</td>\n",
       "      <td id=\"T_14094_row24_col3\" class=\"data row24 col3\" >Hip</td>\n",
       "      <td id=\"T_14094_row24_col4\" class=\"data row24 col4\" >1.3e-19</td>\n",
       "      <td id=\"T_14094_row24_col5\" class=\"data row24 col5\" >-9.19</td>\n",
       "      <td id=\"T_14094_row24_col6\" class=\"data row24 col6\" >1427.000000</td>\n",
       "    </tr>\n",
       "    <tr>\n",
       "      <th id=\"T_14094_level0_row25\" class=\"row_heading level0 row25\" >12</th>\n",
       "      <td id=\"T_14094_row25_col0\" class=\"data row25 col0\" >HouseStyle</td>\n",
       "      <td id=\"T_14094_row25_col1\" class=\"data row25 col1\" >True</td>\n",
       "      <td id=\"T_14094_row25_col2\" class=\"data row25 col2\" >2Story</td>\n",
       "      <td id=\"T_14094_row25_col3\" class=\"data row25 col3\" >1.5Fin</td>\n",
       "      <td id=\"T_14094_row25_col4\" class=\"data row25 col4\" >3.8e-18</td>\n",
       "      <td id=\"T_14094_row25_col5\" class=\"data row25 col5\" >8.97</td>\n",
       "      <td id=\"T_14094_row25_col6\" class=\"data row25 col6\" >599.000000</td>\n",
       "    </tr>\n",
       "    <tr>\n",
       "      <th id=\"T_14094_level0_row26\" class=\"row_heading level0 row26\" >37</th>\n",
       "      <td id=\"T_14094_row26_col0\" class=\"data row26 col0\" >PavedDrive</td>\n",
       "      <td id=\"T_14094_row26_col1\" class=\"data row26 col1\" >True</td>\n",
       "      <td id=\"T_14094_row26_col2\" class=\"data row26 col2\" >Y</td>\n",
       "      <td id=\"T_14094_row26_col3\" class=\"data row26 col3\" >N</td>\n",
       "      <td id=\"T_14094_row26_col4\" class=\"data row26 col4\" >8.2e-17</td>\n",
       "      <td id=\"T_14094_row26_col5\" class=\"data row26 col5\" >8.43</td>\n",
       "      <td id=\"T_14094_row26_col6\" class=\"data row26 col6\" >1430.000000</td>\n",
       "    </tr>\n",
       "    <tr>\n",
       "      <th id=\"T_14094_level0_row27\" class=\"row_heading level0 row27\" >22</th>\n",
       "      <td id=\"T_14094_row27_col0\" class=\"data row27 col0\" >BsmtCond</td>\n",
       "      <td id=\"T_14094_row27_col1\" class=\"data row27 col1\" >True</td>\n",
       "      <td id=\"T_14094_row27_col2\" class=\"data row27 col2\" >Gd</td>\n",
       "      <td id=\"T_14094_row27_col3\" class=\"data row27 col3\" >nan</td>\n",
       "      <td id=\"T_14094_row27_col4\" class=\"data row27 col4\" >6.3e-14</td>\n",
       "      <td id=\"T_14094_row27_col5\" class=\"data row27 col5\" >8.69</td>\n",
       "      <td id=\"T_14094_row27_col6\" class=\"data row27 col6\" >102.000000</td>\n",
       "    </tr>\n",
       "    <tr>\n",
       "      <th id=\"T_14094_level0_row28\" class=\"row_heading level0 row28\" >4</th>\n",
       "      <td id=\"T_14094_row28_col0\" class=\"data row28 col0\" >LandContour</td>\n",
       "      <td id=\"T_14094_row28_col1\" class=\"data row28 col1\" >True</td>\n",
       "      <td id=\"T_14094_row28_col2\" class=\"data row28 col2\" >Bnk</td>\n",
       "      <td id=\"T_14094_row28_col3\" class=\"data row28 col3\" >HLS</td>\n",
       "      <td id=\"T_14094_row28_col4\" class=\"data row28 col4\" >7.1e-09</td>\n",
       "      <td id=\"T_14094_row28_col5\" class=\"data row28 col5\" >-6.26</td>\n",
       "      <td id=\"T_14094_row28_col6\" class=\"data row28 col6\" >113.000000</td>\n",
       "    </tr>\n",
       "    <tr>\n",
       "      <th id=\"T_14094_level0_row29\" class=\"row_heading level0 row29\" >39</th>\n",
       "      <td id=\"T_14094_row29_col0\" class=\"data row29 col0\" >Fence</td>\n",
       "      <td id=\"T_14094_row29_col1\" class=\"data row29 col1\" >True</td>\n",
       "      <td id=\"T_14094_row29_col2\" class=\"data row29 col2\" >nan</td>\n",
       "      <td id=\"T_14094_row29_col3\" class=\"data row29 col3\" >MnPrv</td>\n",
       "      <td id=\"T_14094_row29_col4\" class=\"data row29 col4\" >1.1e-08</td>\n",
       "      <td id=\"T_14094_row29_col5\" class=\"data row29 col5\" >5.74</td>\n",
       "      <td id=\"T_14094_row29_col6\" class=\"data row29 col6\" >1336.000000</td>\n",
       "    </tr>\n",
       "    <tr>\n",
       "      <th id=\"T_14094_level0_row30\" class=\"row_heading level0 row30\" >25</th>\n",
       "      <td id=\"T_14094_row30_col0\" class=\"data row30 col0\" >BsmtFinType2</td>\n",
       "      <td id=\"T_14094_row30_col1\" class=\"data row30 col1\" >True</td>\n",
       "      <td id=\"T_14094_row30_col2\" class=\"data row30 col2\" >Unf</td>\n",
       "      <td id=\"T_14094_row30_col3\" class=\"data row30 col3\" >nan</td>\n",
       "      <td id=\"T_14094_row30_col4\" class=\"data row30 col4\" >1.2e-08</td>\n",
       "      <td id=\"T_14094_row30_col5\" class=\"data row30 col5\" >5.73</td>\n",
       "      <td id=\"T_14094_row30_col6\" class=\"data row30 col6\" >1294.000000</td>\n",
       "    </tr>\n",
       "    <tr>\n",
       "      <th id=\"T_14094_level0_row31\" class=\"row_heading level0 row31\" >9</th>\n",
       "      <td id=\"T_14094_row31_col0\" class=\"data row31 col0\" >Condition1</td>\n",
       "      <td id=\"T_14094_row31_col1\" class=\"data row31 col1\" >True</td>\n",
       "      <td id=\"T_14094_row31_col2\" class=\"data row31 col2\" >Feedr</td>\n",
       "      <td id=\"T_14094_row31_col3\" class=\"data row31 col3\" >PosN</td>\n",
       "      <td id=\"T_14094_row31_col4\" class=\"data row31 col4\" >2e-08</td>\n",
       "      <td id=\"T_14094_row31_col5\" class=\"data row31 col5\" >-6.10</td>\n",
       "      <td id=\"T_14094_row31_col6\" class=\"data row31 col6\" >100.000000</td>\n",
       "    </tr>\n",
       "    <tr>\n",
       "      <th id=\"T_14094_level0_row32\" class=\"row_heading level0 row32\" >19</th>\n",
       "      <td id=\"T_14094_row32_col0\" class=\"data row32 col0\" >ExterCond</td>\n",
       "      <td id=\"T_14094_row32_col1\" class=\"data row32 col1\" >True</td>\n",
       "      <td id=\"T_14094_row32_col2\" class=\"data row32 col2\" >TA</td>\n",
       "      <td id=\"T_14094_row32_col3\" class=\"data row32 col3\" >Fa</td>\n",
       "      <td id=\"T_14094_row32_col4\" class=\"data row32 col4\" >2.3e-08</td>\n",
       "      <td id=\"T_14094_row32_col5\" class=\"data row32 col5\" >5.63</td>\n",
       "      <td id=\"T_14094_row32_col6\" class=\"data row32 col6\" >1310.000000</td>\n",
       "    </tr>\n",
       "    <tr>\n",
       "      <th id=\"T_14094_level0_row33\" class=\"row_heading level0 row33\" >6</th>\n",
       "      <td id=\"T_14094_row33_col0\" class=\"data row33 col0\" >LotConfig</td>\n",
       "      <td id=\"T_14094_row33_col1\" class=\"data row33 col1\" >True</td>\n",
       "      <td id=\"T_14094_row33_col2\" class=\"data row33 col2\" >Inside</td>\n",
       "      <td id=\"T_14094_row33_col3\" class=\"data row33 col3\" >CulDSac</td>\n",
       "      <td id=\"T_14094_row33_col4\" class=\"data row33 col4\" >4.1e-08</td>\n",
       "      <td id=\"T_14094_row33_col5\" class=\"data row33 col5\" >-5.53</td>\n",
       "      <td id=\"T_14094_row33_col6\" class=\"data row33 col6\" >1146.000000</td>\n",
       "    </tr>\n",
       "    <tr>\n",
       "      <th id=\"T_14094_level0_row34\" class=\"row_heading level0 row34\" >2</th>\n",
       "      <td id=\"T_14094_row34_col0\" class=\"data row34 col0\" >Alley</td>\n",
       "      <td id=\"T_14094_row34_col1\" class=\"data row34 col1\" >True</td>\n",
       "      <td id=\"T_14094_row34_col2\" class=\"data row34 col2\" >nan</td>\n",
       "      <td id=\"T_14094_row34_col3\" class=\"data row34 col3\" >Grvl</td>\n",
       "      <td id=\"T_14094_row34_col4\" class=\"data row34 col4\" >9e-08</td>\n",
       "      <td id=\"T_14094_row34_col5\" class=\"data row34 col5\" >5.37</td>\n",
       "      <td id=\"T_14094_row34_col6\" class=\"data row34 col6\" >1419.000000</td>\n",
       "    </tr>\n",
       "    <tr>\n",
       "      <th id=\"T_14094_level0_row35\" class=\"row_heading level0 row35\" >11</th>\n",
       "      <td id=\"T_14094_row35_col0\" class=\"data row35 col0\" >BldgType</td>\n",
       "      <td id=\"T_14094_row35_col1\" class=\"data row35 col1\" >True</td>\n",
       "      <td id=\"T_14094_row35_col2\" class=\"data row35 col2\" >Duplex</td>\n",
       "      <td id=\"T_14094_row35_col3\" class=\"data row35 col3\" >TwnhsE</td>\n",
       "      <td id=\"T_14094_row35_col4\" class=\"data row35 col4\" >9.3e-08</td>\n",
       "      <td id=\"T_14094_row35_col5\" class=\"data row35 col5\" >-5.59</td>\n",
       "      <td id=\"T_14094_row35_col6\" class=\"data row35 col6\" >166.000000</td>\n",
       "    </tr>\n",
       "    <tr>\n",
       "      <th id=\"T_14094_level0_row36\" class=\"row_heading level0 row36\" >38</th>\n",
       "      <td id=\"T_14094_row36_col0\" class=\"data row36 col0\" >PoolQC</td>\n",
       "      <td id=\"T_14094_row36_col1\" class=\"data row36 col1\" >True</td>\n",
       "      <td id=\"T_14094_row36_col2\" class=\"data row36 col2\" >nan</td>\n",
       "      <td id=\"T_14094_row36_col3\" class=\"data row36 col3\" >Ex</td>\n",
       "      <td id=\"T_14094_row36_col4\" class=\"data row36 col4\" >9.3e-07</td>\n",
       "      <td id=\"T_14094_row36_col5\" class=\"data row36 col5\" >-4.93</td>\n",
       "      <td id=\"T_14094_row36_col6\" class=\"data row36 col6\" >1455.000000</td>\n",
       "    </tr>\n",
       "    <tr>\n",
       "      <th id=\"T_14094_level0_row37\" class=\"row_heading level0 row37\" >26</th>\n",
       "      <td id=\"T_14094_row37_col0\" class=\"data row37 col0\" >Heating</td>\n",
       "      <td id=\"T_14094_row37_col1\" class=\"data row37 col1\" >True</td>\n",
       "      <td id=\"T_14094_row37_col2\" class=\"data row37 col2\" >Wall</td>\n",
       "      <td id=\"T_14094_row37_col3\" class=\"data row37 col3\" >OthW</td>\n",
       "      <td id=\"T_14094_row37_col4\" class=\"data row37 col4\" >3.1e-05</td>\n",
       "      <td id=\"T_14094_row37_col5\" class=\"data row37 col5\" >-11.18</td>\n",
       "      <td id=\"T_14094_row37_col6\" class=\"data row37 col6\" >6.000000</td>\n",
       "    </tr>\n",
       "    <tr>\n",
       "      <th id=\"T_14094_level0_row38\" class=\"row_heading level0 row38\" >31</th>\n",
       "      <td id=\"T_14094_row38_col0\" class=\"data row38 col0\" >Functional</td>\n",
       "      <td id=\"T_14094_row38_col1\" class=\"data row38 col1\" >True</td>\n",
       "      <td id=\"T_14094_row38_col2\" class=\"data row38 col2\" >Min1</td>\n",
       "      <td id=\"T_14094_row38_col3\" class=\"data row38 col3\" >Maj2</td>\n",
       "      <td id=\"T_14094_row38_col4\" class=\"data row38 col4\" >0.00037</td>\n",
       "      <td id=\"T_14094_row38_col5\" class=\"data row38 col5\" >3.93</td>\n",
       "      <td id=\"T_14094_row38_col6\" class=\"data row38 col6\" >36.000000</td>\n",
       "    </tr>\n",
       "    <tr>\n",
       "      <th id=\"T_14094_level0_row39\" class=\"row_heading level0 row39\" >40</th>\n",
       "      <td id=\"T_14094_row39_col0\" class=\"data row39 col0\" >MiscFeature</td>\n",
       "      <td id=\"T_14094_row39_col1\" class=\"data row39 col1\" >True</td>\n",
       "      <td id=\"T_14094_row39_col2\" class=\"data row39 col2\" >nan</td>\n",
       "      <td id=\"T_14094_row39_col3\" class=\"data row39 col3\" >Shed</td>\n",
       "      <td id=\"T_14094_row39_col4\" class=\"data row39 col4\" >0.0066</td>\n",
       "      <td id=\"T_14094_row39_col5\" class=\"data row39 col5\" >2.72</td>\n",
       "      <td id=\"T_14094_row39_col6\" class=\"data row39 col6\" >1455.000000</td>\n",
       "    </tr>\n",
       "    <tr>\n",
       "      <th id=\"T_14094_level0_row40\" class=\"row_heading level0 row40\" >1</th>\n",
       "      <td id=\"T_14094_row40_col0\" class=\"data row40 col0\" >Street</td>\n",
       "      <td id=\"T_14094_row40_col1\" class=\"data row40 col1\" >False</td>\n",
       "      <td id=\"T_14094_row40_col2\" class=\"data row40 col2\" >Pave</td>\n",
       "      <td id=\"T_14094_row40_col3\" class=\"data row40 col3\" >Grvl</td>\n",
       "      <td id=\"T_14094_row40_col4\" class=\"data row40 col4\" >0.074</td>\n",
       "      <td id=\"T_14094_row40_col5\" class=\"data row40 col5\" >1.79</td>\n",
       "      <td id=\"T_14094_row40_col6\" class=\"data row40 col6\" >1460.000000</td>\n",
       "    </tr>\n",
       "    <tr>\n",
       "      <th id=\"T_14094_level0_row41\" class=\"row_heading level0 row41\" >7</th>\n",
       "      <td id=\"T_14094_row41_col0\" class=\"data row41 col0\" >LandSlope</td>\n",
       "      <td id=\"T_14094_row41_col1\" class=\"data row41 col1\" >False</td>\n",
       "      <td id=\"T_14094_row41_col2\" class=\"data row41 col2\" >Gtl</td>\n",
       "      <td id=\"T_14094_row41_col3\" class=\"data row41 col3\" >Mod</td>\n",
       "      <td id=\"T_14094_row41_col4\" class=\"data row41 col4\" >0.12</td>\n",
       "      <td id=\"T_14094_row41_col5\" class=\"data row41 col5\" >-1.55</td>\n",
       "      <td id=\"T_14094_row41_col6\" class=\"data row41 col6\" >1447.000000</td>\n",
       "    </tr>\n",
       "    <tr>\n",
       "      <th id=\"T_14094_level0_row42\" class=\"row_heading level0 row42\" >5</th>\n",
       "      <td id=\"T_14094_row42_col0\" class=\"data row42 col0\" >Utilities</td>\n",
       "      <td id=\"T_14094_row42_col1\" class=\"data row42 col1\" >False</td>\n",
       "      <td id=\"T_14094_row42_col2\" class=\"data row42 col2\" >AllPub</td>\n",
       "      <td id=\"T_14094_row42_col3\" class=\"data row42 col3\" >NoSeWa</td>\n",
       "      <td id=\"T_14094_row42_col4\" class=\"data row42 col4\" >0.44</td>\n",
       "      <td id=\"T_14094_row42_col5\" class=\"data row42 col5\" >0.77</td>\n",
       "      <td id=\"T_14094_row42_col6\" class=\"data row42 col6\" >1460.000000</td>\n",
       "    </tr>\n",
       "  </tbody>\n",
       "</table>\n"
      ],
      "text/plain": [
       "<pandas.io.formats.style.Styler at 0x1c00603c440>"
      ]
     },
     "execution_count": 29,
     "metadata": {},
     "output_type": "execute_result"
    }
   ],
   "source": [
    "cat_feat_result=feat_ttest(df_tr,cat_feat,'SalePrice')\n",
    "cat_feat_result.style.format({'p value': '{:.2g}','statistic':'{:.2f}','df':'{:.0f}'})"
   ]
  },
  {
   "cell_type": "markdown",
   "metadata": {},
   "source": [
    "series_ttest2 function is used to check individual categorical feature t-test result. For example for 'ExterQual', all feat var comparisons are showing very low p values."
   ]
  },
  {
   "cell_type": "code",
   "execution_count": 30,
   "metadata": {},
   "outputs": [],
   "source": [
    "#convert feat subgroup into series for t-test\n",
    "def series_dict(df1):\n",
    "    a={}\n",
    "    for i in df1.index:\n",
    "        if df1.iloc[i][0] not in a:\n",
    "            a.update({df1.iloc[i][0]:[df1.iloc[i][1]]})\n",
    "        if df1.iloc[i][0] in a:\n",
    "            a[df1.iloc[i][0]].append(df1.iloc[i][1])\n",
    "    return a\n",
    "\n",
    "#t-test for the feature value from series\n",
    "def series_ttest2(a):\n",
    "    i_keys=list(a.keys())\n",
    "    t_result=pd.DataFrame(columns=['feat_var1','feat_var2','p value','statistic','df'])\n",
    "    index=0\n",
    "    for i in range(len(i_keys)):\n",
    "        if i+1<len(i_keys):\n",
    "            for k in range(i+1,len(i_keys)):\n",
    "                t=stats.ttest_ind(a[i_keys[i]],a[i_keys[k]])\n",
    "                t_result.loc[index]=[str(i_keys[i]),str(i_keys[k]),t.pvalue,t.statistic,t.df]\n",
    "                index=index+1\n",
    "    return t_result"
   ]
  },
  {
   "cell_type": "code",
   "execution_count": 31,
   "metadata": {},
   "outputs": [
    {
     "data": {
      "text/html": [
       "<style type=\"text/css\">\n",
       "</style>\n",
       "<table id=\"T_8ea73\">\n",
       "  <thead>\n",
       "    <tr>\n",
       "      <th class=\"blank level0\" >&nbsp;</th>\n",
       "      <th id=\"T_8ea73_level0_col0\" class=\"col_heading level0 col0\" >feat_var1</th>\n",
       "      <th id=\"T_8ea73_level0_col1\" class=\"col_heading level0 col1\" >feat_var2</th>\n",
       "      <th id=\"T_8ea73_level0_col2\" class=\"col_heading level0 col2\" >p value</th>\n",
       "      <th id=\"T_8ea73_level0_col3\" class=\"col_heading level0 col3\" >statistic</th>\n",
       "      <th id=\"T_8ea73_level0_col4\" class=\"col_heading level0 col4\" >df</th>\n",
       "    </tr>\n",
       "  </thead>\n",
       "  <tbody>\n",
       "    <tr>\n",
       "      <th id=\"T_8ea73_level0_row0\" class=\"row_heading level0 row0\" >3</th>\n",
       "      <td id=\"T_8ea73_row0_col0\" class=\"data row0 col0\" >TA</td>\n",
       "      <td id=\"T_8ea73_row0_col1\" class=\"data row0 col1\" >Ex</td>\n",
       "      <td id=\"T_8ea73_row0_col2\" class=\"data row0 col2\" >3.5e-153</td>\n",
       "      <td id=\"T_8ea73_row0_col3\" class=\"data row0 col3\" >-31.97</td>\n",
       "      <td id=\"T_8ea73_row0_col4\" class=\"data row0 col4\" >958</td>\n",
       "    </tr>\n",
       "    <tr>\n",
       "      <th id=\"T_8ea73_level0_row1\" class=\"row_heading level0 row1\" >0</th>\n",
       "      <td id=\"T_8ea73_row1_col0\" class=\"data row1 col0\" >Gd</td>\n",
       "      <td id=\"T_8ea73_row1_col1\" class=\"data row1 col1\" >TA</td>\n",
       "      <td id=\"T_8ea73_row1_col2\" class=\"data row1 col2\" >2.4e-142</td>\n",
       "      <td id=\"T_8ea73_row1_col3\" class=\"data row1 col3\" >28.65</td>\n",
       "      <td id=\"T_8ea73_row1_col4\" class=\"data row1 col4\" >1394</td>\n",
       "    </tr>\n",
       "    <tr>\n",
       "      <th id=\"T_8ea73_level0_row2\" class=\"row_heading level0 row2\" >1</th>\n",
       "      <td id=\"T_8ea73_row2_col0\" class=\"data row2 col0\" >Gd</td>\n",
       "      <td id=\"T_8ea73_row2_col1\" class=\"data row2 col1\" >Ex</td>\n",
       "      <td id=\"T_8ea73_row2_col2\" class=\"data row2 col2\" >1.5e-30</td>\n",
       "      <td id=\"T_8ea73_row2_col3\" class=\"data row2 col3\" >-12.24</td>\n",
       "      <td id=\"T_8ea73_row2_col4\" class=\"data row2 col4\" >540</td>\n",
       "    </tr>\n",
       "    <tr>\n",
       "      <th id=\"T_8ea73_level0_row3\" class=\"row_heading level0 row3\" >2</th>\n",
       "      <td id=\"T_8ea73_row3_col0\" class=\"data row3 col0\" >Gd</td>\n",
       "      <td id=\"T_8ea73_row3_col1\" class=\"data row3 col1\" >Fa</td>\n",
       "      <td id=\"T_8ea73_row3_col2\" class=\"data row3 col2\" >7.3e-14</td>\n",
       "      <td id=\"T_8ea73_row3_col3\" class=\"data row3 col3\" >7.70</td>\n",
       "      <td id=\"T_8ea73_row3_col4\" class=\"data row3 col4\" >502</td>\n",
       "    </tr>\n",
       "    <tr>\n",
       "      <th id=\"T_8ea73_level0_row4\" class=\"row_heading level0 row4\" >5</th>\n",
       "      <td id=\"T_8ea73_row4_col0\" class=\"data row4 col0\" >Ex</td>\n",
       "      <td id=\"T_8ea73_row4_col1\" class=\"data row4 col1\" >Fa</td>\n",
       "      <td id=\"T_8ea73_row4_col2\" class=\"data row4 col2\" >2.5e-13</td>\n",
       "      <td id=\"T_8ea73_row4_col3\" class=\"data row4 col3\" >9.13</td>\n",
       "      <td id=\"T_8ea73_row4_col4\" class=\"data row4 col4\" >66</td>\n",
       "    </tr>\n",
       "    <tr>\n",
       "      <th id=\"T_8ea73_level0_row5\" class=\"row_heading level0 row5\" >4</th>\n",
       "      <td id=\"T_8ea73_row5_col0\" class=\"data row5 col0\" >TA</td>\n",
       "      <td id=\"T_8ea73_row5_col1\" class=\"data row5 col1\" >Fa</td>\n",
       "      <td id=\"T_8ea73_row5_col2\" class=\"data row5 col2\" >7.8e-07</td>\n",
       "      <td id=\"T_8ea73_row5_col3\" class=\"data row5 col3\" >4.97</td>\n",
       "      <td id=\"T_8ea73_row5_col4\" class=\"data row5 col4\" >920</td>\n",
       "    </tr>\n",
       "  </tbody>\n",
       "</table>\n"
      ],
      "text/plain": [
       "<pandas.io.formats.style.Styler at 0x1c006104830>"
      ]
     },
     "execution_count": 31,
     "metadata": {},
     "output_type": "execute_result"
    }
   ],
   "source": [
    "a=series_ttest2(series_dict(df_tr[['ExterQual','SalePrice']]))\n",
    "a.sort_values(by=['p value']).style.format({'p value': '{:.2g}','statistic':'{:.2f}','df':'{:.0f}'})"
   ]
  },
  {
   "cell_type": "markdown",
   "metadata": {},
   "source": [
    "viz_response_by_feat_category will plot all the category feature in violin plot. Example for 'ExterCond' (Exterior material quality) is shown below:\n",
    "\n",
    "![alt text](Assets/ExterQual.png)"
   ]
  },
  {
   "cell_type": "markdown",
   "metadata": {},
   "source": [
    "viz_response_by_feat_category function will plot the features found reject the h0 hypothesis."
   ]
  },
  {
   "cell_type": "code",
   "execution_count": 32,
   "metadata": {},
   "outputs": [],
   "source": [
    "def viz_response_by_feat_category(df,ttest_result,target_response):\n",
    "    for i in ttest_result['feat']:\n",
    "        plt.figure(figsize=(10,5))\n",
    "        sns.violinplot(df,x=i, y=target_response)\n",
    "        plt.title(f\"{i} vs {target_response}\")\n",
    "        plt.xticks(rotation=90)"
   ]
  },
  {
   "cell_type": "code",
   "execution_count": null,
   "metadata": {},
   "outputs": [],
   "source": [
    "viz_response_by_feat_category(df_tr,cat_feat_result,'SalePrice')"
   ]
  },
  {
   "cell_type": "markdown",
   "metadata": {},
   "source": [
    "Deeper look on individual feature\n",
    "Inspect feature value normality by normal test and viz"
   ]
  },
  {
   "cell_type": "code",
   "execution_count": 39,
   "metadata": {},
   "outputs": [],
   "source": [
    "def viz_series_dist(df,feat,target_response):\n",
    "    df1=df[[feat,target_response]]\n",
    "    a=series_dict(df1)\n",
    "    for i in a.keys():\n",
    "        nor=stats.normaltest(a[i])\n",
    "        print('feature:',feat,'feat_val:',i,': p value:%.2g statistic:%.2f'%(nor.pvalue,nor.statistic))\n",
    "        \n",
    "        fig, ax = plt.subplots()\n",
    "        n, bins, patches = ax.hist(a[i], 30, density=True)\n",
    "        ax.set_xlabel('Value')\n",
    "        ax.set_ylabel('Probability density')\n",
    "        ax.set_title(f'{feat}_Feature_Value: {i} Distribution')\n",
    "        fig.tight_layout()\n",
    "        plt.show()\n",
    "    "
   ]
  },
  {
   "cell_type": "markdown",
   "metadata": {},
   "source": [
    "Most of the 'ExterQual' values are normally distributed"
   ]
  },
  {
   "cell_type": "code",
   "execution_count": 40,
   "metadata": {},
   "outputs": [
    {
     "name": "stdout",
     "output_type": "stream",
     "text": [
      "feature: ExterQual feat_val: Gd : p value:7.9e-48 statistic:216.92\n"
     ]
    },
    {
     "data": {
      "image/png": "[encoded data removed]",
      "text/plain": [
       "<Figure size 640x480 with 1 Axes>"
      ]
     },
     "metadata": {},
     "output_type": "display_data"
    },
    {
     "name": "stdout",
     "output_type": "stream",
     "text": [
      "feature: ExterQual feat_val: TA : p value:2.8e-47 statistic:214.35\n"
     ]
    },
    {
     "data": {
      "image/png": "[encoded data removed]",
      "text/plain": [
       "<Figure size 640x480 with 1 Axes>"
      ]
     },
     "metadata": {},
     "output_type": "display_data"
    },
    {
     "name": "stdout",
     "output_type": "stream",
     "text": [
      "feature: ExterQual feat_val: Ex : p value:0.011 statistic:8.97\n"
     ]
    },
    {
     "data": {
      "image/png": "[encoded data removed]",
      "text/plain": [
       "<Figure size 640x480 with 1 Axes>"
      ]
     },
     "metadata": {},
     "output_type": "display_data"
    },
    {
     "name": "stdout",
     "output_type": "stream",
     "text": [
      "feature: ExterQual feat_val: Fa : p value:0.0018 statistic:12.69\n"
     ]
    },
    {
     "data": {
      "image/png": "[encoded data removed]",
      "text/plain": [
       "<Figure size 640x480 with 1 Axes>"
      ]
     },
     "metadata": {},
     "output_type": "display_data"
    }
   ],
   "source": [
    "viz_series_dist(df_tr,'ExterQual','SalePrice')"
   ]
  },
  {
   "cell_type": "markdown",
   "metadata": {},
   "source": [
    "Data transformation"
   ]
  },
  {
   "cell_type": "code",
   "execution_count": null,
   "metadata": {},
   "outputs": [],
   "source": [
    "def conversion1(df,col):\n",
    "    tr=df.copy()\n",
    "    for i in col:\n",
    "        tr=tr.replace(\n",
    "            {\n",
    "                np.nan:0,\n",
    "                'Po':1,\n",
    "                'Fa':2,\n",
    "                'TA':3,\n",
    "                'Gd':4,\n",
    "                'Ex':5\n",
    "            }\n",
    "        )\n",
    "    return tr\n",
    "\n",
    "def conversion2(df,col):\n",
    "    tr=df.copy()\n",
    "    for i in col:\n",
    "        tr=tr.replace(\n",
    "            {\n",
    "                np.nan:0,\n",
    "                'No':1,\n",
    "                'Mn':2,\n",
    "                'Av':3,\n",
    "                'Gd':4,\n",
    "            }\n",
    "        )\n",
    "    return tr\n",
    "\n",
    "def conversion3(df,col):\n",
    "    tr=df.copy()\n",
    "    for i in col:\n",
    "        tr=tr.replace(\n",
    "            {\n",
    "                np.nan:0,\n",
    "                'Unf':1,\n",
    "                'LwQ':2,\n",
    "                'Rec':3,\n",
    "                'BLQ':4,\n",
    "                'ALQ':5,\n",
    "                'GLA':6\n",
    "            }\n",
    "        )\n",
    "    return tr\n",
    "\n",
    "def conversion4(df,col):\n",
    "    tr=df.copy()\n",
    "    for i in col:\n",
    "        tr=tr.replace(\n",
    "            {\n",
    "                np.nan:0,\n",
    "                'MnWw':1,\n",
    "                'GdWo':2,\n",
    "                'MnPrv':3,\n",
    "                'GdPrv':4,\n",
    "            }\n",
    "        )\n",
    "    return tr\n",
    "\n",
    "def conversion5(df,col):\n",
    "    tr=tr.replace({np.nan:0})\n",
    "    return tr\n",
    "\n",
    "#grouping different feature for understanding and prepare for transformation. Remove ID, hard code ohe encoder and ordinal encoder feat (ord)\n",
    "#the hard code features are based on the understanding from the given feature description \n",
    "binary_feat=['Street',  \n",
    "             'CentralAir',\n",
    "             ]\n",
    "\n",
    "conversion1_feat=['ExterQual',\n",
    "                 'ExterCond',\n",
    "                 'BsmtQual',\n",
    "                 'BsmtCond',\n",
    "                 'HeatingQC',\n",
    "                 'KitchenQual',\n",
    "                 'FireplaceQu',\n",
    "                 'GarageQual',\n",
    "                 'GarageCond',\n",
    "                 'PoolQC',\n",
    "                 ]\n",
    "\n",
    "conversion2_feat=['BsmtExposure',\n",
    "                  ]\n",
    "\n",
    "conversion3_feat=['BsmtFinType1',\n",
    "                  'BsmtFinType2'\n",
    "                  ]\n",
    "\n",
    "conversion4_feat=['Fence']\n",
    "\n",
    "conversion5_feat=['MiscFeature']\n",
    "\n",
    "ord_feat=['OverallQual',\n",
    "          'OverallCond',\n",
    "          'ExterQual',\n",
    "          'ExterCond',\n",
    "          'KitchenQual',\n",
    "          'BsmtQual',\n",
    "          'YearBuilt',\n",
    "          'YearRemodAdd',\n",
    "          'MoSold',\n",
    "          'YrSold',\n",
    "          'BsmtFullBath',\n",
    "          'BsmtHalfBath',\n",
    "          'FullBath',\n",
    "          'HalfBath',\n",
    "          'BedroomAbvGr',\n",
    "          'KitchenAbvGr',\n",
    "          'TotRmsAbvGrd',\n",
    "          'Fireplaces',\n",
    "          'GarageYrBlt',\n",
    "          ]\n",
    "\n",
    "for i in ohe_feat:\n",
    "    feat=feat.drop([i],axis=1)\n",
    "for i in ord_feat:\n",
    "    feat=feat.drop([i],axis=1)\n"
   ]
  },
  {
   "cell_type": "code",
   "execution_count": 73,
   "metadata": {},
   "outputs": [],
   "source": [
    "def cat_to_rating_conversion(df):\n",
    "    tr=df.copy()    \n",
    "    conversion1_feat=['ExterQual',\n",
    "                 'ExterCond',\n",
    "                 'BsmtQual',\n",
    "                 'BsmtCond',\n",
    "                 'HeatingQC',\n",
    "                 'KitchenQual',\n",
    "                 'FireplaceQu',\n",
    "                 'GarageQual',\n",
    "                 'GarageCond',\n",
    "                 'PoolQC',\n",
    "                 ]\n",
    "    tr1=tr[conversion1_feat]\n",
    "    for i in tr1.columns:\n",
    "        tr1=tr1.replace(\n",
    "            {\n",
    "                np.nan:0,\n",
    "                'Po':1,\n",
    "                'Fa':2,\n",
    "                'TA':3,\n",
    "                'Gd':4,\n",
    "                'Ex':5\n",
    "            }\n",
    "        )\n",
    "\n",
    "    conversion2_feat=['BsmtExposure',\n",
    "                  ]\n",
    "    tr2=tr[conversion2_feat]\n",
    "    for i in tr2.columns:\n",
    "        tr2=tr2.replace(\n",
    "            {\n",
    "                np.nan:0,\n",
    "                'No':1,\n",
    "                'Mn':2,\n",
    "                'Av':3,\n",
    "                'Gd':4,\n",
    "            }\n",
    "        )\n",
    "\n",
    "    conversion3_feat=['BsmtFinType1',\n",
    "                  'BsmtFinType2'\n",
    "                  ]\n",
    "    tr3=tr[conversion3_feat]\n",
    "    for i in tr3.columns:\n",
    "        tr3=tr3.replace(\n",
    "            {\n",
    "                np.nan:0,\n",
    "                'Unf':1,\n",
    "                'LwQ':2,\n",
    "                'Rec':3,\n",
    "                'BLQ':4,\n",
    "                'ALQ':5,\n",
    "                'GLQ':6\n",
    "            }\n",
    "        )\n",
    "\n",
    "    conversion4_feat=['Fence']\n",
    "    tr4=tr[conversion4_feat]\n",
    "    for i in tr4.columns:\n",
    "        tr4=tr4.replace(\n",
    "            {\n",
    "                np.nan:0,\n",
    "                'MnWw':1,\n",
    "                'GdWo':2,\n",
    "                'MnPrv':3,\n",
    "                'GdPrv':4,\n",
    "            }\n",
    "        )\n",
    "    return pd.concat([tr1,tr2,tr3,tr4],axis=1)\n"
   ]
  },
  {
   "cell_type": "code",
   "execution_count": 78,
   "metadata": {},
   "outputs": [],
   "source": [
    "rating_df=cat_to_rating_conversion(df_tr)"
   ]
  },
  {
   "cell_type": "code",
   "execution_count": 79,
   "metadata": {},
   "outputs": [
    {
     "data": {
      "text/html": [
       "<div>\n",
       "<style scoped>\n",
       "    .dataframe tbody tr th:only-of-type {\n",
       "        vertical-align: middle;\n",
       "    }\n",
       "\n",
       "    .dataframe tbody tr th {\n",
       "        vertical-align: top;\n",
       "    }\n",
       "\n",
       "    .dataframe thead th {\n",
       "        text-align: right;\n",
       "    }\n",
       "</style>\n",
       "<table border=\"1\" class=\"dataframe\">\n",
       "  <thead>\n",
       "    <tr style=\"text-align: right;\">\n",
       "      <th></th>\n",
       "      <th>ExterQual</th>\n",
       "      <th>ExterCond</th>\n",
       "      <th>BsmtQual</th>\n",
       "      <th>BsmtCond</th>\n",
       "      <th>HeatingQC</th>\n",
       "      <th>KitchenQual</th>\n",
       "      <th>FireplaceQu</th>\n",
       "      <th>GarageQual</th>\n",
       "      <th>GarageCond</th>\n",
       "      <th>PoolQC</th>\n",
       "      <th>BsmtExposure</th>\n",
       "      <th>BsmtFinType1</th>\n",
       "      <th>BsmtFinType2</th>\n",
       "      <th>Fence</th>\n",
       "    </tr>\n",
       "  </thead>\n",
       "  <tbody>\n",
       "    <tr>\n",
       "      <th>0</th>\n",
       "      <td>4</td>\n",
       "      <td>3</td>\n",
       "      <td>4</td>\n",
       "      <td>3</td>\n",
       "      <td>5</td>\n",
       "      <td>4</td>\n",
       "      <td>0</td>\n",
       "      <td>3</td>\n",
       "      <td>3</td>\n",
       "      <td>0</td>\n",
       "      <td>1</td>\n",
       "      <td>6</td>\n",
       "      <td>1</td>\n",
       "      <td>0</td>\n",
       "    </tr>\n",
       "    <tr>\n",
       "      <th>1</th>\n",
       "      <td>3</td>\n",
       "      <td>3</td>\n",
       "      <td>4</td>\n",
       "      <td>3</td>\n",
       "      <td>5</td>\n",
       "      <td>3</td>\n",
       "      <td>3</td>\n",
       "      <td>3</td>\n",
       "      <td>3</td>\n",
       "      <td>0</td>\n",
       "      <td>4</td>\n",
       "      <td>5</td>\n",
       "      <td>1</td>\n",
       "      <td>0</td>\n",
       "    </tr>\n",
       "    <tr>\n",
       "      <th>2</th>\n",
       "      <td>4</td>\n",
       "      <td>3</td>\n",
       "      <td>4</td>\n",
       "      <td>3</td>\n",
       "      <td>5</td>\n",
       "      <td>4</td>\n",
       "      <td>3</td>\n",
       "      <td>3</td>\n",
       "      <td>3</td>\n",
       "      <td>0</td>\n",
       "      <td>2</td>\n",
       "      <td>6</td>\n",
       "      <td>1</td>\n",
       "      <td>0</td>\n",
       "    </tr>\n",
       "    <tr>\n",
       "      <th>3</th>\n",
       "      <td>3</td>\n",
       "      <td>3</td>\n",
       "      <td>3</td>\n",
       "      <td>4</td>\n",
       "      <td>4</td>\n",
       "      <td>4</td>\n",
       "      <td>4</td>\n",
       "      <td>3</td>\n",
       "      <td>3</td>\n",
       "      <td>0</td>\n",
       "      <td>1</td>\n",
       "      <td>5</td>\n",
       "      <td>1</td>\n",
       "      <td>0</td>\n",
       "    </tr>\n",
       "    <tr>\n",
       "      <th>4</th>\n",
       "      <td>4</td>\n",
       "      <td>3</td>\n",
       "      <td>4</td>\n",
       "      <td>3</td>\n",
       "      <td>5</td>\n",
       "      <td>4</td>\n",
       "      <td>3</td>\n",
       "      <td>3</td>\n",
       "      <td>3</td>\n",
       "      <td>0</td>\n",
       "      <td>3</td>\n",
       "      <td>6</td>\n",
       "      <td>1</td>\n",
       "      <td>0</td>\n",
       "    </tr>\n",
       "    <tr>\n",
       "      <th>...</th>\n",
       "      <td>...</td>\n",
       "      <td>...</td>\n",
       "      <td>...</td>\n",
       "      <td>...</td>\n",
       "      <td>...</td>\n",
       "      <td>...</td>\n",
       "      <td>...</td>\n",
       "      <td>...</td>\n",
       "      <td>...</td>\n",
       "      <td>...</td>\n",
       "      <td>...</td>\n",
       "      <td>...</td>\n",
       "      <td>...</td>\n",
       "      <td>...</td>\n",
       "    </tr>\n",
       "    <tr>\n",
       "      <th>1455</th>\n",
       "      <td>3</td>\n",
       "      <td>3</td>\n",
       "      <td>4</td>\n",
       "      <td>3</td>\n",
       "      <td>5</td>\n",
       "      <td>3</td>\n",
       "      <td>3</td>\n",
       "      <td>3</td>\n",
       "      <td>3</td>\n",
       "      <td>0</td>\n",
       "      <td>1</td>\n",
       "      <td>1</td>\n",
       "      <td>1</td>\n",
       "      <td>0</td>\n",
       "    </tr>\n",
       "    <tr>\n",
       "      <th>1456</th>\n",
       "      <td>3</td>\n",
       "      <td>3</td>\n",
       "      <td>4</td>\n",
       "      <td>3</td>\n",
       "      <td>3</td>\n",
       "      <td>3</td>\n",
       "      <td>3</td>\n",
       "      <td>3</td>\n",
       "      <td>3</td>\n",
       "      <td>0</td>\n",
       "      <td>1</td>\n",
       "      <td>5</td>\n",
       "      <td>3</td>\n",
       "      <td>3</td>\n",
       "    </tr>\n",
       "    <tr>\n",
       "      <th>1457</th>\n",
       "      <td>5</td>\n",
       "      <td>4</td>\n",
       "      <td>3</td>\n",
       "      <td>4</td>\n",
       "      <td>5</td>\n",
       "      <td>4</td>\n",
       "      <td>4</td>\n",
       "      <td>3</td>\n",
       "      <td>3</td>\n",
       "      <td>0</td>\n",
       "      <td>1</td>\n",
       "      <td>6</td>\n",
       "      <td>1</td>\n",
       "      <td>4</td>\n",
       "    </tr>\n",
       "    <tr>\n",
       "      <th>1458</th>\n",
       "      <td>3</td>\n",
       "      <td>3</td>\n",
       "      <td>3</td>\n",
       "      <td>3</td>\n",
       "      <td>4</td>\n",
       "      <td>4</td>\n",
       "      <td>0</td>\n",
       "      <td>3</td>\n",
       "      <td>3</td>\n",
       "      <td>0</td>\n",
       "      <td>2</td>\n",
       "      <td>6</td>\n",
       "      <td>3</td>\n",
       "      <td>0</td>\n",
       "    </tr>\n",
       "    <tr>\n",
       "      <th>1459</th>\n",
       "      <td>4</td>\n",
       "      <td>3</td>\n",
       "      <td>3</td>\n",
       "      <td>3</td>\n",
       "      <td>4</td>\n",
       "      <td>3</td>\n",
       "      <td>0</td>\n",
       "      <td>3</td>\n",
       "      <td>3</td>\n",
       "      <td>0</td>\n",
       "      <td>1</td>\n",
       "      <td>4</td>\n",
       "      <td>2</td>\n",
       "      <td>0</td>\n",
       "    </tr>\n",
       "  </tbody>\n",
       "</table>\n",
       "<p>1460 rows × 14 columns</p>\n",
       "</div>"
      ],
      "text/plain": [
       "      ExterQual  ExterCond  BsmtQual  BsmtCond  HeatingQC  KitchenQual  \\\n",
       "0             4          3         4         3          5            4   \n",
       "1             3          3         4         3          5            3   \n",
       "2             4          3         4         3          5            4   \n",
       "3             3          3         3         4          4            4   \n",
       "4             4          3         4         3          5            4   \n",
       "...         ...        ...       ...       ...        ...          ...   \n",
       "1455          3          3         4         3          5            3   \n",
       "1456          3          3         4         3          3            3   \n",
       "1457          5          4         3         4          5            4   \n",
       "1458          3          3         3         3          4            4   \n",
       "1459          4          3         3         3          4            3   \n",
       "\n",
       "      FireplaceQu  GarageQual  GarageCond  PoolQC  BsmtExposure  BsmtFinType1  \\\n",
       "0               0           3           3       0             1             6   \n",
       "1               3           3           3       0             4             5   \n",
       "2               3           3           3       0             2             6   \n",
       "3               4           3           3       0             1             5   \n",
       "4               3           3           3       0             3             6   \n",
       "...           ...         ...         ...     ...           ...           ...   \n",
       "1455            3           3           3       0             1             1   \n",
       "1456            3           3           3       0             1             5   \n",
       "1457            4           3           3       0             1             6   \n",
       "1458            0           3           3       0             2             6   \n",
       "1459            0           3           3       0             1             4   \n",
       "\n",
       "      BsmtFinType2  Fence  \n",
       "0                1      0  \n",
       "1                1      0  \n",
       "2                1      0  \n",
       "3                1      0  \n",
       "4                1      0  \n",
       "...            ...    ...  \n",
       "1455             1      0  \n",
       "1456             3      3  \n",
       "1457             1      4  \n",
       "1458             3      0  \n",
       "1459             2      0  \n",
       "\n",
       "[1460 rows x 14 columns]"
      ]
     },
     "execution_count": 79,
     "metadata": {},
     "output_type": "execute_result"
    }
   ],
   "source": [
    "rating_df"
   ]
  },
  {
   "cell_type": "markdown",
   "metadata": {},
   "source": [
    "After convert 'Nan' into rating based on the data description, there is no more 'missing value'."
   ]
  },
  {
   "cell_type": "code",
   "execution_count": 80,
   "metadata": {},
   "outputs": [
    {
     "name": "stdout",
     "output_type": "stream",
     "text": [
      "Top 10 features with highest missing value\n"
     ]
    },
    {
     "data": {
      "text/html": [
       "<div>\n",
       "<style scoped>\n",
       "    .dataframe tbody tr th:only-of-type {\n",
       "        vertical-align: middle;\n",
       "    }\n",
       "\n",
       "    .dataframe tbody tr th {\n",
       "        vertical-align: top;\n",
       "    }\n",
       "\n",
       "    .dataframe thead th {\n",
       "        text-align: right;\n",
       "    }\n",
       "</style>\n",
       "<table border=\"1\" class=\"dataframe\">\n",
       "  <thead>\n",
       "    <tr style=\"text-align: right;\">\n",
       "      <th></th>\n",
       "      <th>Feature</th>\n",
       "      <th>Total Transaction</th>\n",
       "      <th>Transaction with Missing Value</th>\n",
       "      <th>Missing %</th>\n",
       "    </tr>\n",
       "  </thead>\n",
       "  <tbody>\n",
       "    <tr>\n",
       "      <th>0</th>\n",
       "      <td>ExterQual</td>\n",
       "      <td>1460</td>\n",
       "      <td>0</td>\n",
       "      <td>0.0</td>\n",
       "    </tr>\n",
       "    <tr>\n",
       "      <th>1</th>\n",
       "      <td>ExterCond</td>\n",
       "      <td>1460</td>\n",
       "      <td>0</td>\n",
       "      <td>0.0</td>\n",
       "    </tr>\n",
       "    <tr>\n",
       "      <th>2</th>\n",
       "      <td>BsmtQual</td>\n",
       "      <td>1460</td>\n",
       "      <td>0</td>\n",
       "      <td>0.0</td>\n",
       "    </tr>\n",
       "    <tr>\n",
       "      <th>3</th>\n",
       "      <td>BsmtCond</td>\n",
       "      <td>1460</td>\n",
       "      <td>0</td>\n",
       "      <td>0.0</td>\n",
       "    </tr>\n",
       "    <tr>\n",
       "      <th>4</th>\n",
       "      <td>HeatingQC</td>\n",
       "      <td>1460</td>\n",
       "      <td>0</td>\n",
       "      <td>0.0</td>\n",
       "    </tr>\n",
       "    <tr>\n",
       "      <th>5</th>\n",
       "      <td>KitchenQual</td>\n",
       "      <td>1460</td>\n",
       "      <td>0</td>\n",
       "      <td>0.0</td>\n",
       "    </tr>\n",
       "    <tr>\n",
       "      <th>6</th>\n",
       "      <td>FireplaceQu</td>\n",
       "      <td>1460</td>\n",
       "      <td>0</td>\n",
       "      <td>0.0</td>\n",
       "    </tr>\n",
       "    <tr>\n",
       "      <th>7</th>\n",
       "      <td>GarageQual</td>\n",
       "      <td>1460</td>\n",
       "      <td>0</td>\n",
       "      <td>0.0</td>\n",
       "    </tr>\n",
       "    <tr>\n",
       "      <th>8</th>\n",
       "      <td>GarageCond</td>\n",
       "      <td>1460</td>\n",
       "      <td>0</td>\n",
       "      <td>0.0</td>\n",
       "    </tr>\n",
       "    <tr>\n",
       "      <th>9</th>\n",
       "      <td>PoolQC</td>\n",
       "      <td>1460</td>\n",
       "      <td>0</td>\n",
       "      <td>0.0</td>\n",
       "    </tr>\n",
       "  </tbody>\n",
       "</table>\n",
       "</div>"
      ],
      "text/plain": [
       "       Feature  Total Transaction  Transaction with Missing Value  Missing %\n",
       "0    ExterQual               1460                               0        0.0\n",
       "1    ExterCond               1460                               0        0.0\n",
       "2     BsmtQual               1460                               0        0.0\n",
       "3     BsmtCond               1460                               0        0.0\n",
       "4    HeatingQC               1460                               0        0.0\n",
       "5  KitchenQual               1460                               0        0.0\n",
       "6  FireplaceQu               1460                               0        0.0\n",
       "7   GarageQual               1460                               0        0.0\n",
       "8   GarageCond               1460                               0        0.0\n",
       "9       PoolQC               1460                               0        0.0"
      ]
     },
     "metadata": {},
     "output_type": "display_data"
    },
    {
     "data": {
      "application/vnd.plotly.v1+json": {
       "config": {
        "plotlyServerURL": "https://plot.ly"
       },
       "data": [
        {
         "hovertemplate": "Missing %=%{x}<br>probability=%{y}<extra></extra>",
         "legendgroup": "",
         "line": {
          "dash": "solid",
          "shape": "hv"
         },
         "marker": {
          "color": "#636efa",
          "symbol": "circle"
         },
         "mode": "lines",
         "name": "",
         "orientation": "v",
         "showlegend": false,
         "type": "scatter",
         "x": [
          0,
          0,
          0,
          0,
          0,
          0,
          0,
          0,
          0,
          0,
          0,
          0,
          0,
          0
         ],
         "xaxis": "x",
         "y": [
          0.07142857142857142,
          0.14285714285714285,
          0.21428571428571427,
          0.2857142857142857,
          0.35714285714285715,
          0.42857142857142855,
          0.5,
          0.5714285714285714,
          0.6428571428571429,
          0.7142857142857143,
          0.7857142857142857,
          0.8571428571428571,
          0.9285714285714286,
          1
         ],
         "yaxis": "y"
        },
        {
         "alignmentgroup": "True",
         "bingroup": "x",
         "hovertemplate": "Missing %=%{x}<br>count=%{y}<extra></extra>",
         "legendgroup": "",
         "marker": {
          "color": "#636efa"
         },
         "name": "",
         "offsetgroup": "",
         "opacity": 0.5,
         "showlegend": false,
         "type": "histogram",
         "x": [
          0,
          0,
          0,
          0,
          0,
          0,
          0,
          0,
          0,
          0,
          0,
          0,
          0,
          0
         ],
         "xaxis": "x2",
         "yaxis": "y2"
        }
       ],
       "layout": {
        "barmode": "overlay",
        "legend": {
         "tracegroupgap": 0
        },
        "template": {
         "data": {
          "bar": [
           {
            "error_x": {
             "color": "#2a3f5f"
            },
            "error_y": {
             "color": "#2a3f5f"
            },
            "marker": {
             "line": {
              "color": "#E5ECF6",
              "width": 0.5
             },
             "pattern": {
              "fillmode": "overlay",
              "size": 10,
              "solidity": 0.2
             }
            },
            "type": "bar"
           }
          ],
          "barpolar": [
           {
            "marker": {
             "line": {
              "color": "#E5ECF6",
              "width": 0.5
             },
             "pattern": {
              "fillmode": "overlay",
              "size": 10,
              "solidity": 0.2
             }
            },
            "type": "barpolar"
           }
          ],
          "carpet": [
           {
            "aaxis": {
             "endlinecolor": "#2a3f5f",
             "gridcolor": "white",
             "linecolor": "white",
             "minorgridcolor": "white",
             "startlinecolor": "#2a3f5f"
            },
            "baxis": {
             "endlinecolor": "#2a3f5f",
             "gridcolor": "white",
             "linecolor": "white",
             "minorgridcolor": "white",
             "startlinecolor": "#2a3f5f"
            },
            "type": "carpet"
           }
          ],
          "choropleth": [
           {
            "colorbar": {
             "outlinewidth": 0,
             "ticks": ""
            },
            "type": "choropleth"
           }
          ],
          "contour": [
           {
            "colorbar": {
             "outlinewidth": 0,
             "ticks": ""
            },
            "colorscale": [
             [
              0,
              "#0d0887"
             ],
             [
              0.1111111111111111,
              "#46039f"
             ],
             [
              0.2222222222222222,
              "#7201a8"
             ],
             [
              0.3333333333333333,
              "#9c179e"
             ],
             [
              0.4444444444444444,
              "#bd3786"
             ],
             [
              0.5555555555555556,
              "#d8576b"
             ],
             [
              0.6666666666666666,
              "#ed7953"
             ],
             [
              0.7777777777777778,
              "#fb9f3a"
             ],
             [
              0.8888888888888888,
              "#fdca26"
             ],
             [
              1,
              "#f0f921"
             ]
            ],
            "type": "contour"
           }
          ],
          "contourcarpet": [
           {
            "colorbar": {
             "outlinewidth": 0,
             "ticks": ""
            },
            "type": "contourcarpet"
           }
          ],
          "heatmap": [
           {
            "colorbar": {
             "outlinewidth": 0,
             "ticks": ""
            },
            "colorscale": [
             [
              0,
              "#0d0887"
             ],
             [
              0.1111111111111111,
              "#46039f"
             ],
             [
              0.2222222222222222,
              "#7201a8"
             ],
             [
              0.3333333333333333,
              "#9c179e"
             ],
             [
              0.4444444444444444,
              "#bd3786"
             ],
             [
              0.5555555555555556,
              "#d8576b"
             ],
             [
              0.6666666666666666,
              "#ed7953"
             ],
             [
              0.7777777777777778,
              "#fb9f3a"
             ],
             [
              0.8888888888888888,
              "#fdca26"
             ],
             [
              1,
              "#f0f921"
             ]
            ],
            "type": "heatmap"
           }
          ],
          "heatmapgl": [
           {
            "colorbar": {
             "outlinewidth": 0,
             "ticks": ""
            },
            "colorscale": [
             [
              0,
              "#0d0887"
             ],
             [
              0.1111111111111111,
              "#46039f"
             ],
             [
              0.2222222222222222,
              "#7201a8"
             ],
             [
              0.3333333333333333,
              "#9c179e"
             ],
             [
              0.4444444444444444,
              "#bd3786"
             ],
             [
              0.5555555555555556,
              "#d8576b"
             ],
             [
              0.6666666666666666,
              "#ed7953"
             ],
             [
              0.7777777777777778,
              "#fb9f3a"
             ],
             [
              0.8888888888888888,
              "#fdca26"
             ],
             [
              1,
              "#f0f921"
             ]
            ],
            "type": "heatmapgl"
           }
          ],
          "histogram": [
           {
            "marker": {
             "pattern": {
              "fillmode": "overlay",
              "size": 10,
              "solidity": 0.2
             }
            },
            "type": "histogram"
           }
          ],
          "histogram2d": [
           {
            "colorbar": {
             "outlinewidth": 0,
             "ticks": ""
            },
            "colorscale": [
             [
              0,
              "#0d0887"
             ],
             [
              0.1111111111111111,
              "#46039f"
             ],
             [
              0.2222222222222222,
              "#7201a8"
             ],
             [
              0.3333333333333333,
              "#9c179e"
             ],
             [
              0.4444444444444444,
              "#bd3786"
             ],
             [
              0.5555555555555556,
              "#d8576b"
             ],
             [
              0.6666666666666666,
              "#ed7953"
             ],
             [
              0.7777777777777778,
              "#fb9f3a"
             ],
             [
              0.8888888888888888,
              "#fdca26"
             ],
             [
              1,
              "#f0f921"
             ]
            ],
            "type": "histogram2d"
           }
          ],
          "histogram2dcontour": [
           {
            "colorbar": {
             "outlinewidth": 0,
             "ticks": ""
            },
            "colorscale": [
             [
              0,
              "#0d0887"
             ],
             [
              0.1111111111111111,
              "#46039f"
             ],
             [
              0.2222222222222222,
              "#7201a8"
             ],
             [
              0.3333333333333333,
              "#9c179e"
             ],
             [
              0.4444444444444444,
              "#bd3786"
             ],
             [
              0.5555555555555556,
              "#d8576b"
             ],
             [
              0.6666666666666666,
              "#ed7953"
             ],
             [
              0.7777777777777778,
              "#fb9f3a"
             ],
             [
              0.8888888888888888,
              "#fdca26"
             ],
             [
              1,
              "#f0f921"
             ]
            ],
            "type": "histogram2dcontour"
           }
          ],
          "mesh3d": [
           {
            "colorbar": {
             "outlinewidth": 0,
             "ticks": ""
            },
            "type": "mesh3d"
           }
          ],
          "parcoords": [
           {
            "line": {
             "colorbar": {
              "outlinewidth": 0,
              "ticks": ""
             }
            },
            "type": "parcoords"
           }
          ],
          "pie": [
           {
            "automargin": true,
            "type": "pie"
           }
          ],
          "scatter": [
           {
            "fillpattern": {
             "fillmode": "overlay",
             "size": 10,
             "solidity": 0.2
            },
            "type": "scatter"
           }
          ],
          "scatter3d": [
           {
            "line": {
             "colorbar": {
              "outlinewidth": 0,
              "ticks": ""
             }
            },
            "marker": {
             "colorbar": {
              "outlinewidth": 0,
              "ticks": ""
             }
            },
            "type": "scatter3d"
           }
          ],
          "scattercarpet": [
           {
            "marker": {
             "colorbar": {
              "outlinewidth": 0,
              "ticks": ""
             }
            },
            "type": "scattercarpet"
           }
          ],
          "scattergeo": [
           {
            "marker": {
             "colorbar": {
              "outlinewidth": 0,
              "ticks": ""
             }
            },
            "type": "scattergeo"
           }
          ],
          "scattergl": [
           {
            "marker": {
             "colorbar": {
              "outlinewidth": 0,
              "ticks": ""
             }
            },
            "type": "scattergl"
           }
          ],
          "scattermapbox": [
           {
            "marker": {
             "colorbar": {
              "outlinewidth": 0,
              "ticks": ""
             }
            },
            "type": "scattermapbox"
           }
          ],
          "scatterpolar": [
           {
            "marker": {
             "colorbar": {
              "outlinewidth": 0,
              "ticks": ""
             }
            },
            "type": "scatterpolar"
           }
          ],
          "scatterpolargl": [
           {
            "marker": {
             "colorbar": {
              "outlinewidth": 0,
              "ticks": ""
             }
            },
            "type": "scatterpolargl"
           }
          ],
          "scatterternary": [
           {
            "marker": {
             "colorbar": {
              "outlinewidth": 0,
              "ticks": ""
             }
            },
            "type": "scatterternary"
           }
          ],
          "surface": [
           {
            "colorbar": {
             "outlinewidth": 0,
             "ticks": ""
            },
            "colorscale": [
             [
              0,
              "#0d0887"
             ],
             [
              0.1111111111111111,
              "#46039f"
             ],
             [
              0.2222222222222222,
              "#7201a8"
             ],
             [
              0.3333333333333333,
              "#9c179e"
             ],
             [
              0.4444444444444444,
              "#bd3786"
             ],
             [
              0.5555555555555556,
              "#d8576b"
             ],
             [
              0.6666666666666666,
              "#ed7953"
             ],
             [
              0.7777777777777778,
              "#fb9f3a"
             ],
             [
              0.8888888888888888,
              "#fdca26"
             ],
             [
              1,
              "#f0f921"
             ]
            ],
            "type": "surface"
           }
          ],
          "table": [
           {
            "cells": {
             "fill": {
              "color": "#EBF0F8"
             },
             "line": {
              "color": "white"
             }
            },
            "header": {
             "fill": {
              "color": "#C8D4E3"
             },
             "line": {
              "color": "white"
             }
            },
            "type": "table"
           }
          ]
         },
         "layout": {
          "annotationdefaults": {
           "arrowcolor": "#2a3f5f",
           "arrowhead": 0,
           "arrowwidth": 1
          },
          "autotypenumbers": "strict",
          "coloraxis": {
           "colorbar": {
            "outlinewidth": 0,
            "ticks": ""
           }
          },
          "colorscale": {
           "diverging": [
            [
             0,
             "#8e0152"
            ],
            [
             0.1,
             "#c51b7d"
            ],
            [
             0.2,
             "#de77ae"
            ],
            [
             0.3,
             "#f1b6da"
            ],
            [
             0.4,
             "#fde0ef"
            ],
            [
             0.5,
             "#f7f7f7"
            ],
            [
             0.6,
             "#e6f5d0"
            ],
            [
             0.7,
             "#b8e186"
            ],
            [
             0.8,
             "#7fbc41"
            ],
            [
             0.9,
             "#4d9221"
            ],
            [
             1,
             "#276419"
            ]
           ],
           "sequential": [
            [
             0,
             "#0d0887"
            ],
            [
             0.1111111111111111,
             "#46039f"
            ],
            [
             0.2222222222222222,
             "#7201a8"
            ],
            [
             0.3333333333333333,
             "#9c179e"
            ],
            [
             0.4444444444444444,
             "#bd3786"
            ],
            [
             0.5555555555555556,
             "#d8576b"
            ],
            [
             0.6666666666666666,
             "#ed7953"
            ],
            [
             0.7777777777777778,
             "#fb9f3a"
            ],
            [
             0.8888888888888888,
             "#fdca26"
            ],
            [
             1,
             "#f0f921"
            ]
           ],
           "sequentialminus": [
            [
             0,
             "#0d0887"
            ],
            [
             0.1111111111111111,
             "#46039f"
            ],
            [
             0.2222222222222222,
             "#7201a8"
            ],
            [
             0.3333333333333333,
             "#9c179e"
            ],
            [
             0.4444444444444444,
             "#bd3786"
            ],
            [
             0.5555555555555556,
             "#d8576b"
            ],
            [
             0.6666666666666666,
             "#ed7953"
            ],
            [
             0.7777777777777778,
             "#fb9f3a"
            ],
            [
             0.8888888888888888,
             "#fdca26"
            ],
            [
             1,
             "#f0f921"
            ]
           ]
          },
          "colorway": [
           "#636efa",
           "#EF553B",
           "#00cc96",
           "#ab63fa",
           "#FFA15A",
           "#19d3f3",
           "#FF6692",
           "#B6E880",
           "#FF97FF",
           "#FECB52"
          ],
          "font": {
           "color": "#2a3f5f"
          },
          "geo": {
           "bgcolor": "white",
           "lakecolor": "white",
           "landcolor": "#E5ECF6",
           "showlakes": true,
           "showland": true,
           "subunitcolor": "white"
          },
          "hoverlabel": {
           "align": "left"
          },
          "hovermode": "closest",
          "mapbox": {
           "style": "light"
          },
          "paper_bgcolor": "white",
          "plot_bgcolor": "#E5ECF6",
          "polar": {
           "angularaxis": {
            "gridcolor": "white",
            "linecolor": "white",
            "ticks": ""
           },
           "bgcolor": "#E5ECF6",
           "radialaxis": {
            "gridcolor": "white",
            "linecolor": "white",
            "ticks": ""
           }
          },
          "scene": {
           "xaxis": {
            "backgroundcolor": "#E5ECF6",
            "gridcolor": "white",
            "gridwidth": 2,
            "linecolor": "white",
            "showbackground": true,
            "ticks": "",
            "zerolinecolor": "white"
           },
           "yaxis": {
            "backgroundcolor": "#E5ECF6",
            "gridcolor": "white",
            "gridwidth": 2,
            "linecolor": "white",
            "showbackground": true,
            "ticks": "",
            "zerolinecolor": "white"
           },
           "zaxis": {
            "backgroundcolor": "#E5ECF6",
            "gridcolor": "white",
            "gridwidth": 2,
            "linecolor": "white",
            "showbackground": true,
            "ticks": "",
            "zerolinecolor": "white"
           }
          },
          "shapedefaults": {
           "line": {
            "color": "#2a3f5f"
           }
          },
          "ternary": {
           "aaxis": {
            "gridcolor": "white",
            "linecolor": "white",
            "ticks": ""
           },
           "baxis": {
            "gridcolor": "white",
            "linecolor": "white",
            "ticks": ""
           },
           "bgcolor": "#E5ECF6",
           "caxis": {
            "gridcolor": "white",
            "linecolor": "white",
            "ticks": ""
           }
          },
          "title": {
           "x": 0.05
          },
          "xaxis": {
           "automargin": true,
           "gridcolor": "white",
           "linecolor": "white",
           "ticks": "",
           "title": {
            "standoff": 15
           },
           "zerolinecolor": "white",
           "zerolinewidth": 2
          },
          "yaxis": {
           "automargin": true,
           "gridcolor": "white",
           "linecolor": "white",
           "ticks": "",
           "title": {
            "standoff": 15
           },
           "zerolinecolor": "white",
           "zerolinewidth": 2
          }
         }
        },
        "title": {
         "text": "Cumulative Distribution of Feature(column) Missing Percentage"
        },
        "xaxis": {
         "anchor": "y",
         "domain": [
          0,
          1
         ],
         "title": {
          "text": "Missing %"
         }
        },
        "xaxis2": {
         "anchor": "y2",
         "domain": [
          0,
          1
         ],
         "matches": "x",
         "showgrid": true,
         "showticklabels": false
        },
        "yaxis": {
         "anchor": "x",
         "domain": [
          0,
          0.7326
         ],
         "title": {
          "text": "Accumulated Feature Density"
         }
        },
        "yaxis2": {
         "anchor": "x2",
         "domain": [
          0.7426,
          1
         ],
         "matches": "y2",
         "showgrid": true,
         "showline": false,
         "showticklabels": false,
         "ticks": ""
        }
       }
      }
     },
     "metadata": {},
     "output_type": "display_data"
    }
   ],
   "source": [
    "feat_missing_df=missing_feat(rating_df)"
   ]
  },
  {
   "cell_type": "code",
   "execution_count": 100,
   "metadata": {},
   "outputs": [],
   "source": []
  },
  {
   "cell_type": "code",
   "execution_count": 101,
   "metadata": {},
   "outputs": [],
   "source": []
  },
  {
   "cell_type": "code",
   "execution_count": 102,
   "metadata": {},
   "outputs": [
    {
     "data": {
      "text/plain": [
       "Index(['MSZoning', 'Street', 'Alley', 'LotShape', 'LandContour', 'Utilities',\n",
       "       'LotConfig', 'LandSlope', 'Neighborhood', 'Condition1', 'Condition2',\n",
       "       'BldgType', 'HouseStyle', 'RoofStyle', 'RoofMatl', 'Exterior1st',\n",
       "       'Exterior2nd', 'MasVnrType', 'Foundation', 'Heating', 'CentralAir',\n",
       "       'Electrical', 'Functional', 'GarageType', 'GarageFinish', 'PavedDrive',\n",
       "       'MiscFeature', 'SaleType', 'SaleCondition', 'MSSubClass'],\n",
       "      dtype='object')"
      ]
     },
     "execution_count": 102,
     "metadata": {},
     "output_type": "execute_result"
    }
   ],
   "source": [
    "cat_feat"
   ]
  },
  {
   "cell_type": "code",
   "execution_count": 103,
   "metadata": {},
   "outputs": [
    {
     "data": {
      "text/plain": [
       "Index(['LotFrontage', 'LotArea', 'OverallQual', 'OverallCond', 'YearBuilt',\n",
       "       'YearRemodAdd', 'MasVnrArea', 'BsmtFinSF1', 'BsmtFinSF2', 'BsmtUnfSF',\n",
       "       'TotalBsmtSF', '1stFlrSF', '2ndFlrSF', 'LowQualFinSF', 'GrLivArea',\n",
       "       'BsmtFullBath', 'BsmtHalfBath', 'FullBath', 'HalfBath', 'BedroomAbvGr',\n",
       "       'KitchenAbvGr', 'TotRmsAbvGrd', 'Fireplaces', 'GarageYrBlt',\n",
       "       'GarageCars', 'GarageArea', 'WoodDeckSF', 'OpenPorchSF',\n",
       "       'EnclosedPorch', '3SsnPorch', 'ScreenPorch', 'PoolArea', 'MiscVal',\n",
       "       'MoSold', 'YrSold'],\n",
       "      dtype='object')"
      ]
     },
     "execution_count": 103,
     "metadata": {},
     "output_type": "execute_result"
    }
   ],
   "source": [
    "num_feat"
   ]
  },
  {
   "cell_type": "code",
   "execution_count": 128,
   "metadata": {},
   "outputs": [
    {
     "data": {
      "text/plain": [
       "79"
      ]
     },
     "execution_count": 128,
     "metadata": {},
     "output_type": "execute_result"
    }
   ],
   "source": [
    "len(cat_feat)+len(num_feat)+len(rating_df.columns)"
   ]
  },
  {
   "cell_type": "code",
   "execution_count": 127,
   "metadata": {},
   "outputs": [
    {
     "data": {
      "text/plain": [
       "81"
      ]
     },
     "execution_count": 127,
     "metadata": {},
     "output_type": "execute_result"
    }
   ],
   "source": [
    "len(df_tr.columns)"
   ]
  },
  {
   "cell_type": "code",
   "execution_count": 104,
   "metadata": {},
   "outputs": [
    {
     "data": {
      "text/html": [
       "<div>\n",
       "<style scoped>\n",
       "    .dataframe tbody tr th:only-of-type {\n",
       "        vertical-align: middle;\n",
       "    }\n",
       "\n",
       "    .dataframe tbody tr th {\n",
       "        vertical-align: top;\n",
       "    }\n",
       "\n",
       "    .dataframe thead th {\n",
       "        text-align: right;\n",
       "    }\n",
       "</style>\n",
       "<table border=\"1\" class=\"dataframe\">\n",
       "  <thead>\n",
       "    <tr style=\"text-align: right;\">\n",
       "      <th></th>\n",
       "      <th>LotFrontage</th>\n",
       "      <th>LotArea</th>\n",
       "      <th>OverallQual</th>\n",
       "      <th>OverallCond</th>\n",
       "      <th>YearBuilt</th>\n",
       "      <th>YearRemodAdd</th>\n",
       "      <th>MasVnrArea</th>\n",
       "      <th>BsmtFinSF1</th>\n",
       "      <th>BsmtFinSF2</th>\n",
       "      <th>BsmtUnfSF</th>\n",
       "      <th>...</th>\n",
       "      <th>GarageArea</th>\n",
       "      <th>WoodDeckSF</th>\n",
       "      <th>OpenPorchSF</th>\n",
       "      <th>EnclosedPorch</th>\n",
       "      <th>3SsnPorch</th>\n",
       "      <th>ScreenPorch</th>\n",
       "      <th>PoolArea</th>\n",
       "      <th>MiscVal</th>\n",
       "      <th>MoSold</th>\n",
       "      <th>YrSold</th>\n",
       "    </tr>\n",
       "  </thead>\n",
       "  <tbody>\n",
       "    <tr>\n",
       "      <th>0</th>\n",
       "      <td>65.0</td>\n",
       "      <td>8450</td>\n",
       "      <td>7</td>\n",
       "      <td>5</td>\n",
       "      <td>2003</td>\n",
       "      <td>2003</td>\n",
       "      <td>196.0</td>\n",
       "      <td>706</td>\n",
       "      <td>0</td>\n",
       "      <td>150</td>\n",
       "      <td>...</td>\n",
       "      <td>548</td>\n",
       "      <td>0</td>\n",
       "      <td>61</td>\n",
       "      <td>0</td>\n",
       "      <td>0</td>\n",
       "      <td>0</td>\n",
       "      <td>0</td>\n",
       "      <td>0</td>\n",
       "      <td>2</td>\n",
       "      <td>2008</td>\n",
       "    </tr>\n",
       "    <tr>\n",
       "      <th>1</th>\n",
       "      <td>80.0</td>\n",
       "      <td>9600</td>\n",
       "      <td>6</td>\n",
       "      <td>8</td>\n",
       "      <td>1976</td>\n",
       "      <td>1976</td>\n",
       "      <td>0.0</td>\n",
       "      <td>978</td>\n",
       "      <td>0</td>\n",
       "      <td>284</td>\n",
       "      <td>...</td>\n",
       "      <td>460</td>\n",
       "      <td>298</td>\n",
       "      <td>0</td>\n",
       "      <td>0</td>\n",
       "      <td>0</td>\n",
       "      <td>0</td>\n",
       "      <td>0</td>\n",
       "      <td>0</td>\n",
       "      <td>5</td>\n",
       "      <td>2007</td>\n",
       "    </tr>\n",
       "    <tr>\n",
       "      <th>2</th>\n",
       "      <td>68.0</td>\n",
       "      <td>11250</td>\n",
       "      <td>7</td>\n",
       "      <td>5</td>\n",
       "      <td>2001</td>\n",
       "      <td>2002</td>\n",
       "      <td>162.0</td>\n",
       "      <td>486</td>\n",
       "      <td>0</td>\n",
       "      <td>434</td>\n",
       "      <td>...</td>\n",
       "      <td>608</td>\n",
       "      <td>0</td>\n",
       "      <td>42</td>\n",
       "      <td>0</td>\n",
       "      <td>0</td>\n",
       "      <td>0</td>\n",
       "      <td>0</td>\n",
       "      <td>0</td>\n",
       "      <td>9</td>\n",
       "      <td>2008</td>\n",
       "    </tr>\n",
       "    <tr>\n",
       "      <th>3</th>\n",
       "      <td>60.0</td>\n",
       "      <td>9550</td>\n",
       "      <td>7</td>\n",
       "      <td>5</td>\n",
       "      <td>1915</td>\n",
       "      <td>1970</td>\n",
       "      <td>0.0</td>\n",
       "      <td>216</td>\n",
       "      <td>0</td>\n",
       "      <td>540</td>\n",
       "      <td>...</td>\n",
       "      <td>642</td>\n",
       "      <td>0</td>\n",
       "      <td>35</td>\n",
       "      <td>272</td>\n",
       "      <td>0</td>\n",
       "      <td>0</td>\n",
       "      <td>0</td>\n",
       "      <td>0</td>\n",
       "      <td>2</td>\n",
       "      <td>2006</td>\n",
       "    </tr>\n",
       "    <tr>\n",
       "      <th>4</th>\n",
       "      <td>84.0</td>\n",
       "      <td>14260</td>\n",
       "      <td>8</td>\n",
       "      <td>5</td>\n",
       "      <td>2000</td>\n",
       "      <td>2000</td>\n",
       "      <td>350.0</td>\n",
       "      <td>655</td>\n",
       "      <td>0</td>\n",
       "      <td>490</td>\n",
       "      <td>...</td>\n",
       "      <td>836</td>\n",
       "      <td>192</td>\n",
       "      <td>84</td>\n",
       "      <td>0</td>\n",
       "      <td>0</td>\n",
       "      <td>0</td>\n",
       "      <td>0</td>\n",
       "      <td>0</td>\n",
       "      <td>12</td>\n",
       "      <td>2008</td>\n",
       "    </tr>\n",
       "    <tr>\n",
       "      <th>...</th>\n",
       "      <td>...</td>\n",
       "      <td>...</td>\n",
       "      <td>...</td>\n",
       "      <td>...</td>\n",
       "      <td>...</td>\n",
       "      <td>...</td>\n",
       "      <td>...</td>\n",
       "      <td>...</td>\n",
       "      <td>...</td>\n",
       "      <td>...</td>\n",
       "      <td>...</td>\n",
       "      <td>...</td>\n",
       "      <td>...</td>\n",
       "      <td>...</td>\n",
       "      <td>...</td>\n",
       "      <td>...</td>\n",
       "      <td>...</td>\n",
       "      <td>...</td>\n",
       "      <td>...</td>\n",
       "      <td>...</td>\n",
       "      <td>...</td>\n",
       "    </tr>\n",
       "    <tr>\n",
       "      <th>1455</th>\n",
       "      <td>62.0</td>\n",
       "      <td>7917</td>\n",
       "      <td>6</td>\n",
       "      <td>5</td>\n",
       "      <td>1999</td>\n",
       "      <td>2000</td>\n",
       "      <td>0.0</td>\n",
       "      <td>0</td>\n",
       "      <td>0</td>\n",
       "      <td>953</td>\n",
       "      <td>...</td>\n",
       "      <td>460</td>\n",
       "      <td>0</td>\n",
       "      <td>40</td>\n",
       "      <td>0</td>\n",
       "      <td>0</td>\n",
       "      <td>0</td>\n",
       "      <td>0</td>\n",
       "      <td>0</td>\n",
       "      <td>8</td>\n",
       "      <td>2007</td>\n",
       "    </tr>\n",
       "    <tr>\n",
       "      <th>1456</th>\n",
       "      <td>85.0</td>\n",
       "      <td>13175</td>\n",
       "      <td>6</td>\n",
       "      <td>6</td>\n",
       "      <td>1978</td>\n",
       "      <td>1988</td>\n",
       "      <td>119.0</td>\n",
       "      <td>790</td>\n",
       "      <td>163</td>\n",
       "      <td>589</td>\n",
       "      <td>...</td>\n",
       "      <td>500</td>\n",
       "      <td>349</td>\n",
       "      <td>0</td>\n",
       "      <td>0</td>\n",
       "      <td>0</td>\n",
       "      <td>0</td>\n",
       "      <td>0</td>\n",
       "      <td>0</td>\n",
       "      <td>2</td>\n",
       "      <td>2010</td>\n",
       "    </tr>\n",
       "    <tr>\n",
       "      <th>1457</th>\n",
       "      <td>66.0</td>\n",
       "      <td>9042</td>\n",
       "      <td>7</td>\n",
       "      <td>9</td>\n",
       "      <td>1941</td>\n",
       "      <td>2006</td>\n",
       "      <td>0.0</td>\n",
       "      <td>275</td>\n",
       "      <td>0</td>\n",
       "      <td>877</td>\n",
       "      <td>...</td>\n",
       "      <td>252</td>\n",
       "      <td>0</td>\n",
       "      <td>60</td>\n",
       "      <td>0</td>\n",
       "      <td>0</td>\n",
       "      <td>0</td>\n",
       "      <td>0</td>\n",
       "      <td>2500</td>\n",
       "      <td>5</td>\n",
       "      <td>2010</td>\n",
       "    </tr>\n",
       "    <tr>\n",
       "      <th>1458</th>\n",
       "      <td>68.0</td>\n",
       "      <td>9717</td>\n",
       "      <td>5</td>\n",
       "      <td>6</td>\n",
       "      <td>1950</td>\n",
       "      <td>1996</td>\n",
       "      <td>0.0</td>\n",
       "      <td>49</td>\n",
       "      <td>1029</td>\n",
       "      <td>0</td>\n",
       "      <td>...</td>\n",
       "      <td>240</td>\n",
       "      <td>366</td>\n",
       "      <td>0</td>\n",
       "      <td>112</td>\n",
       "      <td>0</td>\n",
       "      <td>0</td>\n",
       "      <td>0</td>\n",
       "      <td>0</td>\n",
       "      <td>4</td>\n",
       "      <td>2010</td>\n",
       "    </tr>\n",
       "    <tr>\n",
       "      <th>1459</th>\n",
       "      <td>75.0</td>\n",
       "      <td>9937</td>\n",
       "      <td>5</td>\n",
       "      <td>6</td>\n",
       "      <td>1965</td>\n",
       "      <td>1965</td>\n",
       "      <td>0.0</td>\n",
       "      <td>830</td>\n",
       "      <td>290</td>\n",
       "      <td>136</td>\n",
       "      <td>...</td>\n",
       "      <td>276</td>\n",
       "      <td>736</td>\n",
       "      <td>68</td>\n",
       "      <td>0</td>\n",
       "      <td>0</td>\n",
       "      <td>0</td>\n",
       "      <td>0</td>\n",
       "      <td>0</td>\n",
       "      <td>6</td>\n",
       "      <td>2008</td>\n",
       "    </tr>\n",
       "  </tbody>\n",
       "</table>\n",
       "<p>1460 rows × 35 columns</p>\n",
       "</div>"
      ],
      "text/plain": [
       "      LotFrontage  LotArea  OverallQual  OverallCond  YearBuilt  YearRemodAdd  \\\n",
       "0            65.0     8450            7            5       2003          2003   \n",
       "1            80.0     9600            6            8       1976          1976   \n",
       "2            68.0    11250            7            5       2001          2002   \n",
       "3            60.0     9550            7            5       1915          1970   \n",
       "4            84.0    14260            8            5       2000          2000   \n",
       "...           ...      ...          ...          ...        ...           ...   \n",
       "1455         62.0     7917            6            5       1999          2000   \n",
       "1456         85.0    13175            6            6       1978          1988   \n",
       "1457         66.0     9042            7            9       1941          2006   \n",
       "1458         68.0     9717            5            6       1950          1996   \n",
       "1459         75.0     9937            5            6       1965          1965   \n",
       "\n",
       "      MasVnrArea  BsmtFinSF1  BsmtFinSF2  BsmtUnfSF  ...  GarageArea  \\\n",
       "0          196.0         706           0        150  ...         548   \n",
       "1            0.0         978           0        284  ...         460   \n",
       "2          162.0         486           0        434  ...         608   \n",
       "3            0.0         216           0        540  ...         642   \n",
       "4          350.0         655           0        490  ...         836   \n",
       "...          ...         ...         ...        ...  ...         ...   \n",
       "1455         0.0           0           0        953  ...         460   \n",
       "1456       119.0         790         163        589  ...         500   \n",
       "1457         0.0         275           0        877  ...         252   \n",
       "1458         0.0          49        1029          0  ...         240   \n",
       "1459         0.0         830         290        136  ...         276   \n",
       "\n",
       "      WoodDeckSF  OpenPorchSF  EnclosedPorch  3SsnPorch  ScreenPorch  \\\n",
       "0              0           61              0          0            0   \n",
       "1            298            0              0          0            0   \n",
       "2              0           42              0          0            0   \n",
       "3              0           35            272          0            0   \n",
       "4            192           84              0          0            0   \n",
       "...          ...          ...            ...        ...          ...   \n",
       "1455           0           40              0          0            0   \n",
       "1456         349            0              0          0            0   \n",
       "1457           0           60              0          0            0   \n",
       "1458         366            0            112          0            0   \n",
       "1459         736           68              0          0            0   \n",
       "\n",
       "      PoolArea  MiscVal  MoSold  YrSold  \n",
       "0            0        0       2    2008  \n",
       "1            0        0       5    2007  \n",
       "2            0        0       9    2008  \n",
       "3            0        0       2    2006  \n",
       "4            0        0      12    2008  \n",
       "...        ...      ...     ...     ...  \n",
       "1455         0        0       8    2007  \n",
       "1456         0        0       2    2010  \n",
       "1457         0     2500       5    2010  \n",
       "1458         0        0       4    2010  \n",
       "1459         0        0       6    2008  \n",
       "\n",
       "[1460 rows x 35 columns]"
      ]
     },
     "execution_count": 104,
     "metadata": {},
     "output_type": "execute_result"
    }
   ],
   "source": [
    "df_tr[num_feat]"
   ]
  },
  {
   "cell_type": "code",
   "execution_count": 153,
   "metadata": {},
   "outputs": [],
   "source": [
    "def data_transform(df_tr):\n",
    "    print(f'Original df contains {len(df_tr.columns)} columns;')\n",
    "\n",
    "    feat_df=df_tr.drop(['Id','SalePrice'],axis=1)\n",
    "    print(f'After droping Id and SalePrice columns, it has total {len(feat_df.columns)} features;')\n",
    "    \n",
    "    rating_df=cat_to_rating_conversion(df_tr)\n",
    "    print(f'Based on the data description, {len(rating_df.columns)} features are converted from categorical into ordinal features, mostly are rating related;')\n",
    "\n",
    "    feat_df=feat_df.drop(rating_df.columns,axis=1)\n",
    "    cat_feat = feat_df.select_dtypes(include=['object', 'bool']).columns\n",
    "    num_feat = feat_df.select_dtypes(include=['int64', 'float64']).columns\n",
    "    num_feat=num_feat.drop('MSSubClass')\n",
    "    cat_feat=cat_feat.insert(len(cat_feat),'MSSubClass')\n",
    "    print(f'After classify MSSubClass from numerical into categorical feature, the df remains {len(cat_feat)} categorical features and {len(num_feat)} numerical features (other from the ordinal features mentioned above);')\n",
    "\n",
    "\n",
    "    binary_feat=['Street',  \n",
    "             'CentralAir',\n",
    "             ]\n",
    "    binary_feat_df=df_tr[list(binary_feat)].apply(le.fit_transform)\n",
    "\n",
    "    ohe_feat=cat_feat.drop(binary_feat)\n",
    "    ohe_feat_df=pd.DataFrame(ohe.fit_transform(df_tr[list(ohe_feat)]).toarray(),columns=ohe.get_feature_names_out())\n",
    "    print(f'Among the {len(cat_feat)} catergorical features, {len(binary_feat)} are binary features and are converted using Label Encoder;\\n{len(ohe_feat)} categirical features are converted using One-Hot Encoder;')\n",
    "\n",
    "    num_exception=['YrSold',\n",
    "                   'MoSold',\n",
    "                   'YearBuilt',\n",
    "                   'YearRemodAdd',\n",
    "                   'OverallQual',\n",
    "                   'OverallCond',\n",
    "                   'GarageYrBlt',\n",
    "                   ]\n",
    "    \n",
    "    num_feat_df=pd.DataFrame(rs.fit_transform(df_tr[list(num_feat.drop(num_exception))]),columns=rs.get_feature_names_out())\n",
    "    print(f'{len(num_exception)} numerical features are related to quality rating and year&month, they are not converted;\\nRemaining {len(num_feat_df.columns)} numerical features are converted by Robust Scaler.')\n",
    "\n",
    "    pro_df=pd.concat([df_tr['SalePrice'],df_tr[num_exception],binary_feat_df,ohe_feat_df,num_feat_df,rating_df],axis=1)\n",
    "    print(f'Final df contains {len(pro_df.columns.drop('SalePrice'))} features plus SalePrice column, the increased number of features is due to new columns created by One-Hot Encoder')\n",
    "\n",
    "    return pro_df\n",
    "    "
   ]
  },
  {
   "cell_type": "code",
   "execution_count": 154,
   "metadata": {},
   "outputs": [
    {
     "name": "stdout",
     "output_type": "stream",
     "text": [
      "Original df contains 81 columns;\n",
      "After droping Id and SalePrice columns, it has total 79 features;\n",
      "Based on the data description, 14 features are converted from categorical into ordinal features, mostly are rating related;\n",
      "After classify MSSubClass from numerical into categorical feature, the df remains 30 categorical features and 35 numerical features (other from the ordinal features mentioned above);\n",
      "Among the 30 catergorical features, 2 are binary features and are converted using Label Encoder;\n",
      "28 categirical features are converted using One-Hot Encoder;\n",
      "7 numerical features are related to quality rating and year&month, they are not converted;\n",
      "Remaining 28 numerical features are converted by Robust Scaler.\n",
      "Final df contains 255 features plus SalePrice column, the increased number of features is due to new columns created by One-Hot Encoder\n"
     ]
    }
   ],
   "source": [
    "a=data_transform(df_tr)"
   ]
  },
  {
   "cell_type": "code",
   "execution_count": 155,
   "metadata": {},
   "outputs": [
    {
     "data": {
      "text/html": [
       "<div>\n",
       "<style scoped>\n",
       "    .dataframe tbody tr th:only-of-type {\n",
       "        vertical-align: middle;\n",
       "    }\n",
       "\n",
       "    .dataframe tbody tr th {\n",
       "        vertical-align: top;\n",
       "    }\n",
       "\n",
       "    .dataframe thead th {\n",
       "        text-align: right;\n",
       "    }\n",
       "</style>\n",
       "<table border=\"1\" class=\"dataframe\">\n",
       "  <thead>\n",
       "    <tr style=\"text-align: right;\">\n",
       "      <th></th>\n",
       "      <th>SalePrice</th>\n",
       "      <th>YrSold</th>\n",
       "      <th>MoSold</th>\n",
       "      <th>YearBuilt</th>\n",
       "      <th>YearRemodAdd</th>\n",
       "      <th>OverallQual</th>\n",
       "      <th>OverallCond</th>\n",
       "      <th>GarageYrBlt</th>\n",
       "      <th>Street</th>\n",
       "      <th>CentralAir</th>\n",
       "      <th>...</th>\n",
       "      <th>HeatingQC</th>\n",
       "      <th>KitchenQual</th>\n",
       "      <th>FireplaceQu</th>\n",
       "      <th>GarageQual</th>\n",
       "      <th>GarageCond</th>\n",
       "      <th>PoolQC</th>\n",
       "      <th>BsmtExposure</th>\n",
       "      <th>BsmtFinType1</th>\n",
       "      <th>BsmtFinType2</th>\n",
       "      <th>Fence</th>\n",
       "    </tr>\n",
       "  </thead>\n",
       "  <tbody>\n",
       "    <tr>\n",
       "      <th>0</th>\n",
       "      <td>208500</td>\n",
       "      <td>2008</td>\n",
       "      <td>2</td>\n",
       "      <td>2003</td>\n",
       "      <td>2003</td>\n",
       "      <td>7</td>\n",
       "      <td>5</td>\n",
       "      <td>2003.0</td>\n",
       "      <td>1</td>\n",
       "      <td>1</td>\n",
       "      <td>...</td>\n",
       "      <td>5</td>\n",
       "      <td>4</td>\n",
       "      <td>0</td>\n",
       "      <td>3</td>\n",
       "      <td>3</td>\n",
       "      <td>0</td>\n",
       "      <td>1</td>\n",
       "      <td>6</td>\n",
       "      <td>1</td>\n",
       "      <td>0</td>\n",
       "    </tr>\n",
       "    <tr>\n",
       "      <th>1</th>\n",
       "      <td>181500</td>\n",
       "      <td>2007</td>\n",
       "      <td>5</td>\n",
       "      <td>1976</td>\n",
       "      <td>1976</td>\n",
       "      <td>6</td>\n",
       "      <td>8</td>\n",
       "      <td>1976.0</td>\n",
       "      <td>1</td>\n",
       "      <td>1</td>\n",
       "      <td>...</td>\n",
       "      <td>5</td>\n",
       "      <td>3</td>\n",
       "      <td>3</td>\n",
       "      <td>3</td>\n",
       "      <td>3</td>\n",
       "      <td>0</td>\n",
       "      <td>4</td>\n",
       "      <td>5</td>\n",
       "      <td>1</td>\n",
       "      <td>0</td>\n",
       "    </tr>\n",
       "    <tr>\n",
       "      <th>2</th>\n",
       "      <td>223500</td>\n",
       "      <td>2008</td>\n",
       "      <td>9</td>\n",
       "      <td>2001</td>\n",
       "      <td>2002</td>\n",
       "      <td>7</td>\n",
       "      <td>5</td>\n",
       "      <td>2001.0</td>\n",
       "      <td>1</td>\n",
       "      <td>1</td>\n",
       "      <td>...</td>\n",
       "      <td>5</td>\n",
       "      <td>4</td>\n",
       "      <td>3</td>\n",
       "      <td>3</td>\n",
       "      <td>3</td>\n",
       "      <td>0</td>\n",
       "      <td>2</td>\n",
       "      <td>6</td>\n",
       "      <td>1</td>\n",
       "      <td>0</td>\n",
       "    </tr>\n",
       "    <tr>\n",
       "      <th>3</th>\n",
       "      <td>140000</td>\n",
       "      <td>2006</td>\n",
       "      <td>2</td>\n",
       "      <td>1915</td>\n",
       "      <td>1970</td>\n",
       "      <td>7</td>\n",
       "      <td>5</td>\n",
       "      <td>1998.0</td>\n",
       "      <td>1</td>\n",
       "      <td>1</td>\n",
       "      <td>...</td>\n",
       "      <td>4</td>\n",
       "      <td>4</td>\n",
       "      <td>4</td>\n",
       "      <td>3</td>\n",
       "      <td>3</td>\n",
       "      <td>0</td>\n",
       "      <td>1</td>\n",
       "      <td>5</td>\n",
       "      <td>1</td>\n",
       "      <td>0</td>\n",
       "    </tr>\n",
       "    <tr>\n",
       "      <th>4</th>\n",
       "      <td>250000</td>\n",
       "      <td>2008</td>\n",
       "      <td>12</td>\n",
       "      <td>2000</td>\n",
       "      <td>2000</td>\n",
       "      <td>8</td>\n",
       "      <td>5</td>\n",
       "      <td>2000.0</td>\n",
       "      <td>1</td>\n",
       "      <td>1</td>\n",
       "      <td>...</td>\n",
       "      <td>5</td>\n",
       "      <td>4</td>\n",
       "      <td>3</td>\n",
       "      <td>3</td>\n",
       "      <td>3</td>\n",
       "      <td>0</td>\n",
       "      <td>3</td>\n",
       "      <td>6</td>\n",
       "      <td>1</td>\n",
       "      <td>0</td>\n",
       "    </tr>\n",
       "    <tr>\n",
       "      <th>...</th>\n",
       "      <td>...</td>\n",
       "      <td>...</td>\n",
       "      <td>...</td>\n",
       "      <td>...</td>\n",
       "      <td>...</td>\n",
       "      <td>...</td>\n",
       "      <td>...</td>\n",
       "      <td>...</td>\n",
       "      <td>...</td>\n",
       "      <td>...</td>\n",
       "      <td>...</td>\n",
       "      <td>...</td>\n",
       "      <td>...</td>\n",
       "      <td>...</td>\n",
       "      <td>...</td>\n",
       "      <td>...</td>\n",
       "      <td>...</td>\n",
       "      <td>...</td>\n",
       "      <td>...</td>\n",
       "      <td>...</td>\n",
       "      <td>...</td>\n",
       "    </tr>\n",
       "    <tr>\n",
       "      <th>1455</th>\n",
       "      <td>175000</td>\n",
       "      <td>2007</td>\n",
       "      <td>8</td>\n",
       "      <td>1999</td>\n",
       "      <td>2000</td>\n",
       "      <td>6</td>\n",
       "      <td>5</td>\n",
       "      <td>1999.0</td>\n",
       "      <td>1</td>\n",
       "      <td>1</td>\n",
       "      <td>...</td>\n",
       "      <td>5</td>\n",
       "      <td>3</td>\n",
       "      <td>3</td>\n",
       "      <td>3</td>\n",
       "      <td>3</td>\n",
       "      <td>0</td>\n",
       "      <td>1</td>\n",
       "      <td>1</td>\n",
       "      <td>1</td>\n",
       "      <td>0</td>\n",
       "    </tr>\n",
       "    <tr>\n",
       "      <th>1456</th>\n",
       "      <td>210000</td>\n",
       "      <td>2010</td>\n",
       "      <td>2</td>\n",
       "      <td>1978</td>\n",
       "      <td>1988</td>\n",
       "      <td>6</td>\n",
       "      <td>6</td>\n",
       "      <td>1978.0</td>\n",
       "      <td>1</td>\n",
       "      <td>1</td>\n",
       "      <td>...</td>\n",
       "      <td>3</td>\n",
       "      <td>3</td>\n",
       "      <td>3</td>\n",
       "      <td>3</td>\n",
       "      <td>3</td>\n",
       "      <td>0</td>\n",
       "      <td>1</td>\n",
       "      <td>5</td>\n",
       "      <td>3</td>\n",
       "      <td>3</td>\n",
       "    </tr>\n",
       "    <tr>\n",
       "      <th>1457</th>\n",
       "      <td>266500</td>\n",
       "      <td>2010</td>\n",
       "      <td>5</td>\n",
       "      <td>1941</td>\n",
       "      <td>2006</td>\n",
       "      <td>7</td>\n",
       "      <td>9</td>\n",
       "      <td>1941.0</td>\n",
       "      <td>1</td>\n",
       "      <td>1</td>\n",
       "      <td>...</td>\n",
       "      <td>5</td>\n",
       "      <td>4</td>\n",
       "      <td>4</td>\n",
       "      <td>3</td>\n",
       "      <td>3</td>\n",
       "      <td>0</td>\n",
       "      <td>1</td>\n",
       "      <td>6</td>\n",
       "      <td>1</td>\n",
       "      <td>4</td>\n",
       "    </tr>\n",
       "    <tr>\n",
       "      <th>1458</th>\n",
       "      <td>142125</td>\n",
       "      <td>2010</td>\n",
       "      <td>4</td>\n",
       "      <td>1950</td>\n",
       "      <td>1996</td>\n",
       "      <td>5</td>\n",
       "      <td>6</td>\n",
       "      <td>1950.0</td>\n",
       "      <td>1</td>\n",
       "      <td>1</td>\n",
       "      <td>...</td>\n",
       "      <td>4</td>\n",
       "      <td>4</td>\n",
       "      <td>0</td>\n",
       "      <td>3</td>\n",
       "      <td>3</td>\n",
       "      <td>0</td>\n",
       "      <td>2</td>\n",
       "      <td>6</td>\n",
       "      <td>3</td>\n",
       "      <td>0</td>\n",
       "    </tr>\n",
       "    <tr>\n",
       "      <th>1459</th>\n",
       "      <td>147500</td>\n",
       "      <td>2008</td>\n",
       "      <td>6</td>\n",
       "      <td>1965</td>\n",
       "      <td>1965</td>\n",
       "      <td>5</td>\n",
       "      <td>6</td>\n",
       "      <td>1965.0</td>\n",
       "      <td>1</td>\n",
       "      <td>1</td>\n",
       "      <td>...</td>\n",
       "      <td>4</td>\n",
       "      <td>3</td>\n",
       "      <td>0</td>\n",
       "      <td>3</td>\n",
       "      <td>3</td>\n",
       "      <td>0</td>\n",
       "      <td>1</td>\n",
       "      <td>4</td>\n",
       "      <td>2</td>\n",
       "      <td>0</td>\n",
       "    </tr>\n",
       "  </tbody>\n",
       "</table>\n",
       "<p>1460 rows × 256 columns</p>\n",
       "</div>"
      ],
      "text/plain": [
       "      SalePrice  YrSold  MoSold  YearBuilt  YearRemodAdd  OverallQual  \\\n",
       "0        208500    2008       2       2003          2003            7   \n",
       "1        181500    2007       5       1976          1976            6   \n",
       "2        223500    2008       9       2001          2002            7   \n",
       "3        140000    2006       2       1915          1970            7   \n",
       "4        250000    2008      12       2000          2000            8   \n",
       "...         ...     ...     ...        ...           ...          ...   \n",
       "1455     175000    2007       8       1999          2000            6   \n",
       "1456     210000    2010       2       1978          1988            6   \n",
       "1457     266500    2010       5       1941          2006            7   \n",
       "1458     142125    2010       4       1950          1996            5   \n",
       "1459     147500    2008       6       1965          1965            5   \n",
       "\n",
       "      OverallCond  GarageYrBlt  Street  CentralAir  ...  HeatingQC  \\\n",
       "0               5       2003.0       1           1  ...          5   \n",
       "1               8       1976.0       1           1  ...          5   \n",
       "2               5       2001.0       1           1  ...          5   \n",
       "3               5       1998.0       1           1  ...          4   \n",
       "4               5       2000.0       1           1  ...          5   \n",
       "...           ...          ...     ...         ...  ...        ...   \n",
       "1455            5       1999.0       1           1  ...          5   \n",
       "1456            6       1978.0       1           1  ...          3   \n",
       "1457            9       1941.0       1           1  ...          5   \n",
       "1458            6       1950.0       1           1  ...          4   \n",
       "1459            6       1965.0       1           1  ...          4   \n",
       "\n",
       "      KitchenQual  FireplaceQu  GarageQual  GarageCond  PoolQC  BsmtExposure  \\\n",
       "0               4            0           3           3       0             1   \n",
       "1               3            3           3           3       0             4   \n",
       "2               4            3           3           3       0             2   \n",
       "3               4            4           3           3       0             1   \n",
       "4               4            3           3           3       0             3   \n",
       "...           ...          ...         ...         ...     ...           ...   \n",
       "1455            3            3           3           3       0             1   \n",
       "1456            3            3           3           3       0             1   \n",
       "1457            4            4           3           3       0             1   \n",
       "1458            4            0           3           3       0             2   \n",
       "1459            3            0           3           3       0             1   \n",
       "\n",
       "      BsmtFinType1  BsmtFinType2  Fence  \n",
       "0                6             1      0  \n",
       "1                5             1      0  \n",
       "2                6             1      0  \n",
       "3                5             1      0  \n",
       "4                6             1      0  \n",
       "...            ...           ...    ...  \n",
       "1455             1             1      0  \n",
       "1456             5             3      3  \n",
       "1457             6             1      4  \n",
       "1458             6             3      0  \n",
       "1459             4             2      0  \n",
       "\n",
       "[1460 rows x 256 columns]"
      ]
     },
     "execution_count": 155,
     "metadata": {},
     "output_type": "execute_result"
    }
   ],
   "source": [
    "a"
   ]
  },
  {
   "cell_type": "markdown",
   "metadata": {},
   "source": [
    "Explore model training"
   ]
  },
  {
   "cell_type": "code",
   "execution_count": null,
   "metadata": {},
   "outputs": [],
   "source": [
    "reg_predictions,reg_result=reg.fit(x_tr,x_val,y_tr,y_val)"
   ]
  },
  {
   "cell_type": "code",
   "execution_count": null,
   "metadata": {},
   "outputs": [],
   "source": [
    "reg_predictions"
   ]
  },
  {
   "cell_type": "code",
   "execution_count": 47,
   "metadata": {},
   "outputs": [],
   "source": [
    "#visualize the training lazzy regressor result\n",
    "def viz_reg_result(df):\n",
    "    df1=df\n",
    "    for i in range(len(df)):\n",
    "        if df.iloc[i][0]<0 or df.iloc[i][0]>1:\n",
    "            df1=df1.drop(df.index[i])\n",
    "    \n",
    "    fig = go.Figure(\n",
    "    go.Bar(\n",
    "    x=df1.index,\n",
    "    y=df1['RMSE'],\n",
    "    name='RMSE'\n",
    "    )\n",
    "\n",
    "    )\n",
    "    for i in df1.columns.drop('RMSE','Time Taken'):\n",
    "        fig.add_trace(\n",
    "            go.Line(\n",
    "            x=df1.index,\n",
    "            y=df1[i],\n",
    "            yaxis=\"y2\",\n",
    "            name=i\n",
    "            )\n",
    "        )\n",
    "    fig.update_layout(\n",
    "        legend=dict(\n",
    "            orientation=\"h\",\n",
    "            entrywidth=500,\n",
    "            yanchor='bottom',\n",
    "            y=1.02,\n",
    "            xanchor='right',\n",
    "            x=1\n",
    "            ),\n",
    "        yaxis=dict(\n",
    "            title=dict(text='RMSE'),\n",
    "            side='left',\n",
    "        ),\n",
    "        yaxis2=dict(\n",
    "            title=dict(text='Adj R2 and R2'),\n",
    "            side='right',\n",
    "            #range=[0.86,0.93],\n",
    "            overlaying='y',\n",
    "            tickmode='sync',\n",
    "        )\n",
    "    )\n",
    "    fig.show()"
   ]
  },
  {
   "cell_type": "code",
   "execution_count": null,
   "metadata": {},
   "outputs": [],
   "source": [
    "viz_reg_result(reg_result)"
   ]
  },
  {
   "cell_type": "code",
   "execution_count": 5,
   "metadata": {},
   "outputs": [],
   "source": [
    "def data_transform2(df,ohe_feat,ord_feat,num_feat,cat_feat,target_response):\n",
    "    ohe_feat_df=pd.DataFrame()\n",
    "    for i in ohe_feat:\n",
    "        ohe_feat_df=pd.concat([ohe_feat_df,df[i]],axis=1)\n",
    "    ohe_feat_df=pd.DataFrame(oe.fit_transform(ohe_feat_df),columns=list(ohe_feat))\n",
    "    pro_ohe_feat=ohe_feat_df.columns\n",
    "\n",
    "    ord_feat_df=pd.DataFrame()\n",
    "    for i in ord_feat:\n",
    "        ord_feat_df=pd.concat([ord_feat_df,df[i]],axis=1)\n",
    "    ord_feat_df=pd.DataFrame(oe.fit_transform(ord_feat_df),columns=list(ord_feat))\n",
    "    pro_ord_feat=ord_feat_df.columns\n",
    "\n",
    "    num_feat_df=pd.DataFrame()\n",
    "    for i in num_feat:\n",
    "        num_feat_df=pd.concat([num_feat_df,df[i]],axis=1)\n",
    "    num_feat_df=pd.DataFrame(rs.fit_transform(num_feat_df),columns=list(num_feat_df))\n",
    "    pro_num_feat=num_feat_df.columns\n",
    "\n",
    "    cat_feat_df=pd.DataFrame()\n",
    "    for i in cat_feat:\n",
    "        cat_feat_df=pd.concat([cat_feat_df,df[i]],axis=1)\n",
    "    cat_feat_df=pd.DataFrame(oe.fit_transform(cat_feat_df),columns=list(cat_feat))\n",
    "    pro_cat_feat=cat_feat_df.columns\n",
    "\n",
    "    return pd.concat([ohe_feat_df,ord_feat_df,num_feat_df,cat_feat_df,df[target_response]],axis=1)"
   ]
  },
  {
   "cell_type": "code",
   "execution_count": 20,
   "metadata": {},
   "outputs": [
    {
     "data": {
      "text/html": [
       "<div>\n",
       "<style scoped>\n",
       "    .dataframe tbody tr th:only-of-type {\n",
       "        vertical-align: middle;\n",
       "    }\n",
       "\n",
       "    .dataframe tbody tr th {\n",
       "        vertical-align: top;\n",
       "    }\n",
       "\n",
       "    .dataframe thead th {\n",
       "        text-align: right;\n",
       "    }\n",
       "</style>\n",
       "<table border=\"1\" class=\"dataframe\">\n",
       "  <thead>\n",
       "    <tr style=\"text-align: right;\">\n",
       "      <th></th>\n",
       "      <th>MSSubClass</th>\n",
       "      <th>OverallQual</th>\n",
       "      <th>OverallCond</th>\n",
       "      <th>ExterQual</th>\n",
       "      <th>ExterCond</th>\n",
       "      <th>KitchenQual</th>\n",
       "      <th>BsmtQual</th>\n",
       "      <th>YearBuilt</th>\n",
       "      <th>YearRemodAdd</th>\n",
       "      <th>MoSold</th>\n",
       "      <th>...</th>\n",
       "      <th>Electrical</th>\n",
       "      <th>Functional</th>\n",
       "      <th>GarageType</th>\n",
       "      <th>GarageFinish</th>\n",
       "      <th>GarageQual</th>\n",
       "      <th>GarageCond</th>\n",
       "      <th>PavedDrive</th>\n",
       "      <th>SaleType</th>\n",
       "      <th>SaleCondition</th>\n",
       "      <th>SalePrice</th>\n",
       "    </tr>\n",
       "  </thead>\n",
       "  <tbody>\n",
       "    <tr>\n",
       "      <th>0</th>\n",
       "      <td>5.00</td>\n",
       "      <td>6.00</td>\n",
       "      <td>4.00</td>\n",
       "      <td>2.00</td>\n",
       "      <td>4.00</td>\n",
       "      <td>2.00</td>\n",
       "      <td>2.00</td>\n",
       "      <td>104.00</td>\n",
       "      <td>53.00</td>\n",
       "      <td>1.00</td>\n",
       "      <td>...</td>\n",
       "      <td>4.00</td>\n",
       "      <td>6.00</td>\n",
       "      <td>1.00</td>\n",
       "      <td>1.00</td>\n",
       "      <td>4.00</td>\n",
       "      <td>4.00</td>\n",
       "      <td>2.00</td>\n",
       "      <td>8.00</td>\n",
       "      <td>4.00</td>\n",
       "      <td>208500</td>\n",
       "    </tr>\n",
       "    <tr>\n",
       "      <th>1</th>\n",
       "      <td>0.00</td>\n",
       "      <td>5.00</td>\n",
       "      <td>7.00</td>\n",
       "      <td>3.00</td>\n",
       "      <td>4.00</td>\n",
       "      <td>3.00</td>\n",
       "      <td>2.00</td>\n",
       "      <td>77.00</td>\n",
       "      <td>26.00</td>\n",
       "      <td>4.00</td>\n",
       "      <td>...</td>\n",
       "      <td>4.00</td>\n",
       "      <td>6.00</td>\n",
       "      <td>1.00</td>\n",
       "      <td>1.00</td>\n",
       "      <td>4.00</td>\n",
       "      <td>4.00</td>\n",
       "      <td>2.00</td>\n",
       "      <td>8.00</td>\n",
       "      <td>4.00</td>\n",
       "      <td>181500</td>\n",
       "    </tr>\n",
       "    <tr>\n",
       "      <th>2</th>\n",
       "      <td>5.00</td>\n",
       "      <td>6.00</td>\n",
       "      <td>4.00</td>\n",
       "      <td>2.00</td>\n",
       "      <td>4.00</td>\n",
       "      <td>2.00</td>\n",
       "      <td>2.00</td>\n",
       "      <td>102.00</td>\n",
       "      <td>52.00</td>\n",
       "      <td>8.00</td>\n",
       "      <td>...</td>\n",
       "      <td>4.00</td>\n",
       "      <td>6.00</td>\n",
       "      <td>1.00</td>\n",
       "      <td>1.00</td>\n",
       "      <td>4.00</td>\n",
       "      <td>4.00</td>\n",
       "      <td>2.00</td>\n",
       "      <td>8.00</td>\n",
       "      <td>4.00</td>\n",
       "      <td>223500</td>\n",
       "    </tr>\n",
       "    <tr>\n",
       "      <th>3</th>\n",
       "      <td>6.00</td>\n",
       "      <td>6.00</td>\n",
       "      <td>4.00</td>\n",
       "      <td>3.00</td>\n",
       "      <td>4.00</td>\n",
       "      <td>2.00</td>\n",
       "      <td>3.00</td>\n",
       "      <td>19.00</td>\n",
       "      <td>20.00</td>\n",
       "      <td>1.00</td>\n",
       "      <td>...</td>\n",
       "      <td>4.00</td>\n",
       "      <td>6.00</td>\n",
       "      <td>5.00</td>\n",
       "      <td>2.00</td>\n",
       "      <td>4.00</td>\n",
       "      <td>4.00</td>\n",
       "      <td>2.00</td>\n",
       "      <td>8.00</td>\n",
       "      <td>0.00</td>\n",
       "      <td>140000</td>\n",
       "    </tr>\n",
       "    <tr>\n",
       "      <th>4</th>\n",
       "      <td>5.00</td>\n",
       "      <td>7.00</td>\n",
       "      <td>4.00</td>\n",
       "      <td>2.00</td>\n",
       "      <td>4.00</td>\n",
       "      <td>2.00</td>\n",
       "      <td>2.00</td>\n",
       "      <td>101.00</td>\n",
       "      <td>50.00</td>\n",
       "      <td>11.00</td>\n",
       "      <td>...</td>\n",
       "      <td>4.00</td>\n",
       "      <td>6.00</td>\n",
       "      <td>1.00</td>\n",
       "      <td>1.00</td>\n",
       "      <td>4.00</td>\n",
       "      <td>4.00</td>\n",
       "      <td>2.00</td>\n",
       "      <td>8.00</td>\n",
       "      <td>4.00</td>\n",
       "      <td>250000</td>\n",
       "    </tr>\n",
       "    <tr>\n",
       "      <th>...</th>\n",
       "      <td>...</td>\n",
       "      <td>...</td>\n",
       "      <td>...</td>\n",
       "      <td>...</td>\n",
       "      <td>...</td>\n",
       "      <td>...</td>\n",
       "      <td>...</td>\n",
       "      <td>...</td>\n",
       "      <td>...</td>\n",
       "      <td>...</td>\n",
       "      <td>...</td>\n",
       "      <td>...</td>\n",
       "      <td>...</td>\n",
       "      <td>...</td>\n",
       "      <td>...</td>\n",
       "      <td>...</td>\n",
       "      <td>...</td>\n",
       "      <td>...</td>\n",
       "      <td>...</td>\n",
       "      <td>...</td>\n",
       "      <td>...</td>\n",
       "    </tr>\n",
       "    <tr>\n",
       "      <th>1455</th>\n",
       "      <td>5.00</td>\n",
       "      <td>5.00</td>\n",
       "      <td>4.00</td>\n",
       "      <td>3.00</td>\n",
       "      <td>4.00</td>\n",
       "      <td>3.00</td>\n",
       "      <td>2.00</td>\n",
       "      <td>100.00</td>\n",
       "      <td>50.00</td>\n",
       "      <td>7.00</td>\n",
       "      <td>...</td>\n",
       "      <td>4.00</td>\n",
       "      <td>6.00</td>\n",
       "      <td>1.00</td>\n",
       "      <td>1.00</td>\n",
       "      <td>4.00</td>\n",
       "      <td>4.00</td>\n",
       "      <td>2.00</td>\n",
       "      <td>8.00</td>\n",
       "      <td>4.00</td>\n",
       "      <td>175000</td>\n",
       "    </tr>\n",
       "    <tr>\n",
       "      <th>1456</th>\n",
       "      <td>0.00</td>\n",
       "      <td>5.00</td>\n",
       "      <td>5.00</td>\n",
       "      <td>3.00</td>\n",
       "      <td>4.00</td>\n",
       "      <td>3.00</td>\n",
       "      <td>2.00</td>\n",
       "      <td>79.00</td>\n",
       "      <td>38.00</td>\n",
       "      <td>1.00</td>\n",
       "      <td>...</td>\n",
       "      <td>4.00</td>\n",
       "      <td>2.00</td>\n",
       "      <td>1.00</td>\n",
       "      <td>2.00</td>\n",
       "      <td>4.00</td>\n",
       "      <td>4.00</td>\n",
       "      <td>2.00</td>\n",
       "      <td>8.00</td>\n",
       "      <td>4.00</td>\n",
       "      <td>210000</td>\n",
       "    </tr>\n",
       "    <tr>\n",
       "      <th>1457</th>\n",
       "      <td>6.00</td>\n",
       "      <td>6.00</td>\n",
       "      <td>8.00</td>\n",
       "      <td>0.00</td>\n",
       "      <td>2.00</td>\n",
       "      <td>2.00</td>\n",
       "      <td>3.00</td>\n",
       "      <td>44.00</td>\n",
       "      <td>56.00</td>\n",
       "      <td>4.00</td>\n",
       "      <td>...</td>\n",
       "      <td>4.00</td>\n",
       "      <td>6.00</td>\n",
       "      <td>1.00</td>\n",
       "      <td>1.00</td>\n",
       "      <td>4.00</td>\n",
       "      <td>4.00</td>\n",
       "      <td>2.00</td>\n",
       "      <td>8.00</td>\n",
       "      <td>4.00</td>\n",
       "      <td>266500</td>\n",
       "    </tr>\n",
       "    <tr>\n",
       "      <th>1458</th>\n",
       "      <td>0.00</td>\n",
       "      <td>4.00</td>\n",
       "      <td>5.00</td>\n",
       "      <td>3.00</td>\n",
       "      <td>4.00</td>\n",
       "      <td>2.00</td>\n",
       "      <td>3.00</td>\n",
       "      <td>51.00</td>\n",
       "      <td>46.00</td>\n",
       "      <td>3.00</td>\n",
       "      <td>...</td>\n",
       "      <td>0.00</td>\n",
       "      <td>6.00</td>\n",
       "      <td>1.00</td>\n",
       "      <td>2.00</td>\n",
       "      <td>4.00</td>\n",
       "      <td>4.00</td>\n",
       "      <td>2.00</td>\n",
       "      <td>8.00</td>\n",
       "      <td>4.00</td>\n",
       "      <td>142125</td>\n",
       "    </tr>\n",
       "    <tr>\n",
       "      <th>1459</th>\n",
       "      <td>0.00</td>\n",
       "      <td>4.00</td>\n",
       "      <td>5.00</td>\n",
       "      <td>2.00</td>\n",
       "      <td>4.00</td>\n",
       "      <td>3.00</td>\n",
       "      <td>3.00</td>\n",
       "      <td>66.00</td>\n",
       "      <td>15.00</td>\n",
       "      <td>5.00</td>\n",
       "      <td>...</td>\n",
       "      <td>4.00</td>\n",
       "      <td>6.00</td>\n",
       "      <td>1.00</td>\n",
       "      <td>0.00</td>\n",
       "      <td>4.00</td>\n",
       "      <td>4.00</td>\n",
       "      <td>2.00</td>\n",
       "      <td>8.00</td>\n",
       "      <td>4.00</td>\n",
       "      <td>147500</td>\n",
       "    </tr>\n",
       "  </tbody>\n",
       "</table>\n",
       "<p>1460 rows × 74 columns</p>\n",
       "</div>"
      ],
      "text/plain": [
       "      MSSubClass  OverallQual  OverallCond  ExterQual  ExterCond  KitchenQual  \\\n",
       "0           5.00         6.00         4.00       2.00       4.00         2.00   \n",
       "1           0.00         5.00         7.00       3.00       4.00         3.00   \n",
       "2           5.00         6.00         4.00       2.00       4.00         2.00   \n",
       "3           6.00         6.00         4.00       3.00       4.00         2.00   \n",
       "4           5.00         7.00         4.00       2.00       4.00         2.00   \n",
       "...          ...          ...          ...        ...        ...          ...   \n",
       "1455        5.00         5.00         4.00       3.00       4.00         3.00   \n",
       "1456        0.00         5.00         5.00       3.00       4.00         3.00   \n",
       "1457        6.00         6.00         8.00       0.00       2.00         2.00   \n",
       "1458        0.00         4.00         5.00       3.00       4.00         2.00   \n",
       "1459        0.00         4.00         5.00       2.00       4.00         3.00   \n",
       "\n",
       "      BsmtQual  YearBuilt  YearRemodAdd  MoSold  ...  Electrical  Functional  \\\n",
       "0         2.00     104.00         53.00    1.00  ...        4.00        6.00   \n",
       "1         2.00      77.00         26.00    4.00  ...        4.00        6.00   \n",
       "2         2.00     102.00         52.00    8.00  ...        4.00        6.00   \n",
       "3         3.00      19.00         20.00    1.00  ...        4.00        6.00   \n",
       "4         2.00     101.00         50.00   11.00  ...        4.00        6.00   \n",
       "...        ...        ...           ...     ...  ...         ...         ...   \n",
       "1455      2.00     100.00         50.00    7.00  ...        4.00        6.00   \n",
       "1456      2.00      79.00         38.00    1.00  ...        4.00        2.00   \n",
       "1457      3.00      44.00         56.00    4.00  ...        4.00        6.00   \n",
       "1458      3.00      51.00         46.00    3.00  ...        0.00        6.00   \n",
       "1459      3.00      66.00         15.00    5.00  ...        4.00        6.00   \n",
       "\n",
       "      GarageType  GarageFinish  GarageQual  GarageCond  PavedDrive  SaleType  \\\n",
       "0           1.00          1.00        4.00        4.00        2.00      8.00   \n",
       "1           1.00          1.00        4.00        4.00        2.00      8.00   \n",
       "2           1.00          1.00        4.00        4.00        2.00      8.00   \n",
       "3           5.00          2.00        4.00        4.00        2.00      8.00   \n",
       "4           1.00          1.00        4.00        4.00        2.00      8.00   \n",
       "...          ...           ...         ...         ...         ...       ...   \n",
       "1455        1.00          1.00        4.00        4.00        2.00      8.00   \n",
       "1456        1.00          2.00        4.00        4.00        2.00      8.00   \n",
       "1457        1.00          1.00        4.00        4.00        2.00      8.00   \n",
       "1458        1.00          2.00        4.00        4.00        2.00      8.00   \n",
       "1459        1.00          0.00        4.00        4.00        2.00      8.00   \n",
       "\n",
       "      SaleCondition  SalePrice  \n",
       "0              4.00     208500  \n",
       "1              4.00     181500  \n",
       "2              4.00     223500  \n",
       "3              0.00     140000  \n",
       "4              4.00     250000  \n",
       "...             ...        ...  \n",
       "1455           4.00     175000  \n",
       "1456           4.00     210000  \n",
       "1457           4.00     266500  \n",
       "1458           4.00     142125  \n",
       "1459           4.00     147500  \n",
       "\n",
       "[1460 rows x 74 columns]"
      ]
     },
     "execution_count": 20,
     "metadata": {},
     "output_type": "execute_result"
    }
   ],
   "source": [
    "trans_df_tr2=data_transform2(df_tr,ohe_feat,ord_feat,num_feat,cat_feat,'SalePrice')\n",
    "trans_df_tr2"
   ]
  },
  {
   "cell_type": "code",
   "execution_count": 21,
   "metadata": {},
   "outputs": [],
   "source": [
    "#create tst data set (unseen data)\n",
    "x2=trans_df_tr2.drop('SalePrice',axis=1)\n",
    "y2=trans_df_tr2['SalePrice']\n",
    "x2_tr,x2_tst,y2_tr,y2_tst=train_test_split(x2,y2,train_size=0.9,shuffle=True)\n",
    "#train val set for training\n",
    "x2_tr,x2_val,y2_tr,y2_val=train_test_split(x2_tr,y2_tr,train_size=0.8,shuffle=True)"
   ]
  },
  {
   "cell_type": "code",
   "execution_count": 22,
   "metadata": {},
   "outputs": [
    {
     "data": {
      "text/plain": [
       "count      146.00\n",
       "mean    176022.77\n",
       "std      75225.88\n",
       "min      35311.00\n",
       "25%     127750.00\n",
       "50%     159500.00\n",
       "75%     204000.00\n",
       "max     430000.00\n",
       "Name: SalePrice, dtype: float64"
      ]
     },
     "execution_count": 22,
     "metadata": {},
     "output_type": "execute_result"
    }
   ],
   "source": [
    "y2_tst.describe()"
   ]
  },
  {
   "cell_type": "code",
   "execution_count": 51,
   "metadata": {},
   "outputs": [
    {
     "name": "stderr",
     "output_type": "stream",
     "text": [
      "100%|██████████| 42/42 [00:04<00:00,  9.49it/s]"
     ]
    },
    {
     "name": "stdout",
     "output_type": "stream",
     "text": [
      "[LightGBM] [Info] Auto-choosing row-wise multi-threading, the overhead of testing was 0.002637 seconds.\n",
      "You can set `force_row_wise=true` to remove the overhead.\n",
      "And if memory is not enough, you can set `force_col_wise=true`.\n",
      "[LightGBM] [Info] Total Bins 3041\n",
      "[LightGBM] [Info] Number of data points in the train set: 1051, number of used features: 67\n",
      "[LightGBM] [Info] Start training from score 180412.350143\n"
     ]
    },
    {
     "name": "stderr",
     "output_type": "stream",
     "text": [
      "\n"
     ]
    }
   ],
   "source": [
    "reg_predictions2,reg_result2=reg.fit(x2_tr,x2_val,y2_tr,y2_val)"
   ]
  },
  {
   "cell_type": "code",
   "execution_count": 52,
   "metadata": {},
   "outputs": [
    {
     "data": {
      "text/html": [
       "<div>\n",
       "<style scoped>\n",
       "    .dataframe tbody tr th:only-of-type {\n",
       "        vertical-align: middle;\n",
       "    }\n",
       "\n",
       "    .dataframe tbody tr th {\n",
       "        vertical-align: top;\n",
       "    }\n",
       "\n",
       "    .dataframe thead th {\n",
       "        text-align: right;\n",
       "    }\n",
       "</style>\n",
       "<table border=\"1\" class=\"dataframe\">\n",
       "  <thead>\n",
       "    <tr style=\"text-align: right;\">\n",
       "      <th></th>\n",
       "      <th>Adjusted R-Squared</th>\n",
       "      <th>R-Squared</th>\n",
       "      <th>RMSE</th>\n",
       "      <th>Time Taken</th>\n",
       "    </tr>\n",
       "    <tr>\n",
       "      <th>Model</th>\n",
       "      <th></th>\n",
       "      <th></th>\n",
       "      <th></th>\n",
       "      <th></th>\n",
       "    </tr>\n",
       "  </thead>\n",
       "  <tbody>\n",
       "    <tr>\n",
       "      <th>GradientBoostingRegressor</th>\n",
       "      <td>0.89</td>\n",
       "      <td>0.92</td>\n",
       "      <td>23599.13</td>\n",
       "      <td>0.31</td>\n",
       "    </tr>\n",
       "    <tr>\n",
       "      <th>RandomForestRegressor</th>\n",
       "      <td>0.87</td>\n",
       "      <td>0.90</td>\n",
       "      <td>25452.84</td>\n",
       "      <td>0.89</td>\n",
       "    </tr>\n",
       "    <tr>\n",
       "      <th>ExtraTreesRegressor</th>\n",
       "      <td>0.86</td>\n",
       "      <td>0.90</td>\n",
       "      <td>26341.72</td>\n",
       "      <td>0.66</td>\n",
       "    </tr>\n",
       "    <tr>\n",
       "      <th>HistGradientBoostingRegressor</th>\n",
       "      <td>0.84</td>\n",
       "      <td>0.89</td>\n",
       "      <td>27748.06</td>\n",
       "      <td>0.17</td>\n",
       "    </tr>\n",
       "    <tr>\n",
       "      <th>XGBRegressor</th>\n",
       "      <td>0.84</td>\n",
       "      <td>0.88</td>\n",
       "      <td>28002.40</td>\n",
       "      <td>0.12</td>\n",
       "    </tr>\n",
       "    <tr>\n",
       "      <th>LGBMRegressor</th>\n",
       "      <td>0.83</td>\n",
       "      <td>0.88</td>\n",
       "      <td>28680.17</td>\n",
       "      <td>0.11</td>\n",
       "    </tr>\n",
       "    <tr>\n",
       "      <th>HuberRegressor</th>\n",
       "      <td>0.82</td>\n",
       "      <td>0.87</td>\n",
       "      <td>29400.25</td>\n",
       "      <td>0.05</td>\n",
       "    </tr>\n",
       "    <tr>\n",
       "      <th>BaggingRegressor</th>\n",
       "      <td>0.82</td>\n",
       "      <td>0.87</td>\n",
       "      <td>29781.74</td>\n",
       "      <td>0.10</td>\n",
       "    </tr>\n",
       "    <tr>\n",
       "      <th>PassiveAggressiveRegressor</th>\n",
       "      <td>0.82</td>\n",
       "      <td>0.87</td>\n",
       "      <td>30092.82</td>\n",
       "      <td>0.04</td>\n",
       "    </tr>\n",
       "    <tr>\n",
       "      <th>GammaRegressor</th>\n",
       "      <td>0.81</td>\n",
       "      <td>0.87</td>\n",
       "      <td>30252.90</td>\n",
       "      <td>0.06</td>\n",
       "    </tr>\n",
       "    <tr>\n",
       "      <th>AdaBoostRegressor</th>\n",
       "      <td>0.77</td>\n",
       "      <td>0.84</td>\n",
       "      <td>33335.84</td>\n",
       "      <td>0.13</td>\n",
       "    </tr>\n",
       "    <tr>\n",
       "      <th>RANSACRegressor</th>\n",
       "      <td>0.77</td>\n",
       "      <td>0.83</td>\n",
       "      <td>33566.54</td>\n",
       "      <td>0.14</td>\n",
       "    </tr>\n",
       "    <tr>\n",
       "      <th>LarsCV</th>\n",
       "      <td>0.74</td>\n",
       "      <td>0.82</td>\n",
       "      <td>35451.29</td>\n",
       "      <td>0.05</td>\n",
       "    </tr>\n",
       "    <tr>\n",
       "      <th>ElasticNet</th>\n",
       "      <td>0.73</td>\n",
       "      <td>0.80</td>\n",
       "      <td>36481.26</td>\n",
       "      <td>0.01</td>\n",
       "    </tr>\n",
       "    <tr>\n",
       "      <th>LassoLarsCV</th>\n",
       "      <td>0.73</td>\n",
       "      <td>0.80</td>\n",
       "      <td>36701.36</td>\n",
       "      <td>0.03</td>\n",
       "    </tr>\n",
       "    <tr>\n",
       "      <th>LassoCV</th>\n",
       "      <td>0.73</td>\n",
       "      <td>0.80</td>\n",
       "      <td>36706.25</td>\n",
       "      <td>0.04</td>\n",
       "    </tr>\n",
       "    <tr>\n",
       "      <th>TweedieRegressor</th>\n",
       "      <td>0.73</td>\n",
       "      <td>0.80</td>\n",
       "      <td>36720.16</td>\n",
       "      <td>0.02</td>\n",
       "    </tr>\n",
       "    <tr>\n",
       "      <th>BayesianRidge</th>\n",
       "      <td>0.71</td>\n",
       "      <td>0.79</td>\n",
       "      <td>37827.79</td>\n",
       "      <td>0.04</td>\n",
       "    </tr>\n",
       "    <tr>\n",
       "      <th>LassoLarsIC</th>\n",
       "      <td>0.71</td>\n",
       "      <td>0.79</td>\n",
       "      <td>37832.46</td>\n",
       "      <td>0.02</td>\n",
       "    </tr>\n",
       "    <tr>\n",
       "      <th>RidgeCV</th>\n",
       "      <td>0.70</td>\n",
       "      <td>0.79</td>\n",
       "      <td>38204.94</td>\n",
       "      <td>0.02</td>\n",
       "    </tr>\n",
       "    <tr>\n",
       "      <th>Ridge</th>\n",
       "      <td>0.70</td>\n",
       "      <td>0.78</td>\n",
       "      <td>38278.62</td>\n",
       "      <td>0.01</td>\n",
       "    </tr>\n",
       "    <tr>\n",
       "      <th>Lasso</th>\n",
       "      <td>0.70</td>\n",
       "      <td>0.78</td>\n",
       "      <td>38284.20</td>\n",
       "      <td>0.01</td>\n",
       "    </tr>\n",
       "    <tr>\n",
       "      <th>LassoLars</th>\n",
       "      <td>0.70</td>\n",
       "      <td>0.78</td>\n",
       "      <td>38284.51</td>\n",
       "      <td>0.01</td>\n",
       "    </tr>\n",
       "    <tr>\n",
       "      <th>LinearRegression</th>\n",
       "      <td>0.70</td>\n",
       "      <td>0.78</td>\n",
       "      <td>38285.57</td>\n",
       "      <td>0.01</td>\n",
       "    </tr>\n",
       "    <tr>\n",
       "      <th>TransformedTargetRegressor</th>\n",
       "      <td>0.70</td>\n",
       "      <td>0.78</td>\n",
       "      <td>38285.57</td>\n",
       "      <td>0.01</td>\n",
       "    </tr>\n",
       "    <tr>\n",
       "      <th>PoissonRegressor</th>\n",
       "      <td>0.70</td>\n",
       "      <td>0.78</td>\n",
       "      <td>38325.38</td>\n",
       "      <td>0.02</td>\n",
       "    </tr>\n",
       "    <tr>\n",
       "      <th>OrthogonalMatchingPursuit</th>\n",
       "      <td>0.66</td>\n",
       "      <td>0.76</td>\n",
       "      <td>40804.16</td>\n",
       "      <td>0.01</td>\n",
       "    </tr>\n",
       "    <tr>\n",
       "      <th>OrthogonalMatchingPursuitCV</th>\n",
       "      <td>0.66</td>\n",
       "      <td>0.76</td>\n",
       "      <td>40804.16</td>\n",
       "      <td>0.01</td>\n",
       "    </tr>\n",
       "    <tr>\n",
       "      <th>KNeighborsRegressor</th>\n",
       "      <td>0.63</td>\n",
       "      <td>0.73</td>\n",
       "      <td>42843.06</td>\n",
       "      <td>0.02</td>\n",
       "    </tr>\n",
       "    <tr>\n",
       "      <th>SGDRegressor</th>\n",
       "      <td>0.59</td>\n",
       "      <td>0.71</td>\n",
       "      <td>44782.38</td>\n",
       "      <td>0.01</td>\n",
       "    </tr>\n",
       "    <tr>\n",
       "      <th>ExtraTreeRegressor</th>\n",
       "      <td>0.57</td>\n",
       "      <td>0.69</td>\n",
       "      <td>45746.01</td>\n",
       "      <td>0.01</td>\n",
       "    </tr>\n",
       "    <tr>\n",
       "      <th>DecisionTreeRegressor</th>\n",
       "      <td>0.50</td>\n",
       "      <td>0.64</td>\n",
       "      <td>49385.97</td>\n",
       "      <td>0.02</td>\n",
       "    </tr>\n",
       "    <tr>\n",
       "      <th>ElasticNetCV</th>\n",
       "      <td>-0.11</td>\n",
       "      <td>0.20</td>\n",
       "      <td>73792.31</td>\n",
       "      <td>0.05</td>\n",
       "    </tr>\n",
       "    <tr>\n",
       "      <th>DummyRegressor</th>\n",
       "      <td>-0.39</td>\n",
       "      <td>-0.00</td>\n",
       "      <td>82480.28</td>\n",
       "      <td>0.00</td>\n",
       "    </tr>\n",
       "    <tr>\n",
       "      <th>NuSVR</th>\n",
       "      <td>-0.40</td>\n",
       "      <td>-0.01</td>\n",
       "      <td>82783.01</td>\n",
       "      <td>0.03</td>\n",
       "    </tr>\n",
       "    <tr>\n",
       "      <th>SVR</th>\n",
       "      <td>-0.45</td>\n",
       "      <td>-0.04</td>\n",
       "      <td>84206.84</td>\n",
       "      <td>0.04</td>\n",
       "    </tr>\n",
       "    <tr>\n",
       "      <th>QuantileRegressor</th>\n",
       "      <td>-0.45</td>\n",
       "      <td>-0.04</td>\n",
       "      <td>84227.00</td>\n",
       "      <td>0.10</td>\n",
       "    </tr>\n",
       "    <tr>\n",
       "      <th>KernelRidge</th>\n",
       "      <td>-6.03</td>\n",
       "      <td>-4.07</td>\n",
       "      <td>185702.24</td>\n",
       "      <td>0.03</td>\n",
       "    </tr>\n",
       "    <tr>\n",
       "      <th>MLPRegressor</th>\n",
       "      <td>-6.68</td>\n",
       "      <td>-4.54</td>\n",
       "      <td>194141.86</td>\n",
       "      <td>0.87</td>\n",
       "    </tr>\n",
       "    <tr>\n",
       "      <th>GaussianProcessRegressor</th>\n",
       "      <td>-6.77</td>\n",
       "      <td>-4.60</td>\n",
       "      <td>195230.29</td>\n",
       "      <td>0.12</td>\n",
       "    </tr>\n",
       "    <tr>\n",
       "      <th>LinearSVR</th>\n",
       "      <td>-6.85</td>\n",
       "      <td>-4.66</td>\n",
       "      <td>196233.56</td>\n",
       "      <td>0.01</td>\n",
       "    </tr>\n",
       "    <tr>\n",
       "      <th>Lars</th>\n",
       "      <td>-7.35</td>\n",
       "      <td>-5.03</td>\n",
       "      <td>202450.51</td>\n",
       "      <td>0.01</td>\n",
       "    </tr>\n",
       "  </tbody>\n",
       "</table>\n",
       "</div>"
      ],
      "text/plain": [
       "                               Adjusted R-Squared  R-Squared      RMSE  \\\n",
       "Model                                                                    \n",
       "GradientBoostingRegressor                    0.89       0.92  23599.13   \n",
       "RandomForestRegressor                        0.87       0.90  25452.84   \n",
       "ExtraTreesRegressor                          0.86       0.90  26341.72   \n",
       "HistGradientBoostingRegressor                0.84       0.89  27748.06   \n",
       "XGBRegressor                                 0.84       0.88  28002.40   \n",
       "LGBMRegressor                                0.83       0.88  28680.17   \n",
       "HuberRegressor                               0.82       0.87  29400.25   \n",
       "BaggingRegressor                             0.82       0.87  29781.74   \n",
       "PassiveAggressiveRegressor                   0.82       0.87  30092.82   \n",
       "GammaRegressor                               0.81       0.87  30252.90   \n",
       "AdaBoostRegressor                            0.77       0.84  33335.84   \n",
       "RANSACRegressor                              0.77       0.83  33566.54   \n",
       "LarsCV                                       0.74       0.82  35451.29   \n",
       "ElasticNet                                   0.73       0.80  36481.26   \n",
       "LassoLarsCV                                  0.73       0.80  36701.36   \n",
       "LassoCV                                      0.73       0.80  36706.25   \n",
       "TweedieRegressor                             0.73       0.80  36720.16   \n",
       "BayesianRidge                                0.71       0.79  37827.79   \n",
       "LassoLarsIC                                  0.71       0.79  37832.46   \n",
       "RidgeCV                                      0.70       0.79  38204.94   \n",
       "Ridge                                        0.70       0.78  38278.62   \n",
       "Lasso                                        0.70       0.78  38284.20   \n",
       "LassoLars                                    0.70       0.78  38284.51   \n",
       "LinearRegression                             0.70       0.78  38285.57   \n",
       "TransformedTargetRegressor                   0.70       0.78  38285.57   \n",
       "PoissonRegressor                             0.70       0.78  38325.38   \n",
       "OrthogonalMatchingPursuit                    0.66       0.76  40804.16   \n",
       "OrthogonalMatchingPursuitCV                  0.66       0.76  40804.16   \n",
       "KNeighborsRegressor                          0.63       0.73  42843.06   \n",
       "SGDRegressor                                 0.59       0.71  44782.38   \n",
       "ExtraTreeRegressor                           0.57       0.69  45746.01   \n",
       "DecisionTreeRegressor                        0.50       0.64  49385.97   \n",
       "ElasticNetCV                                -0.11       0.20  73792.31   \n",
       "DummyRegressor                              -0.39      -0.00  82480.28   \n",
       "NuSVR                                       -0.40      -0.01  82783.01   \n",
       "SVR                                         -0.45      -0.04  84206.84   \n",
       "QuantileRegressor                           -0.45      -0.04  84227.00   \n",
       "KernelRidge                                 -6.03      -4.07 185702.24   \n",
       "MLPRegressor                                -6.68      -4.54 194141.86   \n",
       "GaussianProcessRegressor                    -6.77      -4.60 195230.29   \n",
       "LinearSVR                                   -6.85      -4.66 196233.56   \n",
       "Lars                                        -7.35      -5.03 202450.51   \n",
       "\n",
       "                               Time Taken  \n",
       "Model                                      \n",
       "GradientBoostingRegressor            0.31  \n",
       "RandomForestRegressor                0.89  \n",
       "ExtraTreesRegressor                  0.66  \n",
       "HistGradientBoostingRegressor        0.17  \n",
       "XGBRegressor                         0.12  \n",
       "LGBMRegressor                        0.11  \n",
       "HuberRegressor                       0.05  \n",
       "BaggingRegressor                     0.10  \n",
       "PassiveAggressiveRegressor           0.04  \n",
       "GammaRegressor                       0.06  \n",
       "AdaBoostRegressor                    0.13  \n",
       "RANSACRegressor                      0.14  \n",
       "LarsCV                               0.05  \n",
       "ElasticNet                           0.01  \n",
       "LassoLarsCV                          0.03  \n",
       "LassoCV                              0.04  \n",
       "TweedieRegressor                     0.02  \n",
       "BayesianRidge                        0.04  \n",
       "LassoLarsIC                          0.02  \n",
       "RidgeCV                              0.02  \n",
       "Ridge                                0.01  \n",
       "Lasso                                0.01  \n",
       "LassoLars                            0.01  \n",
       "LinearRegression                     0.01  \n",
       "TransformedTargetRegressor           0.01  \n",
       "PoissonRegressor                     0.02  \n",
       "OrthogonalMatchingPursuit            0.01  \n",
       "OrthogonalMatchingPursuitCV          0.01  \n",
       "KNeighborsRegressor                  0.02  \n",
       "SGDRegressor                         0.01  \n",
       "ExtraTreeRegressor                   0.01  \n",
       "DecisionTreeRegressor                0.02  \n",
       "ElasticNetCV                         0.05  \n",
       "DummyRegressor                       0.00  \n",
       "NuSVR                                0.03  \n",
       "SVR                                  0.04  \n",
       "QuantileRegressor                    0.10  \n",
       "KernelRidge                          0.03  \n",
       "MLPRegressor                         0.87  \n",
       "GaussianProcessRegressor             0.12  \n",
       "LinearSVR                            0.01  \n",
       "Lars                                 0.01  "
      ]
     },
     "execution_count": 52,
     "metadata": {},
     "output_type": "execute_result"
    }
   ],
   "source": [
    "reg_result2"
   ]
  },
  {
   "cell_type": "code",
   "execution_count": 53,
   "metadata": {},
   "outputs": [
    {
     "name": "stderr",
     "output_type": "stream",
     "text": [
      "h:\\Other computers\\My Computer\\Work\\bank_term_deposit_v3\\env3\\lib\\site-packages\\plotly\\graph_objs\\_deprecations.py:378: DeprecationWarning:\n",
      "\n",
      "plotly.graph_objs.Line is deprecated.\n",
      "Please replace it with one of the following more specific types\n",
      "  - plotly.graph_objs.scatter.Line\n",
      "  - plotly.graph_objs.layout.shape.Line\n",
      "  - etc.\n",
      "\n",
      "\n"
     ]
    },
    {
     "data": {
      "application/vnd.plotly.v1+json": {
       "config": {
        "plotlyServerURL": "https://plot.ly"
       },
       "data": [
        {
         "name": "RMSE",
         "type": "bar",
         "x": [
          "GradientBoostingRegressor",
          "RandomForestRegressor",
          "ExtraTreesRegressor",
          "HistGradientBoostingRegressor",
          "XGBRegressor",
          "LGBMRegressor",
          "HuberRegressor",
          "BaggingRegressor",
          "PassiveAggressiveRegressor",
          "GammaRegressor",
          "AdaBoostRegressor",
          "RANSACRegressor",
          "LarsCV",
          "ElasticNet",
          "LassoLarsCV",
          "LassoCV",
          "TweedieRegressor",
          "BayesianRidge",
          "LassoLarsIC",
          "RidgeCV",
          "Ridge",
          "Lasso",
          "LassoLars",
          "LinearRegression",
          "TransformedTargetRegressor",
          "PoissonRegressor",
          "OrthogonalMatchingPursuit",
          "OrthogonalMatchingPursuitCV",
          "KNeighborsRegressor",
          "SGDRegressor",
          "ExtraTreeRegressor",
          "DecisionTreeRegressor"
         ],
         "y": [
          23599.128906476275,
          25452.83986933543,
          26341.724820231655,
          27748.05751946003,
          28002.401255773984,
          28680.17101486867,
          29400.249690000237,
          29781.743000244052,
          30092.82084203964,
          30252.895061785704,
          33335.844837068486,
          33566.541564602805,
          35451.29327747015,
          36481.261812073244,
          36701.36086706622,
          36706.25259225007,
          36720.16166235979,
          37827.78807452165,
          37832.45630090759,
          38204.9390631704,
          38278.61989533149,
          38284.198587074374,
          38284.51017558692,
          38285.57243688084,
          38285.57243688084,
          38325.375707797095,
          40804.15638403134,
          40804.15638403134,
          42843.062155150794,
          44782.37514840216,
          45746.01411791858,
          49385.966412515394
         ]
        },
        {
         "name": "Adjusted R-Squared",
         "type": "scatter",
         "x": [
          "GradientBoostingRegressor",
          "RandomForestRegressor",
          "ExtraTreesRegressor",
          "HistGradientBoostingRegressor",
          "XGBRegressor",
          "LGBMRegressor",
          "HuberRegressor",
          "BaggingRegressor",
          "PassiveAggressiveRegressor",
          "GammaRegressor",
          "AdaBoostRegressor",
          "RANSACRegressor",
          "LarsCV",
          "ElasticNet",
          "LassoLarsCV",
          "LassoCV",
          "TweedieRegressor",
          "BayesianRidge",
          "LassoLarsIC",
          "RidgeCV",
          "Ridge",
          "Lasso",
          "LassoLars",
          "LinearRegression",
          "TransformedTargetRegressor",
          "PoissonRegressor",
          "OrthogonalMatchingPursuit",
          "OrthogonalMatchingPursuitCV",
          "KNeighborsRegressor",
          "SGDRegressor",
          "ExtraTreeRegressor",
          "DecisionTreeRegressor"
         ],
         "y": [
          0.8864887716534627,
          0.8679557881240136,
          0.8585720340125202,
          0.8430678045633306,
          0.8401776812673872,
          0.8323473773946285,
          0.8238231194813752,
          0.8192213655822183,
          0.8154250848709148,
          0.8134562254152011,
          0.7734991634794898,
          0.7703533720738588,
          0.7438401593773082,
          0.7287394857038758,
          0.7254564695050093,
          0.7253832797937574,
          0.7251751197863596,
          0.7083454387440908,
          0.708273449680079,
          0.702500732386227,
          0.7013521305957318,
          0.701265074907047,
          0.7012602121828329,
          0.701243633983732,
          0.701243633983732,
          0.7006221120235931,
          0.6606438805872494,
          0.6606438805872494,
          0.6258826183756647,
          0.5912468374641018,
          0.5734662532661778,
          0.5028882921085229
         ],
         "yaxis": "y2"
        },
        {
         "name": "R-Squared",
         "type": "scatter",
         "x": [
          "GradientBoostingRegressor",
          "RandomForestRegressor",
          "ExtraTreesRegressor",
          "HistGradientBoostingRegressor",
          "XGBRegressor",
          "LGBMRegressor",
          "HuberRegressor",
          "BaggingRegressor",
          "PassiveAggressiveRegressor",
          "GammaRegressor",
          "AdaBoostRegressor",
          "RANSACRegressor",
          "LarsCV",
          "ElasticNet",
          "LassoLarsCV",
          "LassoCV",
          "TweedieRegressor",
          "BayesianRidge",
          "LassoLarsIC",
          "RidgeCV",
          "Ridge",
          "Lasso",
          "LassoLars",
          "LinearRegression",
          "TransformedTargetRegressor",
          "PoissonRegressor",
          "OrthogonalMatchingPursuit",
          "OrthogonalMatchingPursuitCV",
          "KNeighborsRegressor",
          "SGDRegressor",
          "ExtraTreeRegressor",
          "DecisionTreeRegressor"
         ],
         "y": [
          0.9181159459637575,
          0.9047467326543457,
          0.8979775359861311,
          0.8867931872613339,
          0.884708327326474,
          0.8790597493419267,
          0.8729105709235875,
          0.8695909850955696,
          0.8668524467198584,
          0.8654321626086756,
          0.8366081751817693,
          0.8343388829082417,
          0.8152129393981346,
          0.804319705336002,
          0.8019514226581937,
          0.8018986255000768,
          0.8017484642733663,
          0.7896079691703556,
          0.7895560381279959,
          0.7853917496984615,
          0.784563178177837,
          0.7845003784634805,
          0.7844968706204405,
          0.784484911537883,
          0.784484911537883,
          0.7840365617269431,
          0.7551973031717181,
          0.7551973031717181,
          0.7301214308129795,
          0.7051360774073101,
          0.692309625447739,
          0.6413965160630185
         ],
         "yaxis": "y2"
        },
        {
         "name": "Time Taken",
         "type": "scatter",
         "x": [
          "GradientBoostingRegressor",
          "RandomForestRegressor",
          "ExtraTreesRegressor",
          "HistGradientBoostingRegressor",
          "XGBRegressor",
          "LGBMRegressor",
          "HuberRegressor",
          "BaggingRegressor",
          "PassiveAggressiveRegressor",
          "GammaRegressor",
          "AdaBoostRegressor",
          "RANSACRegressor",
          "LarsCV",
          "ElasticNet",
          "LassoLarsCV",
          "LassoCV",
          "TweedieRegressor",
          "BayesianRidge",
          "LassoLarsIC",
          "RidgeCV",
          "Ridge",
          "Lasso",
          "LassoLars",
          "LinearRegression",
          "TransformedTargetRegressor",
          "PoissonRegressor",
          "OrthogonalMatchingPursuit",
          "OrthogonalMatchingPursuitCV",
          "KNeighborsRegressor",
          "SGDRegressor",
          "ExtraTreeRegressor",
          "DecisionTreeRegressor"
         ],
         "y": [
          0.305999755859375,
          0.8900003433227539,
          0.6589994430541992,
          0.17302989959716797,
          0.11883687973022461,
          0.11011767387390137,
          0.04600048065185547,
          0.1003870964050293,
          0.03999972343444824,
          0.06379008293151855,
          0.1307542324066162,
          0.14489459991455078,
          0.051000118255615234,
          0.01096796989440918,
          0.027999162673950195,
          0.03600001335144043,
          0.015117168426513672,
          0.043764591217041016,
          0.018484830856323242,
          0.02099776268005371,
          0.007002353668212891,
          0.010283708572387695,
          0.009001016616821289,
          0.012999534606933594,
          0.013111352920532227,
          0.02197885513305664,
          0.00599980354309082,
          0.010999917984008789,
          0.01853632926940918,
          0.007000446319580078,
          0.010000467300415039,
          0.017999649047851562
         ],
         "yaxis": "y2"
        }
       ],
       "layout": {
        "legend": {
         "entrywidth": 500,
         "orientation": "h",
         "x": 1,
         "xanchor": "right",
         "y": 1.02,
         "yanchor": "bottom"
        },
        "template": {
         "data": {
          "bar": [
           {
            "error_x": {
             "color": "#2a3f5f"
            },
            "error_y": {
             "color": "#2a3f5f"
            },
            "marker": {
             "line": {
              "color": "#E5ECF6",
              "width": 0.5
             },
             "pattern": {
              "fillmode": "overlay",
              "size": 10,
              "solidity": 0.2
             }
            },
            "type": "bar"
           }
          ],
          "barpolar": [
           {
            "marker": {
             "line": {
              "color": "#E5ECF6",
              "width": 0.5
             },
             "pattern": {
              "fillmode": "overlay",
              "size": 10,
              "solidity": 0.2
             }
            },
            "type": "barpolar"
           }
          ],
          "carpet": [
           {
            "aaxis": {
             "endlinecolor": "#2a3f5f",
             "gridcolor": "white",
             "linecolor": "white",
             "minorgridcolor": "white",
             "startlinecolor": "#2a3f5f"
            },
            "baxis": {
             "endlinecolor": "#2a3f5f",
             "gridcolor": "white",
             "linecolor": "white",
             "minorgridcolor": "white",
             "startlinecolor": "#2a3f5f"
            },
            "type": "carpet"
           }
          ],
          "choropleth": [
           {
            "colorbar": {
             "outlinewidth": 0,
             "ticks": ""
            },
            "type": "choropleth"
           }
          ],
          "contour": [
           {
            "colorbar": {
             "outlinewidth": 0,
             "ticks": ""
            },
            "colorscale": [
             [
              0,
              "#0d0887"
             ],
             [
              0.1111111111111111,
              "#46039f"
             ],
             [
              0.2222222222222222,
              "#7201a8"
             ],
             [
              0.3333333333333333,
              "#9c179e"
             ],
             [
              0.4444444444444444,
              "#bd3786"
             ],
             [
              0.5555555555555556,
              "#d8576b"
             ],
             [
              0.6666666666666666,
              "#ed7953"
             ],
             [
              0.7777777777777778,
              "#fb9f3a"
             ],
             [
              0.8888888888888888,
              "#fdca26"
             ],
             [
              1,
              "#f0f921"
             ]
            ],
            "type": "contour"
           }
          ],
          "contourcarpet": [
           {
            "colorbar": {
             "outlinewidth": 0,
             "ticks": ""
            },
            "type": "contourcarpet"
           }
          ],
          "heatmap": [
           {
            "colorbar": {
             "outlinewidth": 0,
             "ticks": ""
            },
            "colorscale": [
             [
              0,
              "#0d0887"
             ],
             [
              0.1111111111111111,
              "#46039f"
             ],
             [
              0.2222222222222222,
              "#7201a8"
             ],
             [
              0.3333333333333333,
              "#9c179e"
             ],
             [
              0.4444444444444444,
              "#bd3786"
             ],
             [
              0.5555555555555556,
              "#d8576b"
             ],
             [
              0.6666666666666666,
              "#ed7953"
             ],
             [
              0.7777777777777778,
              "#fb9f3a"
             ],
             [
              0.8888888888888888,
              "#fdca26"
             ],
             [
              1,
              "#f0f921"
             ]
            ],
            "type": "heatmap"
           }
          ],
          "heatmapgl": [
           {
            "colorbar": {
             "outlinewidth": 0,
             "ticks": ""
            },
            "colorscale": [
             [
              0,
              "#0d0887"
             ],
             [
              0.1111111111111111,
              "#46039f"
             ],
             [
              0.2222222222222222,
              "#7201a8"
             ],
             [
              0.3333333333333333,
              "#9c179e"
             ],
             [
              0.4444444444444444,
              "#bd3786"
             ],
             [
              0.5555555555555556,
              "#d8576b"
             ],
             [
              0.6666666666666666,
              "#ed7953"
             ],
             [
              0.7777777777777778,
              "#fb9f3a"
             ],
             [
              0.8888888888888888,
              "#fdca26"
             ],
             [
              1,
              "#f0f921"
             ]
            ],
            "type": "heatmapgl"
           }
          ],
          "histogram": [
           {
            "marker": {
             "pattern": {
              "fillmode": "overlay",
              "size": 10,
              "solidity": 0.2
             }
            },
            "type": "histogram"
           }
          ],
          "histogram2d": [
           {
            "colorbar": {
             "outlinewidth": 0,
             "ticks": ""
            },
            "colorscale": [
             [
              0,
              "#0d0887"
             ],
             [
              0.1111111111111111,
              "#46039f"
             ],
             [
              0.2222222222222222,
              "#7201a8"
             ],
             [
              0.3333333333333333,
              "#9c179e"
             ],
             [
              0.4444444444444444,
              "#bd3786"
             ],
             [
              0.5555555555555556,
              "#d8576b"
             ],
             [
              0.6666666666666666,
              "#ed7953"
             ],
             [
              0.7777777777777778,
              "#fb9f3a"
             ],
             [
              0.8888888888888888,
              "#fdca26"
             ],
             [
              1,
              "#f0f921"
             ]
            ],
            "type": "histogram2d"
           }
          ],
          "histogram2dcontour": [
           {
            "colorbar": {
             "outlinewidth": 0,
             "ticks": ""
            },
            "colorscale": [
             [
              0,
              "#0d0887"
             ],
             [
              0.1111111111111111,
              "#46039f"
             ],
             [
              0.2222222222222222,
              "#7201a8"
             ],
             [
              0.3333333333333333,
              "#9c179e"
             ],
             [
              0.4444444444444444,
              "#bd3786"
             ],
             [
              0.5555555555555556,
              "#d8576b"
             ],
             [
              0.6666666666666666,
              "#ed7953"
             ],
             [
              0.7777777777777778,
              "#fb9f3a"
             ],
             [
              0.8888888888888888,
              "#fdca26"
             ],
             [
              1,
              "#f0f921"
             ]
            ],
            "type": "histogram2dcontour"
           }
          ],
          "mesh3d": [
           {
            "colorbar": {
             "outlinewidth": 0,
             "ticks": ""
            },
            "type": "mesh3d"
           }
          ],
          "parcoords": [
           {
            "line": {
             "colorbar": {
              "outlinewidth": 0,
              "ticks": ""
             }
            },
            "type": "parcoords"
           }
          ],
          "pie": [
           {
            "automargin": true,
            "type": "pie"
           }
          ],
          "scatter": [
           {
            "fillpattern": {
             "fillmode": "overlay",
             "size": 10,
             "solidity": 0.2
            },
            "type": "scatter"
           }
          ],
          "scatter3d": [
           {
            "line": {
             "colorbar": {
              "outlinewidth": 0,
              "ticks": ""
             }
            },
            "marker": {
             "colorbar": {
              "outlinewidth": 0,
              "ticks": ""
             }
            },
            "type": "scatter3d"
           }
          ],
          "scattercarpet": [
           {
            "marker": {
             "colorbar": {
              "outlinewidth": 0,
              "ticks": ""
             }
            },
            "type": "scattercarpet"
           }
          ],
          "scattergeo": [
           {
            "marker": {
             "colorbar": {
              "outlinewidth": 0,
              "ticks": ""
             }
            },
            "type": "scattergeo"
           }
          ],
          "scattergl": [
           {
            "marker": {
             "colorbar": {
              "outlinewidth": 0,
              "ticks": ""
             }
            },
            "type": "scattergl"
           }
          ],
          "scattermapbox": [
           {
            "marker": {
             "colorbar": {
              "outlinewidth": 0,
              "ticks": ""
             }
            },
            "type": "scattermapbox"
           }
          ],
          "scatterpolar": [
           {
            "marker": {
             "colorbar": {
              "outlinewidth": 0,
              "ticks": ""
             }
            },
            "type": "scatterpolar"
           }
          ],
          "scatterpolargl": [
           {
            "marker": {
             "colorbar": {
              "outlinewidth": 0,
              "ticks": ""
             }
            },
            "type": "scatterpolargl"
           }
          ],
          "scatterternary": [
           {
            "marker": {
             "colorbar": {
              "outlinewidth": 0,
              "ticks": ""
             }
            },
            "type": "scatterternary"
           }
          ],
          "surface": [
           {
            "colorbar": {
             "outlinewidth": 0,
             "ticks": ""
            },
            "colorscale": [
             [
              0,
              "#0d0887"
             ],
             [
              0.1111111111111111,
              "#46039f"
             ],
             [
              0.2222222222222222,
              "#7201a8"
             ],
             [
              0.3333333333333333,
              "#9c179e"
             ],
             [
              0.4444444444444444,
              "#bd3786"
             ],
             [
              0.5555555555555556,
              "#d8576b"
             ],
             [
              0.6666666666666666,
              "#ed7953"
             ],
             [
              0.7777777777777778,
              "#fb9f3a"
             ],
             [
              0.8888888888888888,
              "#fdca26"
             ],
             [
              1,
              "#f0f921"
             ]
            ],
            "type": "surface"
           }
          ],
          "table": [
           {
            "cells": {
             "fill": {
              "color": "#EBF0F8"
             },
             "line": {
              "color": "white"
             }
            },
            "header": {
             "fill": {
              "color": "#C8D4E3"
             },
             "line": {
              "color": "white"
             }
            },
            "type": "table"
           }
          ]
         },
         "layout": {
          "annotationdefaults": {
           "arrowcolor": "#2a3f5f",
           "arrowhead": 0,
           "arrowwidth": 1
          },
          "autotypenumbers": "strict",
          "coloraxis": {
           "colorbar": {
            "outlinewidth": 0,
            "ticks": ""
           }
          },
          "colorscale": {
           "diverging": [
            [
             0,
             "#8e0152"
            ],
            [
             0.1,
             "#c51b7d"
            ],
            [
             0.2,
             "#de77ae"
            ],
            [
             0.3,
             "#f1b6da"
            ],
            [
             0.4,
             "#fde0ef"
            ],
            [
             0.5,
             "#f7f7f7"
            ],
            [
             0.6,
             "#e6f5d0"
            ],
            [
             0.7,
             "#b8e186"
            ],
            [
             0.8,
             "#7fbc41"
            ],
            [
             0.9,
             "#4d9221"
            ],
            [
             1,
             "#276419"
            ]
           ],
           "sequential": [
            [
             0,
             "#0d0887"
            ],
            [
             0.1111111111111111,
             "#46039f"
            ],
            [
             0.2222222222222222,
             "#7201a8"
            ],
            [
             0.3333333333333333,
             "#9c179e"
            ],
            [
             0.4444444444444444,
             "#bd3786"
            ],
            [
             0.5555555555555556,
             "#d8576b"
            ],
            [
             0.6666666666666666,
             "#ed7953"
            ],
            [
             0.7777777777777778,
             "#fb9f3a"
            ],
            [
             0.8888888888888888,
             "#fdca26"
            ],
            [
             1,
             "#f0f921"
            ]
           ],
           "sequentialminus": [
            [
             0,
             "#0d0887"
            ],
            [
             0.1111111111111111,
             "#46039f"
            ],
            [
             0.2222222222222222,
             "#7201a8"
            ],
            [
             0.3333333333333333,
             "#9c179e"
            ],
            [
             0.4444444444444444,
             "#bd3786"
            ],
            [
             0.5555555555555556,
             "#d8576b"
            ],
            [
             0.6666666666666666,
             "#ed7953"
            ],
            [
             0.7777777777777778,
             "#fb9f3a"
            ],
            [
             0.8888888888888888,
             "#fdca26"
            ],
            [
             1,
             "#f0f921"
            ]
           ]
          },
          "colorway": [
           "#636efa",
           "#EF553B",
           "#00cc96",
           "#ab63fa",
           "#FFA15A",
           "#19d3f3",
           "#FF6692",
           "#B6E880",
           "#FF97FF",
           "#FECB52"
          ],
          "font": {
           "color": "#2a3f5f"
          },
          "geo": {
           "bgcolor": "white",
           "lakecolor": "white",
           "landcolor": "#E5ECF6",
           "showlakes": true,
           "showland": true,
           "subunitcolor": "white"
          },
          "hoverlabel": {
           "align": "left"
          },
          "hovermode": "closest",
          "mapbox": {
           "style": "light"
          },
          "paper_bgcolor": "white",
          "plot_bgcolor": "#E5ECF6",
          "polar": {
           "angularaxis": {
            "gridcolor": "white",
            "linecolor": "white",
            "ticks": ""
           },
           "bgcolor": "#E5ECF6",
           "radialaxis": {
            "gridcolor": "white",
            "linecolor": "white",
            "ticks": ""
           }
          },
          "scene": {
           "xaxis": {
            "backgroundcolor": "#E5ECF6",
            "gridcolor": "white",
            "gridwidth": 2,
            "linecolor": "white",
            "showbackground": true,
            "ticks": "",
            "zerolinecolor": "white"
           },
           "yaxis": {
            "backgroundcolor": "#E5ECF6",
            "gridcolor": "white",
            "gridwidth": 2,
            "linecolor": "white",
            "showbackground": true,
            "ticks": "",
            "zerolinecolor": "white"
           },
           "zaxis": {
            "backgroundcolor": "#E5ECF6",
            "gridcolor": "white",
            "gridwidth": 2,
            "linecolor": "white",
            "showbackground": true,
            "ticks": "",
            "zerolinecolor": "white"
           }
          },
          "shapedefaults": {
           "line": {
            "color": "#2a3f5f"
           }
          },
          "ternary": {
           "aaxis": {
            "gridcolor": "white",
            "linecolor": "white",
            "ticks": ""
           },
           "baxis": {
            "gridcolor": "white",
            "linecolor": "white",
            "ticks": ""
           },
           "bgcolor": "#E5ECF6",
           "caxis": {
            "gridcolor": "white",
            "linecolor": "white",
            "ticks": ""
           }
          },
          "title": {
           "x": 0.05
          },
          "xaxis": {
           "automargin": true,
           "gridcolor": "white",
           "linecolor": "white",
           "ticks": "",
           "title": {
            "standoff": 15
           },
           "zerolinecolor": "white",
           "zerolinewidth": 2
          },
          "yaxis": {
           "automargin": true,
           "gridcolor": "white",
           "linecolor": "white",
           "ticks": "",
           "title": {
            "standoff": 15
           },
           "zerolinecolor": "white",
           "zerolinewidth": 2
          }
         }
        },
        "yaxis": {
         "side": "left",
         "title": {
          "text": "RMSE"
         }
        },
        "yaxis2": {
         "overlaying": "y",
         "side": "right",
         "tickmode": "sync",
         "title": {
          "text": "Adj R2 and R2"
         }
        }
       }
      }
     },
     "metadata": {},
     "output_type": "display_data"
    }
   ],
   "source": [
    "viz_reg_result(reg_result2)"
   ]
  },
  {
   "cell_type": "markdown",
   "metadata": {},
   "source": [
    "GradientBoostingRegressor"
   ]
  },
  {
   "cell_type": "code",
   "execution_count": 54,
   "metadata": {},
   "outputs": [],
   "source": [
    "def remove_null(df):\n",
    "    x_df=df\n",
    "    c_col=df.select_dtypes(include=['object', 'bool']).columns\n",
    "    n_col=df.select_dtypes(include=['int64', 'float64']).columns\n",
    "    for i in c_col:\n",
    "        x_df[i]=x_df[i].fillna('')\n",
    "    for i in n_col:\n",
    "        x_df[i]=x_df[i].fillna(0)    \n",
    "    return x_df"
   ]
  },
  {
   "cell_type": "code",
   "execution_count": 55,
   "metadata": {},
   "outputs": [],
   "source": [
    "x2_tr=remove_null(x2_tr)\n",
    "x2_val=remove_null(x2_val)\n",
    "x2_tst=remove_null(x2_tst)"
   ]
  },
  {
   "cell_type": "code",
   "execution_count": 56,
   "metadata": {},
   "outputs": [],
   "source": [
    "def reg_result(model,val_x,val_y):\n",
    "    pred_=model.predict(val_x)\n",
    "    rmse_=root_mean_squared_error(val_y,pred_)\n",
    "    r2_=r2_score(val_y,pred_)\n",
    "    adj_r2_=1-(1-r2_)*(len(val_x)-1)/(len(val_x)-model.n_features_in_-1)\n",
    "    print(f'RMSE:${round(rmse_):,} R2:%.4f Adj R2:%.4f'%(r2_,adj_r2_))"
   ]
  },
  {
   "cell_type": "code",
   "execution_count": 57,
   "metadata": {},
   "outputs": [],
   "source": [
    "gbr_loss=['squared_error','absolute_error','huber','quantile']\n",
    "gbr_criterion=['friedman_mse', 'squared_error']\n",
    "gbr_space={\n",
    " 'alpha': hp.uniform ('alpha',0,1),\n",
    " 'ccp_alpha': hp.uniform ('ccp_alpha',0,100),\n",
    " 'criterion': hp.choice('criterion',gbr_criterion),\n",
    " 'init': None,\n",
    " 'learning_rate': hp.uniform ('learning_rate',0,1),\n",
    " 'loss': hp.choice('loss',gbr_loss),\n",
    " 'max_depth': hp.quniform ('max_depth', 1,20,1),\n",
    " 'max_features': None,\n",
    " 'max_leaf_nodes': None,\n",
    " 'min_impurity_decrease': hp.uniform ('min_impurity_decrease', 0.01,100),\n",
    " 'min_samples_leaf': 1,\n",
    " 'min_samples_split': hp.uniform ('min_samples_split', 0.01,1),\n",
    " 'min_weight_fraction_leaf': hp.uniform ('min_weight_fraction_leaf', 0.,0.5),\n",
    " 'n_estimators': hp.quniform ('n_estimators', 1000,5000,500),\n",
    " 'n_iter_no_change': None,\n",
    " 'random_state': None,\n",
    " 'subsample': hp.uniform ('subsample', 0.01,0.5),\n",
    " 'tol': 0.0001,\n",
    " 'validation_fraction': 0.1,\n",
    " 'verbose': 0,\n",
    " 'warm_start': False,\n",
    " 'x_tr':x2_tr,\n",
    " 'x_val':x2_val,\n",
    " 'y_tr':y2_tr,\n",
    " 'y_val':y2_val,\n",
    " 'pro_df_tr':trans_df_tr2,\n",
    " 'target_response':'SalePrice'\n",
    " }"
   ]
  },
  {
   "cell_type": "code",
   "execution_count": 60,
   "metadata": {},
   "outputs": [],
   "source": [
    "def objective_cv(space):\n",
    "\n",
    "    hp_reg=GradientBoostingRegressor(\n",
    "        alpha=space['alpha'],\n",
    "        ccp_alpha=space['ccp_alpha'],\n",
    "        criterion=space['criterion'],\n",
    "        init=space['init'],\n",
    "        learning_rate=space['learning_rate'],\n",
    "        loss=space['loss'],\n",
    "        max_depth=int(space['max_depth']),\n",
    "        max_features=space['max_features'],\n",
    "        max_leaf_nodes=space['max_leaf_nodes'],\n",
    "        min_impurity_decrease=space['min_impurity_decrease'],\n",
    "        min_samples_leaf=space['min_samples_leaf'],\n",
    "        min_samples_split=space['min_samples_split'],\n",
    "        min_weight_fraction_leaf=space['min_weight_fraction_leaf'],\n",
    "        n_estimators=int(space['n_estimators']),\n",
    "        n_iter_no_change=space['n_iter_no_change'],\n",
    "        random_state=space['random_state'],\n",
    "        subsample=space['subsample'],\n",
    "        tol=space['tol'],\n",
    "        validation_fraction=space['validation_fraction'],\n",
    "        verbose=space['verbose'],\n",
    "        warm_start=space['warm_start'],\n",
    "    )\n",
    "\n",
    "    pro_df=remove_null(space['pro_df_tr'])\n",
    "    df1,k1=train_test_split(pro_df,train_size=0.8,shuffle=True)\n",
    "    df1,k2=train_test_split(df1,train_size=(0.75),shuffle=True)\n",
    "    df1,k3=train_test_split(df1,train_size=(2/3),shuffle=True)\n",
    "    k5,k4=train_test_split(df1,train_size=0.5,shuffle=True)\n",
    "\n",
    "    a=[k1,k2,k3,k4,k5]\n",
    "    cv_score=[100,100,100,100,100]\n",
    "    for i in range(len(a)):\n",
    "        b=a.copy()\n",
    "        #assign validation set\n",
    "        x_val1=b[i].drop(space['target_response'],axis=1)\n",
    "        y_val1=b[i][space['target_response']]\n",
    "        #assing training set\n",
    "        del b[i]\n",
    "        tr=pd.DataFrame()\n",
    "        for j in range(len(b)):\n",
    "            tr=pd.concat([tr,b[j]],axis=0)\n",
    "        x_tr1=tr.drop(space['target_response'],axis=1)\n",
    "        y_tr1=tr[space['target_response']]\n",
    "\n",
    "        hp_reg.fit(x_tr1,\n",
    "                    y_tr1,\n",
    "                    )\n",
    "           \n",
    "        pred_=hp_reg.predict(x_val1)\n",
    "        rmse_=root_mean_squared_error(y_val1,pred_)\n",
    "        r2_=r2_score(y_val1,pred_)\n",
    "        adj_r2_=1-(1-r2_)*(len(x_val1)-1)/(len(x_val1)-hp_reg.n_features_in_-1)\n",
    "        #cv_score[i]=rmse_/(r2_*adj_r2_)\n",
    "        cv_score[i]=rmse_\n",
    "        print(f'RMSE:${round(rmse_):,} R2:%.4f Adj R2:%.4f'%(r2_,adj_r2_))\n",
    "    #best_score=sum(cv_score)/len(cv_score)\n",
    "    best_score=max(cv_score)\n",
    "    \n",
    "    print(f\"The score from this cv is {round(best_score):,}\")\n",
    "\n",
    "    return {'loss': best_score, 'status': STATUS_OK }"
   ]
  },
  {
   "cell_type": "code",
   "execution_count": 65,
   "metadata": {},
   "outputs": [],
   "source": [
    "def hyperopt_hp_cv(objective, space):\n",
    "    trials = Trials()\n",
    "\n",
    "    best_hyperparams = fmin(fn = objective,\n",
    "                            space = space,\n",
    "                            algo = tpe.suggest,\n",
    "                            max_evals = 100,\n",
    "                            trials = trials,\n",
    "                            )\n",
    "    return best_hyperparams"
   ]
  },
  {
   "cell_type": "code",
   "execution_count": 66,
   "metadata": {},
   "outputs": [
    {
     "name": "stdout",
     "output_type": "stream",
     "text": [
      "RMSE:$84,227 R2:-0.0322 Adj R2:-0.3778                 \n",
      "RMSE:$75,692 R2:-0.0092 Adj R2:-0.3471                 \n",
      "RMSE:$76,507 R2:-0.0176 Adj R2:-0.3584                 \n",
      "RMSE:$74,697 R2:-0.0044 Adj R2:-0.3407                 \n",
      "RMSE:$87,822 R2:-0.0058 Adj R2:-0.3426                 \n",
      "The score from this cv is 87,822                       \n",
      "RMSE:$88,705 R2:-0.0010 Adj R2:-0.3362                                          \n",
      "RMSE:$81,376 R2:-0.0030 Adj R2:-0.3388                                          \n",
      "RMSE:$65,603 R2:-0.0005 Adj R2:-0.3355                                          \n",
      "RMSE:$77,005 R2:-0.0148 Adj R2:-0.3546                                          \n",
      "RMSE:$82,829 R2:-0.0001 Adj R2:-0.3350                                          \n",
      "The score from this cv is 88,705                                                \n",
      "RMSE:$28,937 R2:0.8548 Adj R2:0.8062                                            \n",
      "RMSE:$29,908 R2:0.8364 Adj R2:0.7816                                            \n",
      "RMSE:$37,182 R2:0.8354 Adj R2:0.7803                                            \n",
      "RMSE:$34,978 R2:0.7925 Adj R2:0.7231                                            \n",
      "RMSE:$30,719 R2:0.8422 Adj R2:0.7893                                            \n",
      "The score from this cv is 37,182                                                \n",
      "RMSE:$55,810 R2:0.5489 Adj R2:0.3978                                            \n",
      "RMSE:$60,684 R2:0.3614 Adj R2:0.1475                                            \n",
      "RMSE:$60,539 R2:0.5226 Adj R2:0.3628                                            \n",
      "RMSE:$64,152 R2:0.0573 Adj R2:-0.2584                                           \n",
      "RMSE:$56,913 R2:0.5215 Adj R2:0.3613                                            \n",
      "The score from this cv is 64,152                                                \n",
      "RMSE:$85,628 R2:-0.0021 Adj R2:-0.3376                                          \n",
      "RMSE:$80,532 R2:-0.0000 Adj R2:-0.3349                                          \n",
      "RMSE:$76,505 R2:-0.0040 Adj R2:-0.3402                                          \n",
      "RMSE:$75,870 R2:-0.0008 Adj R2:-0.3359                                          \n",
      "RMSE:$78,181 R2:-0.0000 Adj R2:-0.3349                                          \n",
      "The score from this cv is 85,628                                                \n",
      "RMSE:$92,066 R2:-0.4207 Adj R2:-0.8964                                          \n",
      "RMSE:$104,143 R2:-0.5020 Adj R2:-1.0050                                         \n",
      "RMSE:$90,916 R2:-0.3914 Adj R2:-0.8573                                          \n",
      "RMSE:$85,768 R2:-0.4041 Adj R2:-0.8743                                          \n",
      "RMSE:$94,696 R2:-0.2735 Adj R2:-0.6999                                          \n",
      "The score from this cv is 104,143                                               \n",
      "RMSE:$80,777 R2:-0.0491 Adj R2:-0.4004                                          \n",
      "RMSE:$78,611 R2:-0.0509 Adj R2:-0.4028                                          \n",
      "RMSE:$82,249 R2:-0.0256 Adj R2:-0.3690                                          \n",
      "RMSE:$83,932 R2:-0.0934 Adj R2:-0.4596                                          \n",
      "RMSE:$79,967 R2:-0.0079 Adj R2:-0.3454                                          \n",
      "The score from this cv is 83,932                                                \n",
      "RMSE:$86,525 R2:-0.1072 Adj R2:-0.4780                                          \n",
      "RMSE:$88,619 R2:-0.0890 Adj R2:-0.4537                                          \n",
      "RMSE:$80,564 R2:-0.0430 Adj R2:-0.3923                                          \n",
      "RMSE:$76,934 R2:-0.0277 Adj R2:-0.3719                                          \n",
      "RMSE:$73,817 R2:-0.0261 Adj R2:-0.3697                                          \n",
      "The score from this cv is 88,619                                                \n",
      "RMSE:$86,782 R2:-0.0002 Adj R2:-0.3351                                          \n",
      "RMSE:$69,803 R2:-0.0048 Adj R2:-0.3413                                          \n",
      "RMSE:$82,029 R2:-0.0088 Adj R2:-0.3465                                          \n",
      "RMSE:$79,421 R2:-0.0015 Adj R2:-0.3368                                          \n",
      "RMSE:$78,352 R2:-0.0000 Adj R2:-0.3349                                          \n",
      "The score from this cv is 86,782                                                \n",
      "RMSE:$98,914 R2:-0.0665 Adj R2:-0.4237                                          \n",
      "RMSE:$75,841 R2:-0.0313 Adj R2:-0.3767                                          \n",
      "RMSE:$78,790 R2:-0.1015 Adj R2:-0.4704                                          \n",
      "RMSE:$72,404 R2:-0.0089 Adj R2:-0.3467                                          \n",
      "RMSE:$76,752 R2:-0.0197 Adj R2:-0.3612                                          \n",
      "The score from this cv is 98,914                                                \n",
      "RMSE:$92,568 R2:-0.0593 Adj R2:-0.4140                                           \n",
      "RMSE:$78,426 R2:-0.0630 Adj R2:-0.4189                                           \n",
      "RMSE:$82,117 R2:-0.1121 Adj R2:-0.4845                                           \n",
      "RMSE:$81,967 R2:-0.0308 Adj R2:-0.3760                                           \n",
      "RMSE:$73,205 R2:-0.0701 Adj R2:-0.4285                                           \n",
      "The score from this cv is 92,568                                                 \n",
      "RMSE:$83,323 R2:-0.1589 Adj R2:-0.5470                                           \n",
      "RMSE:$76,145 R2:-0.0059 Adj R2:-0.3427                                           \n",
      "RMSE:$79,060 R2:-0.0303 Adj R2:-0.3753                                           \n",
      "RMSE:$92,278 R2:-0.0681 Adj R2:-0.4257                                           \n",
      "RMSE:$76,909 R2:-0.0541 Adj R2:-0.4071                                           \n",
      "The score from this cv is 92,278                                                 \n",
      "RMSE:$91,736 R2:-0.0808 Adj R2:-0.4427                                           \n",
      "RMSE:$80,932 R2:-0.0564 Adj R2:-0.4101                                           \n",
      "RMSE:$67,926 R2:-0.0379 Adj R2:-0.3854                                           \n",
      "RMSE:$87,880 R2:-0.0707 Adj R2:-0.4292                                           \n",
      "RMSE:$77,793 R2:-0.0393 Adj R2:-0.3874                                           \n",
      "The score from this cv is 91,736                                                 \n",
      "RMSE:$78,645 R2:-0.1467 Adj R2:-0.5308                                           \n",
      "RMSE:$86,171 R2:-0.1537 Adj R2:-0.5400                                           \n",
      "RMSE:$96,024 R2:-0.2676 Adj R2:-0.6920                                           \n",
      "RMSE:$88,144 R2:-0.1682 Adj R2:-0.5594                                           \n",
      "RMSE:$81,091 R2:-0.1663 Adj R2:-0.5569                                           \n",
      "The score from this cv is 96,024                                                 \n",
      "RMSE:$80,496 R2:-0.0845 Adj R2:-0.4477                                           \n",
      "RMSE:$82,605 R2:-0.0523 Adj R2:-0.4047                                           \n",
      "RMSE:$82,127 R2:-0.0599 Adj R2:-0.4148                                           \n",
      "RMSE:$80,932 R2:-0.0514 Adj R2:-0.4035                                           \n",
      "RMSE:$82,730 R2:-0.0568 Adj R2:-0.4107                                           \n",
      "The score from this cv is 82,730                                                 \n",
      "RMSE:$31,062 R2:0.8231 Adj R2:0.7639                                             \n",
      "RMSE:$34,316 R2:0.8108 Adj R2:0.7475                                             \n",
      "RMSE:$37,954 R2:0.7876 Adj R2:0.7165                                             \n",
      "RMSE:$33,413 R2:0.8255 Adj R2:0.7671                                             \n",
      "RMSE:$37,993 R2:0.7833 Adj R2:0.7107                                             \n",
      "The score from this cv is 37,993                                                 \n",
      "RMSE:$79,104 R2:-0.0551 Adj R2:-0.4084                                           \n",
      "RMSE:$72,748 R2:-0.0388 Adj R2:-0.3866                                           \n",
      "RMSE:$89,756 R2:-0.0425 Adj R2:-0.3915                                           \n",
      "RMSE:$79,786 R2:-0.0650 Adj R2:-0.4217                                           \n",
      "RMSE:$83,255 R2:-0.0216 Adj R2:-0.3637                                           \n",
      "The score from this cv is 89,756                                                 \n",
      "RMSE:$70,829 R2:-0.0182 Adj R2:-0.3592                                           \n",
      "RMSE:$88,957 R2:-0.0595 Adj R2:-0.4143                                           \n",
      "RMSE:$85,050 R2:-0.1336 Adj R2:-0.5132                                           \n",
      "RMSE:$76,056 R2:-0.0673 Adj R2:-0.4248                                           \n",
      "RMSE:$88,127 R2:-0.0699 Adj R2:-0.4281                                           \n",
      "The score from this cv is 88,957                                                 \n",
      "RMSE:$98,510 R2:-0.1014 Adj R2:-0.4702                                           \n",
      "RMSE:$73,838 R2:-0.0917 Adj R2:-0.4572                                           \n",
      "RMSE:$76,856 R2:-0.0036 Adj R2:-0.3397                                           \n",
      "RMSE:$70,133 R2:-0.0089 Adj R2:-0.3467                                           \n",
      "RMSE:$86,708 R2:-0.1107 Adj R2:-0.4826                                           \n",
      "The score from this cv is 98,510                                                 \n",
      "RMSE:$77,060 R2:-0.0517 Adj R2:-0.4039                                           \n",
      "RMSE:$81,178 R2:-0.0195 Adj R2:-0.3609                                           \n",
      "RMSE:$81,140 R2:-0.1188 Adj R2:-0.4935                                           \n",
      "RMSE:$79,807 R2:-0.0658 Adj R2:-0.4227                                           \n",
      "RMSE:$88,069 R2:-0.0320 Adj R2:-0.3776                                           \n",
      "The score from this cv is 88,069                                                 \n",
      "RMSE:$29,269 R2:0.8576 Adj R2:0.8099                                             \n",
      "RMSE:$23,013 R2:0.9120 Adj R2:0.8825                                             \n",
      "RMSE:$25,771 R2:0.8751 Adj R2:0.8332                                             \n",
      "RMSE:$38,129 R2:0.8160 Adj R2:0.7544                                             \n",
      "RMSE:$25,366 R2:0.8958 Adj R2:0.8608                                             \n",
      "The score from this cv is 38,129                                                 \n",
      "RMSE:$26,692 R2:0.8824 Adj R2:0.8430                                             \n",
      "RMSE:$37,640 R2:0.7941 Adj R2:0.7252                                             \n",
      "RMSE:$31,263 R2:0.8514 Adj R2:0.8016                                             \n",
      "RMSE:$36,642 R2:0.7721 Adj R2:0.6958                                             \n",
      "RMSE:$31,748 R2:0.8344 Adj R2:0.7790                                             \n",
      "The score from this cv is 37,640                                                 \n",
      "RMSE:$87,460 R2:-0.0033 Adj R2:-0.3393                                           \n",
      "RMSE:$74,822 R2:-0.0005 Adj R2:-0.3355                                           \n",
      "RMSE:$86,327 R2:-0.0023 Adj R2:-0.3380                                           \n",
      "RMSE:$71,486 R2:-0.0008 Adj R2:-0.3359                                           \n",
      "RMSE:$75,866 R2:-0.0014 Adj R2:-0.3368                                           \n",
      "The score from this cv is 87,460                                                 \n",
      "RMSE:$30,381 R2:0.8709 Adj R2:0.8277                                             \n",
      "RMSE:$25,943 R2:0.8891 Adj R2:0.8519                                             \n",
      "RMSE:$28,991 R2:0.8465 Adj R2:0.7951                                             \n",
      "RMSE:$28,583 R2:0.8661 Adj R2:0.8212                                             \n",
      "RMSE:$30,704 R2:0.8588 Adj R2:0.8115                                             \n",
      "The score from this cv is 30,704                                                 \n",
      "RMSE:$29,984 R2:0.8522 Adj R2:0.8027                                             \n",
      "RMSE:$26,427 R2:0.8486 Adj R2:0.7979                                            \n",
      "RMSE:$26,767 R2:0.8741 Adj R2:0.8319                                            \n",
      "RMSE:$30,523 R2:0.8497 Adj R2:0.7993                                            \n",
      "RMSE:$35,493 R2:0.8581 Adj R2:0.8106                                            \n",
      "The score from this cv is 35,493                                                \n",
      "RMSE:$30,384 R2:0.8554 Adj R2:0.8069                                            \n",
      "RMSE:$26,090 R2:0.8908 Adj R2:0.8543                                            \n",
      "RMSE:$29,965 R2:0.8827 Adj R2:0.8434                                            \n",
      "RMSE:$32,430 R2:0.8249 Adj R2:0.7662                                            \n",
      "RMSE:$20,704 R2:0.9176 Adj R2:0.8900                                            \n",
      "The score from this cv is 32,430                                                \n",
      "RMSE:$73,557 R2:-0.0053 Adj R2:-0.3420                                            \n",
      "RMSE:$79,428 R2:-0.0023 Adj R2:-0.3380                                            \n",
      "RMSE:$81,016 R2:-0.0009 Adj R2:-0.3361                                            \n",
      "RMSE:$82,082 R2:-0.0103 Adj R2:-0.3486                                            \n",
      "RMSE:$81,056 R2:-0.0039 Adj R2:-0.3400                                            \n",
      "The score from this cv is 82,082                                                  \n",
      "RMSE:$43,806 R2:0.6962 Adj R2:0.5945                                              \n",
      "RMSE:$42,490 R2:0.6935 Adj R2:0.5909                                            \n",
      "RMSE:$58,191 R2:0.5773 Adj R2:0.4358                                            \n",
      "RMSE:$36,233 R2:0.7118 Adj R2:0.6153                                            \n",
      "RMSE:$47,451 R2:0.6615 Adj R2:0.5481                                            \n",
      "The score from this cv is 58,191                                                \n",
      "RMSE:$95,897 R2:-0.3268 Adj R2:-0.7711                                          \n",
      "RMSE:$86,443 R2:-0.4004 Adj R2:-0.8693                                          \n",
      "RMSE:$90,948 R2:-0.3683 Adj R2:-0.8265                                          \n",
      "RMSE:$87,127 R2:-0.4560 Adj R2:-0.9436                                          \n",
      "RMSE:$100,525 R2:-0.2626 Adj R2:-0.6854                                         \n",
      "The score from this cv is 100,525                                               \n",
      "RMSE:$39,040 R2:0.7958 Adj R2:0.7274                                            \n",
      "RMSE:$32,480 R2:0.7924 Adj R2:0.7229                                            \n",
      "RMSE:$32,962 R2:0.8009 Adj R2:0.7342                                            \n",
      "RMSE:$38,670 R2:0.7669 Adj R2:0.6889                                            \n",
      "RMSE:$36,517 R2:0.8115 Adj R2:0.7484                                            \n",
      "The score from this cv is 39,040                                                \n",
      "RMSE:$71,109 R2:-0.0174 Adj R2:-0.3580                                          \n",
      "RMSE:$78,551 R2:-0.0029 Adj R2:-0.3387                                          \n",
      "RMSE:$75,523 R2:-0.0092 Adj R2:-0.3472                                          \n",
      "RMSE:$90,808 R2:-0.0044 Adj R2:-0.3407                                          \n",
      "RMSE:$80,296 R2:-0.0035 Adj R2:-0.3396                                          \n",
      "The score from this cv is 90,808                                                \n",
      "RMSE:$27,341 R2:0.8717 Adj R2:0.8287                                            \n",
      "RMSE:$31,155 R2:0.8406 Adj R2:0.7872                                            \n",
      "RMSE:$35,861 R2:0.8301 Adj R2:0.7732                                            \n",
      "RMSE:$40,364 R2:0.7637 Adj R2:0.6845                                            \n",
      "RMSE:$32,376 R2:0.7943 Adj R2:0.7254                                            \n",
      "The score from this cv is 40,364                                                \n",
      "RMSE:$36,782 R2:0.7652 Adj R2:0.6866                                            \n",
      "RMSE:$38,160 R2:0.7133 Adj R2:0.6174                                            \n",
      "RMSE:$37,681 R2:0.7935 Adj R2:0.7243                                            \n",
      "RMSE:$39,286 R2:0.7338 Adj R2:0.6447                                            \n",
      "RMSE:$42,909 R2:0.7688 Adj R2:0.6914                                            \n",
      "The score from this cv is 42,909                                                \n",
      "RMSE:$114,460 R2:-1.4795 Adj R2:-2.3098                                         \n",
      "RMSE:$118,025 R2:-1.1134 Adj R2:-1.8210                                         \n",
      "RMSE:$106,284 R2:-0.9452 Adj R2:-1.5966                                         \n",
      "RMSE:$115,999 R2:-0.7616 Adj R2:-1.3515                                         \n",
      "RMSE:$106,560 R2:-0.8732 Adj R2:-1.5005                                         \n",
      "The score from this cv is 118,025                                               \n",
      "RMSE:$87,905 R2:-0.0622 Adj R2:-0.4179                                          \n",
      "RMSE:$89,516 R2:-0.3057 Adj R2:-0.7430                                          \n",
      "RMSE:$81,853 R2:-0.1083 Adj R2:-0.4795                                          \n",
      "RMSE:$102,838 R2:-0.6891 Adj R2:-1.2547                                         \n",
      "RMSE:$89,084 R2:-0.3763 Adj R2:-0.8372                                          \n",
      "The score from this cv is 102,838                                               \n",
      "RMSE:$43,011 R2:0.7392 Adj R2:0.6519                                            \n",
      "RMSE:$43,937 R2:0.7567 Adj R2:0.6753                                            \n",
      "RMSE:$40,801 R2:0.6901 Adj R2:0.5864                                            \n",
      "RMSE:$40,575 R2:0.7206 Adj R2:0.6271                                            \n",
      "RMSE:$39,705 R2:0.6965 Adj R2:0.5948                                            \n",
      "The score from this cv is 43,937                                                \n",
      "RMSE:$76,344 R2:-0.0725 Adj R2:-0.4316                                          \n",
      "RMSE:$78,823 R2:-0.0262 Adj R2:-0.3698                                          \n",
      "RMSE:$100,993 R2:-0.0855 Adj R2:-0.4490                                         \n",
      "RMSE:$70,368 R2:-0.0114 Adj R2:-0.3500                                          \n",
      "RMSE:$77,275 R2:-0.0645 Adj R2:-0.4210                                          \n",
      "The score from this cv is 100,993                                               \n",
      "RMSE:$69,233 R2:-0.0074 Adj R2:-0.3447                                          \n",
      "RMSE:$78,875 R2:-0.0007 Adj R2:-0.3359                                          \n",
      "RMSE:$75,252 R2:-0.0275 Adj R2:-0.3715                                          \n",
      "RMSE:$83,317 R2:-0.0002 Adj R2:-0.3351                                          \n",
      "RMSE:$89,576 R2:-0.0001 Adj R2:-0.3350                                          \n",
      "The score from this cv is 89,576                                                \n",
      "RMSE:$31,273 R2:0.8488 Adj R2:0.7982                                            \n",
      "RMSE:$24,555 R2:0.9061 Adj R2:0.8747                                            \n",
      "RMSE:$27,766 R2:0.8926 Adj R2:0.8566                                            \n",
      "RMSE:$27,645 R2:0.8505 Adj R2:0.8005                                            \n",
      "RMSE:$29,129 R2:0.8663 Adj R2:0.8216                                            \n",
      "The score from this cv is 31,273                                                \n",
      "RMSE:$80,739 R2:-0.0013 Adj R2:-0.3365                                          \n",
      "RMSE:$81,953 R2:-0.0037 Adj R2:-0.3398                                          \n",
      "RMSE:$85,285 R2:-0.0012 Adj R2:-0.3364                                          \n",
      "RMSE:$71,704 R2:-0.0003 Adj R2:-0.3353                                          \n",
      "RMSE:$76,859 R2:-0.0005 Adj R2:-0.3356                                          \n",
      "The score from this cv is 85,285                                                \n",
      "RMSE:$35,967 R2:0.7996 Adj R2:0.7325                                            \n",
      "RMSE:$36,034 R2:0.8057 Adj R2:0.7406                                            \n",
      "RMSE:$37,572 R2:0.7857 Adj R2:0.7140                                            \n",
      "RMSE:$28,975 R2:0.8448 Adj R2:0.7928                                            \n",
      "RMSE:$34,240 R2:0.8153 Adj R2:0.7535                                            \n",
      "The score from this cv is 37,572                                                \n",
      "RMSE:$79,987 R2:-0.0040 Adj R2:-0.3403                                          \n",
      "RMSE:$81,155 R2:-0.0444 Adj R2:-0.3941                                          \n",
      "RMSE:$67,486 R2:-0.0053 Adj R2:-0.3419                                          \n",
      "RMSE:$78,978 R2:-0.0259 Adj R2:-0.3695                                          \n",
      "RMSE:$91,942 R2:-0.0387 Adj R2:-0.3866                                          \n",
      "The score from this cv is 91,942                                                \n",
      "RMSE:$82,728 R2:-0.2098 Adj R2:-0.6149                                          \n",
      "RMSE:$95,072 R2:-0.3337 Adj R2:-0.7803                                          \n",
      "RMSE:$84,425 R2:-0.3496 Adj R2:-0.8015                                          \n",
      "RMSE:$91,359 R2:-0.3196 Adj R2:-0.7615                                          \n",
      "RMSE:$95,652 R2:-0.2318 Adj R2:-0.6443                                          \n",
      "The score from this cv is 95,652                                                \n",
      "RMSE:$32,408 R2:0.7867 Adj R2:0.7153                                            \n",
      "RMSE:$35,478 R2:0.8164 Adj R2:0.7549                                            \n",
      "RMSE:$32,370 R2:0.8292 Adj R2:0.7720                                            \n",
      "RMSE:$33,492 R2:0.8253 Adj R2:0.7668                                            \n",
      "RMSE:$35,666 R2:0.8218 Adj R2:0.7621                                            \n",
      "The score from this cv is 35,666                                                \n",
      "RMSE:$89,562 R2:-0.0034 Adj R2:-0.3394                                          \n",
      "RMSE:$71,204 R2:-0.0004 Adj R2:-0.3353                                          \n",
      "RMSE:$86,422 R2:-0.0000 Adj R2:-0.3349                                          \n",
      "RMSE:$69,258 R2:-0.0031 Adj R2:-0.3389                                          \n",
      "RMSE:$78,701 R2:-0.0036 Adj R2:-0.3397                                          \n",
      "The score from this cv is 89,562                                                \n",
      "RMSE:$72,052 R2:-0.0001 Adj R2:-0.3350                                          \n",
      "RMSE:$80,944 R2:-0.0005 Adj R2:-0.3356                                          \n",
      "RMSE:$77,189 R2:-0.0008 Adj R2:-0.3359                                          \n",
      "RMSE:$87,609 R2:-0.0055 Adj R2:-0.3422                                          \n",
      "RMSE:$78,607 R2:-0.0004 Adj R2:-0.3355                                          \n",
      "The score from this cv is 87,609                                                \n",
      "RMSE:$74,883 R2:-0.0039 Adj R2:-0.3401                                          \n",
      "RMSE:$92,507 R2:-0.1140 Adj R2:-0.4871                                          \n",
      "RMSE:$78,033 R2:-0.1215 Adj R2:-0.4970                                          \n",
      "RMSE:$78,054 R2:-0.0136 Adj R2:-0.3531                                          \n",
      "RMSE:$82,604 R2:-0.0482 Adj R2:-0.3992                                          \n",
      "The score from this cv is 92,507                                                \n",
      "RMSE:$88,032 R2:-0.4176 Adj R2:-0.8923                                          \n",
      "RMSE:$88,464 R2:-0.3584 Adj R2:-0.8132                                          \n",
      "RMSE:$97,226 R2:-0.2902 Adj R2:-0.7223                                          \n",
      "RMSE:$90,386 R2:-0.4973 Adj R2:-0.9987                                          \n",
      "RMSE:$98,011 R2:-0.2794 Adj R2:-0.7078                                          \n",
      "The score from this cv is 98,011                                                \n",
      "RMSE:$71,207 R2:-0.0100 Adj R2:-0.3482                                          \n",
      "RMSE:$73,669 R2:-0.0111 Adj R2:-0.3497                                          \n",
      "RMSE:$86,031 R2:-0.0063 Adj R2:-0.3433                                          \n",
      "RMSE:$84,349 R2:-0.0013 Adj R2:-0.3367                                          \n",
      "RMSE:$81,387 R2:-0.0012 Adj R2:-0.3364                                          \n",
      "The score from this cv is 86,031                                                \n",
      "RMSE:$27,578 R2:0.8802 Adj R2:0.8401                                            \n",
      "RMSE:$25,654 R2:0.8980 Adj R2:0.8639                                            \n",
      "RMSE:$26,645 R2:0.8887 Adj R2:0.8514                                            \n",
      "RMSE:$32,281 R2:0.8603 Adj R2:0.8135                                            \n",
      "RMSE:$52,329 R2:0.4365 Adj R2:0.2478                                            \n",
      "The score from this cv is 52,329                                                \n",
      "RMSE:$70,785 R2:-0.0170 Adj R2:-0.3575                                          \n",
      "RMSE:$80,553 R2:-0.0587 Adj R2:-0.4132                                          \n",
      "RMSE:$76,241 R2:-0.0100 Adj R2:-0.3483                                          \n",
      "RMSE:$91,552 R2:-0.0495 Adj R2:-0.4009                                          \n",
      "RMSE:$83,897 R2:-0.0644 Adj R2:-0.4209                                          \n",
      "The score from this cv is 91,552                                                \n",
      "RMSE:$86,558 R2:-0.0746 Adj R2:-0.4345                                          \n",
      "RMSE:$82,266 R2:-0.0460 Adj R2:-0.3963                                          \n",
      "RMSE:$81,180 R2:-0.0617 Adj R2:-0.4173                                          \n",
      "RMSE:$75,940 R2:-0.0664 Adj R2:-0.4235                                          \n",
      "RMSE:$82,488 R2:-0.0520 Adj R2:-0.4042                                          \n",
      "The score from this cv is 86,558                                                \n",
      "RMSE:$73,755 R2:-0.1291 Adj R2:-0.5072                                          \n",
      "RMSE:$100,488 R2:-0.1561 Adj R2:-0.5432                                         \n",
      "RMSE:$88,953 R2:-0.2149 Adj R2:-0.6217                                          \n",
      "RMSE:$78,165 R2:-0.1227 Adj R2:-0.4986                                          \n",
      "RMSE:$80,095 R2:-0.0844 Adj R2:-0.4476                                          \n",
      "The score from this cv is 100,488                                               \n",
      "RMSE:$37,087 R2:0.7892 Adj R2:0.7187                                            \n",
      "RMSE:$37,261 R2:0.8035 Adj R2:0.7377                                            \n",
      "RMSE:$31,904 R2:0.8115 Adj R2:0.7483                                            \n",
      "RMSE:$35,310 R2:0.8255 Adj R2:0.7671                                            \n",
      "RMSE:$28,848 R2:0.8434 Adj R2:0.7910                                            \n",
      "The score from this cv is 37,261                                                \n",
      "RMSE:$93,199 R2:-0.0554 Adj R2:-0.4088                                          \n",
      "RMSE:$73,864 R2:-0.0290 Adj R2:-0.3735                                          \n",
      "RMSE:$84,539 R2:-0.0975 Adj R2:-0.4651                                          \n",
      "RMSE:$85,067 R2:-0.0746 Adj R2:-0.4344                                          \n",
      "RMSE:$68,750 R2:-0.0152 Adj R2:-0.3551                                          \n",
      "The score from this cv is 93,199                                                \n",
      "RMSE:$79,456 R2:-0.0011 Adj R2:-0.3364                                          \n",
      "RMSE:$79,279 R2:-0.0070 Adj R2:-0.3442                                          \n",
      "RMSE:$75,641 R2:-0.0251 Adj R2:-0.3684                                          \n",
      "RMSE:$81,995 R2:-0.0113 Adj R2:-0.3500                                          \n",
      "RMSE:$81,856 R2:-0.0025 Adj R2:-0.3382                                          \n",
      "The score from this cv is 81,995                                                \n",
      "RMSE:$71,747 R2:-0.0086 Adj R2:-0.3463                                          \n",
      "RMSE:$86,924 R2:-0.0058 Adj R2:-0.3426                                          \n",
      "RMSE:$77,512 R2:-0.0058 Adj R2:-0.3426                                          \n",
      "RMSE:$73,793 R2:-0.0040 Adj R2:-0.3402                                          \n",
      "RMSE:$86,475 R2:-0.0170 Adj R2:-0.3576                                          \n",
      "The score from this cv is 86,924                                                \n",
      "RMSE:$41,282 R2:0.7529 Adj R2:0.6702                                            \n",
      "RMSE:$29,930 R2:0.8386 Adj R2:0.7845                                            \n",
      "RMSE:$32,824 R2:0.8279 Adj R2:0.7703                                            \n",
      "RMSE:$36,024 R2:0.7866 Adj R2:0.7151                                            \n",
      "RMSE:$36,158 R2:0.8055 Adj R2:0.7404                                            \n",
      "The score from this cv is 41,282                                                \n",
      "RMSE:$72,407 R2:-0.0674 Adj R2:-0.4249                                          \n",
      "RMSE:$82,458 R2:-0.2060 Adj R2:-0.6098                                          \n",
      "RMSE:$89,263 R2:-0.1553 Adj R2:-0.5421                                          \n",
      "RMSE:$81,952 R2:-0.1287 Adj R2:-0.5067                                          \n",
      "RMSE:$89,954 R2:-0.0050 Adj R2:-0.3416                                          \n",
      "The score from this cv is 89,954                                                \n",
      "RMSE:$51,434 R2:0.7003 Adj R2:0.5999                                            \n",
      "RMSE:$49,466 R2:0.6202 Adj R2:0.4930                                            \n",
      "RMSE:$45,412 R2:0.6341 Adj R2:0.5116                                            \n",
      "RMSE:$49,143 R2:0.5082 Adj R2:0.3435                                            \n",
      "RMSE:$46,023 R2:0.6219 Adj R2:0.4953                                            \n",
      "The score from this cv is 51,434                                                \n",
      "RMSE:$100,999 R2:-0.6336 Adj R2:-1.1806                                         \n",
      "RMSE:$107,985 R2:-0.5760 Adj R2:-1.1038                                         \n",
      "RMSE:$94,842 R2:-0.6162 Adj R2:-1.1574                                          \n",
      "RMSE:$100,851 R2:-0.6088 Adj R2:-1.1475                                         \n",
      "RMSE:$103,088 R2:-0.7766 Adj R2:-1.3715                                         \n",
      "The score from this cv is 107,985                                               \n",
      "RMSE:$77,105 R2:-0.0042 Adj R2:-0.3405                                          \n",
      "RMSE:$77,572 R2:-0.0154 Adj R2:-0.3555                                          \n",
      "RMSE:$84,888 R2:-0.0105 Adj R2:-0.3489                                          \n",
      "RMSE:$76,554 R2:-0.0001 Adj R2:-0.3350                                          \n",
      "RMSE:$81,383 R2:-0.0137 Adj R2:-0.3531                                          \n",
      "The score from this cv is 84,888                                                \n",
      "RMSE:$82,423 R2:-0.0297 Adj R2:-0.3745                                          \n",
      "RMSE:$79,291 R2:-0.0494 Adj R2:-0.4008                                          \n",
      "RMSE:$84,093 R2:-0.0434 Adj R2:-0.3928                                          \n",
      "RMSE:$86,745 R2:-0.0695 Adj R2:-0.4276                                          \n",
      "RMSE:$72,855 R2:-0.0412 Adj R2:-0.3899                                          \n",
      "The score from this cv is 86,745                                                \n",
      "RMSE:$26,998 R2:0.8963 Adj R2:0.8616                                            \n",
      "RMSE:$26,540 R2:0.8883 Adj R2:0.8508                                            \n",
      "RMSE:$29,787 R2:0.8170 Adj R2:0.7558                                            \n",
      "RMSE:$26,788 R2:0.8888 Adj R2:0.8516                                            \n",
      "RMSE:$28,696 R2:0.8783 Adj R2:0.8376                                            \n",
      "The score from this cv is 29,787                                                \n",
      "RMSE:$75,719 R2:-0.0423 Adj R2:-0.3913                                           \n",
      "RMSE:$91,138 R2:-0.0742 Adj R2:-0.4340                                           \n",
      "RMSE:$90,545 R2:-0.0521 Adj R2:-0.4044                                           \n",
      "RMSE:$77,011 R2:-0.0702 Adj R2:-0.4286                                           \n",
      "RMSE:$70,573 R2:-0.0208 Adj R2:-0.3627                                           \n",
      "The score from this cv is 91,138                                                 \n",
      "RMSE:$35,957 R2:0.7939 Adj R2:0.7249                                             \n",
      "RMSE:$35,028 R2:0.7450 Adj R2:0.6596                                             \n",
      "RMSE:$30,521 R2:0.8434 Adj R2:0.7910                                             \n",
      "RMSE:$36,951 R2:0.7585 Adj R2:0.6777                                             \n",
      "RMSE:$45,841 R2:0.7606 Adj R2:0.6805                                             \n",
      "The score from this cv is 45,841                                                 \n",
      "RMSE:$31,080 R2:0.8598 Adj R2:0.8128                                             \n",
      "RMSE:$27,810 R2:0.8730 Adj R2:0.8305                                             \n",
      "RMSE:$26,722 R2:0.8872 Adj R2:0.8495                                             \n",
      "RMSE:$25,678 R2:0.8860 Adj R2:0.8478                                             \n",
      "RMSE:$32,187 R2:0.8382 Adj R2:0.7840                                             \n",
      "The score from this cv is 32,187                                                 \n",
      "RMSE:$38,846 R2:0.7953 Adj R2:0.7268                                             \n",
      "RMSE:$32,538 R2:0.8045 Adj R2:0.7390                                             \n",
      "RMSE:$27,722 R2:0.8378 Adj R2:0.7834                                             \n",
      "RMSE:$33,344 R2:0.8204 Adj R2:0.7602                                             \n",
      "RMSE:$36,530 R2:0.8237 Adj R2:0.7647                                             \n",
      "The score from this cv is 38,846                                                 \n",
      "RMSE:$76,487 R2:-0.0000 Adj R2:-0.3349                                           \n",
      "RMSE:$72,976 R2:-0.0392 Adj R2:-0.3871                                           \n",
      "RMSE:$87,037 R2:-0.0210 Adj R2:-0.3630                                           \n",
      "RMSE:$77,375 R2:-0.0005 Adj R2:-0.3356                                           \n",
      "RMSE:$83,290 R2:-0.0005 Adj R2:-0.3355                                           \n",
      "The score from this cv is 87,037                                                 \n",
      "RMSE:$30,158 R2:0.8608 Adj R2:0.8142                                             \n",
      "RMSE:$32,594 R2:0.8177 Adj R2:0.7567                                             \n",
      "RMSE:$33,919 R2:0.8518 Adj R2:0.8022                                             \n",
      "RMSE:$43,001 R2:0.6127 Adj R2:0.4830                                             \n",
      "RMSE:$29,164 R2:0.8693 Adj R2:0.8255                                             \n",
      "The score from this cv is 43,001                                                 \n",
      "RMSE:$34,099 R2:0.8011 Adj R2:0.7345                                             \n",
      "RMSE:$34,408 R2:0.8226 Adj R2:0.7632                                             \n",
      "RMSE:$32,345 R2:0.8637 Adj R2:0.8181                                             \n",
      "RMSE:$30,748 R2:0.8299 Adj R2:0.7730                                             \n",
      "RMSE:$31,061 R2:0.8321 Adj R2:0.7759                                             \n",
      "The score from this cv is 34,408                                                 \n",
      "RMSE:$31,748 R2:0.8305 Adj R2:0.7737                                             \n",
      "RMSE:$38,351 R2:0.8090 Adj R2:0.7451                                             \n",
      "RMSE:$34,221 R2:0.8260 Adj R2:0.7677                                             \n",
      "RMSE:$32,730 R2:0.8200 Adj R2:0.7597                                             \n",
      "RMSE:$27,881 R2:0.8500 Adj R2:0.7998                                             \n",
      "The score from this cv is 38,351                                                 \n",
      "RMSE:$31,401 R2:0.8473 Adj R2:0.7961                                             \n",
      "RMSE:$33,340 R2:0.8550 Adj R2:0.8064                                             \n",
      "RMSE:$28,591 R2:0.8664 Adj R2:0.8216                                             \n",
      "RMSE:$28,785 R2:0.8497 Adj R2:0.7994                                             \n",
      "RMSE:$35,873 R2:0.7757 Adj R2:0.7006                                             \n",
      "The score from this cv is 35,873                                                 \n",
      "RMSE:$77,427 R2:-0.0005 Adj R2:-0.3355                                           \n",
      "RMSE:$76,564 R2:-0.0091 Adj R2:-0.3470                                           \n",
      "RMSE:$80,937 R2:-0.0015 Adj R2:-0.3368                                           \n",
      "RMSE:$78,961 R2:-0.0001 Adj R2:-0.3350                                           \n",
      "RMSE:$83,114 R2:-0.0010 Adj R2:-0.3362                                           \n",
      "The score from this cv is 83,114                                                 \n",
      "RMSE:$79,022 R2:-0.0150 Adj R2:-0.3550                                           \n",
      "RMSE:$87,689 R2:-0.0002 Adj R2:-0.3351                                           \n",
      "RMSE:$75,177 R2:-0.0011 Adj R2:-0.3363                                           \n",
      "RMSE:$79,323 R2:-0.0068 Adj R2:-0.3439                                           \n",
      "RMSE:$75,741 R2:-0.0094 Adj R2:-0.3475                                           \n",
      "The score from this cv is 87,689                                                 \n",
      "RMSE:$110,939 R2:-1.3354 Adj R2:-2.1175                                          \n",
      "RMSE:$110,972 R2:-1.1487 Adj R2:-1.8683                                          \n",
      "RMSE:$115,350 R2:-1.2467 Adj R2:-1.9991                                          \n",
      "RMSE:$130,321 R2:-1.3866 Adj R2:-2.1857                                          \n",
      "RMSE:$125,497 R2:-1.1413 Adj R2:-1.8584                                          \n",
      "The score from this cv is 130,321                                                \n",
      "RMSE:$27,877 R2:0.8856 Adj R2:0.8473                                             \n",
      "RMSE:$39,369 R2:0.8270 Adj R2:0.7691                                             \n",
      "RMSE:$27,048 R2:0.8583 Adj R2:0.8108                                             \n",
      "RMSE:$25,486 R2:0.8871 Adj R2:0.8492                                             \n",
      "RMSE:$35,728 R2:0.7285 Adj R2:0.6376                                             \n",
      "The score from this cv is 39,369                                                 \n",
      "RMSE:$39,824 R2:0.7674 Adj R2:0.6895                                             \n",
      "RMSE:$39,672 R2:0.7522 Adj R2:0.6692                                             \n",
      "RMSE:$35,221 R2:0.7894 Adj R2:0.7188                                             \n",
      "RMSE:$33,287 R2:0.7885 Adj R2:0.7176                                             \n",
      "RMSE:$42,103 R2:0.7542 Adj R2:0.6720                                             \n",
      "The score from this cv is 42,103                                                 \n",
      "RMSE:$39,060 R2:0.7991 Adj R2:0.7318                                             \n",
      "RMSE:$29,364 R2:0.8555 Adj R2:0.8071                                             \n",
      "RMSE:$27,970 R2:0.8858 Adj R2:0.8475                                             \n",
      "RMSE:$27,277 R2:0.8620 Adj R2:0.8158                                             \n",
      "RMSE:$33,732 R2:0.8001 Adj R2:0.7332                                             \n",
      "The score from this cv is 39,060                                                 \n",
      "RMSE:$84,802 R2:-0.0562 Adj R2:-0.4099                                           \n",
      "RMSE:$73,844 R2:-0.0457 Adj R2:-0.3958                                           \n",
      "RMSE:$77,917 R2:-0.0272 Adj R2:-0.3711                                           \n",
      "RMSE:$88,921 R2:-0.0784 Adj R2:-0.4395                                           \n",
      "RMSE:$80,362 R2:-0.0475 Adj R2:-0.3982                                           \n",
      "The score from this cv is 88,921                                                 \n",
      "RMSE:$34,363 R2:0.7896 Adj R2:0.7191                                             \n",
      "RMSE:$38,517 R2:0.7372 Adj R2:0.6492                                             \n",
      "RMSE:$37,343 R2:0.7933 Adj R2:0.7241                                             \n",
      "RMSE:$37,550 R2:0.7619 Adj R2:0.6821                                             \n",
      "RMSE:$44,265 R2:0.7382 Adj R2:0.6505                                             \n",
      "The score from this cv is 44,265                                                 \n",
      "RMSE:$103,281 R2:-0.7319 Adj R2:-1.3118                                          \n",
      "RMSE:$95,583 R2:-0.8506 Adj R2:-1.4704                                           \n",
      "RMSE:$122,045 R2:-0.6891 Adj R2:-1.2548                                          \n",
      "RMSE:$108,965 R2:-1.0229 Adj R2:-1.7003                                          \n",
      "RMSE:$97,003 R2:-0.6866 Adj R2:-1.2514                                           \n",
      "The score from this cv is 122,045                                                \n",
      "RMSE:$28,499 R2:0.8764 Adj R2:0.8350                                             \n",
      "RMSE:$32,878 R2:0.8388 Adj R2:0.7848                                             \n",
      "RMSE:$28,069 R2:0.8653 Adj R2:0.8202                                             \n",
      "RMSE:$37,405 R2:0.8000 Adj R2:0.7330                                             \n",
      "RMSE:$28,823 R2:0.8445 Adj R2:0.7924                                             \n",
      "The score from this cv is 37,405                                                 \n",
      "RMSE:$33,468 R2:0.8382 Adj R2:0.7841                                             \n",
      "RMSE:$35,116 R2:0.8057 Adj R2:0.7406                                             \n",
      "RMSE:$44,837 R2:0.6883 Adj R2:0.5840                                             \n",
      "RMSE:$30,963 R2:0.8335 Adj R2:0.7778                                             \n",
      "RMSE:$35,180 R2:0.7939 Adj R2:0.7249                                             \n",
      "The score from this cv is 44,837                                                 \n",
      "RMSE:$24,331 R2:0.8893 Adj R2:0.8522                                             \n",
      "RMSE:$28,120 R2:0.8696 Adj R2:0.8259                                             \n",
      "RMSE:$38,705 R2:0.7764 Adj R2:0.7016                                             \n",
      "RMSE:$41,963 R2:0.7155 Adj R2:0.6202                                             \n",
      "RMSE:$35,315 R2:0.8268 Adj R2:0.7688                                             \n",
      "The score from this cv is 41,963                                                 \n",
      "RMSE:$29,514 R2:0.8289 Adj R2:0.7716                                             \n",
      "RMSE:$36,679 R2:0.8198 Adj R2:0.7594                                             \n",
      "RMSE:$34,518 R2:0.8166 Adj R2:0.7552                                             \n",
      "RMSE:$31,321 R2:0.8445 Adj R2:0.7924                                             \n",
      "RMSE:$33,203 R2:0.8201 Adj R2:0.7598                                             \n",
      "The score from this cv is 36,679                                                 \n",
      "RMSE:$73,065 R2:-0.0013 Adj R2:-0.3367                                           \n",
      "RMSE:$80,858 R2:-0.0023 Adj R2:-0.3379                                           \n",
      "RMSE:$83,262 R2:-0.0403 Adj R2:-0.3886                                           \n",
      "RMSE:$87,556 R2:-0.1395 Adj R2:-0.5211                                           \n",
      "RMSE:$81,905 R2:-0.1013 Adj R2:-0.4701                                           \n",
      "The score from this cv is 87,556                                                 \n",
      "RMSE:$81,540 R2:-0.0001 Adj R2:-0.3350                                           \n",
      "RMSE:$77,032 R2:-0.0073 Adj R2:-0.3446                                           \n",
      "RMSE:$70,471 R2:-0.0169 Adj R2:-0.3574                                           \n",
      "RMSE:$80,979 R2:-0.0011 Adj R2:-0.3363                                           \n",
      "RMSE:$86,516 R2:-0.0001 Adj R2:-0.3350                                           \n",
      "The score from this cv is 86,516                                                 \n",
      "RMSE:$123,268 R2:-1.3877 Adj R2:-2.1872                                          \n",
      "RMSE:$120,980 R2:-1.4696 Adj R2:-2.2966                                          \n",
      "RMSE:$128,636 R2:-1.3728 Adj R2:-2.1674                                          \n",
      "RMSE:$116,997 R2:-1.2641 Adj R2:-2.0223                                          \n",
      "RMSE:$124,292 R2:-1.4963 Adj R2:-2.3322                                          \n",
      "The score from this cv is 128,636                                                \n",
      "RMSE:$82,461 R2:-0.0000 Adj R2:-0.3349                                           \n",
      "RMSE:$73,694 R2:-0.0000 Adj R2:-0.3349                                           \n",
      "RMSE:$86,735 R2:-0.0023 Adj R2:-0.3379                                           \n",
      "RMSE:$82,833 R2:-0.0017 Adj R2:-0.3371                                           \n",
      "RMSE:$70,547 R2:-0.0162 Adj R2:-0.3564                                           \n",
      "The score from this cv is 86,735                                                 \n",
      "RMSE:$51,690 R2:0.5624 Adj R2:0.4158                                             \n",
      "RMSE:$53,462 R2:0.5739 Adj R2:0.4312                                             \n",
      "RMSE:$51,422 R2:0.6633 Adj R2:0.5505                                             \n",
      "RMSE:$49,407 R2:0.4984 Adj R2:0.3304                                             \n",
      "RMSE:$54,942 R2:0.4930 Adj R2:0.3233                                             \n",
      "The score from this cv is 54,942                                                 \n",
      "RMSE:$21,450 R2:0.9112 Adj R2:0.8815                                             \n",
      "RMSE:$25,070 R2:0.8932 Adj R2:0.8575                                             \n",
      "RMSE:$42,173 R2:0.7366 Adj R2:0.6485                                             \n",
      "RMSE:$26,217 R2:0.8856 Adj R2:0.8473                                             \n",
      "RMSE:$27,868 R2:0.8958 Adj R2:0.8609                                             \n",
      "The score from this cv is 42,173                                                 \n",
      "RMSE:$92,166 R2:-0.0672 Adj R2:-0.4246                                           \n",
      "RMSE:$73,700 R2:-0.0356 Adj R2:-0.3823                                           \n",
      "RMSE:$82,582 R2:-0.0642 Adj R2:-0.4206                                           \n",
      "RMSE:$67,898 R2:-0.0121 Adj R2:-0.3510                                           \n",
      "RMSE:$86,658 R2:-0.0412 Adj R2:-0.3899                                           \n",
      "The score from this cv is 92,166                                                 \n",
      "RMSE:$30,748 R2:0.8433 Adj R2:0.7908                                             \n",
      "RMSE:$29,910 R2:0.8498 Adj R2:0.7996                                             \n",
      "RMSE:$34,431 R2:0.8098 Adj R2:0.7462                                             \n",
      "RMSE:$43,464 R2:0.7176 Adj R2:0.6231                                             \n",
      "RMSE:$38,285 R2:0.7774 Adj R2:0.7029                                             \n",
      "The score from this cv is 43,464                                                 \n",
      "RMSE:$81,644 R2:-0.0366 Adj R2:-0.3837                                           \n",
      "RMSE:$69,178 R2:-0.0260 Adj R2:-0.3695                                           \n",
      "RMSE:$75,765 R2:-0.0426 Adj R2:-0.3918                                           \n",
      "RMSE:$91,124 R2:-0.1084 Adj R2:-0.4796                                           \n",
      "RMSE:$87,198 R2:-0.0364 Adj R2:-0.3835                                           \n",
      "The score from this cv is 91,124                                                 \n",
      "RMSE:$78,578 R2:-0.0061 Adj R2:-0.3430                                           \n",
      "RMSE:$81,686 R2:-0.0024 Adj R2:-0.3380                                           \n",
      "RMSE:$82,443 R2:-0.0011 Adj R2:-0.3364                                           \n",
      "RMSE:$74,582 R2:-0.0000 Adj R2:-0.3349                                           \n",
      "RMSE:$79,691 R2:-0.0002 Adj R2:-0.3352                                           \n",
      "The score from this cv is 82,443                                                 \n",
      "RMSE:$83,638 R2:-0.0004 Adj R2:-0.3353                                           \n",
      "RMSE:$81,598 R2:-0.0005 Adj R2:-0.3355                                           \n",
      "RMSE:$76,558 R2:-0.0002 Adj R2:-0.3352                                           \n",
      "RMSE:$81,509 R2:-0.0063 Adj R2:-0.3432                                           \n",
      "RMSE:$73,547 R2:-0.0049 Adj R2:-0.3414                                           \n",
      "The score from this cv is 83,638                                                 \n",
      "RMSE:$36,079 R2:0.7983 Adj R2:0.7308                                             \n",
      "RMSE:$34,351 R2:0.7779 Adj R2:0.7035                                             \n",
      "RMSE:$36,636 R2:0.8012 Adj R2:0.7346                                             \n",
      "RMSE:$44,554 R2:0.7113 Adj R2:0.6146                                             \n",
      "RMSE:$33,669 R2:0.8117 Adj R2:0.7487                                             \n",
      "The score from this cv is 44,554                                                 \n",
      "RMSE:$79,650 R2:-0.0050 Adj R2:-0.3416                                           \n",
      "RMSE:$72,785 R2:-0.0129 Adj R2:-0.3520                                           \n",
      "RMSE:$78,788 R2:-0.0007 Adj R2:-0.3358                                           \n",
      "RMSE:$94,228 R2:-0.0166 Adj R2:-0.3570                                           \n",
      "RMSE:$70,047 R2:-0.0015 Adj R2:-0.3368                                           \n",
      "The score from this cv is 94,228                                                 \n",
      "RMSE:$78,967 R2:-0.0078 Adj R2:-0.3453                                           \n",
      "RMSE:$85,489 R2:-0.0855 Adj R2:-0.4490                                           \n",
      "RMSE:$87,073 R2:-0.0552 Adj R2:-0.4085                                           \n",
      "RMSE:$69,729 R2:-0.0400 Adj R2:-0.3882                                           \n",
      "RMSE:$85,931 R2:-0.1179 Adj R2:-0.4923                                           \n",
      "The score from this cv is 87,073                                                 \n",
      "100%|██████████| 100/100 [23:23<00:00, 14.03s/trial, best loss: 29787.03144264575]\n"
     ]
    }
   ],
   "source": [
    "hpdict=hyperopt_hp_cv(objective_cv, gbr_space)"
   ]
  },
  {
   "cell_type": "code",
   "execution_count": 69,
   "metadata": {},
   "outputs": [],
   "source": [
    "#Fit model with parameter dict and space\n",
    "def fit_para(space,hpdict0):\n",
    "\n",
    "    model=GradientBoostingRegressor(\n",
    "        alpha=0.9,\n",
    "        ccp_alpha=hpdict0['ccp_alpha'],\n",
    "        criterion=gbr_criterion[hpdict0['criterion']],\n",
    "        init=space['init'],\n",
    "        learning_rate=hpdict0['learning_rate'],\n",
    "        loss=gbr_loss[hpdict0['loss']],\n",
    "        max_depth=int(hpdict0['max_depth']),\n",
    "        max_features=space['max_features'],\n",
    "        max_leaf_nodes=space['max_leaf_nodes'],\n",
    "        min_impurity_decrease=hpdict0['min_impurity_decrease'],\n",
    "        min_samples_leaf=space['min_samples_leaf'],\n",
    "        min_samples_split=hpdict0['min_samples_split'],\n",
    "        min_weight_fraction_leaf=hpdict0['min_weight_fraction_leaf'],\n",
    "        n_estimators=int(hpdict0['n_estimators']),\n",
    "        n_iter_no_change=space['n_iter_no_change'],\n",
    "        random_state=space['random_state'],\n",
    "        subsample=hpdict0['subsample'],\n",
    "        tol=space['tol'],\n",
    "        validation_fraction=space['validation_fraction'],\n",
    "        verbose=space['verbose'],\n",
    "        warm_start=space['warm_start'],\n",
    "    )\n",
    "\n",
    "    return model"
   ]
  },
  {
   "cell_type": "code",
   "execution_count": 73,
   "metadata": {},
   "outputs": [
    {
     "name": "stdout",
     "output_type": "stream",
     "text": [
      "\n",
      "feat number: 73 \n",
      " features used: ['MSSubClass' 'OverallQual' 'OverallCond' 'ExterQual' 'ExterCond'\n",
      " 'KitchenQual' 'BsmtQual' 'YearBuilt' 'YearRemodAdd' 'MoSold' 'YrSold'\n",
      " 'BsmtFullBath' 'BsmtHalfBath' 'FullBath' 'HalfBath' 'BedroomAbvGr'\n",
      " 'KitchenAbvGr' 'TotRmsAbvGrd' 'Fireplaces' 'GarageYrBlt' 'LotFrontage'\n",
      " 'LotArea' 'MasVnrArea' 'BsmtFinSF1' 'BsmtFinSF2' 'BsmtUnfSF'\n",
      " 'TotalBsmtSF' '1stFlrSF' '2ndFlrSF' 'LowQualFinSF' 'GrLivArea'\n",
      " 'GarageCars' 'GarageArea' 'WoodDeckSF' 'OpenPorchSF' 'EnclosedPorch'\n",
      " '3SsnPorch' 'ScreenPorch' 'PoolArea' 'MiscVal' 'MSZoning' 'Street'\n",
      " 'LotShape' 'LandContour' 'Utilities' 'LotConfig' 'LandSlope'\n",
      " 'Neighborhood' 'Condition1' 'Condition2' 'BldgType' 'HouseStyle'\n",
      " 'RoofStyle' 'RoofMatl' 'Exterior1st' 'Exterior2nd' 'Foundation'\n",
      " 'BsmtCond' 'BsmtExposure' 'BsmtFinType1' 'BsmtFinType2' 'Heating'\n",
      " 'HeatingQC' 'CentralAir' 'Electrical' 'Functional' 'GarageType'\n",
      " 'GarageFinish' 'GarageQual' 'GarageCond' 'PavedDrive' 'SaleType'\n",
      " 'SaleCondition']\n"
     ]
    }
   ],
   "source": [
    "hp_gbr_model=fit_para(gbr_space,hpdict)\n",
    "hp_gbr_model.fit(x2_tr,y2_tr)\n",
    "print('\\nfeat number:',hp_gbr_model.n_features_in_,'\\n features used:',hp_gbr_model.feature_names_in_)"
   ]
  },
  {
   "cell_type": "code",
   "execution_count": 74,
   "metadata": {},
   "outputs": [
    {
     "name": "stdout",
     "output_type": "stream",
     "text": [
      "RMSE:$11,536 R2:0.9782 Adj R2:0.9766\n"
     ]
    }
   ],
   "source": [
    "reg_result(hp_gbr_model,x2_tr,y2_tr)"
   ]
  },
  {
   "cell_type": "code",
   "execution_count": 75,
   "metadata": {},
   "outputs": [
    {
     "name": "stdout",
     "output_type": "stream",
     "text": [
      "RMSE:$29,409 R2:0.8728 Adj R2:0.8237\n"
     ]
    }
   ],
   "source": [
    "reg_result(hp_gbr_model,x2_val,y2_val)"
   ]
  },
  {
   "cell_type": "code",
   "execution_count": 76,
   "metadata": {},
   "outputs": [
    {
     "name": "stdout",
     "output_type": "stream",
     "text": [
      "RMSE:$28,868 R2:0.8771 Adj R2:0.7525\n"
     ]
    }
   ],
   "source": [
    "reg_result(hp_gbr_model,x2_tst,y2_tst)"
   ]
  },
  {
   "cell_type": "code",
   "execution_count": 77,
   "metadata": {},
   "outputs": [],
   "source": [
    "def global_shap_importance(model, X):\n",
    "    \"\"\" Return a dataframe containing the features sorted by Shap importance\n",
    "    Parameters\n",
    "    ----------\n",
    "    model : The tree-based model \n",
    "    X : pd.Dataframe\n",
    "         training set/test set/the whole dataset ... (without the label)\n",
    "    Returns\n",
    "    -------\n",
    "    pd.Dataframe\n",
    "        A dataframe containing the features sorted by Shap importance\n",
    "    \"\"\"\n",
    "    explainer = shap.Explainer(model)\n",
    "    shap_values = explainer(X)\n",
    "    cohorts = {\"\": shap_values}\n",
    "    cohort_labels = list(cohorts.keys())\n",
    "    cohort_exps = list(cohorts.values())\n",
    "    for i in range(len(cohort_exps)):\n",
    "        if len(cohort_exps[i].shape) == 2:\n",
    "            cohort_exps[i] = cohort_exps[i].abs.mean(0)\n",
    "    features = cohort_exps[0].data\n",
    "    feature_names = cohort_exps[0].feature_names\n",
    "    values = np.array([cohort_exps[i].values for i in range(len(cohort_exps))])\n",
    "    feature_importance = pd.DataFrame(\n",
    "        list(zip(feature_names, sum(values))), columns=['features', 'importance'])\n",
    "    \n",
    "    imp_percent_col=pd.DataFrame(columns=['percentage'])\n",
    "    for i in range(len(feature_importance)):\n",
    "        imp_percent_col.loc[i]=[feature_importance['importance'][i]/sum(feature_importance['importance'])]\n",
    "    \n",
    "    feature_importance=pd.concat([feature_importance,imp_percent_col],axis=1)\n",
    "\n",
    "    return feature_importance.sort_values(by=['importance'],ascending=False).reset_index(drop=True),shap_values"
   ]
  },
  {
   "cell_type": "code",
   "execution_count": 82,
   "metadata": {},
   "outputs": [
    {
     "data": {
      "text/html": [
       "<div>\n",
       "<style scoped>\n",
       "    .dataframe tbody tr th:only-of-type {\n",
       "        vertical-align: middle;\n",
       "    }\n",
       "\n",
       "    .dataframe tbody tr th {\n",
       "        vertical-align: top;\n",
       "    }\n",
       "\n",
       "    .dataframe thead th {\n",
       "        text-align: right;\n",
       "    }\n",
       "</style>\n",
       "<table border=\"1\" class=\"dataframe\">\n",
       "  <thead>\n",
       "    <tr style=\"text-align: right;\">\n",
       "      <th></th>\n",
       "      <th>features</th>\n",
       "      <th>importance</th>\n",
       "      <th>percentage</th>\n",
       "    </tr>\n",
       "  </thead>\n",
       "  <tbody>\n",
       "    <tr>\n",
       "      <th>0</th>\n",
       "      <td>OverallQual</td>\n",
       "      <td>13829.58</td>\n",
       "      <td>0.12</td>\n",
       "    </tr>\n",
       "    <tr>\n",
       "      <th>1</th>\n",
       "      <td>GrLivArea</td>\n",
       "      <td>12636.34</td>\n",
       "      <td>0.11</td>\n",
       "    </tr>\n",
       "    <tr>\n",
       "      <th>2</th>\n",
       "      <td>YearBuilt</td>\n",
       "      <td>6643.15</td>\n",
       "      <td>0.06</td>\n",
       "    </tr>\n",
       "    <tr>\n",
       "      <th>3</th>\n",
       "      <td>TotalBsmtSF</td>\n",
       "      <td>6559.04</td>\n",
       "      <td>0.06</td>\n",
       "    </tr>\n",
       "    <tr>\n",
       "      <th>4</th>\n",
       "      <td>BsmtFinSF1</td>\n",
       "      <td>6030.64</td>\n",
       "      <td>0.05</td>\n",
       "    </tr>\n",
       "    <tr>\n",
       "      <th>...</th>\n",
       "      <td>...</td>\n",
       "      <td>...</td>\n",
       "      <td>...</td>\n",
       "    </tr>\n",
       "    <tr>\n",
       "      <th>68</th>\n",
       "      <td>Street</td>\n",
       "      <td>0.00</td>\n",
       "      <td>0.00</td>\n",
       "    </tr>\n",
       "    <tr>\n",
       "      <th>69</th>\n",
       "      <td>MiscVal</td>\n",
       "      <td>0.00</td>\n",
       "      <td>0.00</td>\n",
       "    </tr>\n",
       "    <tr>\n",
       "      <th>70</th>\n",
       "      <td>PoolArea</td>\n",
       "      <td>0.00</td>\n",
       "      <td>0.00</td>\n",
       "    </tr>\n",
       "    <tr>\n",
       "      <th>71</th>\n",
       "      <td>LowQualFinSF</td>\n",
       "      <td>0.00</td>\n",
       "      <td>0.00</td>\n",
       "    </tr>\n",
       "    <tr>\n",
       "      <th>72</th>\n",
       "      <td>3SsnPorch</td>\n",
       "      <td>0.00</td>\n",
       "      <td>0.00</td>\n",
       "    </tr>\n",
       "  </tbody>\n",
       "</table>\n",
       "<p>73 rows × 3 columns</p>\n",
       "</div>"
      ],
      "text/plain": [
       "        features  importance  percentage\n",
       "0    OverallQual    13829.58        0.12\n",
       "1      GrLivArea    12636.34        0.11\n",
       "2      YearBuilt     6643.15        0.06\n",
       "3    TotalBsmtSF     6559.04        0.06\n",
       "4     BsmtFinSF1     6030.64        0.05\n",
       "..           ...         ...         ...\n",
       "68        Street        0.00        0.00\n",
       "69       MiscVal        0.00        0.00\n",
       "70      PoolArea        0.00        0.00\n",
       "71  LowQualFinSF        0.00        0.00\n",
       "72     3SsnPorch        0.00        0.00\n",
       "\n",
       "[73 rows x 3 columns]"
      ]
     },
     "execution_count": 82,
     "metadata": {},
     "output_type": "execute_result"
    }
   ],
   "source": [
    "feat_imp,shap_values=global_shap_importance(hp_gbr_model,x2_tr)\n",
    "feat_imp"
   ]
  },
  {
   "cell_type": "code",
   "execution_count": 79,
   "metadata": {},
   "outputs": [
    {
     "data": {
      "application/vnd.plotly.v1+json": {
       "config": {
        "plotlyServerURL": "https://plot.ly"
       },
       "data": [
        {
         "name": "SHAP Importance",
         "type": "bar",
         "x": [
          "OverallQual",
          "GrLivArea",
          "YearBuilt",
          "TotalBsmtSF",
          "BsmtFinSF1",
          "OverallCond",
          "GarageCars",
          "LotArea",
          "YearRemodAdd",
          "Fireplaces",
          "Neighborhood",
          "LotFrontage",
          "FullBath",
          "1stFlrSF",
          "GarageArea",
          "HalfBath",
          "2ndFlrSF",
          "Exterior1st",
          "BsmtFullBath",
          "Condition1",
          "MSSubClass",
          "BsmtUnfSF",
          "Exterior2nd",
          "GarageYrBlt",
          "OpenPorchSF",
          "MasVnrArea",
          "SaleCondition",
          "ExterQual",
          "KitchenAbvGr",
          "TotRmsAbvGrd",
          "WoodDeckSF",
          "KitchenQual",
          "ScreenPorch",
          "LotConfig",
          "HouseStyle",
          "MoSold",
          "MSZoning",
          "BsmtQual",
          "BsmtFinSF2",
          "Functional",
          "BedroomAbvGr",
          "GarageFinish",
          "BsmtFinType1",
          "BsmtHalfBath",
          "BsmtExposure",
          "YrSold",
          "HeatingQC",
          "GarageType",
          "EnclosedPorch",
          "LandContour",
          "BsmtCond",
          "SaleType",
          "CentralAir",
          "BldgType",
          "LandSlope",
          "LotShape",
          "Foundation",
          "PavedDrive",
          "ExterCond",
          "GarageCond",
          "BsmtFinType2",
          "RoofStyle",
          "GarageQual",
          "Electrical",
          "Condition2",
          "Heating",
          "Utilities",
          "RoofMatl",
          "Street",
          "MiscVal",
          "PoolArea",
          "LowQualFinSF",
          "3SsnPorch"
         ],
         "y": [
          0.11759188593579023,
          0.10744583013721053,
          0.05648614758245148,
          0.05577097762183047,
          0.051278082632420036,
          0.04026168035528766,
          0.033084744083724214,
          0.03207709148016391,
          0.031008763015676573,
          0.02614922498674283,
          0.02604753147599012,
          0.02296540031089638,
          0.021388528346115192,
          0.01727802341116545,
          0.016701332728036984,
          0.016473351671132112,
          0.015944161224083306,
          0.0159118997201557,
          0.01582250586782972,
          0.015026797080863182,
          0.013538374274666351,
          0.012845819252097317,
          0.012460161876632988,
          0.012238461383423343,
          0.01174113624501878,
          0.01095738177819051,
          0.010307837376577573,
          0.009771057418301041,
          0.009491229069877568,
          0.009329991025291293,
          0.009145175972196605,
          0.008808210326373954,
          0.008349806807899348,
          0.008160784509113877,
          0.007775348066525462,
          0.007558647872527275,
          0.007261089719746146,
          0.007004759126004285,
          0.006919135548451921,
          0.006564056740477744,
          0.0059825376565681414,
          0.005824947312299536,
          0.005366263263442636,
          0.0047992748449593725,
          0.004676167628770146,
          0.004602375114722973,
          0.004271188441963087,
          0.00420181072531086,
          0.004058059043597876,
          0.003940681142719095,
          0.003449491810538559,
          0.0032049068255043923,
          0.0032040802974778616,
          0.0028172614626801643,
          0.002468376411855829,
          0.0024401136016979023,
          0.0023958758353814498,
          0.0022530371662843156,
          0.0012407384552146695,
          0.001216024021373522,
          0.0009129028509733844,
          0.0007445829503884198,
          0.0005162263903110487,
          0.00047065268900534085,
          0,
          0,
          0,
          0,
          0,
          0,
          0,
          0,
          0
         ]
        }
       ],
       "layout": {
        "template": {
         "data": {
          "bar": [
           {
            "error_x": {
             "color": "#2a3f5f"
            },
            "error_y": {
             "color": "#2a3f5f"
            },
            "marker": {
             "line": {
              "color": "#E5ECF6",
              "width": 0.5
             },
             "pattern": {
              "fillmode": "overlay",
              "size": 10,
              "solidity": 0.2
             }
            },
            "type": "bar"
           }
          ],
          "barpolar": [
           {
            "marker": {
             "line": {
              "color": "#E5ECF6",
              "width": 0.5
             },
             "pattern": {
              "fillmode": "overlay",
              "size": 10,
              "solidity": 0.2
             }
            },
            "type": "barpolar"
           }
          ],
          "carpet": [
           {
            "aaxis": {
             "endlinecolor": "#2a3f5f",
             "gridcolor": "white",
             "linecolor": "white",
             "minorgridcolor": "white",
             "startlinecolor": "#2a3f5f"
            },
            "baxis": {
             "endlinecolor": "#2a3f5f",
             "gridcolor": "white",
             "linecolor": "white",
             "minorgridcolor": "white",
             "startlinecolor": "#2a3f5f"
            },
            "type": "carpet"
           }
          ],
          "choropleth": [
           {
            "colorbar": {
             "outlinewidth": 0,
             "ticks": ""
            },
            "type": "choropleth"
           }
          ],
          "contour": [
           {
            "colorbar": {
             "outlinewidth": 0,
             "ticks": ""
            },
            "colorscale": [
             [
              0,
              "#0d0887"
             ],
             [
              0.1111111111111111,
              "#46039f"
             ],
             [
              0.2222222222222222,
              "#7201a8"
             ],
             [
              0.3333333333333333,
              "#9c179e"
             ],
             [
              0.4444444444444444,
              "#bd3786"
             ],
             [
              0.5555555555555556,
              "#d8576b"
             ],
             [
              0.6666666666666666,
              "#ed7953"
             ],
             [
              0.7777777777777778,
              "#fb9f3a"
             ],
             [
              0.8888888888888888,
              "#fdca26"
             ],
             [
              1,
              "#f0f921"
             ]
            ],
            "type": "contour"
           }
          ],
          "contourcarpet": [
           {
            "colorbar": {
             "outlinewidth": 0,
             "ticks": ""
            },
            "type": "contourcarpet"
           }
          ],
          "heatmap": [
           {
            "colorbar": {
             "outlinewidth": 0,
             "ticks": ""
            },
            "colorscale": [
             [
              0,
              "#0d0887"
             ],
             [
              0.1111111111111111,
              "#46039f"
             ],
             [
              0.2222222222222222,
              "#7201a8"
             ],
             [
              0.3333333333333333,
              "#9c179e"
             ],
             [
              0.4444444444444444,
              "#bd3786"
             ],
             [
              0.5555555555555556,
              "#d8576b"
             ],
             [
              0.6666666666666666,
              "#ed7953"
             ],
             [
              0.7777777777777778,
              "#fb9f3a"
             ],
             [
              0.8888888888888888,
              "#fdca26"
             ],
             [
              1,
              "#f0f921"
             ]
            ],
            "type": "heatmap"
           }
          ],
          "heatmapgl": [
           {
            "colorbar": {
             "outlinewidth": 0,
             "ticks": ""
            },
            "colorscale": [
             [
              0,
              "#0d0887"
             ],
             [
              0.1111111111111111,
              "#46039f"
             ],
             [
              0.2222222222222222,
              "#7201a8"
             ],
             [
              0.3333333333333333,
              "#9c179e"
             ],
             [
              0.4444444444444444,
              "#bd3786"
             ],
             [
              0.5555555555555556,
              "#d8576b"
             ],
             [
              0.6666666666666666,
              "#ed7953"
             ],
             [
              0.7777777777777778,
              "#fb9f3a"
             ],
             [
              0.8888888888888888,
              "#fdca26"
             ],
             [
              1,
              "#f0f921"
             ]
            ],
            "type": "heatmapgl"
           }
          ],
          "histogram": [
           {
            "marker": {
             "pattern": {
              "fillmode": "overlay",
              "size": 10,
              "solidity": 0.2
             }
            },
            "type": "histogram"
           }
          ],
          "histogram2d": [
           {
            "colorbar": {
             "outlinewidth": 0,
             "ticks": ""
            },
            "colorscale": [
             [
              0,
              "#0d0887"
             ],
             [
              0.1111111111111111,
              "#46039f"
             ],
             [
              0.2222222222222222,
              "#7201a8"
             ],
             [
              0.3333333333333333,
              "#9c179e"
             ],
             [
              0.4444444444444444,
              "#bd3786"
             ],
             [
              0.5555555555555556,
              "#d8576b"
             ],
             [
              0.6666666666666666,
              "#ed7953"
             ],
             [
              0.7777777777777778,
              "#fb9f3a"
             ],
             [
              0.8888888888888888,
              "#fdca26"
             ],
             [
              1,
              "#f0f921"
             ]
            ],
            "type": "histogram2d"
           }
          ],
          "histogram2dcontour": [
           {
            "colorbar": {
             "outlinewidth": 0,
             "ticks": ""
            },
            "colorscale": [
             [
              0,
              "#0d0887"
             ],
             [
              0.1111111111111111,
              "#46039f"
             ],
             [
              0.2222222222222222,
              "#7201a8"
             ],
             [
              0.3333333333333333,
              "#9c179e"
             ],
             [
              0.4444444444444444,
              "#bd3786"
             ],
             [
              0.5555555555555556,
              "#d8576b"
             ],
             [
              0.6666666666666666,
              "#ed7953"
             ],
             [
              0.7777777777777778,
              "#fb9f3a"
             ],
             [
              0.8888888888888888,
              "#fdca26"
             ],
             [
              1,
              "#f0f921"
             ]
            ],
            "type": "histogram2dcontour"
           }
          ],
          "mesh3d": [
           {
            "colorbar": {
             "outlinewidth": 0,
             "ticks": ""
            },
            "type": "mesh3d"
           }
          ],
          "parcoords": [
           {
            "line": {
             "colorbar": {
              "outlinewidth": 0,
              "ticks": ""
             }
            },
            "type": "parcoords"
           }
          ],
          "pie": [
           {
            "automargin": true,
            "type": "pie"
           }
          ],
          "scatter": [
           {
            "fillpattern": {
             "fillmode": "overlay",
             "size": 10,
             "solidity": 0.2
            },
            "type": "scatter"
           }
          ],
          "scatter3d": [
           {
            "line": {
             "colorbar": {
              "outlinewidth": 0,
              "ticks": ""
             }
            },
            "marker": {
             "colorbar": {
              "outlinewidth": 0,
              "ticks": ""
             }
            },
            "type": "scatter3d"
           }
          ],
          "scattercarpet": [
           {
            "marker": {
             "colorbar": {
              "outlinewidth": 0,
              "ticks": ""
             }
            },
            "type": "scattercarpet"
           }
          ],
          "scattergeo": [
           {
            "marker": {
             "colorbar": {
              "outlinewidth": 0,
              "ticks": ""
             }
            },
            "type": "scattergeo"
           }
          ],
          "scattergl": [
           {
            "marker": {
             "colorbar": {
              "outlinewidth": 0,
              "ticks": ""
             }
            },
            "type": "scattergl"
           }
          ],
          "scattermapbox": [
           {
            "marker": {
             "colorbar": {
              "outlinewidth": 0,
              "ticks": ""
             }
            },
            "type": "scattermapbox"
           }
          ],
          "scatterpolar": [
           {
            "marker": {
             "colorbar": {
              "outlinewidth": 0,
              "ticks": ""
             }
            },
            "type": "scatterpolar"
           }
          ],
          "scatterpolargl": [
           {
            "marker": {
             "colorbar": {
              "outlinewidth": 0,
              "ticks": ""
             }
            },
            "type": "scatterpolargl"
           }
          ],
          "scatterternary": [
           {
            "marker": {
             "colorbar": {
              "outlinewidth": 0,
              "ticks": ""
             }
            },
            "type": "scatterternary"
           }
          ],
          "surface": [
           {
            "colorbar": {
             "outlinewidth": 0,
             "ticks": ""
            },
            "colorscale": [
             [
              0,
              "#0d0887"
             ],
             [
              0.1111111111111111,
              "#46039f"
             ],
             [
              0.2222222222222222,
              "#7201a8"
             ],
             [
              0.3333333333333333,
              "#9c179e"
             ],
             [
              0.4444444444444444,
              "#bd3786"
             ],
             [
              0.5555555555555556,
              "#d8576b"
             ],
             [
              0.6666666666666666,
              "#ed7953"
             ],
             [
              0.7777777777777778,
              "#fb9f3a"
             ],
             [
              0.8888888888888888,
              "#fdca26"
             ],
             [
              1,
              "#f0f921"
             ]
            ],
            "type": "surface"
           }
          ],
          "table": [
           {
            "cells": {
             "fill": {
              "color": "#EBF0F8"
             },
             "line": {
              "color": "white"
             }
            },
            "header": {
             "fill": {
              "color": "#C8D4E3"
             },
             "line": {
              "color": "white"
             }
            },
            "type": "table"
           }
          ]
         },
         "layout": {
          "annotationdefaults": {
           "arrowcolor": "#2a3f5f",
           "arrowhead": 0,
           "arrowwidth": 1
          },
          "autotypenumbers": "strict",
          "coloraxis": {
           "colorbar": {
            "outlinewidth": 0,
            "ticks": ""
           }
          },
          "colorscale": {
           "diverging": [
            [
             0,
             "#8e0152"
            ],
            [
             0.1,
             "#c51b7d"
            ],
            [
             0.2,
             "#de77ae"
            ],
            [
             0.3,
             "#f1b6da"
            ],
            [
             0.4,
             "#fde0ef"
            ],
            [
             0.5,
             "#f7f7f7"
            ],
            [
             0.6,
             "#e6f5d0"
            ],
            [
             0.7,
             "#b8e186"
            ],
            [
             0.8,
             "#7fbc41"
            ],
            [
             0.9,
             "#4d9221"
            ],
            [
             1,
             "#276419"
            ]
           ],
           "sequential": [
            [
             0,
             "#0d0887"
            ],
            [
             0.1111111111111111,
             "#46039f"
            ],
            [
             0.2222222222222222,
             "#7201a8"
            ],
            [
             0.3333333333333333,
             "#9c179e"
            ],
            [
             0.4444444444444444,
             "#bd3786"
            ],
            [
             0.5555555555555556,
             "#d8576b"
            ],
            [
             0.6666666666666666,
             "#ed7953"
            ],
            [
             0.7777777777777778,
             "#fb9f3a"
            ],
            [
             0.8888888888888888,
             "#fdca26"
            ],
            [
             1,
             "#f0f921"
            ]
           ],
           "sequentialminus": [
            [
             0,
             "#0d0887"
            ],
            [
             0.1111111111111111,
             "#46039f"
            ],
            [
             0.2222222222222222,
             "#7201a8"
            ],
            [
             0.3333333333333333,
             "#9c179e"
            ],
            [
             0.4444444444444444,
             "#bd3786"
            ],
            [
             0.5555555555555556,
             "#d8576b"
            ],
            [
             0.6666666666666666,
             "#ed7953"
            ],
            [
             0.7777777777777778,
             "#fb9f3a"
            ],
            [
             0.8888888888888888,
             "#fdca26"
            ],
            [
             1,
             "#f0f921"
            ]
           ]
          },
          "colorway": [
           "#636efa",
           "#EF553B",
           "#00cc96",
           "#ab63fa",
           "#FFA15A",
           "#19d3f3",
           "#FF6692",
           "#B6E880",
           "#FF97FF",
           "#FECB52"
          ],
          "font": {
           "color": "#2a3f5f"
          },
          "geo": {
           "bgcolor": "white",
           "lakecolor": "white",
           "landcolor": "#E5ECF6",
           "showlakes": true,
           "showland": true,
           "subunitcolor": "white"
          },
          "hoverlabel": {
           "align": "left"
          },
          "hovermode": "closest",
          "mapbox": {
           "style": "light"
          },
          "paper_bgcolor": "white",
          "plot_bgcolor": "#E5ECF6",
          "polar": {
           "angularaxis": {
            "gridcolor": "white",
            "linecolor": "white",
            "ticks": ""
           },
           "bgcolor": "#E5ECF6",
           "radialaxis": {
            "gridcolor": "white",
            "linecolor": "white",
            "ticks": ""
           }
          },
          "scene": {
           "xaxis": {
            "backgroundcolor": "#E5ECF6",
            "gridcolor": "white",
            "gridwidth": 2,
            "linecolor": "white",
            "showbackground": true,
            "ticks": "",
            "zerolinecolor": "white"
           },
           "yaxis": {
            "backgroundcolor": "#E5ECF6",
            "gridcolor": "white",
            "gridwidth": 2,
            "linecolor": "white",
            "showbackground": true,
            "ticks": "",
            "zerolinecolor": "white"
           },
           "zaxis": {
            "backgroundcolor": "#E5ECF6",
            "gridcolor": "white",
            "gridwidth": 2,
            "linecolor": "white",
            "showbackground": true,
            "ticks": "",
            "zerolinecolor": "white"
           }
          },
          "shapedefaults": {
           "line": {
            "color": "#2a3f5f"
           }
          },
          "ternary": {
           "aaxis": {
            "gridcolor": "white",
            "linecolor": "white",
            "ticks": ""
           },
           "baxis": {
            "gridcolor": "white",
            "linecolor": "white",
            "ticks": ""
           },
           "bgcolor": "#E5ECF6",
           "caxis": {
            "gridcolor": "white",
            "linecolor": "white",
            "ticks": ""
           }
          },
          "title": {
           "x": 0.05
          },
          "xaxis": {
           "automargin": true,
           "gridcolor": "white",
           "linecolor": "white",
           "ticks": "",
           "title": {
            "standoff": 15
           },
           "zerolinecolor": "white",
           "zerolinewidth": 2
          },
          "yaxis": {
           "automargin": true,
           "gridcolor": "white",
           "linecolor": "white",
           "ticks": "",
           "title": {
            "standoff": 15
           },
           "zerolinecolor": "white",
           "zerolinewidth": 2
          }
         }
        },
        "yaxis": {
         "title": {
          "text": "SHAP Importance"
         }
        }
       }
      }
     },
     "metadata": {},
     "output_type": "display_data"
    }
   ],
   "source": [
    "fig = go.Figure(\n",
    "    go.Bar(\n",
    "    x=feat_imp['features'],\n",
    "    y=feat_imp['percentage'],\n",
    "    name='SHAP Importance'\n",
    "    )\n",
    "    )\n",
    "fig.update_layout(\n",
    "    yaxis=dict(\n",
    "        title=dict(text='SHAP Importance'),\n",
    "    ),\n",
    ")\n",
    "fig.show()"
   ]
  },
  {
   "cell_type": "code",
   "execution_count": 83,
   "metadata": {},
   "outputs": [],
   "source": [
    "def drop_feat(x,imp,threshold):\n",
    "    df=x\n",
    "    for i in range(len(imp)):\n",
    "        if float(imp.loc[i][2])<threshold:\n",
    "            df=df.drop([imp.loc[i][0]],axis=1)\n",
    "    return df"
   ]
  },
  {
   "cell_type": "code",
   "execution_count": 84,
   "metadata": {},
   "outputs": [],
   "source": [
    "x3_tr=drop_feat(x2_tr,feat_imp,0.005)\n",
    "x3_val=drop_feat(x2_val,feat_imp,0.005)\n",
    "x3_tst=drop_feat(x2_tst,feat_imp,0.005)"
   ]
  },
  {
   "cell_type": "code",
   "execution_count": 86,
   "metadata": {},
   "outputs": [
    {
     "name": "stdout",
     "output_type": "stream",
     "text": [
      "\n",
      "feat number: 43 \n",
      " features used: ['MSSubClass' 'OverallQual' 'OverallCond' 'ExterQual' 'KitchenQual'\n",
      " 'BsmtQual' 'YearBuilt' 'YearRemodAdd' 'MoSold' 'BsmtFullBath' 'FullBath'\n",
      " 'HalfBath' 'BedroomAbvGr' 'KitchenAbvGr' 'TotRmsAbvGrd' 'Fireplaces'\n",
      " 'GarageYrBlt' 'LotFrontage' 'LotArea' 'MasVnrArea' 'BsmtFinSF1'\n",
      " 'BsmtFinSF2' 'BsmtUnfSF' 'TotalBsmtSF' '1stFlrSF' '2ndFlrSF' 'GrLivArea'\n",
      " 'GarageCars' 'GarageArea' 'WoodDeckSF' 'OpenPorchSF' 'ScreenPorch'\n",
      " 'MSZoning' 'LotConfig' 'Neighborhood' 'Condition1' 'HouseStyle'\n",
      " 'Exterior1st' 'Exterior2nd' 'BsmtFinType1' 'Functional' 'GarageFinish'\n",
      " 'SaleCondition']\n"
     ]
    }
   ],
   "source": [
    "hp_gbr_model=fit_para(gbr_space,hpdict)\n",
    "hp_gbr_model.fit(x3_tr,y2_tr)\n",
    "print('\\nfeat number:',hp_gbr_model.n_features_in_,'\\n features used:',hp_gbr_model.feature_names_in_)"
   ]
  },
  {
   "cell_type": "code",
   "execution_count": 87,
   "metadata": {},
   "outputs": [
    {
     "name": "stdout",
     "output_type": "stream",
     "text": [
      "RMSE:$11,595 R2:0.9780 Adj R2:0.9771\n"
     ]
    }
   ],
   "source": [
    "reg_result(hp_gbr_model,x3_tr,y2_tr)"
   ]
  },
  {
   "cell_type": "code",
   "execution_count": 88,
   "metadata": {},
   "outputs": [
    {
     "name": "stdout",
     "output_type": "stream",
     "text": [
      "RMSE:$29,512 R2:0.8719 Adj R2:0.8468\n"
     ]
    }
   ],
   "source": [
    "reg_result(hp_gbr_model,x3_val,y2_val)"
   ]
  },
  {
   "cell_type": "code",
   "execution_count": 89,
   "metadata": {},
   "outputs": [
    {
     "name": "stdout",
     "output_type": "stream",
     "text": [
      "RMSE:$28,514 R2:0.8801 Adj R2:0.8296\n"
     ]
    }
   ],
   "source": [
    "reg_result(hp_gbr_model,x3_tst,y2_tst)"
   ]
  },
  {
   "cell_type": "code",
   "execution_count": 90,
   "metadata": {},
   "outputs": [],
   "source": [
    "explainer = shap.TreeExplainer(hp_gbr_model, x2_tr)"
   ]
  },
  {
   "cell_type": "code",
   "execution_count": null,
   "metadata": {},
   "outputs": [],
   "source": [
    "shap.plots.waterfall(shap_values[0])"
   ]
  },
  {
   "cell_type": "code",
   "execution_count": null,
   "metadata": {},
   "outputs": [],
   "source": [
    "shap.summary_plot(shap_values, x2_tr)"
   ]
  },
  {
   "cell_type": "code",
   "execution_count": 94,
   "metadata": {},
   "outputs": [],
   "source": [
    "def hpdict_opt(objective,hpdict0):\n",
    "    gbr_loss=['squared_error','absolute_error','huber','quantile']\n",
    "    gbr_criterion=['friedman_mse', 'squared_error']\n",
    "    gbr_space2={\n",
    "    'alpha': hp.uniform ('alpha',max(0,hpdict0['alpha']-hpdict0['alpha']/2),min(hpdict0['alpha']+hpdict0['alpha']/2,1)),\n",
    "    'ccp_alpha': hp.uniform ('ccp_alpha',max(0,hpdict0['ccp_alpha']-hpdict0['ccp_alpha']/2),min(hpdict0['ccp_alpha']+hpdict0['ccp_alpha']/2,100)),\n",
    "    'criterion': hp.choice('criterion',gbr_criterion),\n",
    "    'init': None,\n",
    "    'learning_rate': hp.uniform ('learning_rate',max(0,hpdict0['learning_rate']-hpdict0['learning_rate']/2),min(hpdict0['learning_rate']+hpdict0['learning_rate']/2,1)),\n",
    "    'loss': hp.choice('loss',gbr_loss),\n",
    "    'max_depth': hp.quniform ('max_depth', max(0,hpdict0['max_depth']-hpdict0['max_depth']/2),min(hpdict0['max_depth']+hpdict0['max_depth']/2,20),1),\n",
    "    'max_features': None,\n",
    "    'max_leaf_nodes': None,\n",
    "    'min_impurity_decrease': hp.uniform ('min_impurity_decrease', max(0,hpdict0['min_impurity_decrease']-hpdict0['min_impurity_decrease']/2),min(hpdict0['min_impurity_decrease']+hpdict0['min_impurity_decrease']/2,50)),\n",
    "    'min_samples_leaf': 1,\n",
    "    'min_samples_split': hp.uniform ('min_samples_split', max(0,hpdict0['min_samples_split']-hpdict0['min_samples_split']/2),min(hpdict0['min_samples_split']+hpdict0['min_samples_split']/2,1)),\n",
    "    'min_weight_fraction_leaf': hp.uniform ('min_weight_fraction_leaf', max(0,hpdict0['min_weight_fraction_leaf']-hpdict0['min_weight_fraction_leaf']/2),min(hpdict0['min_weight_fraction_leaf']+hpdict0['min_weight_fraction_leaf']/2,0.5)),\n",
    "    'n_estimators': hp.quniform ('n_estimators', max(0,hpdict0['n_estimators']-hpdict0['n_estimators']/2),min(hpdict0['n_estimators']+hpdict0['n_estimators']/2,10000),1),\n",
    "    'n_iter_no_change': None,\n",
    "    'random_state': None,\n",
    "    'subsample': hp.uniform ('subsample', max(0,hpdict0['subsample']-hpdict0['subsample']/2),min(hpdict0['subsample']+hpdict0['subsample']/2,1)),\n",
    "    'tol': 0.0001,\n",
    "    'validation_fraction': 0.1,\n",
    "    'verbose': 0,\n",
    "    'warm_start': False,\n",
    "    'x_tr':x3_tr,\n",
    "    'x_val':x3_val,\n",
    "    'y_tr':y2_tr,\n",
    "    'y_val':y2_val,\n",
    "    'pro_df_tr':trans_df_tr2,\n",
    "    'target_response':'SalePrice'\n",
    "    }\n",
    "    opt_para=hyperopt_hp_cv(objective,gbr_space2)\n",
    "    return opt_para"
   ]
  },
  {
   "cell_type": "code",
   "execution_count": 96,
   "metadata": {},
   "outputs": [
    {
     "name": "stdout",
     "output_type": "stream",
     "text": [
      "RMSE:$27,666 R2:0.8625 Adj R2:0.8164                   \n",
      "RMSE:$35,837 R2:0.7976 Adj R2:0.7298                   \n",
      "RMSE:$32,277 R2:0.8250 Adj R2:0.7664                   \n",
      "RMSE:$51,497 R2:0.7002 Adj R2:0.5997                   \n",
      "RMSE:$24,111 R2:0.8777 Adj R2:0.8368                   \n",
      "The score from this cv is 51,497                       \n",
      "RMSE:$179,541 R2:-2.5926 Adj R2:-3.7956                                         \n",
      "RMSE:$163,176 R2:-3.3587 Adj R2:-4.8182                                         \n",
      "RMSE:$155,400 R2:-4.4225 Adj R2:-6.2383                                         \n",
      "RMSE:$158,424 R2:-3.1063 Adj R2:-4.4814                                         \n",
      "RMSE:$159,958 R2:-3.4095 Adj R2:-4.8860                                         \n",
      "The score from this cv is 179,541                                               \n",
      "RMSE:$31,149 R2:0.8045 Adj R2:0.7390                                            \n",
      "RMSE:$36,019 R2:0.7652 Adj R2:0.6866                                            \n",
      "RMSE:$34,802 R2:0.7889 Adj R2:0.7183                                            \n",
      "RMSE:$44,327 R2:0.7473 Adj R2:0.6626                                            \n",
      "RMSE:$46,164 R2:0.7076 Adj R2:0.6097                                            \n",
      "The score from this cv is 46,164                                                \n",
      "RMSE:$155,447 R2:-3.1016 Adj R2:-4.4751                                          \n",
      "RMSE:$165,983 R2:-2.7521 Adj R2:-4.0085                                          \n",
      "RMSE:$167,087 R2:-3.4146 Adj R2:-4.8929                                          \n",
      "RMSE:$157,601 R2:-3.9003 Adj R2:-5.5413                                          \n",
      "RMSE:$169,006 R2:-3.2327 Adj R2:-4.6501                                          \n",
      "The score from this cv is 169,006                                                \n",
      "RMSE:$74,971 R2:-0.0224 Adj R2:-0.3648                                           \n",
      "RMSE:$83,187 R2:-0.0838 Adj R2:-0.4467                                           \n",
      "RMSE:$72,305 R2:-0.0496 Adj R2:-0.4010                                           \n",
      "RMSE:$78,067 R2:-0.0242 Adj R2:-0.3672                                           \n",
      "RMSE:$96,377 R2:-0.0868 Adj R2:-0.4507                                           \n",
      "The score from this cv is 96,377                                                 \n",
      "RMSE:$161,849 R2:-3.1643 Adj R2:-4.5587                                          \n",
      "RMSE:$160,084 R2:-3.0564 Adj R2:-4.4148                                          \n",
      "RMSE:$172,191 R2:-3.1425 Adj R2:-4.5297                                          \n",
      "RMSE:$170,482 R2:-3.2326 Adj R2:-4.6499                                          \n",
      "RMSE:$159,440 R2:-4.2583 Adj R2:-6.0191                                          \n",
      "The score from this cv is 172,191                                                \n",
      "RMSE:$18,602 R2:0.9220 Adj R2:0.8959                                             \n",
      "RMSE:$28,790 R2:0.8911 Adj R2:0.8546                                             \n",
      "RMSE:$20,489 R2:0.9269 Adj R2:0.9025                                             \n",
      "RMSE:$36,823 R2:0.7937 Adj R2:0.7246                                             \n",
      "RMSE:$27,596 R2:0.8915 Adj R2:0.8551                                             \n",
      "The score from this cv is 36,823                                                 \n",
      "RMSE:$78,567 R2:-0.0416 Adj R2:-0.3904                                           \n",
      "RMSE:$88,917 R2:-0.0830 Adj R2:-0.4457                                           \n",
      "RMSE:$85,272 R2:-0.0754 Adj R2:-0.4355                                           \n",
      "RMSE:$77,342 R2:-0.0340 Adj R2:-0.3802                                           \n",
      "RMSE:$77,487 R2:-0.0535 Adj R2:-0.4063                                           \n",
      "The score from this cv is 88,917                                                 \n",
      "RMSE:$46,346 R2:0.7469 Adj R2:0.6621                                             \n",
      "RMSE:$35,924 R2:0.7861 Adj R2:0.7145                                             \n",
      "RMSE:$30,775 R2:0.8158 Adj R2:0.7541                                             \n",
      "RMSE:$35,254 R2:0.7973 Adj R2:0.7294                                             \n",
      "RMSE:$31,683 R2:0.8216 Adj R2:0.7618                                             \n",
      "The score from this cv is 46,346                                                 \n",
      "RMSE:$46,602 R2:0.7250 Adj R2:0.6329                                             \n",
      "RMSE:$33,979 R2:0.8417 Adj R2:0.7887                                             \n",
      "RMSE:$32,422 R2:0.8187 Adj R2:0.7580                                             \n",
      "RMSE:$28,065 R2:0.8453 Adj R2:0.7935                                             \n",
      "RMSE:$24,180 R2:0.8923 Adj R2:0.8562                                             \n",
      "The score from this cv is 46,602                                                 \n",
      "RMSE:$28,578 R2:0.8296 Adj R2:0.7726                                              \n",
      "RMSE:$32,474 R2:0.8416 Adj R2:0.7885                                              \n",
      "RMSE:$36,964 R2:0.7692 Adj R2:0.6919                                              \n",
      "RMSE:$35,822 R2:0.7752 Adj R2:0.7000                                              \n",
      "RMSE:$45,598 R2:0.7516 Adj R2:0.6684                                              \n",
      "The score from this cv is 45,598                                                  \n",
      "RMSE:$30,104 R2:0.8541 Adj R2:0.8053                                              \n",
      "RMSE:$31,396 R2:0.8641 Adj R2:0.8186                                              \n",
      "RMSE:$28,626 R2:0.8782 Adj R2:0.8374                                              \n",
      "RMSE:$28,131 R2:0.8849 Adj R2:0.8463                                              \n",
      "RMSE:$30,759 R2:0.7859 Adj R2:0.7143                                              \n",
      "The score from this cv is 31,396                                                  \n",
      "RMSE:$155,331 R2:-2.8352 Adj R2:-4.1195                                           \n",
      "RMSE:$152,316 R2:-3.1479 Adj R2:-4.5368                                           \n",
      "RMSE:$159,790 R2:-3.0640 Adj R2:-4.4249                                           \n",
      "RMSE:$165,280 R2:-2.9860 Adj R2:-4.3207                                           \n",
      "RMSE:$164,803 R2:-3.2176 Adj R2:-4.6299                                           \n",
      "The score from this cv is 165,280                                                 \n",
      "RMSE:$29,509 R2:0.8736 Adj R2:0.8313                                              \n",
      "RMSE:$28,204 R2:0.8551 Adj R2:0.8066                                              \n",
      "RMSE:$28,256 R2:0.8811 Adj R2:0.8413                                              \n",
      "RMSE:$29,339 R2:0.8743 Adj R2:0.8322                                              \n",
      "RMSE:$25,816 R2:0.8784 Adj R2:0.8377                                              \n",
      "The score from this cv is 29,509                                                  \n",
      "RMSE:$176,975 R2:-2.9274 Adj R2:-4.2425                                           \n",
      "RMSE:$154,790 R2:-3.3561 Adj R2:-4.8148                                          \n",
      "RMSE:$156,698 R2:-3.7528 Adj R2:-5.3443                                          \n",
      "RMSE:$170,178 R2:-3.1050 Adj R2:-4.4796                                          \n",
      "RMSE:$164,430 R2:-3.7349 Adj R2:-5.3204                                          \n",
      "The score from this cv is 176,975                                                \n",
      "RMSE:$86,221 R2:-0.0001 Adj R2:-0.3351                                           \n",
      "RMSE:$70,032 R2:-0.0137 Adj R2:-0.3532                                           \n",
      "RMSE:$79,925 R2:-0.0000 Adj R2:-0.3349                                           \n",
      "RMSE:$79,453 R2:-0.0091 Adj R2:-0.3470                                           \n",
      "RMSE:$80,923 R2:-0.0001 Adj R2:-0.3349                                           \n",
      "The score from this cv is 86,221                                                 \n",
      "RMSE:$83,519 R2:-0.1320 Adj R2:-0.5111                                           \n",
      "RMSE:$81,502 R2:-0.0587 Adj R2:-0.4133                                           \n",
      "RMSE:$76,205 R2:-0.0385 Adj R2:-0.3862                                           \n",
      "RMSE:$86,117 R2:-0.0201 Adj R2:-0.3618                                           \n",
      "RMSE:$80,297 R2:-0.0551 Adj R2:-0.4085                                           \n",
      "The score from this cv is 86,117                                                 \n",
      "RMSE:$69,938 R2:-0.0260 Adj R2:-0.3696                                           \n",
      "RMSE:$83,911 R2:-0.0029 Adj R2:-0.3388                                           \n",
      "RMSE:$83,914 R2:-0.0003 Adj R2:-0.3353                                           \n",
      "RMSE:$82,334 R2:-0.0047 Adj R2:-0.3411                                           \n",
      "RMSE:$76,411 R2:-0.0012 Adj R2:-0.3365                                           \n",
      "The score from this cv is 83,914                                                 \n",
      "RMSE:$67,586 R2:-0.0395 Adj R2:-0.3876                                           \n",
      "RMSE:$83,645 R2:-0.0495 Adj R2:-0.4010                                           \n",
      "RMSE:$86,338 R2:-0.0444 Adj R2:-0.3941                                           \n",
      "RMSE:$86,934 R2:-0.0306 Adj R2:-0.3757                                           \n",
      "RMSE:$80,784 R2:-0.0965 Adj R2:-0.4637                                           \n",
      "The score from this cv is 86,934                                                 \n",
      "RMSE:$167,554 R2:-3.2361 Adj R2:-4.6547                                          \n",
      "RMSE:$153,623 R2:-3.3064 Adj R2:-4.7484                                          \n",
      "RMSE:$172,077 R2:-3.0614 Adj R2:-4.4214                                          \n",
      "RMSE:$154,518 R2:-3.6160 Adj R2:-5.1617                                          \n",
      "RMSE:$162,876 R2:-2.8583 Adj R2:-4.1503                                          \n",
      "The score from this cv is 172,077                                                \n",
      "RMSE:$32,849 R2:0.8403 Adj R2:0.7868                                             \n",
      "RMSE:$34,197 R2:0.8360 Adj R2:0.7811                                             \n",
      "RMSE:$24,510 R2:0.8892 Adj R2:0.8521                                             \n",
      "RMSE:$31,839 R2:0.8627 Adj R2:0.8167                                             \n",
      "RMSE:$26,718 R2:0.8493 Adj R2:0.7988                                             \n",
      "The score from this cv is 34,197                                                 \n",
      "RMSE:$30,751 R2:0.8305 Adj R2:0.7738                                             \n",
      "RMSE:$31,263 R2:0.8661 Adj R2:0.8213                                             \n",
      "RMSE:$27,124 R2:0.8591 Adj R2:0.8119                                             \n",
      "RMSE:$43,020 R2:0.7551 Adj R2:0.6731                                             \n",
      "RMSE:$27,792 R2:0.8665 Adj R2:0.8219                                             \n",
      "The score from this cv is 43,020                                                 \n",
      "RMSE:$29,224 R2:0.8714 Adj R2:0.8284                                             \n",
      "RMSE:$32,417 R2:0.8541 Adj R2:0.8053                                             \n",
      "RMSE:$29,158 R2:0.8423 Adj R2:0.7895                                             \n",
      "RMSE:$32,033 R2:0.8190 Adj R2:0.7584                                             \n",
      "RMSE:$29,993 R2:0.8637 Adj R2:0.8181                                             \n",
      "The score from this cv is 32,417                                                 \n",
      "RMSE:$80,435 R2:-0.0000 Adj R2:-0.3349                                           \n",
      "RMSE:$84,707 R2:-0.0037 Adj R2:-0.3398                                           \n",
      "RMSE:$80,295 R2:-0.0005 Adj R2:-0.3356                                           \n",
      "RMSE:$67,971 R2:-0.0033 Adj R2:-0.3393                                           \n",
      "RMSE:$82,730 R2:-0.0000 Adj R2:-0.3349                                           \n",
      "The score from this cv is 84,707                                                 \n",
      "RMSE:$32,341 R2:0.8646 Adj R2:0.8193                                             \n",
      "RMSE:$33,530 R2:0.8347 Adj R2:0.7793                                             \n",
      "RMSE:$35,183 R2:0.7845 Adj R2:0.7124                                             \n",
      "RMSE:$28,149 R2:0.8712 Adj R2:0.8280                                             \n",
      "RMSE:$33,667 R2:0.7759 Adj R2:0.7009                                             \n",
      "The score from this cv is 35,183                                                 \n",
      "RMSE:$84,526 R2:-0.0948 Adj R2:-0.4615                                           \n",
      "RMSE:$84,296 R2:-0.0323 Adj R2:-0.3780                                           \n",
      "RMSE:$77,358 R2:-0.0368 Adj R2:-0.3840                                           \n",
      "RMSE:$92,795 R2:-0.1054 Adj R2:-0.4756                                           \n",
      "RMSE:$66,802 R2:-0.0175 Adj R2:-0.3583                                           \n",
      "The score from this cv is 92,795                                                 \n",
      "RMSE:$37,763 R2:0.8252 Adj R2:0.7667                                             \n",
      "RMSE:$25,551 R2:0.8939 Adj R2:0.8584                                             \n",
      "RMSE:$24,943 R2:0.8842 Adj R2:0.8455                                             \n",
      "RMSE:$32,731 R2:0.8185 Adj R2:0.7577                                             \n",
      "RMSE:$25,609 R2:0.8847 Adj R2:0.8461                                             \n",
      "The score from this cv is 37,763                                                 \n",
      "RMSE:$49,655 R2:0.5740 Adj R2:0.4313                                             \n",
      "RMSE:$24,696 R2:0.8832 Adj R2:0.8440                                             \n",
      "RMSE:$27,330 R2:0.8874 Adj R2:0.8496                                             \n",
      "RMSE:$31,366 R2:0.8729 Adj R2:0.8303                                             \n",
      "RMSE:$27,533 R2:0.8765 Adj R2:0.8352                                             \n",
      "The score from this cv is 49,655                                                 \n",
      "RMSE:$27,717 R2:0.8868 Adj R2:0.8488                                             \n",
      "RMSE:$23,071 R2:0.9039 Adj R2:0.8717                                             \n",
      "RMSE:$29,482 R2:0.8728 Adj R2:0.8302                                             \n",
      "RMSE:$28,901 R2:0.8634 Adj R2:0.8177                                             \n",
      "RMSE:$46,012 R2:0.6610 Adj R2:0.5475                                             \n",
      "The score from this cv is 46,012                                                 \n",
      "RMSE:$28,850 R2:0.8351 Adj R2:0.7798                                             \n",
      "RMSE:$37,849 R2:0.8394 Adj R2:0.7856                                             \n",
      "RMSE:$26,397 R2:0.8735 Adj R2:0.8311                                             \n",
      "RMSE:$27,425 R2:0.8822 Adj R2:0.8427                                             \n",
      "RMSE:$27,934 R2:0.8600 Adj R2:0.8132                                             \n",
      "The score from this cv is 37,849                                                 \n",
      "RMSE:$85,298 R2:-0.0662 Adj R2:-0.4232                                           \n",
      "RMSE:$84,027 R2:-0.0336 Adj R2:-0.3797                                           \n",
      "RMSE:$73,724 R2:-0.0299 Adj R2:-0.3748                                           \n",
      "RMSE:$76,627 R2:-0.0217 Adj R2:-0.3639                                           \n",
      "RMSE:$86,298 R2:-0.1026 Adj R2:-0.4719                                           \n",
      "The score from this cv is 86,298                                                 \n",
      "RMSE:$82,758 R2:-0.0048 Adj R2:-0.3413                                           \n",
      "RMSE:$85,795 R2:-0.0008 Adj R2:-0.3359                                           \n",
      "RMSE:$70,520 R2:-0.0004 Adj R2:-0.3353                                           \n",
      "RMSE:$79,966 R2:-0.0006 Adj R2:-0.3357                                           \n",
      "RMSE:$77,296 R2:-0.0019 Adj R2:-0.3374                                           \n",
      "The score from this cv is 85,795                                                 \n",
      "RMSE:$29,024 R2:0.8680 Adj R2:0.8237                                             \n",
      "RMSE:$32,541 R2:0.8513 Adj R2:0.8015                                             \n",
      "RMSE:$32,878 R2:0.8160 Adj R2:0.7544                                             \n",
      "RMSE:$32,600 R2:0.7497 Adj R2:0.6659                                             \n",
      "RMSE:$31,427 R2:0.8732 Adj R2:0.8308                                             \n",
      "The score from this cv is 32,878                                                 \n",
      "RMSE:$81,568 R2:-0.0659 Adj R2:-0.4229                                           \n",
      "RMSE:$77,415 R2:-0.0829 Adj R2:-0.4455                                           \n",
      "RMSE:$71,358 R2:-0.0297 Adj R2:-0.3745                                           \n",
      "RMSE:$84,981 R2:-0.0355 Adj R2:-0.3822                                           \n",
      "RMSE:$90,872 R2:-0.0572 Adj R2:-0.4112                                           \n",
      "The score from this cv is 90,872                                                 \n",
      "RMSE:$34,380 R2:0.7679 Adj R2:0.6902                                             \n",
      "RMSE:$27,662 R2:0.8882 Adj R2:0.8507                                             \n",
      "RMSE:$36,119 R2:0.7348 Adj R2:0.6460                                             \n",
      "RMSE:$35,147 R2:0.8391 Adj R2:0.7853                                             \n",
      "RMSE:$33,376 R2:0.8382 Adj R2:0.7840                                             \n",
      "The score from this cv is 36,119                                                 \n",
      "RMSE:$76,399 R2:-0.0000 Adj R2:-0.3349                                           \n",
      "RMSE:$85,822 R2:-0.0011 Adj R2:-0.3363                                           \n",
      "RMSE:$84,619 R2:-0.0125 Adj R2:-0.3516                                           \n",
      "RMSE:$75,622 R2:-0.0009 Adj R2:-0.3360                                           \n",
      "RMSE:$74,084 R2:-0.0005 Adj R2:-0.3355                                           \n",
      "The score from this cv is 85,822                                                 \n",
      "RMSE:$175,590 R2:-2.5484 Adj R2:-3.7366                                          \n",
      "RMSE:$160,044 R2:-2.9164 Adj R2:-4.2278                                          \n",
      "RMSE:$161,262 R2:-3.5038 Adj R2:-5.0120                                          \n",
      "RMSE:$161,856 R2:-3.6945 Adj R2:-5.2666                                          \n",
      "RMSE:$161,199 R2:-4.2978 Adj R2:-6.0718                                          \n",
      "The score from this cv is 175,590                                                \n",
      "RMSE:$88,530 R2:-0.0585 Adj R2:-0.4129                                           \n",
      "RMSE:$79,904 R2:-0.0439 Adj R2:-0.3934                                           \n",
      "RMSE:$90,855 R2:-0.1138 Adj R2:-0.4867                                           \n",
      "RMSE:$67,719 R2:-0.0365 Adj R2:-0.3836                                           \n",
      "RMSE:$79,088 R2:-0.0331 Adj R2:-0.3791                                           \n",
      "The score from this cv is 90,855                                                 \n",
      "RMSE:$25,097 R2:0.8926 Adj R2:0.8567                                             \n",
      "RMSE:$28,626 R2:0.8688 Adj R2:0.8248                                             \n",
      "RMSE:$26,636 R2:0.8921 Adj R2:0.8560                                             \n",
      "RMSE:$33,636 R2:0.8489 Adj R2:0.7983                                             \n",
      "RMSE:$28,495 R2:0.8439 Adj R2:0.7916                                             \n",
      "The score from this cv is 33,636                                                 \n",
      "RMSE:$29,605 R2:0.8360 Adj R2:0.7810                                             \n",
      "RMSE:$32,082 R2:0.8083 Adj R2:0.7441                                             \n",
      "RMSE:$34,799 R2:0.8000 Adj R2:0.7330                                             \n",
      "RMSE:$41,605 R2:0.7622 Adj R2:0.6826                                             \n",
      "RMSE:$43,890 R2:0.7416 Adj R2:0.6551                                             \n",
      "The score from this cv is 43,890                                                 \n",
      "RMSE:$160,279 R2:-3.0478 Adj R2:-4.4033                                          \n",
      "RMSE:$146,417 R2:-2.7492 Adj R2:-4.0046                                          \n",
      "RMSE:$163,007 R2:-3.8101 Adj R2:-5.4208                                          \n",
      "RMSE:$161,735 R2:-2.5603 Adj R2:-3.7525                                          \n",
      "RMSE:$166,449 R2:-3.2124 Adj R2:-4.6230                                          \n",
      "The score from this cv is 166,449                                                \n",
      "RMSE:$32,321 R2:0.8034 Adj R2:0.7376                                             \n",
      "RMSE:$29,230 R2:0.8721 Adj R2:0.8293                                             \n",
      "RMSE:$30,347 R2:0.8547 Adj R2:0.8061                                             \n",
      "RMSE:$29,316 R2:0.8607 Adj R2:0.8140                                             \n",
      "RMSE:$31,739 R2:0.8560 Adj R2:0.8077                                             \n",
      "The score from this cv is 32,321                                                 \n",
      "RMSE:$36,302 R2:0.7997 Adj R2:0.7327                                             \n",
      "RMSE:$35,465 R2:0.7789 Adj R2:0.7049                                             \n",
      "RMSE:$46,416 R2:0.7145 Adj R2:0.6189                                             \n",
      "RMSE:$37,289 R2:0.7613 Adj R2:0.6814                                             \n",
      "RMSE:$34,395 R2:0.7989 Adj R2:0.7315                                             \n",
      "The score from this cv is 46,416                                                 \n",
      "RMSE:$67,675 R2:-0.0006 Adj R2:-0.3357                                           \n",
      "RMSE:$88,534 R2:-0.0031 Adj R2:-0.3390                                           \n",
      "RMSE:$82,146 R2:-0.0000 Adj R2:-0.3349                                           \n",
      "RMSE:$80,340 R2:-0.0009 Adj R2:-0.3361                                           \n",
      "RMSE:$77,006 R2:-0.0079 Adj R2:-0.3454                                           \n",
      "The score from this cv is 88,534                                                 \n",
      "RMSE:$160,800 R2:-3.4835 Adj R2:-4.9849                                          \n",
      "RMSE:$156,082 R2:-3.9836 Adj R2:-5.6524                                          \n",
      "RMSE:$165,613 R2:-2.8009 Adj R2:-4.0736                                          \n",
      "RMSE:$164,172 R2:-2.5452 Adj R2:-3.7324                                          \n",
      "RMSE:$157,839 R2:-3.1180 Adj R2:-4.4969                                          \n",
      "The score from this cv is 165,613                                                \n",
      "RMSE:$93,792 R2:-0.1043 Adj R2:-0.4741                                           \n",
      "RMSE:$78,965 R2:-0.0268 Adj R2:-0.3707                                           \n",
      "RMSE:$81,918 R2:-0.0468 Adj R2:-0.3973                                           \n",
      "RMSE:$70,369 R2:-0.0080 Adj R2:-0.3455                                           \n",
      "RMSE:$79,261 R2:-0.0473 Adj R2:-0.3979                                           \n",
      "The score from this cv is 93,792                                                 \n",
      "RMSE:$71,360 R2:-0.0192 Adj R2:-0.3605                                           \n",
      "RMSE:$92,780 R2:-0.0702 Adj R2:-0.4286                                           \n",
      "RMSE:$82,218 R2:-0.0904 Adj R2:-0.4555                                           \n",
      "RMSE:$77,782 R2:-0.0197 Adj R2:-0.3611                                           \n",
      "RMSE:$81,463 R2:-0.0706 Adj R2:-0.4291                                           \n",
      "The score from this cv is 92,780                                                 \n",
      "RMSE:$35,081 R2:0.8226 Adj R2:0.7632                                             \n",
      "RMSE:$30,794 R2:0.8413 Adj R2:0.7881                                             \n",
      "RMSE:$26,594 R2:0.8594 Adj R2:0.8123                                             \n",
      "RMSE:$35,156 R2:0.8411 Adj R2:0.7879                                             \n",
      "RMSE:$32,350 R2:0.8190 Adj R2:0.7584                                             \n",
      "The score from this cv is 35,156                                                 \n",
      "RMSE:$25,143 R2:0.8881 Adj R2:0.8507                                             \n",
      "RMSE:$46,575 R2:0.6430 Adj R2:0.5235                                             \n",
      "RMSE:$29,877 R2:0.8742 Adj R2:0.8320                                             \n",
      "RMSE:$26,561 R2:0.8926 Adj R2:0.8566                                             \n",
      "RMSE:$30,842 R2:0.8437 Adj R2:0.7913                                             \n",
      "The score from this cv is 46,575                                                 \n",
      "RMSE:$158,052 R2:-3.8721 Adj R2:-5.5036                                          \n",
      "RMSE:$164,943 R2:-3.4782 Adj R2:-4.9778                                          \n",
      "RMSE:$154,252 R2:-3.3636 Adj R2:-4.8248                                          \n",
      "RMSE:$179,043 R2:-2.3830 Adj R2:-3.5159                                          \n",
      "RMSE:$153,298 R2:-3.3875 Adj R2:-4.8567                                          \n",
      "The score from this cv is 179,043                                                \n",
      "RMSE:$41,951 R2:0.7668 Adj R2:0.6887                                             \n",
      "RMSE:$42,036 R2:0.7541 Adj R2:0.6718                                             \n",
      "RMSE:$33,291 R2:0.8189 Adj R2:0.7583                                             \n",
      "RMSE:$30,927 R2:0.8257 Adj R2:0.7674                                             \n",
      "RMSE:$35,083 R2:0.7600 Adj R2:0.6796                                             \n",
      "The score from this cv is 42,036                                                 \n",
      "RMSE:$28,054 R2:0.8639 Adj R2:0.8183                                             \n",
      "RMSE:$30,304 R2:0.8639 Adj R2:0.8183                                             \n",
      "RMSE:$29,496 R2:0.8750 Adj R2:0.8331                                             \n",
      "RMSE:$27,672 R2:0.8899 Adj R2:0.8531                                             \n",
      "RMSE:$47,285 R2:0.5582 Adj R2:0.4103                                             \n",
      "The score from this cv is 47,285                                                 \n",
      "RMSE:$84,437 R2:-0.0391 Adj R2:-0.3870                                           \n",
      "RMSE:$91,345 R2:-0.1340 Adj R2:-0.5137                                           \n",
      "RMSE:$73,114 R2:-0.0450 Adj R2:-0.3949                                           \n",
      "RMSE:$80,058 R2:-0.0098 Adj R2:-0.3479                                           \n",
      "RMSE:$77,652 R2:-0.0658 Adj R2:-0.4226                                           \n",
      "The score from this cv is 91,345                                                 \n",
      "RMSE:$21,305 R2:0.9014 Adj R2:0.8684                                             \n",
      "RMSE:$28,293 R2:0.8794 Adj R2:0.8389                                             \n",
      "RMSE:$23,031 R2:0.9131 Adj R2:0.8839                                             \n",
      "RMSE:$34,720 R2:0.8582 Adj R2:0.8108                                             \n",
      "RMSE:$29,632 R2:0.8439 Adj R2:0.7916                                             \n",
      "The score from this cv is 34,720                                                 \n",
      "RMSE:$173,934 R2:-2.7088 Adj R2:-3.9507                                          \n",
      "RMSE:$161,550 R2:-2.7639 Adj R2:-4.0243                                          \n",
      "RMSE:$162,467 R2:-3.5557 Adj R2:-5.0812                                          \n",
      "RMSE:$160,695 R2:-3.5963 Adj R2:-5.1354                                          \n",
      "RMSE:$155,127 R2:-3.8363 Adj R2:-5.4558                                          \n",
      "The score from this cv is 173,934                                                \n",
      "RMSE:$76,220 R2:-0.0019 Adj R2:-0.3374                                           \n",
      "RMSE:$78,014 R2:-0.0064 Adj R2:-0.3434                                           \n",
      "RMSE:$84,613 R2:-0.0024 Adj R2:-0.3381                                           \n",
      "RMSE:$72,297 R2:-0.0018 Adj R2:-0.3372                                           \n",
      "RMSE:$85,279 R2:-0.0004 Adj R2:-0.3354                                           \n",
      "The score from this cv is 85,279                                                 \n",
      "RMSE:$44,512 R2:0.7366 Adj R2:0.6484                                             \n",
      "RMSE:$40,659 R2:0.7339 Adj R2:0.6448                                             \n",
      "RMSE:$30,093 R2:0.8152 Adj R2:0.7533                                             \n",
      "RMSE:$33,146 R2:0.8063 Adj R2:0.7414                                             \n",
      "RMSE:$43,932 R2:0.7322 Adj R2:0.6426                                             \n",
      "The score from this cv is 44,512                                                 \n",
      "RMSE:$86,965 R2:-0.0072 Adj R2:-0.3445                                           \n",
      "RMSE:$74,385 R2:-0.0010 Adj R2:-0.3362                                           \n",
      "RMSE:$76,568 R2:-0.0033 Adj R2:-0.3393                                           \n",
      "RMSE:$81,253 R2:-0.0006 Adj R2:-0.3357                                           \n",
      "RMSE:$77,397 R2:-0.0008 Adj R2:-0.3359                                           \n",
      "The score from this cv is 86,965                                                 \n",
      "RMSE:$24,120 R2:0.8958 Adj R2:0.8609                                             \n",
      "RMSE:$28,074 R2:0.8673 Adj R2:0.8228                                             \n",
      "RMSE:$46,950 R2:0.6664 Adj R2:0.5547                                             \n",
      "RMSE:$28,397 R2:0.8724 Adj R2:0.8297                                             \n",
      "RMSE:$28,617 R2:0.8828 Adj R2:0.8435                                             \n",
      "The score from this cv is 46,950                                                 \n",
      "RMSE:$81,188 R2:-0.0530 Adj R2:-0.4056                                           \n",
      "RMSE:$84,130 R2:-0.1074 Adj R2:-0.4782                                           \n",
      "RMSE:$84,554 R2:-0.0514 Adj R2:-0.4035                                           \n",
      "RMSE:$75,525 R2:-0.0122 Adj R2:-0.3512                                           \n",
      "RMSE:$82,338 R2:-0.0658 Adj R2:-0.4227                                           \n",
      "The score from this cv is 84,554                                                 \n",
      "RMSE:$33,436 R2:0.7671 Adj R2:0.6891                                             \n",
      "RMSE:$35,016 R2:0.8509 Adj R2:0.8010                                             \n",
      "RMSE:$31,645 R2:0.8801 Adj R2:0.8400                                             \n",
      "RMSE:$31,419 R2:0.7934 Adj R2:0.7243                                             \n",
      "RMSE:$27,705 R2:0.8548 Adj R2:0.8061                                             \n",
      "The score from this cv is 35,016                                                 \n",
      "RMSE:$149,180 R2:-2.2310 Adj R2:-3.3130                                          \n",
      "RMSE:$154,520 R2:-2.6894 Adj R2:-3.9248                                          \n",
      "RMSE:$152,977 R2:-3.4224 Adj R2:-4.9033                                          \n",
      "RMSE:$152,767 R2:-2.8400 Adj R2:-4.1259                                          \n",
      "RMSE:$164,691 R2:-2.9925 Adj R2:-4.3295                                          \n",
      "The score from this cv is 164,691                                                \n",
      "RMSE:$26,312 R2:0.8958 Adj R2:0.8610                                             \n",
      "RMSE:$28,664 R2:0.8578 Adj R2:0.8102                                             \n",
      "RMSE:$31,264 R2:0.8326 Adj R2:0.7766                                             \n",
      "RMSE:$28,079 R2:0.8627 Adj R2:0.8167                                             \n",
      "RMSE:$26,481 R2:0.9060 Adj R2:0.8745                                             \n",
      "The score from this cv is 31,264                                                 \n",
      "RMSE:$30,107 R2:0.8144 Adj R2:0.7523                                             \n",
      "RMSE:$45,482 R2:0.7141 Adj R2:0.6183                                             \n",
      "RMSE:$45,147 R2:0.6747 Adj R2:0.5658                                             \n",
      "RMSE:$48,801 R2:0.6656 Adj R2:0.5537                                             \n",
      "RMSE:$34,343 R2:0.7970 Adj R2:0.7290                                             \n",
      "The score from this cv is 48,801                                                 \n",
      "RMSE:$74,317 R2:-0.0012 Adj R2:-0.3365                                           \n",
      "RMSE:$81,296 R2:-0.0001 Adj R2:-0.3350                                           \n",
      "RMSE:$70,010 R2:-0.0105 Adj R2:-0.3488                                           \n",
      "RMSE:$86,947 R2:-0.0072 Adj R2:-0.3445                                           \n",
      "RMSE:$83,566 R2:-0.0002 Adj R2:-0.3352                                           \n",
      "The score from this cv is 86,947                                                 \n",
      "RMSE:$29,165 R2:0.8558 Adj R2:0.8075                                             \n",
      "RMSE:$24,945 R2:0.9028 Adj R2:0.8703                                             \n",
      "RMSE:$29,905 R2:0.8602 Adj R2:0.8134                                             \n",
      "RMSE:$32,231 R2:0.8583 Adj R2:0.8108                                             \n",
      "RMSE:$25,065 R2:0.8844 Adj R2:0.8456                                             \n",
      "The score from this cv is 32,231                                                 \n",
      "RMSE:$31,571 R2:0.8801 Adj R2:0.8399                                             \n",
      "RMSE:$27,414 R2:0.8734 Adj R2:0.8310                                             \n",
      "RMSE:$30,010 R2:0.8383 Adj R2:0.7841                                             \n",
      "RMSE:$29,170 R2:0.8759 Adj R2:0.8343                                             \n",
      "RMSE:$23,110 R2:0.8889 Adj R2:0.8516                                             \n",
      "The score from this cv is 31,571                                                 \n",
      "RMSE:$25,854 R2:0.8937 Adj R2:0.8581                                             \n",
      "RMSE:$31,730 R2:0.8643 Adj R2:0.8189                                             \n",
      "RMSE:$22,200 R2:0.9053 Adj R2:0.8736                                             \n",
      "RMSE:$30,765 R2:0.8735 Adj R2:0.8311                                             \n",
      "RMSE:$29,045 R2:0.8342 Adj R2:0.7787                                             \n",
      "The score from this cv is 31,730                                                 \n",
      "RMSE:$35,630 R2:0.8528 Adj R2:0.8035                                             \n",
      "RMSE:$28,112 R2:0.8587 Adj R2:0.8114                                             \n",
      "RMSE:$26,227 R2:0.9062 Adj R2:0.8748                                             \n",
      "RMSE:$23,192 R2:0.8856 Adj R2:0.8473                                             \n",
      "RMSE:$24,649 R2:0.8814 Adj R2:0.8417                                             \n",
      "The score from this cv is 35,630                                                 \n",
      "RMSE:$26,010 R2:0.8950 Adj R2:0.8598                                             \n",
      "RMSE:$31,479 R2:0.8550 Adj R2:0.8065                                             \n",
      "RMSE:$28,973 R2:0.8605 Adj R2:0.8138                                             \n",
      "RMSE:$24,125 R2:0.8982 Adj R2:0.8641                                             \n",
      "RMSE:$29,042 R2:0.8700 Adj R2:0.8264                                             \n",
      "The score from this cv is 31,479                                                 \n",
      "RMSE:$30,239 R2:0.8641 Adj R2:0.8186                                             \n",
      "RMSE:$27,834 R2:0.8625 Adj R2:0.8165                                             \n",
      "RMSE:$23,438 R2:0.8774 Adj R2:0.8364                                             \n",
      "RMSE:$37,663 R2:0.8513 Adj R2:0.8016                                             \n",
      "RMSE:$23,085 R2:0.8936 Adj R2:0.8580                                             \n",
      "The score from this cv is 37,663                                                 \n",
      "RMSE:$35,101 R2:0.8311 Adj R2:0.7746                                             \n",
      "RMSE:$23,832 R2:0.8964 Adj R2:0.8617                                             \n",
      "RMSE:$28,683 R2:0.8565 Adj R2:0.8085                                             \n",
      "RMSE:$26,905 R2:0.8784 Adj R2:0.8377                                             \n",
      "RMSE:$28,978 R2:0.8796 Adj R2:0.8393                                             \n",
      "The score from this cv is 35,101                                                 \n",
      "RMSE:$22,989 R2:0.9006 Adj R2:0.8673                                             \n",
      "RMSE:$32,050 R2:0.8170 Adj R2:0.7557                                             \n",
      "RMSE:$31,293 R2:0.8396 Adj R2:0.7859                                             \n",
      "RMSE:$30,735 R2:0.8576 Adj R2:0.8099                                             \n",
      "RMSE:$33,904 R2:0.8521 Adj R2:0.8026                                             \n",
      "The score from this cv is 33,904                                                 \n",
      "RMSE:$89,360 R2:-0.0553 Adj R2:-0.4087                                           \n",
      "RMSE:$73,334 R2:-0.0468 Adj R2:-0.3973                                           \n",
      "RMSE:$84,684 R2:-0.0616 Adj R2:-0.4171                                           \n",
      "RMSE:$83,406 R2:-0.0555 Adj R2:-0.4089                                           \n",
      "RMSE:$75,327 R2:-0.0399 Adj R2:-0.3881                                           \n",
      "The score from this cv is 89,360                                                 \n",
      "RMSE:$27,683 R2:0.8636 Adj R2:0.8180                                             \n",
      "RMSE:$31,080 R2:0.8610 Adj R2:0.8144                                             \n",
      "RMSE:$27,932 R2:0.8723 Adj R2:0.8295                                             \n",
      "RMSE:$26,822 R2:0.8812 Adj R2:0.8415                                             \n",
      "RMSE:$27,667 R2:0.8872 Adj R2:0.8494                                             \n",
      "The score from this cv is 31,080                                                 \n",
      "RMSE:$26,120 R2:0.8878 Adj R2:0.8502                                             \n",
      "RMSE:$27,428 R2:0.8680 Adj R2:0.8237                                             \n",
      "RMSE:$46,264 R2:0.7348 Adj R2:0.6460                                             \n",
      "RMSE:$24,049 R2:0.8904 Adj R2:0.8537                                             \n",
      "RMSE:$26,891 R2:0.8852 Adj R2:0.8467                                             \n",
      "The score from this cv is 46,264                                                 \n",
      "RMSE:$27,256 R2:0.8913 Adj R2:0.8549                                             \n",
      "RMSE:$32,468 R2:0.8611 Adj R2:0.8146                                             \n",
      "RMSE:$29,855 R2:0.8598 Adj R2:0.8129                                             \n",
      "RMSE:$28,179 R2:0.8723 Adj R2:0.8295                                             \n",
      "RMSE:$26,534 R2:0.8434 Adj R2:0.7910                                             \n",
      "The score from this cv is 32,468                                                 \n",
      "RMSE:$166,023 R2:-3.1745 Adj R2:-4.5724                                          \n",
      "RMSE:$176,169 R2:-3.1376 Adj R2:-4.5232                                          \n",
      "RMSE:$158,837 R2:-3.1322 Adj R2:-4.5159                                          \n",
      "RMSE:$164,389 R2:-3.1502 Adj R2:-4.5399                                          \n",
      "RMSE:$150,229 R2:-3.8685 Adj R2:-5.4987                                          \n",
      "The score from this cv is 176,169                                                \n",
      "RMSE:$75,571 R2:-0.0003 Adj R2:-0.3353                                           \n",
      "RMSE:$86,426 R2:-0.0001 Adj R2:-0.3350                                           \n",
      "RMSE:$82,144 R2:-0.0000 Adj R2:-0.3349                                           \n",
      "RMSE:$77,706 R2:-0.0001 Adj R2:-0.3351                                           \n",
      "RMSE:$74,644 R2:-0.0008 Adj R2:-0.3360                                           \n",
      "The score from this cv is 86,426                                                 \n",
      "RMSE:$27,493 R2:0.8569 Adj R2:0.8090                                             \n",
      "RMSE:$40,133 R2:0.7526 Adj R2:0.6698                                             \n",
      "RMSE:$49,310 R2:0.6922 Adj R2:0.5891                                             \n",
      "RMSE:$32,148 R2:0.8202 Adj R2:0.7601                                             \n",
      "RMSE:$32,202 R2:0.8285 Adj R2:0.7711                                             \n",
      "The score from this cv is 49,310                                                 \n",
      "RMSE:$80,210 R2:-0.0397 Adj R2:-0.3879                                           \n",
      "RMSE:$82,457 R2:-0.0266 Adj R2:-0.3703                                           \n",
      "RMSE:$96,085 R2:-0.0762 Adj R2:-0.4366                                           \n",
      "RMSE:$71,657 R2:-0.0519 Adj R2:-0.4042                                           \n",
      "RMSE:$74,302 R2:-0.0614 Adj R2:-0.4169                                           \n",
      "The score from this cv is 96,085                                                 \n",
      "RMSE:$34,475 R2:0.8627 Adj R2:0.8167                                             \n",
      "RMSE:$50,608 R2:0.6532 Adj R2:0.5370                                             \n",
      "RMSE:$26,207 R2:0.8577 Adj R2:0.8101                                             \n",
      "RMSE:$24,419 R2:0.8765 Adj R2:0.8351                                             \n",
      "RMSE:$26,815 R2:0.8726 Adj R2:0.8300                                             \n",
      "The score from this cv is 50,608                                                 \n",
      "RMSE:$32,680 R2:0.8499 Adj R2:0.7997                                             \n",
      "RMSE:$30,608 R2:0.8436 Adj R2:0.7912                                             \n",
      "RMSE:$27,055 R2:0.8635 Adj R2:0.8177                                             \n",
      "RMSE:$29,604 R2:0.8859 Adj R2:0.8478                                             \n",
      "RMSE:$30,599 R2:0.8237 Adj R2:0.7646                                             \n",
      "The score from this cv is 32,680                                                 \n",
      "RMSE:$27,815 R2:0.8879 Adj R2:0.8504                                             \n",
      "RMSE:$30,162 R2:0.8160 Adj R2:0.7544                                             \n",
      "RMSE:$31,254 R2:0.8900 Adj R2:0.8532                                             \n",
      "RMSE:$25,907 R2:0.8642 Adj R2:0.8187                                             \n",
      "RMSE:$31,409 R2:0.8238 Adj R2:0.7648                                             \n",
      "The score from this cv is 31,409                                                 \n",
      "RMSE:$155,358 R2:-2.8700 Adj R2:-4.1659                                          \n",
      "RMSE:$170,497 R2:-2.7585 Adj R2:-4.0171                                          \n",
      "RMSE:$160,277 R2:-4.0042 Adj R2:-5.6799                                          \n",
      "RMSE:$154,115 R2:-2.7016 Adj R2:-3.9411                                          \n",
      "RMSE:$156,261 R2:-3.0864 Adj R2:-4.4548                                          \n",
      "The score from this cv is 170,497                                                \n",
      "RMSE:$24,981 R2:0.8901 Adj R2:0.8533                                             \n",
      "RMSE:$25,842 R2:0.8570 Adj R2:0.8091                                             \n",
      "RMSE:$41,149 R2:0.7487 Adj R2:0.6646                                             \n",
      "RMSE:$33,581 R2:0.8083 Adj R2:0.7441                                             \n",
      "RMSE:$46,938 R2:0.7403 Adj R2:0.6533                                             \n",
      "The score from this cv is 46,938                                                 \n",
      "RMSE:$27,737 R2:0.8534 Adj R2:0.8042                                             \n",
      "RMSE:$36,397 R2:0.8462 Adj R2:0.7947                                             \n",
      "RMSE:$24,671 R2:0.8798 Adj R2:0.8396                                             \n",
      "RMSE:$31,738 R2:0.8612 Adj R2:0.8147                                             \n",
      "RMSE:$33,977 R2:0.7820 Adj R2:0.7090                                             \n",
      "The score from this cv is 36,397                                                 \n",
      "RMSE:$74,616 R2:-0.0291 Adj R2:-0.3737                                           \n",
      "RMSE:$80,234 R2:-0.0239 Adj R2:-0.3667                                           \n",
      "RMSE:$91,518 R2:-0.0855 Adj R2:-0.4490                                           \n",
      "RMSE:$80,421 R2:-0.0773 Adj R2:-0.4380                                           \n",
      "RMSE:$80,048 R2:-0.0646 Adj R2:-0.4211                                           \n",
      "The score from this cv is 91,518                                                 \n",
      "RMSE:$70,768 R2:-0.0003 Adj R2:-0.3352                                           \n",
      "RMSE:$76,436 R2:-0.0002 Adj R2:-0.3351                                           \n",
      "RMSE:$90,872 R2:-0.0001 Adj R2:-0.3349                                           \n",
      "RMSE:$82,549 R2:-0.0031 Adj R2:-0.3391                                           \n",
      "RMSE:$75,053 R2:-0.0005 Adj R2:-0.3355                                           \n",
      "The score from this cv is 90,872                                                 \n",
      "RMSE:$26,330 R2:0.8745 Adj R2:0.8325                                             \n",
      "RMSE:$22,598 R2:0.8968 Adj R2:0.8623                                             \n",
      "RMSE:$33,575 R2:0.8506 Adj R2:0.8005                                             \n",
      "RMSE:$31,128 R2:0.8736 Adj R2:0.8313                                             \n",
      "RMSE:$47,807 R2:0.5978 Adj R2:0.4631                                             \n",
      "The score from this cv is 47,807                                                 \n",
      "RMSE:$159,046 R2:-3.3694 Adj R2:-4.8326                                          \n",
      "RMSE:$158,243 R2:-3.1408 Adj R2:-4.5273                                          \n",
      "RMSE:$158,260 R2:-3.3426 Adj R2:-4.7968                                          \n",
      "RMSE:$164,545 R2:-2.8658 Adj R2:-4.1603                                          \n",
      "RMSE:$163,821 R2:-2.8835 Adj R2:-4.1840                                          \n",
      "The score from this cv is 164,545                                                \n",
      "RMSE:$31,586 R2:0.8079 Adj R2:0.7436                                             \n",
      "RMSE:$24,988 R2:0.8837 Adj R2:0.8448                                             \n",
      "RMSE:$41,345 R2:0.8050 Adj R2:0.7396                                             \n",
      "RMSE:$32,145 R2:0.8602 Adj R2:0.8134                                             \n",
      "RMSE:$27,483 R2:0.8377 Adj R2:0.7834                                             \n",
      "The score from this cv is 41,345                                                 \n",
      "RMSE:$79,046 R2:-0.0551 Adj R2:-0.4085                                           \n",
      "RMSE:$81,069 R2:-0.0752 Adj R2:-0.4353                                           \n",
      "RMSE:$86,182 R2:-0.0712 Adj R2:-0.4299                                           \n",
      "RMSE:$88,867 R2:-0.0556 Adj R2:-0.4090                                           \n",
      "RMSE:$71,530 R2:-0.0153 Adj R2:-0.3552                                           \n",
      "The score from this cv is 88,867                                                 \n",
      "RMSE:$77,922 R2:-0.0300 Adj R2:-0.3749                                           \n",
      "RMSE:$93,578 R2:-0.0834 Adj R2:-0.4462                                           \n",
      "RMSE:$74,363 R2:-0.0444 Adj R2:-0.3942                                           \n",
      "RMSE:$80,595 R2:-0.0468 Adj R2:-0.3973                                           \n",
      "RMSE:$79,758 R2:-0.0615 Adj R2:-0.4170                                           \n",
      "The score from this cv is 93,578                                                 \n",
      "RMSE:$84,450 R2:-0.0056 Adj R2:-0.3424                                           \n",
      "RMSE:$76,625 R2:-0.0093 Adj R2:-0.3473                                           \n",
      "RMSE:$84,063 R2:-0.0035 Adj R2:-0.3395                                           \n",
      "RMSE:$72,818 R2:-0.0140 Adj R2:-0.3536                                           \n",
      "RMSE:$79,051 R2:-0.0003 Adj R2:-0.3353                                           \n",
      "The score from this cv is 84,450                                                 \n",
      "RMSE:$22,031 R2:0.9046 Adj R2:0.8726                                             \n",
      "RMSE:$31,002 R2:0.8525 Adj R2:0.8031                                             \n",
      "RMSE:$26,984 R2:0.8743 Adj R2:0.8322                                             \n",
      "RMSE:$25,642 R2:0.8939 Adj R2:0.8583                                             \n",
      "RMSE:$31,258 R2:0.8770 Adj R2:0.8358                                             \n",
      "The score from this cv is 31,258                                                 \n",
      "RMSE:$49,353 R2:0.6707 Adj R2:0.5604                                             \n",
      "RMSE:$25,984 R2:0.8615 Adj R2:0.8151                                             \n",
      "RMSE:$26,720 R2:0.8953 Adj R2:0.8602                                             \n",
      "RMSE:$28,967 R2:0.8667 Adj R2:0.8221                                             \n",
      "RMSE:$24,550 R2:0.9018 Adj R2:0.8689                                             \n",
      "The score from this cv is 49,353                                                 \n",
      "RMSE:$165,609 R2:-2.5591 Adj R2:-3.7509                                          \n",
      "RMSE:$159,688 R2:-3.4655 Adj R2:-4.9608                                          \n",
      "RMSE:$160,331 R2:-3.1498 Adj R2:-4.5394                                          \n",
      "RMSE:$161,552 R2:-3.0488 Adj R2:-4.4046                                          \n",
      "RMSE:$157,709 R2:-3.5693 Adj R2:-5.0994                                          \n",
      "The score from this cv is 165,609                                                \n",
      "RMSE:$24,470 R2:0.8906 Adj R2:0.8539                                             \n",
      "RMSE:$33,500 R2:0.8405 Adj R2:0.7872                                             \n",
      "RMSE:$26,838 R2:0.8785 Adj R2:0.8378                                             \n",
      "RMSE:$49,262 R2:0.6257 Adj R2:0.5004                                             \n",
      "RMSE:$25,817 R2:0.8984 Adj R2:0.8644                                             \n",
      "The score from this cv is 49,262                                                 \n",
      "RMSE:$89,809 R2:-0.0485 Adj R2:-0.3996                                           \n",
      "RMSE:$72,809 R2:-0.0465 Adj R2:-0.3969                                           \n",
      "RMSE:$76,105 R2:-0.0555 Adj R2:-0.4089                                           \n",
      "RMSE:$89,433 R2:-0.1005 Adj R2:-0.4690                                           \n",
      "RMSE:$78,007 R2:-0.0255 Adj R2:-0.3690                                           \n",
      "The score from this cv is 89,809                                                 \n",
      "100%|██████████| 100/100 [10:23<00:00,  6.23s/trial, best loss: 29508.65666836545]\n"
     ]
    }
   ],
   "source": [
    "hpdict1=hpdict_opt(objective_cv,hpdict)"
   ]
  },
  {
   "cell_type": "code",
   "execution_count": 97,
   "metadata": {},
   "outputs": [
    {
     "data": {
      "text/plain": [
       "{'alpha': 1.2585688032700096e-05,\n",
       " 'ccp_alpha': 41.63808338408212,\n",
       " 'criterion': 1,\n",
       " 'learning_rate': 0.21124025532897286,\n",
       " 'loss': 0,\n",
       " 'max_depth': 2.0,\n",
       " 'min_impurity_decrease': 39.83909504584152,\n",
       " 'min_samples_split': 0.16824141830502523,\n",
       " 'min_weight_fraction_leaf': 0.04728817054820532,\n",
       " 'n_estimators': 1161.0,\n",
       " 'subsample': 0.33829276356150506}"
      ]
     },
     "execution_count": 97,
     "metadata": {},
     "output_type": "execute_result"
    }
   ],
   "source": [
    "hpdict1"
   ]
  },
  {
   "cell_type": "code",
   "execution_count": 98,
   "metadata": {},
   "outputs": [
    {
     "name": "stdout",
     "output_type": "stream",
     "text": [
      "\n",
      "feat number: 43 \n",
      " features used: ['MSSubClass' 'OverallQual' 'OverallCond' 'ExterQual' 'KitchenQual'\n",
      " 'BsmtQual' 'YearBuilt' 'YearRemodAdd' 'MoSold' 'BsmtFullBath' 'FullBath'\n",
      " 'HalfBath' 'BedroomAbvGr' 'KitchenAbvGr' 'TotRmsAbvGrd' 'Fireplaces'\n",
      " 'GarageYrBlt' 'LotFrontage' 'LotArea' 'MasVnrArea' 'BsmtFinSF1'\n",
      " 'BsmtFinSF2' 'BsmtUnfSF' 'TotalBsmtSF' '1stFlrSF' '2ndFlrSF' 'GrLivArea'\n",
      " 'GarageCars' 'GarageArea' 'WoodDeckSF' 'OpenPorchSF' 'ScreenPorch'\n",
      " 'MSZoning' 'LotConfig' 'Neighborhood' 'Condition1' 'HouseStyle'\n",
      " 'Exterior1st' 'Exterior2nd' 'BsmtFinType1' 'Functional' 'GarageFinish'\n",
      " 'SaleCondition']\n"
     ]
    }
   ],
   "source": [
    "hp_gbr_model=fit_para(gbr_space,hpdict1)\n",
    "hp_gbr_model.fit(x3_tr,y2_tr)\n",
    "print('\\nfeat number:',hp_gbr_model.n_features_in_,'\\n features used:',hp_gbr_model.feature_names_in_)"
   ]
  },
  {
   "cell_type": "code",
   "execution_count": 99,
   "metadata": {},
   "outputs": [
    {
     "name": "stdout",
     "output_type": "stream",
     "text": [
      "RMSE:$11,443 R2:0.9786 Adj R2:0.9777\n"
     ]
    }
   ],
   "source": [
    "reg_result(hp_gbr_model,x3_tr,y2_tr)"
   ]
  },
  {
   "cell_type": "code",
   "execution_count": 100,
   "metadata": {},
   "outputs": [
    {
     "name": "stdout",
     "output_type": "stream",
     "text": [
      "RMSE:$27,607 R2:0.8879 Adj R2:0.8659\n"
     ]
    }
   ],
   "source": [
    "reg_result(hp_gbr_model,x3_val,y2_val)"
   ]
  },
  {
   "cell_type": "code",
   "execution_count": 101,
   "metadata": {},
   "outputs": [
    {
     "name": "stdout",
     "output_type": "stream",
     "text": [
      "RMSE:$30,399 R2:0.8637 Adj R2:0.8063\n"
     ]
    }
   ],
   "source": [
    "reg_result(hp_gbr_model,x3_tst,y2_tst)"
   ]
  },
  {
   "cell_type": "code",
   "execution_count": 102,
   "metadata": {},
   "outputs": [],
   "source": [
    "feat_imp,shap_values=global_shap_importance(hp_gbr_model,x3_tr)"
   ]
  },
  {
   "cell_type": "code",
   "execution_count": 103,
   "metadata": {},
   "outputs": [
    {
     "data": {
      "application/vnd.plotly.v1+json": {
       "config": {
        "plotlyServerURL": "https://plot.ly"
       },
       "data": [
        {
         "name": "SHAP Importance",
         "type": "bar",
         "x": [
          "OverallQual",
          "GrLivArea",
          "TotalBsmtSF",
          "YearBuilt",
          "LotArea",
          "BsmtFinSF1",
          "OverallCond",
          "GarageCars",
          "GarageYrBlt",
          "Neighborhood",
          "1stFlrSF",
          "GarageArea",
          "MSSubClass",
          "YearRemodAdd",
          "2ndFlrSF",
          "Exterior1st",
          "Fireplaces",
          "BsmtUnfSF",
          "OpenPorchSF",
          "KitchenQual",
          "LotFrontage",
          "Condition1",
          "WoodDeckSF",
          "SaleCondition",
          "BsmtFullBath",
          "MasVnrArea",
          "ExterQual",
          "KitchenAbvGr",
          "MoSold",
          "HalfBath",
          "FullBath",
          "HouseStyle",
          "TotRmsAbvGrd",
          "GarageFinish",
          "MSZoning",
          "Exterior2nd",
          "BsmtQual",
          "ScreenPorch",
          "LotConfig",
          "BedroomAbvGr",
          "BsmtFinType1",
          "Functional",
          "BsmtFinSF2"
         ],
         "y": [
          0.1279150042835855,
          0.10521365250436727,
          0.0787186424367592,
          0.05009079556167083,
          0.041918401312749355,
          0.04104460595526262,
          0.038308599664427415,
          0.036185918004514143,
          0.03197633985275864,
          0.028584522646617812,
          0.023436531821217327,
          0.02310909978373506,
          0.022990005017192023,
          0.021766337482060548,
          0.0204242327422019,
          0.0193998579690466,
          0.01919390380326566,
          0.018127782110073477,
          0.015806654107467007,
          0.014947548954069394,
          0.014912002193389326,
          0.014288375795030976,
          0.013070591288063984,
          0.012650894069476257,
          0.012643957029422179,
          0.012117703617413288,
          0.011388108779337752,
          0.011256909197952834,
          0.010988059500211934,
          0.010937235306650831,
          0.010612959171417,
          0.00969624812311128,
          0.009441282503616465,
          0.008649645034860752,
          0.008627343013119104,
          0.008570246554181649,
          0.008162967944430482,
          0.007965603588010536,
          0.0074022238583776895,
          0.005512514797148047,
          0.004907780255960205,
          0.0037982949505071056,
          0.0032406174152684705
         ]
        }
       ],
       "layout": {
        "template": {
         "data": {
          "bar": [
           {
            "error_x": {
             "color": "#2a3f5f"
            },
            "error_y": {
             "color": "#2a3f5f"
            },
            "marker": {
             "line": {
              "color": "#E5ECF6",
              "width": 0.5
             },
             "pattern": {
              "fillmode": "overlay",
              "size": 10,
              "solidity": 0.2
             }
            },
            "type": "bar"
           }
          ],
          "barpolar": [
           {
            "marker": {
             "line": {
              "color": "#E5ECF6",
              "width": 0.5
             },
             "pattern": {
              "fillmode": "overlay",
              "size": 10,
              "solidity": 0.2
             }
            },
            "type": "barpolar"
           }
          ],
          "carpet": [
           {
            "aaxis": {
             "endlinecolor": "#2a3f5f",
             "gridcolor": "white",
             "linecolor": "white",
             "minorgridcolor": "white",
             "startlinecolor": "#2a3f5f"
            },
            "baxis": {
             "endlinecolor": "#2a3f5f",
             "gridcolor": "white",
             "linecolor": "white",
             "minorgridcolor": "white",
             "startlinecolor": "#2a3f5f"
            },
            "type": "carpet"
           }
          ],
          "choropleth": [
           {
            "colorbar": {
             "outlinewidth": 0,
             "ticks": ""
            },
            "type": "choropleth"
           }
          ],
          "contour": [
           {
            "colorbar": {
             "outlinewidth": 0,
             "ticks": ""
            },
            "colorscale": [
             [
              0,
              "#0d0887"
             ],
             [
              0.1111111111111111,
              "#46039f"
             ],
             [
              0.2222222222222222,
              "#7201a8"
             ],
             [
              0.3333333333333333,
              "#9c179e"
             ],
             [
              0.4444444444444444,
              "#bd3786"
             ],
             [
              0.5555555555555556,
              "#d8576b"
             ],
             [
              0.6666666666666666,
              "#ed7953"
             ],
             [
              0.7777777777777778,
              "#fb9f3a"
             ],
             [
              0.8888888888888888,
              "#fdca26"
             ],
             [
              1,
              "#f0f921"
             ]
            ],
            "type": "contour"
           }
          ],
          "contourcarpet": [
           {
            "colorbar": {
             "outlinewidth": 0,
             "ticks": ""
            },
            "type": "contourcarpet"
           }
          ],
          "heatmap": [
           {
            "colorbar": {
             "outlinewidth": 0,
             "ticks": ""
            },
            "colorscale": [
             [
              0,
              "#0d0887"
             ],
             [
              0.1111111111111111,
              "#46039f"
             ],
             [
              0.2222222222222222,
              "#7201a8"
             ],
             [
              0.3333333333333333,
              "#9c179e"
             ],
             [
              0.4444444444444444,
              "#bd3786"
             ],
             [
              0.5555555555555556,
              "#d8576b"
             ],
             [
              0.6666666666666666,
              "#ed7953"
             ],
             [
              0.7777777777777778,
              "#fb9f3a"
             ],
             [
              0.8888888888888888,
              "#fdca26"
             ],
             [
              1,
              "#f0f921"
             ]
            ],
            "type": "heatmap"
           }
          ],
          "heatmapgl": [
           {
            "colorbar": {
             "outlinewidth": 0,
             "ticks": ""
            },
            "colorscale": [
             [
              0,
              "#0d0887"
             ],
             [
              0.1111111111111111,
              "#46039f"
             ],
             [
              0.2222222222222222,
              "#7201a8"
             ],
             [
              0.3333333333333333,
              "#9c179e"
             ],
             [
              0.4444444444444444,
              "#bd3786"
             ],
             [
              0.5555555555555556,
              "#d8576b"
             ],
             [
              0.6666666666666666,
              "#ed7953"
             ],
             [
              0.7777777777777778,
              "#fb9f3a"
             ],
             [
              0.8888888888888888,
              "#fdca26"
             ],
             [
              1,
              "#f0f921"
             ]
            ],
            "type": "heatmapgl"
           }
          ],
          "histogram": [
           {
            "marker": {
             "pattern": {
              "fillmode": "overlay",
              "size": 10,
              "solidity": 0.2
             }
            },
            "type": "histogram"
           }
          ],
          "histogram2d": [
           {
            "colorbar": {
             "outlinewidth": 0,
             "ticks": ""
            },
            "colorscale": [
             [
              0,
              "#0d0887"
             ],
             [
              0.1111111111111111,
              "#46039f"
             ],
             [
              0.2222222222222222,
              "#7201a8"
             ],
             [
              0.3333333333333333,
              "#9c179e"
             ],
             [
              0.4444444444444444,
              "#bd3786"
             ],
             [
              0.5555555555555556,
              "#d8576b"
             ],
             [
              0.6666666666666666,
              "#ed7953"
             ],
             [
              0.7777777777777778,
              "#fb9f3a"
             ],
             [
              0.8888888888888888,
              "#fdca26"
             ],
             [
              1,
              "#f0f921"
             ]
            ],
            "type": "histogram2d"
           }
          ],
          "histogram2dcontour": [
           {
            "colorbar": {
             "outlinewidth": 0,
             "ticks": ""
            },
            "colorscale": [
             [
              0,
              "#0d0887"
             ],
             [
              0.1111111111111111,
              "#46039f"
             ],
             [
              0.2222222222222222,
              "#7201a8"
             ],
             [
              0.3333333333333333,
              "#9c179e"
             ],
             [
              0.4444444444444444,
              "#bd3786"
             ],
             [
              0.5555555555555556,
              "#d8576b"
             ],
             [
              0.6666666666666666,
              "#ed7953"
             ],
             [
              0.7777777777777778,
              "#fb9f3a"
             ],
             [
              0.8888888888888888,
              "#fdca26"
             ],
             [
              1,
              "#f0f921"
             ]
            ],
            "type": "histogram2dcontour"
           }
          ],
          "mesh3d": [
           {
            "colorbar": {
             "outlinewidth": 0,
             "ticks": ""
            },
            "type": "mesh3d"
           }
          ],
          "parcoords": [
           {
            "line": {
             "colorbar": {
              "outlinewidth": 0,
              "ticks": ""
             }
            },
            "type": "parcoords"
           }
          ],
          "pie": [
           {
            "automargin": true,
            "type": "pie"
           }
          ],
          "scatter": [
           {
            "fillpattern": {
             "fillmode": "overlay",
             "size": 10,
             "solidity": 0.2
            },
            "type": "scatter"
           }
          ],
          "scatter3d": [
           {
            "line": {
             "colorbar": {
              "outlinewidth": 0,
              "ticks": ""
             }
            },
            "marker": {
             "colorbar": {
              "outlinewidth": 0,
              "ticks": ""
             }
            },
            "type": "scatter3d"
           }
          ],
          "scattercarpet": [
           {
            "marker": {
             "colorbar": {
              "outlinewidth": 0,
              "ticks": ""
             }
            },
            "type": "scattercarpet"
           }
          ],
          "scattergeo": [
           {
            "marker": {
             "colorbar": {
              "outlinewidth": 0,
              "ticks": ""
             }
            },
            "type": "scattergeo"
           }
          ],
          "scattergl": [
           {
            "marker": {
             "colorbar": {
              "outlinewidth": 0,
              "ticks": ""
             }
            },
            "type": "scattergl"
           }
          ],
          "scattermapbox": [
           {
            "marker": {
             "colorbar": {
              "outlinewidth": 0,
              "ticks": ""
             }
            },
            "type": "scattermapbox"
           }
          ],
          "scatterpolar": [
           {
            "marker": {
             "colorbar": {
              "outlinewidth": 0,
              "ticks": ""
             }
            },
            "type": "scatterpolar"
           }
          ],
          "scatterpolargl": [
           {
            "marker": {
             "colorbar": {
              "outlinewidth": 0,
              "ticks": ""
             }
            },
            "type": "scatterpolargl"
           }
          ],
          "scatterternary": [
           {
            "marker": {
             "colorbar": {
              "outlinewidth": 0,
              "ticks": ""
             }
            },
            "type": "scatterternary"
           }
          ],
          "surface": [
           {
            "colorbar": {
             "outlinewidth": 0,
             "ticks": ""
            },
            "colorscale": [
             [
              0,
              "#0d0887"
             ],
             [
              0.1111111111111111,
              "#46039f"
             ],
             [
              0.2222222222222222,
              "#7201a8"
             ],
             [
              0.3333333333333333,
              "#9c179e"
             ],
             [
              0.4444444444444444,
              "#bd3786"
             ],
             [
              0.5555555555555556,
              "#d8576b"
             ],
             [
              0.6666666666666666,
              "#ed7953"
             ],
             [
              0.7777777777777778,
              "#fb9f3a"
             ],
             [
              0.8888888888888888,
              "#fdca26"
             ],
             [
              1,
              "#f0f921"
             ]
            ],
            "type": "surface"
           }
          ],
          "table": [
           {
            "cells": {
             "fill": {
              "color": "#EBF0F8"
             },
             "line": {
              "color": "white"
             }
            },
            "header": {
             "fill": {
              "color": "#C8D4E3"
             },
             "line": {
              "color": "white"
             }
            },
            "type": "table"
           }
          ]
         },
         "layout": {
          "annotationdefaults": {
           "arrowcolor": "#2a3f5f",
           "arrowhead": 0,
           "arrowwidth": 1
          },
          "autotypenumbers": "strict",
          "coloraxis": {
           "colorbar": {
            "outlinewidth": 0,
            "ticks": ""
           }
          },
          "colorscale": {
           "diverging": [
            [
             0,
             "#8e0152"
            ],
            [
             0.1,
             "#c51b7d"
            ],
            [
             0.2,
             "#de77ae"
            ],
            [
             0.3,
             "#f1b6da"
            ],
            [
             0.4,
             "#fde0ef"
            ],
            [
             0.5,
             "#f7f7f7"
            ],
            [
             0.6,
             "#e6f5d0"
            ],
            [
             0.7,
             "#b8e186"
            ],
            [
             0.8,
             "#7fbc41"
            ],
            [
             0.9,
             "#4d9221"
            ],
            [
             1,
             "#276419"
            ]
           ],
           "sequential": [
            [
             0,
             "#0d0887"
            ],
            [
             0.1111111111111111,
             "#46039f"
            ],
            [
             0.2222222222222222,
             "#7201a8"
            ],
            [
             0.3333333333333333,
             "#9c179e"
            ],
            [
             0.4444444444444444,
             "#bd3786"
            ],
            [
             0.5555555555555556,
             "#d8576b"
            ],
            [
             0.6666666666666666,
             "#ed7953"
            ],
            [
             0.7777777777777778,
             "#fb9f3a"
            ],
            [
             0.8888888888888888,
             "#fdca26"
            ],
            [
             1,
             "#f0f921"
            ]
           ],
           "sequentialminus": [
            [
             0,
             "#0d0887"
            ],
            [
             0.1111111111111111,
             "#46039f"
            ],
            [
             0.2222222222222222,
             "#7201a8"
            ],
            [
             0.3333333333333333,
             "#9c179e"
            ],
            [
             0.4444444444444444,
             "#bd3786"
            ],
            [
             0.5555555555555556,
             "#d8576b"
            ],
            [
             0.6666666666666666,
             "#ed7953"
            ],
            [
             0.7777777777777778,
             "#fb9f3a"
            ],
            [
             0.8888888888888888,
             "#fdca26"
            ],
            [
             1,
             "#f0f921"
            ]
           ]
          },
          "colorway": [
           "#636efa",
           "#EF553B",
           "#00cc96",
           "#ab63fa",
           "#FFA15A",
           "#19d3f3",
           "#FF6692",
           "#B6E880",
           "#FF97FF",
           "#FECB52"
          ],
          "font": {
           "color": "#2a3f5f"
          },
          "geo": {
           "bgcolor": "white",
           "lakecolor": "white",
           "landcolor": "#E5ECF6",
           "showlakes": true,
           "showland": true,
           "subunitcolor": "white"
          },
          "hoverlabel": {
           "align": "left"
          },
          "hovermode": "closest",
          "mapbox": {
           "style": "light"
          },
          "paper_bgcolor": "white",
          "plot_bgcolor": "#E5ECF6",
          "polar": {
           "angularaxis": {
            "gridcolor": "white",
            "linecolor": "white",
            "ticks": ""
           },
           "bgcolor": "#E5ECF6",
           "radialaxis": {
            "gridcolor": "white",
            "linecolor": "white",
            "ticks": ""
           }
          },
          "scene": {
           "xaxis": {
            "backgroundcolor": "#E5ECF6",
            "gridcolor": "white",
            "gridwidth": 2,
            "linecolor": "white",
            "showbackground": true,
            "ticks": "",
            "zerolinecolor": "white"
           },
           "yaxis": {
            "backgroundcolor": "#E5ECF6",
            "gridcolor": "white",
            "gridwidth": 2,
            "linecolor": "white",
            "showbackground": true,
            "ticks": "",
            "zerolinecolor": "white"
           },
           "zaxis": {
            "backgroundcolor": "#E5ECF6",
            "gridcolor": "white",
            "gridwidth": 2,
            "linecolor": "white",
            "showbackground": true,
            "ticks": "",
            "zerolinecolor": "white"
           }
          },
          "shapedefaults": {
           "line": {
            "color": "#2a3f5f"
           }
          },
          "ternary": {
           "aaxis": {
            "gridcolor": "white",
            "linecolor": "white",
            "ticks": ""
           },
           "baxis": {
            "gridcolor": "white",
            "linecolor": "white",
            "ticks": ""
           },
           "bgcolor": "#E5ECF6",
           "caxis": {
            "gridcolor": "white",
            "linecolor": "white",
            "ticks": ""
           }
          },
          "title": {
           "x": 0.05
          },
          "xaxis": {
           "automargin": true,
           "gridcolor": "white",
           "linecolor": "white",
           "ticks": "",
           "title": {
            "standoff": 15
           },
           "zerolinecolor": "white",
           "zerolinewidth": 2
          },
          "yaxis": {
           "automargin": true,
           "gridcolor": "white",
           "linecolor": "white",
           "ticks": "",
           "title": {
            "standoff": 15
           },
           "zerolinecolor": "white",
           "zerolinewidth": 2
          }
         }
        },
        "yaxis": {
         "title": {
          "text": "SHAP Importance"
         }
        }
       }
      }
     },
     "metadata": {},
     "output_type": "display_data"
    }
   ],
   "source": [
    "fig = go.Figure(\n",
    "    go.Bar(\n",
    "    x=feat_imp['features'],\n",
    "    y=feat_imp['percentage'],\n",
    "    name='SHAP Importance'\n",
    "    )\n",
    "    )\n",
    "fig.update_layout(\n",
    "    yaxis=dict(\n",
    "        title=dict(text='SHAP Importance'),\n",
    "    ),\n",
    ")\n",
    "fig.show()"
   ]
  },
  {
   "cell_type": "code",
   "execution_count": null,
   "metadata": {},
   "outputs": [],
   "source": [
    "shap.plots.waterfall(shap_values[0])"
   ]
  },
  {
   "cell_type": "code",
   "execution_count": 339,
   "metadata": {},
   "outputs": [],
   "source": [
    "x4=x3_tr.drop([feat_imp.loc[len(feat_imp)-(0+1)][0]],axis=1)"
   ]
  },
  {
   "cell_type": "code",
   "execution_count": 346,
   "metadata": {},
   "outputs": [],
   "source": [
    "def feat_selection(tr_x,tr_y,val_x,val_y,imp,model):\n",
    "    model.fit(tr_x,tr_y)\n",
    "    pred_=model.predict(val_x)\n",
    "    r2_=r2_score(val_y,pred_)\n",
    "    adj_r2_1=1-(1-r2_)*(len(val_x)-1)/(len(val_x)-model.n_features_in_-1)\n",
    "\n",
    "    x2=tr_x\n",
    "    x3=val_x\n",
    "\n",
    "    for i in range(len(imp)):\n",
    "        x2=x2.drop([imp.loc[len(imp)-(i+1)][0]],axis=1)\n",
    "        x3=x3.drop([imp.loc[len(imp)-(i+1)][0]],axis=1)\n",
    "        model.fit(x2,tr_y)\n",
    "        pred_=model.predict(x3)\n",
    "        r2_=r2_score(val_y,pred_)\n",
    "        adj_r2_2=1-(1-r2_)*(len(x3)-1)/(len(x3)-model.n_features_in_-1)\n",
    "\n",
    "        if adj_r2_2>=adj_r2_1:\n",
    "            adj_r2_1=adj_r2_2\n",
    "        if adj_r2_2<adj_r2_1:\n",
    "            x2=pd.concat([x2,tr_x[imp.loc[len(imp)-(i+1)][0]]],axis=1)\n",
    "            x3=pd.concat([x3,val_x[imp.loc[len(imp)-(i+1)][0]]],axis=1)\n",
    "    print(adj_r2_1)\n",
    "    print(x2.columns)\n",
    "    return x2"
   ]
  },
  {
   "cell_type": "code",
   "execution_count": 347,
   "metadata": {},
   "outputs": [
    {
     "name": "stdout",
     "output_type": "stream",
     "text": [
      "0.8385252836924881\n",
      "Index(['HouseStyle', 'BldgType', 'Exterior2nd', 'LandContour', 'CentralAir',\n",
      "       'HeatingQC', 'GarageType', 'ScreenPorch', 'KitchenQual', 'Functional',\n",
      "       'MoSold', 'FullBath', 'KitchenAbvGr', 'ExterQual', 'Condition1',\n",
      "       'MasVnrArea', 'GarageFinish', 'BsmtQual', 'BsmtExposure', 'Exterior1st',\n",
      "       'MSZoning', 'WoodDeckSF', 'SaleCondition', 'TotRmsAbvGrd',\n",
      "       'LotFrontage', 'BsmtUnfSF', 'BsmtFinType1', 'OpenPorchSF',\n",
      "       'YearRemodAdd', 'HalfBath', 'GarageYrBlt', 'Fireplaces', 'GarageCars',\n",
      "       '2ndFlrSF', '1stFlrSF', 'Neighborhood', 'GarageArea', 'OverallCond',\n",
      "       'LotArea', 'TotalBsmtSF', 'BsmtFinSF1', 'YearBuilt', 'GrLivArea',\n",
      "       'OverallQual'],\n",
      "      dtype='object')\n"
     ]
    }
   ],
   "source": [
    "x4_tr=feat_selection(x3_tr,y2_tr,x3_val,y2_val,feat_imp,hp_gbr_model)"
   ]
  },
  {
   "cell_type": "code",
   "execution_count": 348,
   "metadata": {},
   "outputs": [
    {
     "data": {
      "text/html": [
       "<div>\n",
       "<style scoped>\n",
       "    .dataframe tbody tr th:only-of-type {\n",
       "        vertical-align: middle;\n",
       "    }\n",
       "\n",
       "    .dataframe tbody tr th {\n",
       "        vertical-align: top;\n",
       "    }\n",
       "\n",
       "    .dataframe thead th {\n",
       "        text-align: right;\n",
       "    }\n",
       "</style>\n",
       "<table border=\"1\" class=\"dataframe\">\n",
       "  <thead>\n",
       "    <tr style=\"text-align: right;\">\n",
       "      <th></th>\n",
       "      <th>HouseStyle</th>\n",
       "      <th>BldgType</th>\n",
       "      <th>Exterior2nd</th>\n",
       "      <th>LandContour</th>\n",
       "      <th>CentralAir</th>\n",
       "      <th>HeatingQC</th>\n",
       "      <th>GarageType</th>\n",
       "      <th>ScreenPorch</th>\n",
       "      <th>KitchenQual</th>\n",
       "      <th>Functional</th>\n",
       "      <th>...</th>\n",
       "      <th>1stFlrSF</th>\n",
       "      <th>Neighborhood</th>\n",
       "      <th>GarageArea</th>\n",
       "      <th>OverallCond</th>\n",
       "      <th>LotArea</th>\n",
       "      <th>TotalBsmtSF</th>\n",
       "      <th>BsmtFinSF1</th>\n",
       "      <th>YearBuilt</th>\n",
       "      <th>GrLivArea</th>\n",
       "      <th>OverallQual</th>\n",
       "    </tr>\n",
       "  </thead>\n",
       "  <tbody>\n",
       "    <tr>\n",
       "      <th>413</th>\n",
       "      <td>2.00</td>\n",
       "      <td>0.00</td>\n",
       "      <td>15.00</td>\n",
       "      <td>3.00</td>\n",
       "      <td>1.00</td>\n",
       "      <td>2.00</td>\n",
       "      <td>5.00</td>\n",
       "      <td>0.00</td>\n",
       "      <td>3.00</td>\n",
       "      <td>6.00</td>\n",
       "      <td>...</td>\n",
       "      <td>-0.12</td>\n",
       "      <td>17.00</td>\n",
       "      <td>-0.50</td>\n",
       "      <td>5.00</td>\n",
       "      <td>-0.13</td>\n",
       "      <td>0.03</td>\n",
       "      <td>-0.54</td>\n",
       "      <td>31.00</td>\n",
       "      <td>-0.67</td>\n",
       "      <td>4.00</td>\n",
       "    </tr>\n",
       "    <tr>\n",
       "      <th>1170</th>\n",
       "      <td>7.00</td>\n",
       "      <td>0.00</td>\n",
       "      <td>10.00</td>\n",
       "      <td>3.00</td>\n",
       "      <td>1.00</td>\n",
       "      <td>4.00</td>\n",
       "      <td>1.00</td>\n",
       "      <td>0.00</td>\n",
       "      <td>3.00</td>\n",
       "      <td>6.00</td>\n",
       "      <td>...</td>\n",
       "      <td>0.06</td>\n",
       "      <td>11.00</td>\n",
       "      <td>-0.51</td>\n",
       "      <td>5.00</td>\n",
       "      <td>0.10</td>\n",
       "      <td>0.21</td>\n",
       "      <td>0.19</td>\n",
       "      <td>78.00</td>\n",
       "      <td>-0.53</td>\n",
       "      <td>5.00</td>\n",
       "    </tr>\n",
       "    <tr>\n",
       "      <th>899</th>\n",
       "      <td>2.00</td>\n",
       "      <td>0.00</td>\n",
       "      <td>10.00</td>\n",
       "      <td>3.00</td>\n",
       "      <td>1.00</td>\n",
       "      <td>4.00</td>\n",
       "      <td>1.00</td>\n",
       "      <td>0.00</td>\n",
       "      <td>3.00</td>\n",
       "      <td>6.00</td>\n",
       "      <td>...</td>\n",
       "      <td>0.29</td>\n",
       "      <td>19.00</td>\n",
       "      <td>-0.80</td>\n",
       "      <td>6.00</td>\n",
       "      <td>-0.61</td>\n",
       "      <td>-0.16</td>\n",
       "      <td>0.11</td>\n",
       "      <td>62.00</td>\n",
       "      <td>-0.35</td>\n",
       "      <td>4.00</td>\n",
       "    </tr>\n",
       "    <tr>\n",
       "      <th>547</th>\n",
       "      <td>6.00</td>\n",
       "      <td>0.00</td>\n",
       "      <td>13.00</td>\n",
       "      <td>3.00</td>\n",
       "      <td>1.00</td>\n",
       "      <td>0.00</td>\n",
       "      <td>5.00</td>\n",
       "      <td>0.00</td>\n",
       "      <td>3.00</td>\n",
       "      <td>6.00</td>\n",
       "      <td>...</td>\n",
       "      <td>-0.63</td>\n",
       "      <td>11.00</td>\n",
       "      <td>0.60</td>\n",
       "      <td>6.00</td>\n",
       "      <td>-0.55</td>\n",
       "      <td>-0.44</td>\n",
       "      <td>0.33</td>\n",
       "      <td>71.00</td>\n",
       "      <td>-1.08</td>\n",
       "      <td>4.00</td>\n",
       "    </tr>\n",
       "    <tr>\n",
       "      <th>273</th>\n",
       "      <td>2.00</td>\n",
       "      <td>0.00</td>\n",
       "      <td>14.00</td>\n",
       "      <td>3.00</td>\n",
       "      <td>1.00</td>\n",
       "      <td>2.00</td>\n",
       "      <td>1.00</td>\n",
       "      <td>0.00</td>\n",
       "      <td>3.00</td>\n",
       "      <td>2.00</td>\n",
       "      <td>...</td>\n",
       "      <td>1.07</td>\n",
       "      <td>12.00</td>\n",
       "      <td>-0.59</td>\n",
       "      <td>5.00</td>\n",
       "      <td>0.03</td>\n",
       "      <td>0.49</td>\n",
       "      <td>0.33</td>\n",
       "      <td>59.00</td>\n",
       "      <td>0.26</td>\n",
       "      <td>5.00</td>\n",
       "    </tr>\n",
       "    <tr>\n",
       "      <th>...</th>\n",
       "      <td>...</td>\n",
       "      <td>...</td>\n",
       "      <td>...</td>\n",
       "      <td>...</td>\n",
       "      <td>...</td>\n",
       "      <td>...</td>\n",
       "      <td>...</td>\n",
       "      <td>...</td>\n",
       "      <td>...</td>\n",
       "      <td>...</td>\n",
       "      <td>...</td>\n",
       "      <td>...</td>\n",
       "      <td>...</td>\n",
       "      <td>...</td>\n",
       "      <td>...</td>\n",
       "      <td>...</td>\n",
       "      <td>...</td>\n",
       "      <td>...</td>\n",
       "      <td>...</td>\n",
       "      <td>...</td>\n",
       "      <td>...</td>\n",
       "    </tr>\n",
       "    <tr>\n",
       "      <th>423</th>\n",
       "      <td>5.00</td>\n",
       "      <td>0.00</td>\n",
       "      <td>13.00</td>\n",
       "      <td>3.00</td>\n",
       "      <td>1.00</td>\n",
       "      <td>2.00</td>\n",
       "      <td>1.00</td>\n",
       "      <td>0.00</td>\n",
       "      <td>2.00</td>\n",
       "      <td>6.00</td>\n",
       "      <td>...</td>\n",
       "      <td>0.75</td>\n",
       "      <td>15.00</td>\n",
       "      <td>0.89</td>\n",
       "      <td>4.00</td>\n",
       "      <td>-0.07</td>\n",
       "      <td>0.95</td>\n",
       "      <td>0.85</td>\n",
       "      <td>99.00</td>\n",
       "      <td>1.80</td>\n",
       "      <td>7.00</td>\n",
       "    </tr>\n",
       "    <tr>\n",
       "      <th>606</th>\n",
       "      <td>2.00</td>\n",
       "      <td>0.00</td>\n",
       "      <td>13.00</td>\n",
       "      <td>2.00</td>\n",
       "      <td>1.00</td>\n",
       "      <td>2.00</td>\n",
       "      <td>5.00</td>\n",
       "      <td>0.00</td>\n",
       "      <td>2.00</td>\n",
       "      <td>6.00</td>\n",
       "      <td>...</td>\n",
       "      <td>-0.09</td>\n",
       "      <td>5.00</td>\n",
       "      <td>0.40</td>\n",
       "      <td>4.00</td>\n",
       "      <td>0.74</td>\n",
       "      <td>0.10</td>\n",
       "      <td>0.49</td>\n",
       "      <td>97.00</td>\n",
       "      <td>-0.66</td>\n",
       "      <td>4.00</td>\n",
       "    </tr>\n",
       "    <tr>\n",
       "      <th>40</th>\n",
       "      <td>2.00</td>\n",
       "      <td>0.00</td>\n",
       "      <td>14.00</td>\n",
       "      <td>3.00</td>\n",
       "      <td>1.00</td>\n",
       "      <td>0.00</td>\n",
       "      <td>1.00</td>\n",
       "      <td>0.00</td>\n",
       "      <td>3.00</td>\n",
       "      <td>6.00</td>\n",
       "      <td>...</td>\n",
       "      <td>0.47</td>\n",
       "      <td>12.00</td>\n",
       "      <td>-0.17</td>\n",
       "      <td>4.00</td>\n",
       "      <td>-0.20</td>\n",
       "      <td>0.19</td>\n",
       "      <td>0.36</td>\n",
       "      <td>66.00</td>\n",
       "      <td>-0.22</td>\n",
       "      <td>5.00</td>\n",
       "    </tr>\n",
       "    <tr>\n",
       "      <th>32</th>\n",
       "      <td>2.00</td>\n",
       "      <td>0.00</td>\n",
       "      <td>13.00</td>\n",
       "      <td>3.00</td>\n",
       "      <td>1.00</td>\n",
       "      <td>0.00</td>\n",
       "      <td>1.00</td>\n",
       "      <td>0.00</td>\n",
       "      <td>2.00</td>\n",
       "      <td>6.00</td>\n",
       "      <td>...</td>\n",
       "      <td>0.29</td>\n",
       "      <td>5.00</td>\n",
       "      <td>0.02</td>\n",
       "      <td>4.00</td>\n",
       "      <td>0.39</td>\n",
       "      <td>0.48</td>\n",
       "      <td>-0.54</td>\n",
       "      <td>108.00</td>\n",
       "      <td>-0.36</td>\n",
       "      <td>7.00</td>\n",
       "    </tr>\n",
       "    <tr>\n",
       "      <th>945</th>\n",
       "      <td>0.00</td>\n",
       "      <td>0.00</td>\n",
       "      <td>13.00</td>\n",
       "      <td>3.00</td>\n",
       "      <td>1.00</td>\n",
       "      <td>4.00</td>\n",
       "      <td>5.00</td>\n",
       "      <td>0.00</td>\n",
       "      <td>3.00</td>\n",
       "      <td>6.00</td>\n",
       "      <td>...</td>\n",
       "      <td>0.20</td>\n",
       "      <td>17.00</td>\n",
       "      <td>-0.10</td>\n",
       "      <td>5.00</td>\n",
       "      <td>-0.16</td>\n",
       "      <td>0.19</td>\n",
       "      <td>0.99</td>\n",
       "      <td>5.00</td>\n",
       "      <td>0.63</td>\n",
       "      <td>4.00</td>\n",
       "    </tr>\n",
       "  </tbody>\n",
       "</table>\n",
       "<p>1051 rows × 44 columns</p>\n",
       "</div>"
      ],
      "text/plain": [
       "      HouseStyle  BldgType  Exterior2nd  LandContour  CentralAir  HeatingQC  \\\n",
       "413         2.00      0.00        15.00         3.00        1.00       2.00   \n",
       "1170        7.00      0.00        10.00         3.00        1.00       4.00   \n",
       "899         2.00      0.00        10.00         3.00        1.00       4.00   \n",
       "547         6.00      0.00        13.00         3.00        1.00       0.00   \n",
       "273         2.00      0.00        14.00         3.00        1.00       2.00   \n",
       "...          ...       ...          ...          ...         ...        ...   \n",
       "423         5.00      0.00        13.00         3.00        1.00       2.00   \n",
       "606         2.00      0.00        13.00         2.00        1.00       2.00   \n",
       "40          2.00      0.00        14.00         3.00        1.00       0.00   \n",
       "32          2.00      0.00        13.00         3.00        1.00       0.00   \n",
       "945         0.00      0.00        13.00         3.00        1.00       4.00   \n",
       "\n",
       "      GarageType  ScreenPorch  KitchenQual  Functional  ...  1stFlrSF  \\\n",
       "413         5.00         0.00         3.00        6.00  ...     -0.12   \n",
       "1170        1.00         0.00         3.00        6.00  ...      0.06   \n",
       "899         1.00         0.00         3.00        6.00  ...      0.29   \n",
       "547         5.00         0.00         3.00        6.00  ...     -0.63   \n",
       "273         1.00         0.00         3.00        2.00  ...      1.07   \n",
       "...          ...          ...          ...         ...  ...       ...   \n",
       "423         1.00         0.00         2.00        6.00  ...      0.75   \n",
       "606         5.00         0.00         2.00        6.00  ...     -0.09   \n",
       "40          1.00         0.00         3.00        6.00  ...      0.47   \n",
       "32          1.00         0.00         2.00        6.00  ...      0.29   \n",
       "945         5.00         0.00         3.00        6.00  ...      0.20   \n",
       "\n",
       "      Neighborhood  GarageArea  OverallCond  LotArea  TotalBsmtSF  BsmtFinSF1  \\\n",
       "413          17.00       -0.50         5.00    -0.13         0.03       -0.54   \n",
       "1170         11.00       -0.51         5.00     0.10         0.21        0.19   \n",
       "899          19.00       -0.80         6.00    -0.61        -0.16        0.11   \n",
       "547          11.00        0.60         6.00    -0.55        -0.44        0.33   \n",
       "273          12.00       -0.59         5.00     0.03         0.49        0.33   \n",
       "...            ...         ...          ...      ...          ...         ...   \n",
       "423          15.00        0.89         4.00    -0.07         0.95        0.85   \n",
       "606           5.00        0.40         4.00     0.74         0.10        0.49   \n",
       "40           12.00       -0.17         4.00    -0.20         0.19        0.36   \n",
       "32            5.00        0.02         4.00     0.39         0.48       -0.54   \n",
       "945          17.00       -0.10         5.00    -0.16         0.19        0.99   \n",
       "\n",
       "      YearBuilt  GrLivArea  OverallQual  \n",
       "413       31.00      -0.67         4.00  \n",
       "1170      78.00      -0.53         5.00  \n",
       "899       62.00      -0.35         4.00  \n",
       "547       71.00      -1.08         4.00  \n",
       "273       59.00       0.26         5.00  \n",
       "...         ...        ...          ...  \n",
       "423       99.00       1.80         7.00  \n",
       "606       97.00      -0.66         4.00  \n",
       "40        66.00      -0.22         5.00  \n",
       "32       108.00      -0.36         7.00  \n",
       "945        5.00       0.63         4.00  \n",
       "\n",
       "[1051 rows x 44 columns]"
      ]
     },
     "execution_count": 348,
     "metadata": {},
     "output_type": "execute_result"
    }
   ],
   "source": [
    "x4_tr"
   ]
  },
  {
   "cell_type": "code",
   "execution_count": 380,
   "metadata": {},
   "outputs": [],
   "source": [
    "threshold=0.001\n",
    "x4_tr=drop_feat(x3_tr,feat_imp,threshold)\n",
    "x4_val=drop_feat(x3_val,feat_imp,threshold)\n",
    "x4_tst=drop_feat(x3_tst,feat_imp,threshold)"
   ]
  },
  {
   "cell_type": "code",
   "execution_count": 397,
   "metadata": {},
   "outputs": [
    {
     "name": "stdout",
     "output_type": "stream",
     "text": [
      "\n",
      "feat number: 49 \n",
      " features used: ['MSSubClass' 'OverallQual' 'OverallCond' 'YearBuilt' 'YearRemodAdd'\n",
      " 'MoSold' 'LotFrontage' 'LotArea' 'MasVnrArea' 'BsmtFinSF1' 'BsmtUnfSF'\n",
      " 'TotalBsmtSF' '1stFlrSF' '2ndFlrSF' 'GrLivArea' 'BsmtFullBath' 'FullBath'\n",
      " 'HalfBath' 'BedroomAbvGr' 'KitchenAbvGr' 'TotRmsAbvGrd' 'Fireplaces'\n",
      " 'GarageYrBlt' 'GarageCars' 'GarageArea' 'WoodDeckSF' 'OpenPorchSF'\n",
      " 'ScreenPorch' 'MSZoning' 'LandContour' 'LotConfig' 'Neighborhood'\n",
      " 'Condition1' 'BldgType' 'HouseStyle' 'Exterior1st' 'Exterior2nd'\n",
      " 'ExterQual' 'BsmtQual' 'BsmtCond' 'BsmtExposure' 'BsmtFinType1'\n",
      " 'HeatingQC' 'CentralAir' 'KitchenQual' 'Functional' 'GarageType'\n",
      " 'GarageFinish' 'SaleCondition']\n"
     ]
    }
   ],
   "source": [
    "hp_gbr_model=fit_para(gbr_space,hp2)\n",
    "hp_gbr_model.fit(x4_tr,y2_tr)\n",
    "print('\\nfeat number:',hp_gbr_model.n_features_in_,'\\n features used:',hp_gbr_model.feature_names_in_)"
   ]
  },
  {
   "cell_type": "code",
   "execution_count": 398,
   "metadata": {},
   "outputs": [
    {
     "name": "stdout",
     "output_type": "stream",
     "text": [
      "RMSE:$1,180 R2:0.9998 Adj R2:0.9998\n"
     ]
    }
   ],
   "source": [
    "reg_result(hp_gbr_model,x4_tr,y2_tr)"
   ]
  },
  {
   "cell_type": "code",
   "execution_count": 399,
   "metadata": {},
   "outputs": [
    {
     "name": "stdout",
     "output_type": "stream",
     "text": [
      "RMSE:$29,796 R2:0.8540 Adj R2:0.8204\n"
     ]
    }
   ],
   "source": [
    "reg_result(hp_gbr_model,x4_val,y2_val)"
   ]
  },
  {
   "cell_type": "code",
   "execution_count": 400,
   "metadata": {},
   "outputs": [
    {
     "name": "stdout",
     "output_type": "stream",
     "text": [
      "RMSE:$20,262 R2:0.9329 Adj R2:0.8986\n"
     ]
    }
   ],
   "source": [
    "reg_result(hp_gbr_model,x4_tst,y2_tst)"
   ]
  }
 ],
 "metadata": {
  "kernelspec": {
   "display_name": "env3",
   "language": "python",
   "name": "python3"
  },
  "language_info": {
   "codemirror_mode": {
    "name": "ipython",
    "version": 3
   },
   "file_extension": ".py",
   "mimetype": "text/x-python",
   "name": "python",
   "nbconvert_exporter": "python",
   "pygments_lexer": "ipython3",
   "version": "3.12.4"
  }
 },
 "nbformat": 4,
 "nbformat_minor": 2
}
